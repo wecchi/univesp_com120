{
 "cells": [
  {
   "cell_type": "markdown",
   "metadata": {},
   "source": [
    "# API WWW\n",
    "\n",
    "\n",
    "<cite>\n",
    "Ljubomir, P. Introdução à Computação Usando Python - Um Foco no Desenvolvimento de Aplicações. São Paulo: Grupo GEN, 2016. 9788521630937. Disponível em: https://integrada.minhabiblioteca.com.br/#/books/9788521630937/. Acesso em: 15 Nov 2020\n",
    "</cite>\n",
    "\n",
    "<hr>\n",
    "\n",
    "## urlib.request\n",
    "Normalmente usamos navegadores para acessar as páginas na Web. Um navegador, porém, é apenas um tipo de cliente Web; qualquer programa pode atuar como um cliente Web e acessar e baixar recursos na Web. Em Python, o módulo urllib.request da Biblioteca Padrão confere essa capacidade aos desenvolvedores. O módulo contém funções e classes que permitem aos programas Python abrirem e lerem recursos na Web de um modo semelhante a como os arquivos são abertos e lidos. A função urlopen() no módulo urlib.request é semelhante à função embutida open(), usada para abrir arquivos (locais). Entretanto, existem três diferenças: 1.urlopen() aceita como entrada um URL, em vez de um nome de arquivo local. 2.Ela retorna uma solicitação HTTP sendo enviada ao servidor Web que hospeda o conteúdo. 3.Ela retorna uma resposta HTTP completa."
   ]
  },
  {
   "cell_type": "code",
   "execution_count": 1,
   "metadata": {},
   "outputs": [
    {
     "data": {
      "text/plain": [
       "http.client.HTTPResponse"
      ]
     },
     "execution_count": 1,
     "metadata": {},
     "output_type": "execute_result"
    }
   ],
   "source": [
    "from urllib.request import urlopen\n",
    "response = urlopen(\"https://developer.mozilla.org/pt-BR/docs/Learn/Server-side/Django/Introdu%C3%A7%C3%A3o\")\n",
    "type(response)\n"
   ]
  },
  {
   "cell_type": "markdown",
   "metadata": {},
   "source": [
    "A classe ``HTTPResponse`` é considerada uma classe do tipo arquivo, pois aceita os métodos ``read()``, ``readline()`` e ``readlines()``, os mesmos métodos admitidos pelos tipos de objetos retornados pela função de abertura de arquivo open()`."
   ]
  },
  {
   "cell_type": "code",
   "execution_count": 2,
   "metadata": {},
   "outputs": [
    {
     "data": {
      "text/plain": [
       "'https://developer.mozilla.org/pt-BR/docs/Learn/Server-side/Django/Introdu%C3%A7%C3%A3o'"
      ]
     },
     "execution_count": 2,
     "metadata": {},
     "output_type": "execute_result"
    }
   ],
   "source": [
    "response.geturl()"
   ]
  },
  {
   "cell_type": "markdown",
   "metadata": {},
   "source": [
    "#### Para obter todos os cabeçalhos de resposta HTTP, você pode usar o método getheaders():"
   ]
  },
  {
   "cell_type": "code",
   "execution_count": 3,
   "metadata": {},
   "outputs": [
    {
     "name": "stdout",
     "output_type": "stream",
     "text": [
      "Content-Type: text/html; charset=utf-8\n",
      "Content-Length: 262437\n",
      "Connection: close\n",
      "Access-Control-Allow-Origin: *\n",
      "Cache-Control: public, max-age=0, s-maxage=300\n",
      "Content-Language: pt-BR\n",
      "Date: Mon, 16 Nov 2020 18:56:39 GMT\n",
      "ETag: \"ac4dd2ac4c9a6306ace9f01c0a9c43a0\"\n",
      "Server: gunicorn/20.0.4\n",
      "Strict-Transport-Security: max-age=63072000\n",
      "X-Content-Type-Options: nosniff\n",
      "X-Frame-Options: DENY\n",
      "X-kuma-revision: 1643170\n",
      "X-XSS-Protection: 1; mode=block\n",
      "Vary: Accept-Encoding,Cookie\n",
      "X-Cache: Miss from cloudfront\n",
      "Via: 1.1 3b33e55fb498f8fe9124a58a92807343.cloudfront.net (CloudFront)\n",
      "X-Amz-Cf-Pop: GRU3-C1\n",
      "X-Amz-Cf-Id: VTV6yqeI0tBuLpzvGXneraXxEZGLqMDz_96XF4YAcQ6JotxMmYzY6w==\n"
     ]
    }
   ],
   "source": [
    "for header in response.getheaders():\n",
    "    print(header[0], header[1], sep=': ')    "
   ]
  },
  {
   "cell_type": "markdown",
   "metadata": {},
   "source": [
    "O método ``read()`` retornará o conteúdo do recurso. Se o arquivo for um documento **HTML**, por exemplo, então seu conteúdo é retornado. Observe, porém, que o método ``read()`` retorna um objeto do tipo **bytes**. Isso porque os recursos abertos por ``urlopen()`` poderiam muito bem ser arquivos de áudio ou vídeo (ou seja, arquivos binários). O comportamento padrão para ``urlopen()`` é considerar que o recurso é um arquivo **binário** e, quando esse arquivo é lido, uma sequência de bytes é retornada. Se o recurso for um arquivo HTML (ou seja, um arquivo de texto), faz sentido decodificar a sequência de bytes em caracteres Unicode que eles representam. Usamos o método ``decode()`` da classe bytes para conseguir isso:"
   ]
  },
  {
   "cell_type": "code",
   "execution_count": 4,
   "metadata": {},
   "outputs": [
    {
     "data": {
      "text/plain": [
       "bytes"
      ]
     },
     "execution_count": 4,
     "metadata": {},
     "output_type": "execute_result"
    }
   ],
   "source": [
    "bytesread = response.read()\n",
    "type(bytesread)"
   ]
  },
  {
   "cell_type": "code",
   "execution_count": 5,
   "metadata": {},
   "outputs": [
    {
     "data": {
      "text/plain": [
       "'\\n\\n\\n\\n\\n<!DOCTYPE html>\\n<html lang=\"pt\" dir=\"ltr\">\\n<head prefix=\"og: http://ogp.me/ns#\">\\n  <link rel=\"preconnect\" href=\"https://interactive-examples.mdn.mozilla.net\" pr=\"0.75\" />\\n  <meta charset=\"utf-8\">\\n  <meta http-equiv=\"X-UA-Compatible\" content=\"IE=Edge\">\\n  <script>(function(d) { d.className = d.className.replace(/\\\\bno-js/, \\'\\'); })(document.documentElement);</script>\\n  <title>Introdução ao Django | MDN</title>\\n\\n  <meta name=\"viewport\" content=\"width=device-width, initial-scale=1\">\\n  <meta name=\"robots\" content=\"index, follow\">\\n\\n  \\n<link rel=\"preload\" href=\"/static/fonts/locales/ZillaSlab-Regular.subset.bbc33fb47cf6.woff2\" as=\"font\" type=\"font/woff2\"\\n    crossorigin />\\n<link rel=\"preload\" href=\"/static/fonts/locales/ZillaSlab-Bold.subset.e96c15f68c68.woff2\" as=\"font\" type=\"font/woff2\"\\n    crossorigin />\\n\\n  <link rel=\"home\" href=\"/pt-BR/\">\\n  <link rel=\"license\" href=\"#license\">\\n\\n  <link href=\"/static/build/styles/react-header.c2034e7be118.css\" rel=\"stylesheet\" type=\"text/css\" />\\n<link href=\"/static/build/styles/auth-modal.be43f0f58a73.css\" rel=\"stylesheet\" type=\"text/css\" />\\n<link href=\"/static/build/styles/react-mdn.704638bbb52f.css\" rel=\"stylesheet\" type=\"text/css\" />\\n<link href=\"/static/build/styles/subscriptions.3cebf84de805.css\" rel=\"stylesheet\" type=\"text/css\" />\\n\\n  <link href=\"/static/build/styles/prism.a6f275e5032b.css\" rel=\"stylesheet\" type=\"text/css\" />\\n\\n  \\n<style>\\n    @font-face {\\n        font-family: zillaslab;\\n        font-display: swap;\\n        src: url(/static/fonts/locales/ZillaSlab-Regular.subset.bbc33fb47cf6.woff2) format(\\'woff2\\'),\\n             url(/static/fonts/locales/ZillaSlab-Regular.subset.0357f12613a7.woff) format(\\'woff\\');\\n        font-weight: normal;\\n        font-style: normal;\\n    }\\n\\n    @font-face {\\n        font-family: zillaslab;\\n        font-display: swap;\\n        src: url(/static/fonts/locales/ZillaSlab-Bold.subset.e96c15f68c68.woff2) format(\\'woff2\\'),\\n             url(/static/fonts/locales/ZillaSlab-Bold.subset.da0ccde4ca4a.woff) format(\\'woff\\');\\n        font-weight: bold;\\n        font-style: normal;\\n    }\\n</style>\\n\\n\\n  \\n<script>\\n    // Mozilla DNT Helper\\n    /* This Source Code Form is subject to the terms of the Mozilla Public License, v. 2.0. If a copy of the MPL was not distributed with this file, You can obtain one at http://mozilla.org/MPL/2.0/. */ if(typeof Mozilla===\\'undefined\\'){var Mozilla={}}Mozilla.dntEnabled=function(dnt,ua){\\'use strict\\';var dntStatus=dnt||navigator.doNotTrack||window.doNotTrack||navigator.msDoNotTrack;var userAgent=ua||navigator.userAgent;var anomalousWinVersions=[\\'Windows NT 6.1\\',\\'Windows NT 6.2\\',\\'Windows NT 6.3\\'];var fxMatch=userAgent.match(/Firefox\\\\/(\\\\d+)/);var ieRegEx=/MSIE|Trident/i;var isIE=ieRegEx.test(userAgent);var platform=userAgent.match(/Windows.+?(?=;)/g);if(isIE&&typeof Array.prototype.indexOf!==\\'function\\'){return false}else if(fxMatch&&parseInt(fxMatch[1],10)<32){dntStatus=\\'Unspecified\\'}else if(isIE&&platform&&anomalousWinVersions.indexOf(platform.toString())!==-1){dntStatus=\\'Unspecified\\'}else{dntStatus={\\'0\\':\\'Disabled\\',\\'1\\':\\'Enabled\\'}[dntStatus]||\\'Unspecified\\'}return dntStatus===\\'Enabled\\'?true:false};\\n    // only load GA if DNT is not enabled\\n    if (Mozilla && !Mozilla.dntEnabled()) {\\n        window.ga=window.ga||function(){(ga.q=ga.q||[]).push(arguments)};ga.l=+new Date;\\n        ga(\\'create\\', \\'UA-36116321-5\\', \\'mozilla.org\\');\\n        ga(\\'set\\', \\'anonymizeIp\\', true);\\n    }\\n</script>\\n<script async src=\\'https://www.google-analytics.com/analytics.js\\'></script>\\n\\n\\n  <script>\\nLUX=(function(){var a=(\"undefined\"!==typeof(LUX)&&\"undefined\"!==typeof(LUX.gaMarks)?LUX.gaMarks:[]);var d=(\"undefined\"!==typeof(LUX)&&\"undefined\"!==typeof(LUX.gaMeasures)?LUX.gaMeasures:[]);var j=\"LUX_start\";var k=window.performance;var l=(\"undefined\"!==typeof(LUX)&&LUX.ns?LUX.ns:(Date.now?Date.now():+(new Date())));if(k&&k.timing&&k.timing.navigationStart){l=k.timing.navigationStart}function f(){if(k&&k.now){return k.now()}var o=Date.now?Date.now():+(new Date());return o-l}function b(n){if(k){if(k.mark){return k.mark(n)}else{if(k.webkitMark){return k.webkitMark(n)}}}a.push({name:n,entryType:\"mark\",startTime:f(),duration:0});return}function m(p,t,n){if(\"undefined\"===typeof(t)&&h(j)){t=j}if(k){if(k.measure){if(t){if(n){return k.measure(p,t,n)}else{return k.measure(p,t)}}else{return k.measure(p)}}else{if(k.webkitMeasure){return k.webkitMeasure(p,t,n)}}}var r=0,o=f();if(t){var s=h(t);if(s){r=s.startTime}else{if(k&&k.timing&&k.timing[t]){r=k.timing[t]-k.timing.navigationStart}else{return}}}if(n){var q=h(n);if(q){o=q.startTime}else{if(k&&k.timing&&k.timing[n]){o=k.timing[n]-k.timing.navigationStart}else{return}}}d.push({name:p,entryType:\"measure\",startTime:r,duration:(o-r)});return}function h(n){return c(n,g())}function c(p,o){for(i=o.length-1;i>=0;i--){var n=o[i];if(p===n.name){return n}}return undefined}function g(){if(k){if(k.getEntriesByType){return k.getEntriesByType(\"mark\")}else{if(k.webkitGetEntriesByType){return k.webkitGetEntriesByType(\"mark\")}}}return a}return{mark:b,measure:m,gaMarks:a,gaMeasures:d}})();LUX.ns=(Date.now?Date.now():+(new Date()));LUX.ac=[];LUX.cmd=function(a){LUX.ac.push(a)};LUX.init=function(){LUX.cmd([\"init\"])};LUX.send=function(){LUX.cmd([\"send\"])};LUX.addData=function(a,b){LUX.cmd([\"addData\",a,b])};LUX_ae=[];window.addEventListener(\"error\",function(a){LUX_ae.push(a)});LUX_al=[];if(\"function\"===typeof(PerformanceObserver)){var LongTaskObserver=new PerformanceObserver(function(c){var b=c.getEntries();for(var a=0;a<b.length;a++){var d=b[a];LUX_al.push(d)}});try{LongTaskObserver.observe({entryTypes:[\"longtask\"],buffered:true})}catch(e){}};\\n</script>\\n<script src=\"https://cdn.speedcurve.com/js/lux.js?id=108906238\" async defer crossorigin=\"anonymous\"></script>\\n\\n\\n  <script>\\n  window.fetch || document.write(\\'<script src=\"/static/build/js/fetch-polyfill.63fdc379c7eb.js\"><\\\\/script>\\');\\n</script>\\n<script>\\n  // Only include the fat polyfill for browsers that seem to not have\\n  // certain JS features. E.g. Firefox 38.\\n  Array.prototype.includes || document.write(\\'<script src=\"/static/build/js/js-polyfill.6f2e22100487.js\"><\\\\/script>\\');\\n</script>\\n\\n  <script async type=\"text/javascript\" src=\"/static/build/js/perf.654b849a6fd9.js\" charset=\"utf-8\"></script>\\n\\n  <!-- common social tags -->\\n  \\n  <meta property=\"og:type\" content=\"website\">\\n  <meta property=\"og:image\" content=\"https://developer.mozilla.org/static/img/opengraph-logo.72382e605ce3.png\">\\n  <meta property=\"og:site_name\" content=\"MDN Web Docs\">\\n  <meta name=\"twitter:card\" content=\"summary\">\\n  <meta name=\"twitter:image\" content=\"https://developer.mozilla.org/static/img/opengraph-logo.72382e605ce3.png\">\\n  <meta name=\"twitter:site\" content=\"@MozDevNet\">\\n  <meta name=\"twitter:creator\" content=\"@MozDevNet\">\\n  <link rel=\"search\" type=\"application/opensearchdescription+xml\" href=\"https://developer.mozilla.org/pt-BR/search/xml\" title=\"MDN Web Docs\">\\n\\n  <!-- third-generation iPad with high-resolution Retina display: -->\\n  <link rel=\"apple-touch-icon-precomposed\" sizes=\"144x144\" href=\"/static/img/favicon144.e7e21ca263ca.png\">\\n  <!-- iPhone with high-resolution Retina display: -->\\n  <link rel=\"apple-touch-icon-precomposed\" sizes=\"114x114\" href=\"/static/img/favicon114.d526f38b09c5.png\">\\n  <!-- first- and second-generation iPad: -->\\n  <link rel=\"apple-touch-icon-precomposed\" sizes=\"72x72\" href=\"/static/img/favicon72.cc65d1d762a0.png\">\\n  <!-- non-Retina iPhone, iPod Touch, and Android 2.1+ devices: -->\\n  <link rel=\"apple-touch-icon-precomposed\" href=\"/static/img/favicon57.de33179910ae.png\">\\n  <!-- basic favicon -->\\n  <link rel=\"shortcut icon\" href=\"/static/img/favicon32.7f3da72dcea1.png\">\\n\\n  <link href=\"/static/build/styles/banners.e6cd46767c2e.css\" rel=\"stylesheet\" type=\"text/css\" />\\n\\n\\n\\n<link href=\"/static/build/styles/mdn-subscriptions.dbb82432d74c.css\" rel=\"stylesheet\" type=\"text/css\" />\\n\\n\\n  <link rel=\"canonical\" href=\"https://developer.mozilla.org/pt-BR/docs/Learn/Server-side/Django/Introdu%C3%A7%C3%A3o\" >\\n\\n  \\n  <link rel=\"alternate\" hreflang=\"pt\" href=\"https://developer.mozilla.org/pt-BR/docs/Learn/Server-side/Django/Introdu%C3%A7%C3%A3o\" title=\"Introdução ao Django\">\\n  \\n    <link rel=\"alternate\" hreflang=\"en\" href=\"https://developer.mozilla.org/en-US/docs/Learn/Server-side/Django/Introduction\" title=\"Django introduction\">\\n  \\n    <link rel=\"alternate\" hreflang=\"es\" href=\"https://developer.mozilla.org/es/docs/Learn/Server-side/Django/Introducci%C3%B3n\" title=\"Introducción a Django\">\\n  \\n    <link rel=\"alternate\" hreflang=\"fr\" href=\"https://developer.mozilla.org/fr/docs/Learn/Server-side/Django/Introduction\" title=\"Introduction à Django\">\\n  \\n    <link rel=\"alternate\" hreflang=\"it\" href=\"https://developer.mozilla.org/it/docs/Learn/Server-side/Django/Introduzione\" title=\"Introduzione a Django\">\\n  \\n    <link rel=\"alternate\" hreflang=\"ja\" href=\"https://developer.mozilla.org/ja/docs/Learn/Server-side/Django/Introduction\" title=\"Djangoの紹介\">\\n  \\n    <link rel=\"alternate\" hreflang=\"ko\" href=\"https://developer.mozilla.org/ko/docs/Learn/Server-side/Django/Introduction\" title=\"Django 소개\">\\n  \\n    <link rel=\"alternate\" hreflang=\"ru\" href=\"https://developer.mozilla.org/ru/docs/Learn/Server-side/Django/%D0%92%D0%B2%D0%B5%D0%B4%D0%B5%D0%BD%D0%B8%D0%B5\" title=\"Django введение\">\\n  \\n    <link rel=\"alternate\" hreflang=\"uk\" href=\"https://developer.mozilla.org/uk/docs/Learn/Server-side/Django/Introduction\" title=\"Введення в Django\">\\n  \\n    <link rel=\"alternate\" hreflang=\"zh\" href=\"https://developer.mozilla.org/zh-CN/docs/learn/Server-side/Django/Introduction\" title=\"Django 介绍\">\\n  \\n    <link rel=\"alternate\" hreflang=\"zh-TW\" href=\"https://developer.mozilla.org/zh-TW/docs/Learn/Server-side/Django/Introduction\" title=\"Django 介紹\">\\n  \\n\\n  <!-- document-specific social tags -->\\n  <meta property=\"og:title\" content=\"Introdução ao Django\">\\n  <meta property=\"og:url\" content=\"https://developer.mozilla.org/pt-BR/docs/Learn/Server-side/Django/Introdu%C3%A7%C3%A3o\">\\n  <meta name=\"twitter:url\" content=\"https://developer.mozilla.org/pt-BR/docs/Learn/Server-side/Django/Introdu%C3%A7%C3%A3o\">\\n  <meta name=\"twitter:title\" content=\"Introdução ao Django\">\\n  \\n  <meta property=\"og:description\" content=\"Neste primeiro artigo do Django, respondemos a pergunta &#34;O que é o Django?&#34; e daremos uma visão geral do que torna este framework web especial. Vamos descrever os principais recursos, incluindo algumas das funcionalidades avançadas que não teremos tempo para abordar detalhadamente neste módulo. Também mostraremos alguns dos principais blocos de construção de um aplicativo Django (embora neste momento você ainda não tenha um ambiente de desenvolvimento para testá-lo).\">\\n  <meta name=\"description\" content=\"Neste primeiro artigo do Django, respondemos a pergunta &#34;O que é o Django?&#34; e daremos uma visão geral do que torna este framework web especial. Vamos descrever os principais recursos, incluindo algumas das funcionalidades avançadas que não teremos tempo para abordar detalhadamente neste módulo. Também mostraremos alguns dos principais blocos de construção de um aplicativo Django (embora neste momento você ainda não tenha um ambiente de desenvolvimento para testá-lo).\">\\n  <meta name=\"twitter:description\" content=\"Neste primeiro artigo do Django, respondemos a pergunta &#34;O que é o Django?&#34; e daremos uma visão geral do que torna este framework web especial. Vamos descrever os principais recursos, incluindo algumas das funcionalidades avançadas que não teremos tempo para abordar detalhadamente neste módulo. Também mostraremos alguns dos principais blocos de construção de um aplicativo Django (embora neste momento você ainda não tenha um ambiente de desenvolvimento para testá-lo).\">\\n  \\n\\n  \\n    <link href=\"/static/build/styles/print.ca192a439743.css\" rel=\"stylesheet\" type=\"text/css\" media=\"print\" />\\n  \\n</head>\\n<body>\\n  <script>\\n    // make sure global mdn object exists\\n    var mdn = window.mdn || {};\\n\\n    (function(win) {\\n        \\'use strict\\';\\n\\n        win.mdn.features = {};\\n        win.mdn.stripePublicKey = \\'pk_live_GZl4tCi8J5mWhKbJeRey4DSy\\';\\n        win.mdn.contributionSupportEmail = \\'mdn-support@mozilla.com\\';\\n\\n        win.mdn.siteUrl = \\'https://developer.mozilla.org\\';\\n        win.mdn.wikiSiteUrl = \\'https://wiki.developer.mozilla.org\\';\\n        win.mdn.staticPath = \\'/static/\\';\\n        win.mdn.wiki = {\\n            autosuggestTitleUrl: \\'/pt-BR/docs/get-documents\\'\\n        };\\n\\n        win.mdn.notifications = [];\\n\\n        \\n\\n        // interactive editor config\\n        win.mdn.interactiveEditor = {\\n            siteUrl: \"https://developer.mozilla.org\",\\n            editorUrl: \"https://interactive-examples.mdn.mozilla.net\"\\n        };\\n        win.mdn.langCookieName = \"django_language\";\\n\\n    })(this);\\n</script>\\n\\n  \\n\\n  <div id=\"react-container\" data-component-name=\"SPA\"><div class=\"loading-bar\"></div><ul id=\"nav-access\" data-testid=\"a11y-nav\"><li><a id=\"skip-main\" href=\"#content\">Pular para o conteúdo principal</a></li><li><a id=\"skip-language\" href=\"#language\">Selecionar idioma</a></li><li><a id=\"skip-search\" href=\"#main-q\">Pular para a pesquisa</a></li></ul><header class=\"page-header\" data-testid=\"header\"><a href=\"/pt-BR/\" class=\"logo\" aria-label=\"Documentação web da MDN\"><svg xmlns=\"http://www.w3.org/2000/svg\" viewBox=\"0 0 219 48\" role=\"img\"><path d=\"M49.752 30.824h59.917v17.132H49.75zm57.23 12.3c-.103.03-.21.048-.316.05-.338 0-.514-.15-.514-.582v-3.256c0-1.71-1.352-2.543-2.976-2.543a7.206 7.206 0 00-3.21.676l-.29 1.724 1.71.182.245-.842a2.338 2.338 0 011.147-.216c1.214 0 1.23.913 1.23 1.69v.234c-.407-.048-.818-.07-1.23-.068-1.71 0-3.49.433-3.49 2.276 0 1.563 1.23 2.144 2.31 2.144a2.7 2.7 0 002.41-1.494c.018.88.77 1.563 1.648 1.494a2.89 2.89 0 001.353-.338zm-4.604-.05a.787.787 0 01-.88-.867c0-.815.677-1.015 1.432-1.015.36.008.722.04 1.078.098-.05 1.235-.852 1.783-1.63 1.783zM97.388 33l-3.24 11.433h2.11L99.5 33.002zm-4.353 0l-3.24 11.433h2.11L95.145 33zm-6.89 6.645h2.243V36.94h-2.242zm0 4.802h2.243v-2.706h-2.242zm-3.617-1.64H80.1l4.156-4.736-.166-1.13h-6.58l-.268 2.63 1.546.164.338-1.163h2.343l-4.123 4.734.216 1.13h6.544l.467-2.63-1.69-.164zM72.143 36.79c-2.706 0-4.02 1.812-4.02 4.004 0 2.394 1.595 3.804 3.905 3.804 2.394 0 4.122-1.51 4.122-3.905-.003-2.093-1.32-3.906-4.01-3.906zm-.054 6.154c-1.165 0-1.763-.997-1.763-2.292 0-1.414.676-2.23 1.778-2.23 1.015 0 1.83.677 1.83 2.196 0 1.438-.73 2.327-1.846 2.327zm-5.906-3.564c0-1.78-1.224-2.594-2.577-2.594a2.51 2.51 0 00-2.44 1.612c-.367-1.1-1.364-1.613-2.443-1.613a2.48 2.48 0 00-2.276 1.278v-1.13h-3.14v1.63h.996v4.24h-.997v1.63h4.572v-1.63h-1.432V40.2c0-1.048.433-1.78 1.448-1.78.845 0 1.278.502 1.278 1.797v4.224h3.14v-1.63h-.996v-2.612c0-1.048.433-1.78 1.447-1.78.846 0 1.278.502 1.278 1.797v4.214h3.142V42.8h-.998zm78.791-22.39h-6.29c.23-1.935 1.16-3.558 3.274-3.558 2.245 0 3.2 1.857 3.016 3.558zM218.952 0v29.137h-169.2V0zM71.706 6.885h-3.85L61.51 20.01h-.104L54.882 6.884h-3.84v1.65h2.19V21.98H51.12v1.65h5.927v-1.65h-2.012V11.24h.1l5.75 11.553H61.9l5.62-11.474h.105v10.66h-1.962v1.65h5.942v-1.65h-2.09V8.536h2.19zm9.993 16.76c5.285 0 8.484-3.48 8.484-8.42 0-4.847-3.094-8.353-8.56-8.353H74.12v1.623h2.114v13.527H74.12v1.623zm27.05-16.76h-6.426v1.65h2.526v11.268h-.1L95.21 6.885H91.6v1.65h2.22V21.98h-1.935v1.65h6.385v-1.65h-2.655V10.444h.1l9.724 13.202h1.21V8.535h2.09zm26.71 5.29h-5.156v1.467h1.83l-1.857 7.247h-.128l-3.586-8.716h-1.21l-3.423 8.718h-.127l-2.14-7.247h1.933v-1.47h-5.41v1.467h1.522l3.25 10.003h1.352l3.432-8.766h.13l3.496 8.765h1.393l3.122-10.003h1.573zm6.704 11.727c2.837 0 4.514-1.583 4.83-3.568l-1.523-.338c-.36 1.42-1.365 2.347-3.17 2.347-2.283 0-3.53-1.468-3.636-4.02h8.058c.1-.445.153-.898.156-1.354-.024-2.71-1.728-5.03-4.873-5.03-3.246 0-5.26 2.58-5.26 6.14 0 3.712 2.162 5.825 5.412 5.825zm13.408 0c3.663 0 5.134-3.25 5.134-6.294 0-3.642-2.063-5.67-4.924-5.67-2.19 0-3.402 1.186-4.1 2.603V5.905h-3.53v1.47h1.692v12.923a22.8 22.8 0 01-.338 3.35h1.805a44.05 44.05 0 00.235-1.906c.747 1.39 2.242 2.165 4.02 2.165zm26.198-1.728h-1.985V5.904h-4.6v1.47h2.798v6.653c-.748-1.342-2.15-2.09-3.842-2.09-3.74 0-5.183 3.2-5.183 6.267 0 3.584 1.958 5.698 4.924 5.698 2.087 0 3.352-1.224 4.1-2.577v2.323h3.784zm6.963 1.728c3.53 0 5.75-2.526 5.742-6.006 0-3.25-1.934-5.982-5.647-5.982s-5.67 2.735-5.67 6.087c0 3.457 2.09 5.905 5.568 5.905zm12.942 0c3.172 0 4.538-2.114 4.866-4.112l-1.548-.34c-.334 1.885-1.315 2.917-3.094 2.917-2.27 0-3.507-1.637-3.507-4.397 0-2.475.982-4.487 3.43-4.487a4.4 4.4 0 012.45.646l.42 1.936 1.496-.18-.44-2.758c-1.16-.876-2.397-1.187-3.92-1.187-3.556 0-5.362 2.966-5.362 6.14 0 3.685 2.036 5.825 5.208 5.825zm11.166 0c2.76 0 4.874-1.34 4.847-3.595 0-4.565-7.1-2.195-7.1-5.184 0-1.177 1.03-1.69 2.474-1.69.826-.015 1.64.18 2.368.567l.267 1.864 1.495-.18-.284-2.68a8.135 8.135 0 00-3.997-1.06c-2.088 0-4.255.903-4.255 3.328 0 4.46 7.193 2.063 7.193 5.208 0 1.315-1.495 1.934-3.095 1.934a5.812 5.812 0 01-2.553-.568l.078-1.522-1.444-.156-.362 2.604c.977.643 2.736 1.133 4.36 1.133zm-54.042-6.11c0 2.373-1.058 4.564-3.584 4.564a3.455 3.455 0 01-3.534-3.456v-1.728c.05-1.7 1.444-3.686 3.635-3.686 1.948 0 3.48 1.444 3.483 4.305zm19.18-1.06v1.833c-.076 1.73-1.57 3.79-3.634 3.79-1.985 0-3.48-1.47-3.48-4.28 0-2.425 1.133-4.59 3.686-4.59a3.36 3.36 0 013.43 3.248zm14.597 1.133c0 2.58-1.34 4.488-3.79 4.488-2.453 0-3.74-1.958-3.74-4.46 0-2.55 1.34-4.434 3.74-4.434 2.397 0 3.79 1.778 3.79 4.405zm-104.39-2.593c0 4.16-2.32 6.763-6.574 6.763h-3.478V8.508h3.466c4.254 0 6.574 2.71 6.587 6.764zM.116 0h47.956v47.956H.116zM42.01 22.02c-.036-.723-.12-1.448-.17-2.166a1.74 1.74 0 00-.395-.98 2.465 2.465 0 00-1.026-.74c-.808-.314-1.622-.664-2.435-.975a21.509 21.509 0 01-3.342-1.472 2.626 2.626 0 01-1.296-1.972 2.954 2.954 0 00-1.47-2.228 4.062 4.062 0 00-2.958-.35c-.734.176-1.5.165-2.23-.033l-1.112-.34-.302-.09-.873-.26c-1.57-.468-2.228-.713-4.773-.278a14.678 14.678 0 00-7.09 3.897l-6.37 6.76h5.72l-3.504 3.71h6.026l-3.503 3.71h4.844l-1.548 4.06c5.93 6.07 12.25 7.295 12.25 7.295 0-1.673.38-8.24.826-9.34a5.25 5.25 0 01.762-1.54 4.211 4.211 0 013.393-1.547c1.303 0 2.597.238 3.815.702.74.31 1.577.264 2.277-.122a38.42 38.42 0 001.498-.94.839.839 0 01.556-.18c.54.06 1.054-.237 1.27-.734.16-.33.35-.64.524-.97.472-.884.69-1.88.633-2.88z\"></path></svg></a><nav class=\"main-nav\" aria-label=\"Main menu\"><button type=\"button\" class=\"ghost main-menu-toggle\" aria-haspopup=\"true\" aria-label=\"Show Menu\"></button><ul class=\"main-menu \"><li class=\"top-level-entry-container\"><button id=\"technologies-button\" type=\"button\" class=\"top-level-entry\" aria-haspopup=\"true\" aria-expanded=\"false\">Tecnologias</button><ul role=\"menu\" aria-labelledby=\"technologies-button\"><li data-item=\"Tecnologias\" role=\"none\"><a href=\"/pt-BR/docs/Web\" role=\"menuitem\">Visão geral de tecnologias</a></li><li data-item=\"Tecnologias\" role=\"none\"><a href=\"/pt-BR/docs/Web/HTML\" role=\"menuitem\">HTML</a></li><li data-item=\"Tecnologias\" role=\"none\"><a href=\"/pt-BR/docs/Web/CSS\" role=\"menuitem\">CSS</a></li><li data-item=\"Tecnologias\" role=\"none\"><a href=\"/pt-BR/docs/Web/JavaScript\" role=\"menuitem\">JavaScript</a></li><li data-item=\"Tecnologias\" role=\"none\"><a href=\"/pt-BR/docs/Web/Guide/Graphics\" role=\"menuitem\">Gráficos</a></li><li data-item=\"Tecnologias\" role=\"none\"><a href=\"/pt-BR/docs/Web/HTTP\" role=\"menuitem\">HTTP</a></li><li data-item=\"Tecnologias\" role=\"none\"><a href=\"/pt-BR/docs/Web/API\" role=\"menuitem\">APIs / DOM</a></li><li data-item=\"Tecnologias\" role=\"none\"><a href=\"/pt-BR/docs/Mozilla/Add-ons/WebExtensions\" role=\"menuitem\">Extensões do navegador</a></li><li data-item=\"Tecnologias\" role=\"none\"><a href=\"/pt-BR/docs/Web/MathML\" role=\"menuitem\">MathML</a></li></ul></li><li class=\"top-level-entry-container\"><button id=\"references-guides-button\" type=\"button\" class=\"top-level-entry\" aria-haspopup=\"true\" aria-expanded=\"false\">Referências e guias</button><ul role=\"menu\" aria-labelledby=\"references-guides-button\"><li data-item=\"Referências e guias\" role=\"none\"><a href=\"/pt-BR/docs/Learn\" role=\"menuitem\">Aprenda desenvolvimento web</a></li><li data-item=\"Referências e guias\" role=\"none\"><a href=\"/pt-BR/docs/Web/Tutorials\" role=\"menuitem\">Tutoriais</a></li><li data-item=\"Referências e guias\" role=\"none\"><a href=\"/pt-BR/docs/Web/Reference\" role=\"menuitem\">Referências</a></li><li data-item=\"Referências e guias\" role=\"none\"><a href=\"/pt-BR/docs/Web/Guide\" role=\"menuitem\">Guias do desenvolvedor</a></li><li data-item=\"Referências e guias\" role=\"none\"><a href=\"/pt-BR/docs/Web/Accessibility\" role=\"menuitem\">Acessibilidade</a></li><li data-item=\"Referências e guias\" role=\"none\"><a href=\"/pt-BR/docs/Games\" role=\"menuitem\">Desenvolvimento de jogos</a></li><li data-item=\"Referências e guias\" role=\"none\"><a href=\"/pt-BR/docs/Web\" role=\"menuitem\">...mais documentos</a></li></ul></li><li class=\"top-level-entry-container\"><button id=\"feedback-button\" type=\"button\" class=\"top-level-entry\" aria-haspopup=\"true\" aria-expanded=\"false\">Comentários</button><ul role=\"menu\" aria-labelledby=\"feedback-button\"><li data-item=\"Comentários\" role=\"none\"><a href=\"/pt-BR/docs/MDN/Feedback\" role=\"menuitem\">Enviar comentário</a></li><li data-item=\"Comentários\" role=\"none\"><a target=\"_blank\" rel=\"noopener noreferrer\" href=\"https://support.mozilla.org/\" role=\"menuitem\">Obtenha ajuda do Firefox<!-- --> 🌐</a></li><li data-item=\"Comentários\" role=\"none\"><a target=\"_blank\" rel=\"noopener noreferrer\" href=\"https://stackoverflow.com/\" role=\"menuitem\">Obtenha ajuda para desenvolvimento web<!-- --> 🌐</a></li><li data-item=\"Comentários\" role=\"none\"><a href=\"/pt-BR/docs/MDN/Community\" role=\"menuitem\">Junte-se à comunidade MDN</a></li><li data-item=\"Comentários\" role=\"none\"><a target=\"_blank\" rel=\"noopener noreferrer\" href=\"https://github.com/mdn/sprints/issues/new?template=issue-template.md&amp;projects=mdn/sprints/2&amp;labels=user-report&amp;title=/pt-BR/docs/Learn/Server-side/Django/Introdu%C3%A7%C3%A3o\" role=\"menuitem\">Relate um problema de conteúdo<!-- --> 🌐</a></li><li data-item=\"Comentários\" role=\"none\"><a target=\"_blank\" rel=\"noopener noreferrer\" href=\"https://github.com/mdn/kuma/issues/new/choose\" role=\"menuitem\">Relatar um problema<!-- --> 🌐</a></li></ul></li></ul></nav><div class=\"header-search \"><form id=\"nav-main-search\" action=\"/pt-BR/search\" method=\"get\" role=\"search\"><svg xmlns=\"http://www.w3.org/2000/svg\" viewBox=\"0 0 24 24\" aria-hidden=\"true\" class=\"search-icon\"><path fill-rule=\"nonzero\" d=\"M15.5 14h-.79l-.28-.27a6.5 6.5 0 001.48-5.34c-.47-2.78-2.79-5-5.59-5.34a6.505 6.505 0 00-7.27 7.27c.34 2.8 2.56 5.12 5.34 5.59a6.5 6.5 0 005.34-1.48l.27.28v.79l4.25 4.25c.41.41 1.08.41 1.49 0 .41-.41.41-1.08 0-1.49L15.5 14zm-6 0C7.01 14 5 11.99 5 9.5S7.01 5 9.5 5 14 7.01 14 9.5 11.99 14 9.5 14z\"></path></svg><label for=\"main-q\" class=\"visually-hidden\">Pesquisar na MDN</label><input type=\"search\" class=\"search-input-field\" id=\"main-q\" name=\"q\" placeholder=\"Pesquisar na MDN\" pattern=\"(.|\\\\s)*\\\\S(.|\\\\s)*\" required=\"\"/></form><button class=\"toggle-form\"><svg xmlns=\"http://www.w3.org/2000/svg\" role=\"presentation\" viewBox=\"0 0 24 24\" class=\"close-icon hide\"><path d=\"M18.3 5.71a.996.996 0 00-1.41 0L12 10.59 7.11 5.7A.996.996 0 105.7 7.11L10.59 12 5.7 16.89a.996.996 0 101.41 1.41L12 13.41l4.89 4.89a.996.996 0 101.41-1.41L13.41 12l4.89-4.89c.38-.38.38-1.02 0-1.4z\" fill-rule=\"nonzero\"></path></svg><svg xmlns=\"http://www.w3.org/2000/svg\" viewBox=\"0 0 24 24\" aria-hidden=\"true\" class=\"search-icon\"><path fill-rule=\"nonzero\" d=\"M15.5 14h-.79l-.28-.27a6.5 6.5 0 001.48-5.34c-.47-2.78-2.79-5-5.59-5.34a6.505 6.505 0 00-7.27 7.27c.34 2.8 2.56 5.12 5.34 5.59a6.5 6.5 0 005.34-1.48l.27.28v.79l4.25 4.25c.41.41 1.08.41 1.49 0 .41-.41.41-1.08 0-1.49L15.5 14zm-6 0C7.01 14 5 11.99 5 9.5S7.01 5 9.5 5 14 7.01 14 9.5 11.99 14 9.5 14z\"></path></svg><span>Abrir pesquisa</span></button></div></header><main role=\"main\"><header class=\"documentation-page-header\"><div class=\"titlebar-container\"><div class=\"titlebar\"><h1 class=\"title\">Introdução ao Django</h1></div></div><div class=\"full-width-row-container\"><div class=\"max-content-width-container\"><nav class=\"breadcrumbs\" role=\"navigation\"><ol typeof=\"BreadcrumbList\" vocab=\"https://schema.org/\" aria-label=\"breadcrumbs\"><li property=\"itemListElement\" typeof=\"ListItem\"><a href=\"/pt-BR/docs/Aprender\" class=\"breadcrumb-chevron\" property=\"item\" typeof=\"WebPage\"><span class=\"pre-text\">Ver<!-- -->\\xa0</span><span property=\"name\">Aprendendo desenvolvimento web</span></a><meta property=\"position\" content=\"1\"/></li><li property=\"itemListElement\" typeof=\"ListItem\"><a href=\"/pt-BR/docs/Learn/Server-side\" class=\"breadcrumb-chevron\" property=\"item\" typeof=\"WebPage\"><span class=\"pre-text\">Ver<!-- -->\\xa0</span><span property=\"name\">Programação de site do lado do servidor</span></a><meta property=\"position\" content=\"2\"/></li><li property=\"itemListElement\" typeof=\"ListItem\"><a href=\"/pt-BR/docs/Learn/Server-side/Django\" class=\"breadcrumb-previous\" property=\"item\" typeof=\"WebPage\"><span class=\"pre-text\">Ver<!-- -->\\xa0</span><span property=\"name\">Django Web Framework (Python)</span></a><meta property=\"position\" content=\"3\"/></li><li property=\"itemListElement\" typeof=\"ListItem\"><a href=\"/pt-BR/docs/Learn/Server-side/Django/Introdu%C3%A7%C3%A3o\" class=\"crumb-current-page\" property=\"item\" typeof=\"WebPage\"><span property=\"name\" aria-current=\"page\">Introdução ao Django</span></a><meta property=\"position\" content=\"4\"/></li></ol></nav><div class=\"dropdown-container language-menu\"><button id=\"header-language-menu\" type=\"button\" class=\"dropdown-menu-label\" aria-haspopup=\"true\" aria-owns=\"language-menu\" aria-label=\"O idioma atual é Português (do\\xa0Brasil). Escolha seu idioma preferido.\">Português (do\\xa0Brasil)<span class=\"dropdown-arrow-down\" aria-hidden=\"true\">▼</span></button><ul id=\"language-menu\" class=\"dropdown-menu-items right \" aria-expanded=\"false\" role=\"menu\"><li lang=\"en-US\" role=\"menuitem\"><a href=\"/en-US/docs/Learn/Server-side/Django/Introduction\" title=\"Inglês (EUA)\"><bdi>English (US)</bdi></a></li><li lang=\"es\" role=\"menuitem\"><a href=\"/es/docs/Learn/Server-side/Django/Introducci%C3%B3n\" title=\"Espanhol\"><bdi>Español</bdi></a></li><li lang=\"fr\" role=\"menuitem\"><a href=\"/fr/docs/Learn/Server-side/Django/Introduction\" title=\"Francês\"><bdi>Français</bdi></a></li><li lang=\"it\" role=\"menuitem\"><a href=\"/it/docs/Learn/Server-side/Django/Introduzione\" title=\"Italiano\"><bdi>Italiano</bdi></a></li><li lang=\"ja\" role=\"menuitem\"><a href=\"/ja/docs/Learn/Server-side/Django/Introduction\" title=\"Japonês\"><bdi>日本語</bdi></a></li><li lang=\"ko\" role=\"menuitem\"><a href=\"/ko/docs/Learn/Server-side/Django/Introduction\" title=\"Coreano\"><bdi>한국어</bdi></a></li><li lang=\"ru\" role=\"menuitem\"><a href=\"/ru/docs/Learn/Server-side/Django/%D0%92%D0%B2%D0%B5%D0%B4%D0%B5%D0%BD%D0%B8%D0%B5\" title=\"Russo\"><bdi>Русский</bdi></a></li><li lang=\"uk\" role=\"menuitem\"><a href=\"/uk/docs/Learn/Server-side/Django/Introduction\" title=\"Ucraniano\"><bdi>Українська</bdi></a></li><li lang=\"zh-CN\" role=\"menuitem\"><a href=\"/zh-CN/docs/learn/Server-side/Django/Introduction\" title=\"Chinês (Simplificado)\"><bdi>中文 (简体)</bdi></a></li><li lang=\"zh-TW\" role=\"menuitem\"><a href=\"/zh-TW/docs/Learn/Server-side/Django/Introduction\" title=\"Chinês (Tradicional)\"><bdi>正體中文 (繁體)</bdi></a></li></ul></div></div></div></header><div class=\"wiki-left-present content-layout\"><div id=\"content\" class=\"article text-content\"><p class=\"overheadIndicator translationInProgress\"><bdi>Esta tradução está incompleta.<!-- -->\\xa0<a href=\"https://wiki.developer.mozilla.org/pt-BR/docs/Learn/Server-side/Django/Introdu%C3%A7%C3%A3o$edit\" rel=\"nofollow\">Ajude a traduzir este artigo em inglês</a></bdi></p><article id=\"wikiArticle\"><div></div>\\n\\n<div><div class=\"prevnext\">\\n  <a href=\"/pt-BR/docs/Learn/Server-side/Django\"><i class=\"icon-arrow-up\"></i> Menu: Django</a><a class=\"new\" href=\"/pt-BR/docs/Learn/Server-side/Django/development_environment\" rel=\"nofollow\"><span class=\"label\"> Próxima  </span><i class=\"icon-arrow-right\"></i></a>\\n</div></div>\\n\\n<p class=\"summary\">Neste primeiro artigo do Django, respondemos a pergunta \"O que é o Django?\" e daremos uma visão geral do que torna este framework web especial. Vamos descrever os principais recursos, incluindo algumas das funcionalidades avançadas que não teremos tempo para abordar detalhadamente neste módulo. Também mostraremos alguns dos principais blocos de construção de um aplicativo Django (embora neste momento você ainda não tenha um ambiente de desenvolvimento para testá-lo).</p>\\n\\n<table class=\"learn-box standard-table\">\\n <tbody>\\n  <tr>\\n   <th scope=\"row\">Pré-requisitos:</th>\\n   <td>\\n    <p><span id=\"result_box\" lang=\"pt\"><span>Conhecimentos básicos em computação.</span> <span>Um entendimento geral de <a href=\"https://developer.mozilla.org/en-US/docs/Learn/Server-side/First_steps\">programação de websites do lado do servidor</a> e, em particular, a mecânica de <a class=\"new\" href=\"/pt-BR/docs/\" rel=\"nofollow\">interações cliente-servidor em websites</a>.</span></span></p>\\n   </td>\\n  </tr>\\n  <tr>\\n   <th scope=\"row\">Objetivos:</th>\\n   <td>Ganhar familiaridade com o que é o Django, quais funcionalidades ele fornece e os principais blocos de construção de uma aplicação django.</td>\\n  </tr>\\n </tbody>\\n</table>\\n\\n<h2 id=\"O_que_é_Django\">O que é Django?</h2>\\n\\n<p>Django é um framework web Python de alto nível\\xa0que permite o rápido desenvolvimento de sites seguros e de fácil manutenção. Construido por desenvolvedores experientes,\\xa0o Django cuida de grande parte do trabalho de desenvolvimento web, para que você\\xa0possa se concentrar em escrever seu aplicativo sem precisar reinventar a roda. É gratuito e\\xa0de código aberto,\\xa0tem uma comunidade próspera e ativa, ótima documentação\\xa0e muitas opções de suporte gratuito e pago.\\xa0</p>\\n\\n<p>Django ajuda você a escrever programas que são:</p>\\n\\n<dl>\\n <dt>Completo</dt>\\n <dd>Django segue a filosofia de \"baterias incluídas\" e fornece quase tudo que desenvolvedores possam querer fazer \"fora da caixa\". Como tudo o que você precisa é parte de um \"produto\", tudo funciona perfeitamente junto, seguindo princípios de design consistentes, contando uma extensa e <a class=\"external\" href=\"https://docs.djangoproject.com/pt-br/2.1/\" rel=\"noopener\">atualizada documentação</a>.</dd>\\n <dt>Versátil</dt>\\n <dd>Django pode ser (e tem sido) utilizado para construir quase todo tipo de website - desde sistema de gestão de conteúdo e wikis, passando por redes sociais e sites de notícias. Ele pode trabalhar com qualquer framework do lado do cliente, e pode entregar conteúdo em praticamente qualquer formato (incluindo HTML, feeds RSS, JSON, XML, etc). Esse site que você está lendo agora é baseado em Django.</dd>\\n <dd>À medida em que, internamente, fornece opções para quase todo tipo de funcionalidade que você possa querer (por exemplo: vários banco de dados que são populares, motores de template, etc), ele pode também ser extendido para utilizar outros componentes, caso seja necessário.</dd>\\n <dt>Seguro</dt>\\n <dd>Django ajuda os desenvolvedores a evitar os erros de segurança mais comuns, fornecendo um framework que foi desenhado para \"fazer as coisas certas\", de modo a proteger o website automaticamente. Por exemplo, Django fornece uma maneira segura de gerenciar as contas dos usuários e suas senhas, evitando erros comuns, tais como colocar informações da sessão em cookies, onde ficam vulneráveis (ao invés disso os cookies contém apenas uma chave e os dados são armazenados no banco de dados), ou armazenar as senhas de forma direta, ao invés de gravar um hash para essas senhas.</dd>\\n <dd><em>Um hash de senha é um valor fixed-length (tamanho-fixo) criado mandando a senha por uma <a class=\"external\" href=\"https://pt.wikipedia.org/wiki/Fun%C3%A7%C3%A3o_hash_criptogr%C3%A1fica\" rel=\"noopener\">cryptographic\\xa0hash function\\xa0(função hash criptográfica)</a>.\\xa0Django pode checar se uma senha inserida está correta\\xa0executando ela pela função hash e comparando a saída\\xa0com o valor hash armazenado. Porém devido a natureza \"one-way\" (\"um-caminho\") da função, mesmo que o valor hash armazenado estiver comprometido, é difcil para uma pessoa comentendo um ataque resolver\\xa0a senha original.</em></dd>\\n <dd>O Django ativa a proteção contra muitas vulnerabilidades por padrão, incluindo SQL injection (injeção de SQL),\\xa0cross-site scripting, cross-site request forgery (Falsificação de solicitação entre sites), e clickjacking (\"furto de click\") (veja <a href=\"https://developer.mozilla.org/en-US/docs/Learn/Server-side/First_steps/Website_security\">Segurança de sites</a>\\xa0para mais detalhes de tais ataques).</dd>\\n <dt>Escalável</dt>\\n <dd>Django usa uma arquitetura baseada em componentes “<a class=\"external\" href=\"https://en.wikipedia.org/wiki/Shared_nothing_architecture\" rel=\"noopener\">shared-nothing</a>” (\"nada-compartilhado\") (cada parte da arquitetura é idependente das outras, e consequentemente podem ser subistituidas ou mudadas caso necessário). Ter uma separação clara entre as partes diferentes significa que pode se escalar para um trágefo aumentado adicionando hardware em qualquer nível: servidores de cache, servidores de banco de dados ou servidores de aplicação. Alguns dos sites mais ocupados escalaram o Django com sucesso para cumprir com as suas demandas (ex: Instagram e Disqus).</dd>\\n <dt>Sustentável</dt>\\n <dd>O código do Django é escrito usando princípios de design e padrões que encorajam a criação de codigo sustentável (que facilita a manutenção) e reusável. Em particular, isso utiliza o principio\\xa0\\xa0DRY - Don\\'t Repeat Yourself\\xa0(Não Repita a Si Mesmo) para que não haja duplicações desnecessárias, reduzindo a quantidade de código. O Django também promove o agrupamento de funcionalidades relacionadas para aplicativos reusáveis e, em um nível mais baixo, grupos de código relacionados para modulos (juntamente as\\xa0linhas do padrão <a class=\"external\" href=\"https://pt.wikipedia.org/wiki/MVC\" rel=\"noopener\">MVC - Model View Controller</a>).</dd>\\n <dt>Portável</dt>\\n <dd>Django é escrito em Python, que executa em muitas plataformas. Isso significa que você não esta preso em nenhuma plataforma de servidor em particular, e pode executar seus aplicativos em muitas distrubuições do Linux, Windows e Mac OS X. Além disso, o Django tem um bom suporte em muitos provedores de\\xa0servidores de web, que muitas vezes provem infraestrutura especifca e documentação para hospedar sites feitos com Django.</dd>\\n</dl>\\n\\n<h2 id=\"De_onde_o_Django_veio\">De onde o Django veio?</h2>\\n\\n<p>Django foi inicialmente desenvolvido entre 2003 e 2005 por um time de web que era responsável por criar e manter sites de jornal. Depois de criar um número de sites, o time começou a fatorar e reutilizar muitos de seus códigos comuns e padrões de design. Esse código comum evoluiu para um framework genérico de desenvolvimento web, que foi lançado como um projeto de código aberto nomeado \"Django\"\\xa0em Julho de 2005.</p>\\n\\n<p>Django continou a crescer e aprimorar, desde seu lançamento (1.0) em Setembro de 2008 até a versão recentemente lançada 2.0 em 2017. Cada lançamento adicionou novas funcionalidades e consertou falhas, variando entre suportar novos tipos de banco de dados, mecanismos de template e caches, até a adição de funções view \"genéricas\" e classes (que reduzem a quantidade de código que os desenvolvedores tem que escrever para um número de tarefas de programação).</p>\\n\\n<div class=\"note\">\\n<p><strong>Nota</strong>: Cheque as <span style=\"line-height: 1.5;\"><a class=\"external\" href=\"https://docs.djangoproject.com/pt-br/2.1/releases/\" rel=\"noopener\">notas de lançamento</a>\\xa0no site do Django para ver o que mudou nas versões mais recentes, e quanto trabalho esta sendo feito para tornar o Django melhor.</span></p>\\n</div>\\n\\n<p>Django\\xa0é um\\xa0projeto de código aberto, colaborativo e\\xa0próspero,\\xa0com milhares de usuários contribuindo. Embora ainda tenha alguns recursos que refletem sua origem, Django evoluiu para um framework versátil que é capaz de desenvovler qualquer tipo de website.</p>\\n\\n<h2 id=\"Quão_popular_é_o_Django\">Quão popular é o Django?</h2>\\n\\n<p>Não há nenhum método disponível e definitivo para medir a popularidade dos framework server-side (lado do servidor) (apesar de sites como\\xa0<a class=\"external\" href=\"http://hotframeworks.com/\" rel=\"noopener\">Hot Frameworks</a>\\xa0tentam acessar a popularidade usando mecanismos como contar o numero de projetos no GitHub e perguntas no StackOverflow para cada cada platafroma). Uma questão melhor é se o Django é \"popular o suficiente\" para evitar problemas\\xa0de plataformas não populares. Ele continua a evoluir? Você consegue ajuda se precisar? Existem oportunidades para você ganhar dinheiro\\xa0se voce aprender Django?</p>\\n\\n<p>Baseado no número de sites com alto perfil que usam Django, o número de pessoas contribuindo para a base de código, e o número de pessoas provendo ambos suporte gratuito e pago, então sim, Django é um framework popular!</p>\\n\\n<p>Alguns sites de alto perfil que usam Django são:\\xa0Disqus, Instagram,\\xa0Knight Foundation, MacArthur Foundation, Mozilla, National Geographic,\\xa0Open Knowledge Foundation, Pinterest, and Open Stack (fonte: <a class=\"external\" href=\"https://www.djangoproject.com/\" rel=\"noopener\">Página inicial do django</a>).</p>\\n\\n<h2 id=\"O_Django_é_opinativo\">O Django é opinativo?</h2>\\n\\n<p>Frameworks de web frequentemente referem a si mesmos como \"opinativo\" e \"não opinativo\".</p>\\n\\n<p>Frameworks opinativos são aqueles com opiniões sobre o \"modo correto\" de como lidar com uma tarefa em particular. Eles frequentemente auxiliam no\\xa0desenvolvimento rapido <em>em um domínio em particular</em> (resolvendo problemas de um tipo em particular) porque o modo correto de fazer qualquer coisa normalmente já foi bem compreendido e bem documentado. Porém eles podem ser menos flexíveis para resolver problemas fora\\xa0de seu principal domínio, e tendem a oferecer menos opções para quais\\xa0componentes e abordagens eles podem usar.</p>\\n\\n<p>Frameworks não opinativos, em contraste, possuem bem menos restrições sobre a melhor maneira de unir os componentes para atingir um objetivo,\\xa0ou até mesmo quais componentes devem ser usados. Eles tornam mais fácil para os desenvolvedores usar as ferramentas mais adequadas para completar uma tarefa em particular, apesar do custo de você mesmo ter que achar esses componentes.<br>\\n <br>\\n Django é \"moderadamente opinativo\" e, portantanto, oferece o \"melhor dos dois mundo\". Ele fornece um conjunto de componentes para lidar com a maioria das tarefas de desenvolvimento web, e uma (ou duas) maneiras preferidas de usá-las. No entanto, a arquitetura desacoplada do Django significa que você geralmente pode escolher entre várias opções diferentes, ou adicionar suporte para outras completamente novas, se desejar.</p>\\n\\n<h2 id=\"Com_o_que_o_código_do_Django_parece\">Com o que o\\xa0código do Django parece?</h2>\\n\\n<p>Em um site data-driven (orientado a dados)\\xa0tradicional, um aplicativo web aguarda solicitações HTTP do navegador da web (ou outro cliente). Quando uma solicitação é recebida, o aplicativo calcula o que é necessário com base na URL e possivelmente nas informações dos dados <code>POST</code> ou <code>GET</code>. Dependendo do que for necessário, ele poderá ler ou gravar informações de um banco de dados ou executar outras tarefas necessárias para satisfazer a solicitação. O aplicativo retornará uma resposta para o navegador da web, normalmente\\xa0criando dinamicamente uma página HTML para o navegador exibir, inserindo os dados recuperados em espaços reservados em um template HTML.</p>\\n\\n<p>Aplicativos web feitos com Django geralmente agrupam o código que manipula cada uma dessas etapas em arquivos separados:</p>\\n\\n<p><img alt=\"\" src=\"https://i.postimg.cc/W4yzpVcd/arq.png\" style=\"border-style: solid; border-width: 1px; height: 503px; width: 713px;\"></p>\\n\\n<ul>\\n <li><strong>URLs: </strong>Embora seja possível processar solicitações de cada URL por meio de uma única função, é muito mais simples fazer a manutenção do código escrevendo uma função view (vista) separada para manipular\\xa0cada recurso. Um mapeador de URLs é usado para redirecionar solicitações HTTP para a view\\xa0apropriada com base na\\xa0URL da solicitação. O mapeador de URLs também pode corresponder\\xa0padrões específicos de strings (cadeia de caracteres) ou dígitos que aparecem em um URL e transmiti-los a uma função view como dados.</li>\\n <li><strong>View (Vista):</strong>\\xa0Uma view é uma função manipuladora de solicitações, que recebe solicitações HTTP e retorna respostas HTTP. As views\\xa0acessam os dados necessários para satisfazer solicitações por meio dos <em>models (modelos)</em>\\xa0e encarregam\\xa0a formatação da resposta aos <em>templates</em>.</li>\\n <li><strong>Models (Modelos):</strong>\\xa0Modelos são objetos em Python que definem a estrutura dos dados de um aplicativo,\\xa0e fornecem mecanismos para gerenciar (adicionar, modificar e excluir) e consultar registros no banco de dados.</li>\\n <li><strong>Templates:</strong>\\xa0Um template é um arquivo de texto que define a estrutura ou o layout de um arquivo (como uma página HTML), com espaços reservados usados para representar o conteúdo real. Uma <em>view</em> pode criar dinamicamente uma página HTML usando um template HTML, preenchendo-a com dados de um <em>model (modelo)</em>. Um template pode ser usado para definir a estrutura de qualquer tipo de arquivo; não precisa ser HTML!</li>\\n</ul>\\n\\n<div class=\"note\">\\n<p><strong>Nota</strong>: Django refere a essa organização como uma arquitetura nomeada\\xa0\"Model View Template (MVT)\" (\"Modelo Vista Template\"). Ela tem muitas semelhanças com a familiar arquitetura\\xa0<a class=\"external\" href=\"https://pt.wikipedia.org/wiki/MVC\" rel=\"noopener\">Model View Controller\\xa0(Modelo Vista Controlador)</a>.</p>\\n</div>\\n\\n<ul>\\n</ul>\\n\\n<p>As seções abaixo lhe darão uma idéia de como essas partes principais de um aplicativo do Django se parecerão (nos vamos entrar em mais detalhes mais tarde no curso, assim que configurarmos um ambiente de desenvolvimento).</p>\\n\\n<h3 id=\"Enviando_a_solicitação_para_a_view_correta_urls.py\">Enviando a solicitação para a view correta (urls.py)</h3>\\n\\n<p>Um mapeador de URLs normalmente é armazenado em um arquivo chamado <strong>urls.py</strong>. No exemplo abaixo, o mapeador (<code>urlpatterns</code>) (<em>padrões de url</em>) define uma lista de mapeamentos entre <em>rotas</em> (<em>padrões</em>\\xa0específicos de URL) e funções view\\xa0correspondentes. Se uma solicitação HTTP for recebida com uma URL correspondente a um padrão especificado, a função view associada será chamada e a\\xa0solicitação/requisição\\xa0sera transmitida.</p>\\n\\n<pre class=\"notranslate\"><code>urlpatterns = [\\n    <strong>path(\\'admin/\\', admin.site.urls),</strong>\\n    path(\\'book/&lt;int:id&gt;/\\', views.book-detail, name=\\'book-detail\\'),\\n    path(\\'catalog/\\', include(\\'catalog.urls\\')),\\n    re_path(r\\'^([0-9]+)/$\\', views.best),\\n]\\n\\n# favor utilizar o código acima no seu projeto ao invés do que está abaixo\\n# urlpatterns = [ \\n#     path(\\'admin/\\', admin.site.urls), \\n#     path(\\'livro/&lt;int:id&gt;/\\', views.livro-detalhes, name=\\'livro-detalhes\\'), \\n#     path(\\'catalogo/\\', include(\\'catalogo.urls\\')), \\n# \\xa0   re_path(r\\'^([0-9]+)/$\\', views.melhor), \\n# ]</code>\\n</pre>\\n\\n<p>O objeto\\xa0<code>urlpatterns</code>\\xa0é uma lista de funções\\xa0<code>path()</code>\\xa0(caminhos) e/ou\\xa0<code>re_path()</code>\\xa0(listas em Python são definidas usando\\xa0colchetes, onde os itens são separados por vírgulas e podem conter opcionalmente uma vírgula no final. Por exemplo:\\xa0<strong><code>[item1, item2, item3,]</code></strong>).</p>\\n\\n<p>O primeiro argumento para ambos os métodos é uma rota (padrão) que será correspondida. O método <code>path()</code> usa sinais de menor e maior (&lt;, &gt;)\\xa0para definir partes de uma URL que serão capturadas e passadas para a função view como argumentos nomeados. A função <code>re_path()</code> usa uma abordagem de correspondência de padrões flexível, conhecida como expressão regular. Nós vamos falar sobre isso em um artigo posterior!</p>\\n\\n<p>O segundo argumento é outra função que será chamada quando o padrão for correspondido. A notação <code>views.book-detail</code>\\xa0(<code>views.livro-detalhes</code>) indica que a função é chamada de <code>book-detail()</code>\\xa0(<code>livro-detalhes()</code>) e pode ser encontrada em um módulo chamado <code>views</code> (ou seja, dentro de um arquivo chamado <code>views.py</code>)</p>\\n\\n<h3 id=\"Manipulando_a_solicitação_views.py\">Manipulando a solicitação\\xa0(views.py)</h3>\\n\\n<p>As view são o coração do aplicativo web, recebendo solicitações HTTP de clientes da web e retornando respostas HTTP. No meio disto, eles preparam os outros recursos do framework para acessar bancos de dados, renderizar (exibir) templates, etc.</p>\\n\\n<p>O exemplo abaixo mostra uma função view mínima chamada <code>index()</code>, que poderia ter sido chamado pelo nosso mapeador de URLs na seção anterior. Como todas as funções <em>view</em>, ele recebe um objeto <code>HttpRequest</code> como um parâmetro (<code>request</code>) e retorna um objeto <code>HttpResponse</code>. Nesse caso, não fazemos nada com a solicitação, e nossa resposta simplesmente retorna uma string. Mostraremos uma solicitação que faz algo mais interessante em uma seção posterior.</p>\\n\\n<pre class=\"brush: python notranslate\">## filename: views.py (Django view functions)\\n\\nfrom django.http import HttpResponse\\n\\ndef index(request):\\n    # Get an HttpRequest - the request parameter\\n    # perform operations using information from the request.\\n\\xa0   # Return HttpResponse\\n    return HttpResponse(\\'Hello from Django!\\')\\n\\n<code># favor utilizar o código acima no seu projeto ao invés do que está abaixo</code>\\n## nome do arquivo: views.py (Onde as funções view ficam) \\n\\nfrom django.http import HttpResponse\\n\\ndef index(requisito):\\n    # Recebe um HttpRequest - o parametro requisito\\n    # Executar operações usando informações do requisito (solicitação).\\n    # Retornar HttpResponse\\n    return HttpResponse(\\'Um oi do Django!\\')\\n</pre>\\n\\n<div class=\"note\">\\n<p><strong>Nota</strong>: Um pouquinho de Python:</p>\\n\\n<ul>\\n <li><a class=\"external\" href=\"https://docs.python.org/3/tutorial/modules.html\" rel=\"noopener\">Módulos do Python</a>\\xa0são \"bibliotecas\" de funções, armazenadas em arquivos separados, que podemos\\xa0utilizar em nosso código. Aqui nós importamos apenas o objeto <code>HttpResponse</code> do módulo <code>django.http</code> para que possamos usá-lo em nossa view: <code>from django.http import HttpResponse</code>. Existem outras maneiras de importar alguns ou todos os objetos de um módulo.</li>\\n <li>As funções em Python são declaradas usando a palavra-chave <code>def</code> como mostrado acima, com parâmetros nomeados listados entre parênteses após o nome da função; a linha inteira termina em dois pontos. Observe como as próximas linhas são todas <strong>recuadas</strong>. O recuo é importante, pois especifica que as linhas de código estão dentro desse bloco específico (a indentação obrigatória é um recurso chave do Python e é um dos motivos pelos quais o código Python é tão fácil de ler).</li>\\n</ul>\\n</div>\\n\\n<ul>\\n</ul>\\n\\n<p>Views geralmente são armazenadas em um arquivo chamado\\xa0<strong>views.py</strong>.</p>\\n\\n<h3 id=\"Definindo_o_modelo_dos_dados_models.py\">Definindo o modelo dos dados\\xa0(models.py)</h3>\\n\\n<p>Os aplicativos web feitos com\\xa0Django gerenciam e consultam dados por meio de objetos do Python chamados de modelos. Os modelos definem a estrutura dos dados armazenados, incluindo os <em>tipos </em>do campo e possivelmente também seu tamanho máximo, valores padrão, opções de lista de seleção, texto de ajuda para documentação, texto de etiqueta (label) para formulários etc. A definição do modelo é independente do banco de dados subjacente\\xa0—\\xa0você pode escolher um dentre vários como parte das configurações do seu projeto. Uma vez que você escolheu qual banco de dados você quer usar, você não precisa se comunicar diretamente com ele —\\xa0você apenas escreve a estrutura dos seus modelos e qualquer outro código, e o Django lida com todo o trabalho\\xa0de se comunicar com o banco de dados para você.</p>\\n\\n<p>O trecho de código abaixo mostra um modelo\\xa0simples do Django para um objeto <code>Team</code>\\xa0(Time).\\xa0A classe <code>Team</code> é derivada da classe do Django <code>models.Model</code>.\\xa0Ela define o nome\\xa0e o nível da equipe como campos de caractere e especifica um número máximo de caracteres a serem armazenados para cada registro. O <code>team_level</code>\\xa0(time_nivel) pode ser um de vários valores, portanto, o definimos como um campo de opção e fornecemos um mapeamento entre as opções a serem exibidas e os dados a serem armazenados, junto com um valor padrão.</p>\\n\\n<pre class=\"brush: python notranslate\">## filename: models.py\\n\\nfrom django.db import models \\n\\nclass Team(models.Model): \\n\\xa0   team_name = models.CharField(max_length=40) \\n\\n\\xa0 \\xa0 TEAM_LEVELS = (\\n\\xa0 \\xa0 \\xa0 \\xa0 (\\'U09\\', \\'Under 09s\\'),\\n\\xa0 \\xa0 \\xa0 \\xa0 (\\'U10\\', \\'Under 10s\\'),\\n\\xa0 \\xa0 \\xa0 \\xa0 (\\'U11\\', \\'Under 11s\\'),\\n\\xa0       ...  #list other team levels\\n\\xa0 \\xa0 )\\n    \\n    team_level = models.CharField(max_length=3,choices=TEAM_LEVELS,default=\\'U11\\')\\n\\n<code># favor utilizar o código acima no seu projeto ao invés do que está abaixo</code>\\n## nome do arquivo: models.py\\n\\nfrom django.db import models\\n\\nclass Time(models.Model):\\n    # models.CharField define um campo de caractere no banco de dados e max_length define o tamanho maximo permitido\\n    time_nome = models.CharField(max_length=40)\\n\\n \\xa0 \\xa0TIME_NIVEIS = (\\n \\xa0 \\xa0\\xa0 \\xa0 (\\'A09\\', \\'Abaixo de 09\\'),\\n \\xa0 \\xa0 \\xa0\\xa0 (\\'A10\\', \\'Abaixo de 10\\'),\\n \\xa0 \\xa0 \\xa0  (\\'A11\\', \\'Abaixo de 11\\'),\\n      \\xa0 ... #list other team levels\\n \\xa0 \\xa0)\\n    \\n\\xa0 \\xa0 time_nivel = models.CharField(max_length=3,choices=TIME_NIVEIS,default=\\'A11\\') # choices-opções / default-padrão\\n</pre>\\n\\n<div class=\"note\">\\n<p><strong>Nota</strong>: Um pouquinho de Python:</p>\\n\\n<ul>\\n <li>O Python suporta \"programação orientada a objetos\", um estilo de programação onde organizamos nosso código em objetos, que incluem dados\\xa0e funções relacionadas para operar nesses dados. Os objetos também podem herdar/estender/derivar de outros objetos, permitindo que um comportamento comum entre objetos relacionados seja compartilhado. Em Python, usamos a palavra-chave\\xa0<code>class</code>\\xa0(classe) para definir o \"blueprint\" (modelo/planta/plano) de um objeto. Podemos criar várias <em>instâncias</em> específicas do tipo de objeto com base no modelo da classe.<br>\\n  <br>\\n  Por exemplo, aqui temos uma classe <code>Team</code>\\xa0(Time), que deriva da classe <code>Model</code>. Isso significa que é um modelo e conterá todos os métodos de um modelo, mas também podemos fornecer recursos especializados próprios. Em nosso modelo, definimos os campos que nosso banco de dados precisará para armazenar nossos dados, dando-lhes nomes específicos. O Django usa essas definições, incluindo os nomes dos campos, para criar o banco de dados subjacente.</li>\\n</ul>\\n</div>\\n\\n<h3 id=\"Consultando_dados_views.py\">Consultando dados\\xa0(views.py)</h3>\\n\\n<p>O modelo Django fornece uma query API simples para buscas no banco de dados. Isto pode combinar com um grande número de campos ao mesmo tempo utilizando diversos critérios (ex.: exato, maiúsculas e minúsculas (case-sensitive), maior que, etc.), e pode suportar definições complexas (por exemplo, você pode especificar a busca por times U11 que tem os nomes começando com \\'Fr\" ou terminando com \"al\").</p>\\n\\n<p>O trecho de código mostra uma função da View (manipulador de recursos) para exibir todos os nossos times U09. A linha em negrito mostra como podemos usar a API modelo de consulta para filtrar todos os registros em que o campo <code>team_level</code> possui exatamente o texto \\'U09\\' (observe como esse critério é passado para a função\\xa0 <code>filter()</code>\\xa0 com o argumento no campo de nome e o tipo de busca de correspondência (<strong>exact</strong>) separado por um sublinhado duplo: <strong>(team_level__exact</strong>).</p>\\n\\n<pre class=\"brush: python notranslate\">## filename: views.py\\n\\nfrom django.shortcuts import render\\nfrom .models import Team \\n\\ndef index(request):\\n\\xa0 \\xa0 <strong>list_teams = Team.objects.filter(team_level__exact=\"U09\")</strong>\\n\\xa0 \\xa0 context = {\\'youngest_teams\\': list_teams}\\n\\xa0 \\xa0 return render(request, \\'/best/index.html\\', context)                                                                         \\n\\n# favor utilizar o código acima no seu projeto ao invés do código abaixo \\n## nome do arquivo: views.py\\n\\nfrom django.shortcuts import render \\nfrom .models import Team \\n\\ndef index(request): \\n    <strong>lista_times =</strong> <strong>Team.objects.filter(team_level__exact=\"U09\")</strong> \\n    contexto = {\\'times_jovens\\': lista_times}\\n    return render(request, \\'/best/index.html\\', contexto)\\n</pre>\\n\\n<dl>\\n</dl>\\n\\n<p>A função <code>index()</code> usa a função <code>render()</code> para criar o <code>HttpResponse</code> que é enviado de volta para o navegador. Essa função é um atalho, ela cria um arquivo HTML combinando um modelo HTML específico com alguns dados (fornecidos pela variável denominada \"<code>context</code>\"). Na próxima seção, mostramos como os dados são inseridos no modelo para criar HTML.</p>\\n\\n<h3 id=\"Renderizando_dados_Modelos_HTML\">Renderizando dados (Modelos HTML)</h3>\\n\\n<p>O sistema de modelo permite especificar a estrutura de um documento de saída, usando espaços reservados para dados que serão preenchidos quando uma página for gerada. Os modelos geralmente são usados para criar HTML, mas também podem criar outros tipos de documentos. O Django suporta o sistema de modelos nativo e outra biblioteca Python popular chamada Jinja2 pronta para uso (também pode ser feita para suportar outros sistemas, se necessário).</p>\\n\\n<p>O trecho de código mostra a aparência do modelo HTML chamado pela função <code>render()</code> na seção anterior. Este modelo foi escrito sob a premissa de que ele terá acesso a uma variável do tipo lista chamada <code>youngest_teams</code> quando for renderizada (contida na variável <code>context</code> dentro da função <code>render()</code> acima). Dentro do esqueleto HTML, temos um a expressão que primeiro verifica se a variável <code>youngest_teams</code> existe e a itera em um loop <code>for</code>. Em cada iteração, o modelo exibe o valor <code>team_name</code> de cada equipe em um elemento <a href=\"/pt-BR/docs/Web/HTML/Element/li\" title=\"O\\xa0elemento HTML &lt;li>\\xa0 (ou a Lista dos Itens de um elemento HTML) é usado para representar um item que faz parte de uma lista. Este item deve estar contido em um elemento pai: uma lista ordenada (&lt;ol>), uma lista desordenada (&lt;ul>), ou um menu (&lt;menu>) e representa uma única entidade dessa lista. Em menus e listas desordenadas a relação de itens é exibida, normalmente, usando pontos de marcação (as bolinhas). Em listas ordenadas eles são, comumente, mostrados com algum contador ascendente - como um número, ou letra - à sua esquerda.\"><code>&lt;li&gt;</code></a>.</p>\\n\\n<pre class=\"brush: python notranslate\">## filename: best/templates/best/index.html\\n\\n&lt;!DOCTYPE html&gt;\\n&lt;html lang=\"en\"&gt;\\n&lt;body&gt;\\n\\n {% if youngest_teams %}\\n\\xa0 \\xa0 &lt;ul&gt;\\n\\xa0 \\xa0 {% for team in youngest_teams %}\\n\\xa0 \\xa0 \\xa0 \\xa0 &lt;li&gt;{{ team.team_name }}&lt;/li&gt;\\n\\xa0 \\xa0 {% endfor %}\\n\\xa0 \\xa0 &lt;/ul&gt;\\n{% else %}\\n\\xa0 \\xa0 &lt;p&gt;No teams are available.&lt;/p&gt;\\n{% endif %}\\n\\n&lt;/body&gt;\\n&lt;/html&gt;\\n\\n#favor utilizar o código acima no seu projeto ao invés do código abaixo\\n## nome do arquivo: best/templates/best/index.html \\n\\n&lt;!DOCTYPE html&gt; \\n&lt;html lang=\"pt\"&gt; \\n&lt;body&gt; \\n\\n {% if youngest_teams %} \\xa0 \\xa0 \\n    &lt;ul&gt; \\xa0 \\xa0 \\n     {% for team in youngest_teams %}\\n \\xa0 \\xa0 \\xa0 \\xa0 &lt;li&gt;{{ team.team_name }}&lt;/li&gt;\\n \\xa0 \\xa0 {% endfor %} \\xa0 \\xa0 &lt;/ul&gt; {% else %}\\n \\xa0 \\xa0 &lt;p&gt;Nenhum time disponível.&lt;/p&gt;\\n {% endif %}\\n &lt;/body&gt;\\n &lt;/html&gt;\\n</pre>\\n\\n<h2 id=\"O_que_mais_você_pode_fazer\">O que mais você pode fazer?</h2>\\n\\n<p>As seções anteriores mostram os principais recursos que você usará na maioria dos aplicativos Web: mapeamento de URL, views, moldes e modelos. O Django também fornece outras coisas, como:</p>\\n\\n<ul>\\n <li><strong>Formulários (Forms)</strong>: Os formulários HTML são usados para coletar dados do usuário para processamento no servidor. Django simplifica a criação, validação e processamento de formulários.</li>\\n <li><strong>Autenticação de usuário e permissões</strong>: Django inclui um sistema robusto de autenticção e permissão de usuário, construído com a segurança em mente.</li>\\n <li><strong>Caching</strong>: Criar conteúdo dinamicamente é muito mais pesado (e lento) computacionalmente do que exibir conteúdo estático. O Django fornece armazenamento em cache flexível para que você possa armazenar toda ou parte de uma página pronta para que ela não seja renderizada novamente, exceto quando necessário.</li>\\n <li><strong>Site de administração</strong>: O site de administração do Django é incluído por padrão quando você cria um aplicativo usando o esqueleto básico. Ele facilita o fornecimento de uma página de administração para os administradores do site criarem, editarem e exibirem quaisquer modelos de dados em seu site</li>\\n <li><strong>Serializando dados</strong>: O Django facilita a serialização e a veiculação de dados como XML ou JSON. Isso pode ser útil ap criar um serviço Web (um site que serve apenas para que dados sejam consumidos por outros aplicativos ou sites e não exibe nada por si só), ou ao criar um site no qual o código do lado do cliente lida com todas as renderizações.</li>\\n</ul>\\n\\n<h2 id=\"Resumo\">Resumo</h2>\\n\\n<p>Parabéns, você completou o primeiro passo em sua jornada no Django! Agora você deve entender os principais benefícios do Django, um pouco sobre sua história e aproximadamente como podem ser as partes principais de um aplicativo Django. Você também deve ter aprendido algumas coisas sobre a linguagem de programação Python, incluindo a sintaxe para listas, funções e classes.</p>\\n\\n<p>Você já viu algum código real do Django acima, mas, diferentemente do código do lado do cliente, você precisa configurar um ambiente de desenvolvimento para executá-lo. Esse é o nosso próximo passo.</p>\\n\\n<div><div class=\"prevnext\">\\n  <a href=\"/pt-BR/docs/Learn/Server-side/Django\"><i class=\"icon-arrow-up\"></i> Menu: Django</a><a class=\"new\" href=\"/pt-BR/docs/Learn/Server-side/Django/development_environment\" rel=\"nofollow\"><span class=\"label\"> Próxima  </span><i class=\"icon-arrow-right\"></i></a>\\n</div></div>\\n\\n<h2 id=\"Neste_módulo\">Neste módulo</h2>\\n\\n<ul>\\n <li><a href=\"/pt-BR/docs/Learn/Server-side/Django/Introdução\">Introdução ao Django</a></li>\\n <li><a href=\"/en-US/docs/Learn/Server-side/Django/development_environment\">Configurando um ambiente de desenvolvimento</a></li>\\n <li><a href=\"/en-US/docs/Learn/Server-side/Django/Tutorial_local_library_website\">Tutorial Django: The Local Library website</a></li>\\n <li><a href=\"/en-US/docs/Learn/Server-side/Django/Tutorial_local_library_website\">Tutorial Django</a><a href=\"/en-US/docs/Learn/Server-side/Django/skeleton_website\"> Parte 2: Criando um esqueleto de site</a></li>\\n <li><a href=\"/en-US/docs/Learn/Server-side/Django/Tutorial_local_library_website\">Tutorial Django</a><a href=\"/en-US/docs/Learn/Server-side/Django/Models\"> Parte 3: Usando moldes</a></li>\\n <li><a href=\"/en-US/docs/Learn/Server-side/Django/Tutorial_local_library_website\">Tutorial Django</a><a href=\"/en-US/docs/Learn/Server-side/Django/Admin_site\"> Parte 4: Site administrador do Django</a></li>\\n <li><a href=\"/en-US/docs/Learn/Server-side/Django/Tutorial_local_library_website\">Tutorial Django</a><a href=\"/en-US/docs/Learn/Server-side/Django/Home_page\"> Parte 5: Criando nossa página principal</a></li>\\n <li><a href=\"/en-US/docs/Learn/Server-side/Django/Tutorial_local_library_website\">Tutorial Django</a><a href=\"/en-US/docs/Learn/Server-side/Django/Generic_views\"> Parte 6: Generic list and detail views</a></li>\\n <li><a href=\"/en-US/docs/Learn/Server-side/Django/Tutorial_local_library_website\">Tutorial Django</a><a href=\"/en-US/docs/Learn/Server-side/Django/Sessions\"> Parte 7: Sessions framework</a></li>\\n <li><a href=\"/en-US/docs/Learn/Server-side/Django/Tutorial_local_library_website\">Tutorial Django</a><a href=\"/en-US/docs/Learn/Server-side/Django/Authentication\"> Parte 8: Autenticação de usuário e permissões</a></li>\\n <li><a href=\"/en-US/docs/Learn/Server-side/Django/Tutorial_local_library_website\">Tutorial Django</a><a href=\"/en-US/docs/Learn/Server-side/Django/Forms\"> Parte 9: Trabalhando com formulários</a></li>\\n <li><a href=\"/en-US/docs/Learn/Server-side/Django/Tutorial_local_library_website\">Tutorial Django</a><a href=\"/en-US/docs/Learn/Server-side/Django/Testing\"> Parte 10: Testando uma aplicação web Django</a></li>\\n <li><a href=\"/en-US/docs/Learn/Server-side/Django/Tutorial_local_library_website\">Tutorial Django</a><a href=\"/en-US/docs/Learn/Server-side/Django/Deployment\"> Parte 11: Implantando o Django na produção</a></li>\\n <li><a href=\"/en-US/docs/Learn/Server-side/Django/web_application_security\">Segurança da aplicação web Django</a></li>\\n <li><a href=\"/en-US/docs/Learn/Server-side/Django/django_assessment_blog\">Criando um mini blog Django</a></li>\\n</ul></article><div class=\"metadata\"><section class=\"document-meta\"><header class=\"visually-hidden\"><h4>Metadata</h4></header> <ul><li class=\"last-modified\"><b>Última modificação:</b> <time dateTime=\"2020-09-05T15:15:53.669122\">Sep 5, 2020</time>,<!-- --> <a href=\"https://wiki.developer.mozilla.org/pt-BR/docs/Learn/Server-side/Django/Introdu%C3%A7%C3%A3o$history\" rel=\"nofollow\">por colaboradores da MDN</a></li></ul></section></div></div><div id=\"sidebar-quicklinks\" class=\"sidebar\"><div class=\"quick-links\"><div class=\"quick-links-head sidebar-heading\">Tópicos relacionados</div><div>\\n\\n<ol>\\n  <li data-default-state=\"closed\"><a class=\"new\" href=\"/pt-BR/docs/Learn/Getting_started_with_the_web\" rel=\"nofollow\"><strong>Completos iniciantes, comecem por aqui!</strong></a></li>\\n  <li class=\"toggle\">\\n      <details>\\n          <summary>Iniciando na Internet</summary>\\n          <ol>\\n            <li><a class=\"new\" href=\"/pt-BR/docs/Learn/Getting_started_with_the_web\" rel=\"nofollow\">Visão geral sobre Iniciando na Internet</a></li>\\n            <li><a class=\"new\" href=\"/pt-BR/docs/Learn/Getting_started_with_the_web/Installing_basic_software\" rel=\"nofollow\">Instalação dos softwares básicos</a></li>\\n            <li><a class=\"new\" href=\"/pt-BR/docs/Learn/Getting_started_with_the_web/What_will_your_website_look_like\" rel=\"nofollow\">Como será seu site?</a></li>\\n            <li><a class=\"new\" href=\"/pt-BR/docs/Learn/Getting_started_with_the_web/Dealing_with_files\" rel=\"nofollow\">Lidando com arquivos</a></li>\\n            <li><a class=\"new\" href=\"/pt-BR/docs/Learn/Getting_started_with_the_web/HTML_basics\" rel=\"nofollow\">O básico de HTML</a></li>\\n            <li><a class=\"new\" href=\"/pt-BR/docs/Learn/Getting_started_with_the_web/CSS_basics\" rel=\"nofollow\">O básico de CSS</a></li>\\n            <li><a class=\"new\" href=\"/pt-BR/docs/Learn/Getting_started_with_the_web/JavaScript_basics\" rel=\"nofollow\">O básico de JavaScript</a></li>\\n            <li><a class=\"new\" href=\"/pt-BR/docs/Learn/Getting_started_with_the_web/Publishing_your_website\" rel=\"nofollow\">Publicando seu site</a></li>\\n            <li><a class=\"new\" href=\"/pt-BR/docs/Learn/Getting_started_with_the_web/How_the_Web_works\" rel=\"nofollow\">Como a Internet funciona</a></li>\\n          </ol>\\n      </details>\\n  </li>\\n  <li data-default-state=\"closed\"><a class=\"new\" href=\"/pt-BR/docs/Learn/HTML\" rel=\"nofollow\"><strong>HTML — Estruturando a Web</strong></a></li>\\n  <li class=\"toggle\">\\n      <details>\\n          <summary>Introdução ao HTML</summary>\\n          <ol>\\n            <li><a class=\"new\" href=\"/pt-BR/docs/Learn/HTML/Introduction_to_HTML\" rel=\"nofollow\">Visão geral da Introdução ao HTML</a></li>\\n            <li><a class=\"new\" href=\"/pt-BR/docs/Learn/HTML/Introduction_to_HTML/Getting_started\" rel=\"nofollow\">Iniciando em HTML</a></li>\\n            <li><a class=\"new\" href=\"/pt-BR/docs/Learn/HTML/Introduction_to_HTML/The_head_metadata_in_HTML\" rel=\"nofollow\">O que está no \"head\"? Metadados em HTML</a></li>\\n            <li><a class=\"new\" href=\"/pt-BR/docs/Learn/HTML/Introduction_to_HTML/HTML_text_fundamentals\" rel=\"nofollow\">Fundamentos de Textos HTML</a></li>\\n            <li><a class=\"new\" href=\"/pt-BR/docs/Learn/HTML/Introduction_to_HTML/Creating_hyperlinks\" rel=\"nofollow\">Criando hiperlinks</a></li>\\n            <li><a class=\"new\" href=\"/pt-BR/docs/Learn/HTML/Introduction_to_HTML/Advanced_text_formatting\" rel=\"nofollow\">Formatação avançada de textos</a></li>\\n            <li><a class=\"new\" href=\"/pt-BR/docs/Learn/HTML/Introduction_to_HTML/Document_and_website_structure\" rel=\"nofollow\">Estrutura de Documentos e Sites</a></li>\\n            <li><a class=\"new\" href=\"/pt-BR/docs/Learn/HTML/Introduction_to_HTML/Debugging_HTML\" rel=\"nofollow\">Depurando HTML</a></li>\\n            <li><a class=\"new\" href=\"/pt-BR/docs/Learn/HTML/Introduction_to_HTML/Marking_up_a_letter\" rel=\"nofollow\">Avaliação: Marcando uma carta</a></li>\\n            <li><a class=\"new\" href=\"/pt-BR/docs/Learn/HTML/Introduction_to_HTML/Structuring_a_page_of_content\" rel=\"nofollow\">Avaliação: Estruturação de uma página de conteúdo</a></li>\\n          </ol>\\n      </details>\\n  </li>\\n  <li class=\"toggle\">\\n      <details>\\n          <summary>Multimídia e incorporação</summary>\\n          <ol>\\n            <li><a class=\"new\" href=\"/pt-BR/docs/Learn/HTML/Multimedia_and_embedding\" rel=\"nofollow\">Visão geral sobre Multimídia e incorporação</a></li>\\n            <li><a class=\"new\" href=\"/pt-BR/docs/Learn/HTML/Multimedia_and_embedding/Images_in_HTML\" rel=\"nofollow\">Imagens em HTML</a></li>\\n            <li><a class=\"new\" href=\"/pt-BR/docs/Learn/HTML/Multimedia_and_embedding/Video_and_audio_content\" rel=\"nofollow\">Conteúdos em Vídeo e áudio</a></li>\\n            <li><a class=\"new\" href=\"/pt-BR/docs/Learn/HTML/Multimedia_and_embedding/Other_embedding_technologies\" rel=\"nofollow\">De objeto a iframe — outras tecnologias de incorporação</a></li>\\n            <li><a class=\"new\" href=\"/pt-BR/docs/Learn/HTML/Multimedia_and_embedding/Adding_vector_graphics_to_the_Web\" rel=\"nofollow\">Adicionando vetores gráficos na Web</a></li>\\n            <li><a class=\"new\" href=\"/pt-BR/docs/Learn/HTML/Multimedia_and_embedding/Responsive_images\" rel=\"nofollow\">Imagens responsivas</a></li>\\n            <li><a class=\"new\" href=\"/pt-BR/docs/Learn/HTML/Multimedia_and_embedding/Mozilla_splash_page\" rel=\"nofollow\">Avaliação: Página de abertura da Mozilla</a></li>\\n          </ol>\\n      </details>\\n  </li>\\n  <li class=\"toggle\">\\n      <details>\\n          <summary>Tabelas HTML</summary>\\n          <ol>\\n            <li><a class=\"new\" href=\"/pt-BR/docs/Learn/HTML/Tables\" rel=\"nofollow\">Visão geral sobre tabelas HTML</a></li>\\n            <li><a class=\"new\" href=\"/pt-BR/docs/Learn/HTML/Tables/Basics\" rel=\"nofollow\">O básico sobre Tabelas HTML</a></li>\\n            <li><a class=\"new\" href=\"/pt-BR/docs/Learn/HTML/Tables/Advanced\" rel=\"nofollow\">Funcionalidades avançadas e acessibilidade de Tabelas HTML</a></li>\\n            <li><a class=\"new\" href=\"/pt-BR/docs/Learn/HTML/Tables/Structuring_planet_data\" rel=\"nofollow\">Avaliação: Estruturação dos dados do planenta</a></li>\\n          </ol>\\n      </details>\\n  </li>\\n  <li data-default-state=\"closed\"><a class=\"new\" href=\"/pt-BR/docs/Learn/CSS\" rel=\"nofollow\"><strong>CSS — Estilizando a Web</strong></a></li>\\n  <li class=\"toggle\">\\n      <details>\\n          <summary>CSS first steps</summary>\\n          <ol>\\n            <li><a href=\"/pt-BR/docs/Learn/CSS/First_steps\">CSS first steps overview</a></li>\\n            <li><a class=\"new\" href=\"/pt-BR/docs/Learn/CSS/First_steps/What_is_CSS\" rel=\"nofollow\">What is CSS?</a></li>\\n            <li><a class=\"new\" href=\"/pt-BR/docs/Learn/CSS/First_steps/Getting_started\" rel=\"nofollow\">Getting started with CSS</a></li>\\n            <li><a class=\"new\" href=\"/pt-BR/docs/Learn/CSS/First_steps/How_CSS_is_structured\" rel=\"nofollow\">How CSS is structured</a></li>\\n            <li><a href=\"/pt-BR/docs/Learn/CSS/First_steps/How_CSS_works\">How CSS works</a></li>\\n            <li><a href=\"/pt-BR/docs/Learn/CSS/First_steps/Using_your_new_knowledge\">Using your new knowledge</a></li>\\n          </ol>\\n      </details>\\n  </li>\\n  <li class=\"toggle\">\\n      <details>\\n          <summary>CSS building blocks</summary>\\n          <ol>\\n            <li><a class=\"new\" href=\"/pt-BR/docs/Learn/CSS/Building_blocks\" rel=\"nofollow\">CSS building blocks overview</a></li>\\n            <li><a class=\"new\" href=\"/pt-BR/docs/Learn/CSS/Building_blocks/Cascade_and_inheritance\" rel=\"nofollow\">Cascade and inheritance</a></li>\\n            <li><a href=\"/pt-BR/docs/Learn/CSS/Building_blocks/Selectors\">CSS selectors</a></li>\\n            <li><a class=\"new\" href=\"/pt-BR/docs/Learn/CSS/Building_blocks/The_box_model\" rel=\"nofollow\">The box model</a></li>\\n            <li><a class=\"new\" href=\"/pt-BR/docs/Learn/CSS/Building_blocks/Backgrounds_and_borders\" rel=\"nofollow\">Backgrounds and borders</a></li>\\n            <li><a class=\"new\" href=\"/pt-BR/docs/Learn/CSS/Building_blocks/Handling_different_text_directions\" rel=\"nofollow\">Handling different text directions</a></li>\\n            <li><a class=\"new\" href=\"/pt-BR/docs/Learn/CSS/Building_blocks/Overflowing_content\" rel=\"nofollow\">Overflowing content</a></li>\\n            <li><a class=\"new\" href=\"/pt-BR/docs/Learn/CSS/Building_blocks/Values_and_units\" rel=\"nofollow\">Values and units</a></li>\\n            <li><a class=\"new\" href=\"/pt-BR/docs/Learn/CSS/Building_blocks/Sizing_items_in_CSS\" rel=\"nofollow\">Sizing items in CSS</a></li>\\n            <li><a class=\"new\" href=\"/pt-BR/docs/Learn/CSS/Building_blocks/Images_media_form_elements\" rel=\"nofollow\">Images, media, and form elements</a></li>\\n            <li><a class=\"new\" href=\"/pt-BR/docs/Learn/CSS/Building_blocks/Styling_tables\" rel=\"nofollow\">Styling tables</a></li>\\n            <li><a class=\"new\" href=\"/pt-BR/docs/Learn/CSS/Building_blocks/Debugging_CSS\" rel=\"nofollow\">Debugging CSS</a></li>\\n            <li><a class=\"new\" href=\"/pt-BR/docs/Learn/CSS/Building_blocks/Organizing\" rel=\"nofollow\">Organizing your CSS</a></li>\\n      </ol></details>\\n  </li>\\n  <li class=\"toggle\">\\n      <details>\\n          <summary>Estilização de textos</summary>\\n          <ol>\\n            <li><a class=\"new\" href=\"/pt-BR/docs/Learn/CSS/Styling_text\" rel=\"nofollow\">Visão geral da Estilizaço de textos</a></li>\\n            <li><a class=\"new\" href=\"/pt-BR/docs/Learn/CSS/Styling_text/Fundamentals\" rel=\"nofollow\">Fundamentos da estilização de textos e fontes</a></li>\\n            <li><a class=\"new\" href=\"/pt-BR/docs/Learn/CSS/Styling_text/Styling_lists\" rel=\"nofollow\">Estilização de listas</a></li>\\n            <li><a class=\"new\" href=\"/pt-BR/docs/Learn/CSS/Styling_text/Styling_links\" rel=\"nofollow\">Estilização de links</a></li>\\n            <li><a class=\"new\" href=\"/pt-BR/docs/Learn/CSS/Styling_text/Web_fonts\" rel=\"nofollow\">Fontes Web</a></li>\\n            <li><a class=\"new\" href=\"/pt-BR/docs/Learn/CSS/Styling_text/Typesetting_a_homepage\" rel=\"nofollow\">Avaliação: Tipografia para a página inicial da escola pública local</a></li>\\n          </ol>\\n      </details>\\n  </li>\\n  <li class=\"toggle\">\\n      <details>\\n          <summary>Esquemas CSS</summary>\\n          <ol>\\n            <li><a href=\"/pt-BR/docs/Learn/CSS/CSS_layout\">Visão geral de esquemas CSS</a></li>\\n            <li><a class=\"new\" href=\"/pt-BR/docs/Learn/CSS/CSS_layout/Introduction\" rel=\"nofollow\">Introdução</a></li>\\n            <li><a class=\"new\" href=\"/pt-BR/docs/Learn/CSS/CSS_layout/Normal_Flow\" rel=\"nofollow\">Normal Flow</a></li>\\n            <li><a href=\"/pt-BR/docs/Learn/CSS/CSS_layout/Flexbox\">Flexbox</a></li>\\n            <li><a class=\"new\" href=\"/pt-BR/docs/Learn/CSS/CSS_layout/Grids\" rel=\"nofollow\">Grids</a></li>\\n            <li><a class=\"new\" href=\"/pt-BR/docs/Learn/CSS/CSS_layout/Floats\" rel=\"nofollow\">\"Floats\" - Flutuando elementos</a></li>\\n            <li><a href=\"/pt-BR/docs/Learn/CSS/CSS_layout/Positioning\">Posicionamento</a></li>\\n            <li><a class=\"new\" href=\"/pt-BR/docs/Learn/CSS/CSS_layout/Multiple-column_Layout\" rel=\"nofollow\">Multiple-column Layout</a></li>\\n            <li><a href=\"/pt-BR/docs/Learn/CSS/CSS_layout/Responsive_Design\">Responsive design</a></li>\\n            <li><a class=\"new\" href=\"/pt-BR/docs/Learn/CSS/CSS_layout/Media_queries\" rel=\"nofollow\">Beginner\\'s guide to media queries</a></li>\\n            <li><a class=\"new\" href=\"/pt-BR/docs/Learn/CSS/CSS_layout/Legacy_Layout_Methods\" rel=\"nofollow\">Legacy Layout Methods</a></li>\\n            <li><a class=\"new\" href=\"/pt-BR/docs/Learn/CSS/CSS_layout/Supporting_Older_Browsers\" rel=\"nofollow\">Supporting Older Browsers</a></li>\\n            <li><a class=\"new\" href=\"/pt-BR/docs/Learn/CSS/CSS_layout/Fundamental_Layout_Comprehension\" rel=\"nofollow\">Fundamental Layout Comprehension</a></li>\\n          </ol>\\n      </details>\\n  </li>\\n  <li data-default-state=\"closed\"><a class=\"new\" href=\"/pt-BR/docs/Learn/JavaScript\" rel=\"nofollow\"><strong>JavaScript — Uma linguagem de script dinâmica para aplicações cliente</strong></a></li>\\n  <li class=\"toggle\">\\n      <details>\\n          <summary>Primeiros passos com JavaScript</summary>\\n          <ol>\\n            <li><a href=\"/pt-BR/docs/Learn/JavaScript/First_steps\">Visão geral dos Primeiros passos com JavaScript</a></li>\\n            <li><a class=\"new\" href=\"/pt-BR/docs/Learn/JavaScript/First_steps/What_is_JavaScript\" rel=\"nofollow\">O que é JavaScript?</a></li>\\n            <li><a href=\"/pt-BR/docs/Learn/JavaScript/First_steps/A_first_splash\">Um primeiro olhar em JavaScript</a></li>\\n            <li><a href=\"/pt-BR/docs/Learn/JavaScript/First_steps/What_went_wrong\">O que deu errado? Solução de problemas de JavaScript</a></li>\\n            <li><a class=\"new\" href=\"/pt-BR/docs/Learn/JavaScript/First_steps/Variables\" rel=\"nofollow\">Guardando a informação que precisa — Variáveis</a></li>\\n            <li><a class=\"new\" href=\"/pt-BR/docs/Learn/JavaScript/First_steps/Math\" rel=\"nofollow\">Básico de JavaScript — Números e operadores</a></li>\\n            <li><a href=\"/pt-BR/docs/Learn/JavaScript/First_steps/Strings\">Lidando com textos — Strings em JavaScript</a></li>\\n            <li><a href=\"/pt-BR/docs/Learn/JavaScript/First_steps/Useful_string_methods\">Métodos de String úteis</a></li>\\n            <li><a href=\"/pt-BR/docs/Learn/JavaScript/First_steps/Arrays\">\"Arrays\" — Arranjos</a></li>\\n            <li><a class=\"new\" href=\"/pt-BR/docs/Learn/JavaScript/First_steps/Silly_story_generator\" rel=\"nofollow\">Avaliação: Gerador de estórias bobas</a></li>\\n          </ol>\\n      </details>\\n  </li>\\n  <li class=\"toggle\">\\n      <details>\\n          <summary>Programando em JavaScript</summary>\\n          <ol>\\n            <li><a class=\"new\" href=\"/pt-BR/docs/Learn/JavaScript/Building_blocks\" rel=\"nofollow\">Visão geral de Programando em JavaScript</a></li>\\n            <li><a class=\"new\" href=\"/pt-BR/docs/Learn/JavaScript/Building_blocks/conditionals\" rel=\"nofollow\">Tomando decisões no seu código — Condicionais</a></li>\\n            <li><a class=\"new\" href=\"/pt-BR/docs/Learn/JavaScript/Building_blocks/Looping_code\" rel=\"nofollow\">Código de repetição</a></li>\\n            <li><a class=\"new\" href=\"/pt-BR/docs/Learn/JavaScript/Building_blocks/Functions\" rel=\"nofollow\">Funções — Blocos de códigos reutilizáveis</a></li>\\n            <li><a class=\"new\" href=\"/pt-BR/docs/Learn/JavaScript/Building_blocks/Build_your_own_function\" rel=\"nofollow\">Construa sua própria função</a></li>\\n            <li><a class=\"new\" href=\"/pt-BR/docs/Learn/JavaScript/Building_blocks/Return_values\" rel=\"nofollow\">Retorno de valores em funções</a></li>\\n            <li><a class=\"new\" href=\"/pt-BR/docs/Learn/JavaScript/Building_blocks/Events\" rel=\"nofollow\">Introdução a eventos</a></li>\\n            <li><a class=\"new\" href=\"/pt-BR/docs/Learn/JavaScript/Building_blocks/Image_gallery\" rel=\"nofollow\">Avaliação: Galeria de imagens</a></li>\\n          </ol>\\n      </details>\\n  </li>\\n  <li class=\"toggle\">\\n      <details>\\n          <summary>Introdução Objetos em JavaScript</summary>\\n          <ol>\\n            <li><a class=\"new\" href=\"/pt-BR/docs/Learn/JavaScript/Objects\" rel=\"nofollow\">Visão geral de Objetos em JavaScript</a></li>\\n            <li><a class=\"new\" href=\"/pt-BR/docs/Learn/JavaScript/Objects/Basics\" rel=\"nofollow\">O básico de Objetos</a></li>\\n            <li><a class=\"new\" href=\"/pt-BR/docs/Learn/JavaScript/Objects/Object-oriented_JS\" rel=\"nofollow\">Orientação a Objetos em JavaScript para iniciantes</a></li>\\n            <li><a class=\"new\" href=\"/pt-BR/docs/Learn/JavaScript/Objects/Object_prototypes\" rel=\"nofollow\">\"Prototypes\" de objetos</a></li>\\n            <li><a class=\"new\" href=\"/pt-BR/docs/Learn/JavaScript/Objects/Inheritance\" rel=\"nofollow\">Herança em JavaScript</a></li>\\n            <li><a class=\"new\" href=\"/pt-BR/docs/Learn/JavaScript/Objects/JSON\" rel=\"nofollow\">Trabalhando com dados em JSON</a></li>\\n            <li><a class=\"new\" href=\"/pt-BR/docs/Learn/JavaScript/Objects/Object_building_practice\" rel=\"nofollow\">Prática de construção de objetos</a></li>\\n            <li><a class=\"new\" href=\"/pt-BR/docs/Learn/JavaScript/Objects/Adding_bouncing_balls_features\" rel=\"nofollow\">Avaliação: Adicionando funcionalidades ao nosso aplicativo Bolas Saltitantes</a></li>\\n          </ol>\\n      </details>\\n  </li>\\n  <li class=\"toggle\">\\n    <details>\\n        <summary>Asynchronous JavaScript</summary>\\n        <ol>\\n          <li><a href=\"/pt-BR/docs/Learn/JavaScript/Asynchronous\">Asynchronous JavaScript overview</a></li>\\n          <li><a class=\"new\" href=\"/pt-BR/docs/Learn/JavaScript/Asynchronous/Concepts\" rel=\"nofollow\">General asynchronous programming concepts</a></li>\\n          <li><a class=\"new\" href=\"/pt-BR/docs/Learn/JavaScript/Asynchronous/Introducing\" rel=\"nofollow\">Introducing asynchronous JavaScript</a></li>\\n          <li><a href=\"/pt-BR/docs/Learn/JavaScript/Asynchronous/Timeouts_and_intervals\">Cooperative asynchronous Java\\u200bScript: Timeouts and intervals</a></li>\\n          <li><a href=\"/pt-BR/docs/Learn/JavaScript/Asynchronous/Promises\">Graceful asynchronous programming with Promises</a></li>\\n          <li><a class=\"new\" href=\"/pt-BR/docs/Learn/JavaScript/Asynchronous/Async_await\" rel=\"nofollow\">Making asynchronous programming easier with async and await</a></li>\\n          <li><a class=\"new\" href=\"/pt-BR/docs/Learn/JavaScript/Asynchronous/Choosing_the_right_approach\" rel=\"nofollow\">Choosing the right approach</a></li>\\n        </ol>\\n    </details>\\n  </li>\\n  <li class=\"toggle\">\\n    <details>\\n        <summary>APIs Web na aplicação Cliente</summary>\\n        <ol>\\n          <li><a class=\"new\" href=\"/pt-BR/docs/Learn/JavaScript/Client-side_web_APIs\" rel=\"nofollow\">APIs Web na aplicação Cliente</a></li>\\n          <li><a class=\"new\" href=\"/pt-BR/docs/Learn/JavaScript/Client-side_web_APIs/Introduction\" rel=\"nofollow\">Introdução a APIs Web</a></li>\\n          <li><a class=\"new\" href=\"/pt-BR/docs/Learn/JavaScript/Client-side_web_APIs/Manipulating_documents\" rel=\"nofollow\">Manipulando documentos</a></li>\\n          <li><a class=\"new\" href=\"/pt-BR/docs/Learn/JavaScript/Client-side_web_APIs/Fetching_data\" rel=\"nofollow\">Pegando dados do servidor</a></li>\\n          <li><a class=\"new\" href=\"/pt-BR/docs/Learn/JavaScript/Client-side_web_APIs/Third_party_APIs\" rel=\"nofollow\">APIs de Terceiros</a></li>\\n          <li><a class=\"new\" href=\"/pt-BR/docs/Learn/JavaScript/Client-side_web_APIs/Drawing_graphics\" rel=\"nofollow\">Desenhando gráficos</a></li>\\n          <li><a class=\"new\" href=\"/pt-BR/docs/Learn/JavaScript/Client-side_web_APIs/Video_and_audio_APIs\" rel=\"nofollow\">APIs de Vídeo e Áudio</a></li>\\n          <li><a class=\"new\" href=\"/pt-BR/docs/Learn/JavaScript/Client-side_web_APIs/Client-side_storage\" rel=\"nofollow\">Armazenamento na aplicação cliente</a></li>\\n        </ol>\\n    </details>\\n  </li>\\n  <li><a class=\"new\" href=\"/pt-BR/docs/Learn/Forms\" rel=\"nofollow\"><strong>Web forms — Working with user data</strong></a></li>\\n  <li class=\"toggle\">\\n    <details>\\n        <summary>Core forms learning pathway</summary>\\n        <ol>\\n          <li><a class=\"new\" href=\"/pt-BR/docs/Learn/Forms\" rel=\"nofollow\">Web forms overview</a></li>\\n          <li><a class=\"new\" href=\"/pt-BR/docs/Learn/Forms/Your_first_form\" rel=\"nofollow\">Your first form</a></li>\\n          <li><a class=\"new\" href=\"/pt-BR/docs/Learn/Forms/How_to_structure_a_web_form\" rel=\"nofollow\">How to structure a web form</a></li>\\n          <li><a class=\"new\" href=\"/pt-BR/docs/Learn/Forms/Basic_native_form_controls\" rel=\"nofollow\">Basic native form controls</a></li>\\n          <li><a class=\"new\" href=\"/pt-BR/docs/Learn/Forms/HTML5_input_types\" rel=\"nofollow\">The HTML5 input types</a></li>\\n          <li><a class=\"new\" href=\"/pt-BR/docs/Learn/Forms/Other_form_controls\" rel=\"nofollow\">Other form controls</a></li>\\n          <li><a class=\"new\" href=\"/pt-BR/docs/Learn/Forms/Styling_web_forms\" rel=\"nofollow\">Styling web forms</a></li>\\n          <li><a class=\"new\" href=\"/pt-BR/docs/Learn/Forms/Advanced_form_styling\" rel=\"nofollow\">Advanced form styling</a></li>\\n          <li><a class=\"new\" href=\"/pt-BR/docs/Learn/Forms/UI_pseudo-classes\" rel=\"nofollow\">UI pseudo-classes</a></li>\\n          <li><a class=\"new\" href=\"/pt-BR/docs/Learn/Forms/Form_validation\" rel=\"nofollow\">Client-side form validation</a></li>\\n          <li><a class=\"new\" href=\"/pt-BR/docs/Learn/Forms/Sending_and_retrieving_form_data\" rel=\"nofollow\">Sending form data</a></li>\\n        </ol>\\n    </details>\\n  </li>\\n  <li class=\"toggle\">\\n    <details>\\n        <summary>Advanced forms articles</summary>\\n        <ol>\\n          <li><a class=\"new\" href=\"/pt-BR/docs/Learn/Forms/How_to_build_custom_form_controls\" rel=\"nofollow\">How to build custom form controls</a></li>\\n          <li><a class=\"new\" href=\"/pt-BR/docs/Learn/Forms/Sending_forms_through_JavaScript\" rel=\"nofollow\">Sending forms through JavaScript</a></li>\\n          <li><a class=\"new\" href=\"/pt-BR/docs/Learn/Forms/Property_compatibility_table_for_form_controls\" rel=\"nofollow\">CSS property compatibility table for form controls</a></li>\\n        </ol>\\n    </details>\\n  </li>\\n  <li><a href=\"/pt-BR/docs/Learn/Accessibility\"><strong>Acessibilidade — Faça a Internet usável por qualquer pessoa</strong></a></li>\\n  <li class=\"toggle\">\\n    <details>\\n        <summary>Guias de acessibilidade</summary>\\n        <ol>\\n          <li><a href=\"/pt-BR/docs/Learn/Accessibility\">Visão geral sobre Acessibilidade</a></li>\\n          <li><a class=\"new\" href=\"/pt-BR/docs/Learn/Accessibility/What_is_accessibility\" rel=\"nofollow\">O que é acessibilidade?</a></li>\\n          <li><a href=\"/pt-BR/docs/Learn/Accessibility/HTML\">HTML: Uma boa base para acessibilidade</a></li>\\n          <li><a class=\"new\" href=\"/pt-BR/docs/Learn/Accessibility/CSS_and_JavaScript\" rel=\"nofollow\">Melhores práticas para acessibilidade em CSS e JavaScript</a></li>\\n          <li><a class=\"new\" href=\"/pt-BR/docs/Learn/Accessibility/WAI-ARIA_basics\" rel=\"nofollow\">O básico de WAI-ARIA</a></li>\\n          <li><a class=\"new\" href=\"/pt-BR/docs/Learn/Accessibility/Multimedia\" rel=\"nofollow\">Multimídia acessível</a></li>\\n          <li><a class=\"new\" href=\"/pt-BR/docs/Learn/Accessibility/Mobile\" rel=\"nofollow\">Acessibilidade em dispositivos móveis</a></li>\\n        </ol>\\n    </details>\\n  </li>\\n  <li class=\"toggle\">\\n    <details>\\n        <summary>Avaliando a acessibilidade</summary>\\n        <ol>\\n            <li><a class=\"new\" href=\"/pt-BR/docs/Learn/Accessibility/Accessibility_troubleshooting\" rel=\"nofollow\">Avaliação: Solução de problemas de Acessibilidade</a></li>\\n        </ol>\\n    </details>\\n  </li>\\n  <li><a class=\"new\" href=\"/pt-BR/docs/Learn/Tools_and_testing\" rel=\"nofollow\"><strong>Ferramentas e teste</strong></a></li>\\n  <li class=\"toggle\">\\n    <details>\\n        <summary>Client-side web development tools</summary>\\n        <ol>\\n          <li><a class=\"new\" href=\"/pt-BR/docs/Learn/Tools_and_testing/Understanding_client-side_tools\" rel=\"nofollow\">Client-side web development tools index</a></li>\\n          <li><a class=\"new\" href=\"/pt-BR/docs/Learn/Tools_and_testing/Understanding_client-side_tools/Overview\" rel=\"nofollow\">Client-side tooling overview</a></li>\\n          <li><a class=\"new\" href=\"/pt-BR/docs/Learn/Tools_and_testing/Understanding_client-side_tools/Command_line\" rel=\"nofollow\">Command line crash course</a></li>\\n          <li><a class=\"new\" href=\"/pt-BR/docs/Learn/Tools_and_testing/Understanding_client-side_tools/Package_management\" rel=\"nofollow\">Package management basics</a></li>\\n          <li><a class=\"new\" href=\"/pt-BR/docs/Learn/Tools_and_testing/Understanding_client-side_tools/Introducing_complete_toolchain\" rel=\"nofollow\">Introducing a complete toolchain</a></li>\\n          <li><a class=\"new\" href=\"/pt-BR/docs/Learn/Tools_and_testing/Understanding_client-side_tools/Deployment\" rel=\"nofollow\">Deploying our app</a></li>\\n        </ol>\\n    </details>\\n  </li>\\n  <li class=\"toggle\">\\n    <details>\\n        <summary>Introduction to client-side frameworks</summary>\\n        <ol>\\n          <li><a class=\"new\" href=\"/pt-BR/docs/Learn/Tools_and_testing/Client-side_JavaScript_frameworks/Introduction\" rel=\"nofollow\">Client-side frameworks overview</a></li>\\n          <li><a class=\"new\" href=\"/pt-BR/docs/Learn/Tools_and_testing/Client-side_JavaScript_frameworks/Main_features\" rel=\"nofollow\">Framework main features</a></li>\\n        </ol>\\n    </details>\\n  </li>\\n  <li class=\"toggle\">\\n    <details>\\n        <summary>React</summary>\\n        <ol>\\n          <li><a class=\"new\" href=\"/pt-BR/docs/Learn/Tools_and_testing/Client-side_JavaScript_frameworks/React_getting_started\" rel=\"nofollow\">Getting started with React</a></li>\\n          <li><a class=\"new\" href=\"/pt-BR/docs/Learn/Tools_and_testing/Client-side_JavaScript_frameworks/React_todo_list_beginning\" rel=\"nofollow\">Beginning our React todo list</a></li>\\n          <li><a class=\"new\" href=\"/pt-BR/docs/Learn/Tools_and_testing/Client-side_JavaScript_frameworks/React_components\" rel=\"nofollow\">Componentizing our React app</a></li>\\n          <li><a class=\"new\" href=\"/pt-BR/docs/Learn/Tools_and_testing/Client-side_JavaScript_frameworks/React_interactivity_events_state\" rel=\"nofollow\">React interactivity: Events and state</a></li>\\n          <li><a class=\"new\" href=\"/pt-BR/docs/Learn/Tools_and_testing/Client-side_JavaScript_frameworks/React_interactivity_filtering_conditional_rendering\" rel=\"nofollow\">React interactivity: Editing, filtering, conditional rendering</a></li>\\n          <li><a class=\"new\" href=\"/pt-BR/docs/Learn/Tools_and_testing/Client-side_JavaScript_frameworks/React_accessibility\" rel=\"nofollow\">Accessibility in React</a></li>\\n          <li><a class=\"new\" href=\"/pt-BR/docs/Learn/Tools_and_testing/Client-side_JavaScript_frameworks/React_resources\" rel=\"nofollow\">React resources</a></li>\\n        </ol>\\n    </details>\\n  </li>\\n  <li class=\"toggle\">\\n    <details>\\n        <summary>Ember</summary>\\n        <ol>\\n          <li><a class=\"new\" href=\"/pt-BR/docs/Learn/Tools_and_testing/Client-side_JavaScript_frameworks/Ember_getting_started\" rel=\"nofollow\">Getting started with Ember</a></li>\\n          <li><a class=\"new\" href=\"/pt-BR/docs/Learn/Tools_and_testing/Client-side_JavaScript_frameworks/Ember_structure_componentization\" rel=\"nofollow\">Ember app structure and componentization</a></li>\\n          <li><a class=\"new\" href=\"/pt-BR/docs/Learn/Tools_and_testing/Client-side_JavaScript_frameworks/Ember_interactivity_events_state\" rel=\"nofollow\">Ember interactivity: Events, classes and state</a></li>\\n          <li><a class=\"new\" href=\"/pt-BR/docs/Learn/Tools_and_testing/Client-side_JavaScript_frameworks/Ember_conditional_footer\" rel=\"nofollow\">Ember Interactivity: Footer functionality, conditional rendering</a></li>\\n          <li><a class=\"new\" href=\"/pt-BR/docs/Learn/Tools_and_testing/Client-side_JavaScript_frameworks/Ember_routing\" rel=\"nofollow\">Routing in Ember</a></li>\\n          <li><a class=\"new\" href=\"/pt-BR/docs/Learn/Tools_and_testing/Client-side_JavaScript_frameworks/Ember_resources\" rel=\"nofollow\">Ember resources and troubleshooting</a></li>\\n        </ol>\\n    </details>\\n  </li>\\n  <li class=\"toggle\">\\n    <details>\\n        <summary>Vue</summary>\\n        <ol>\\n          <li><a class=\"new\" href=\"/pt-BR/docs/Learn/Tools_and_testing/Client-side_JavaScript_frameworks/Vue_getting_started\" rel=\"nofollow\">Getting started with Vue</a></li>\\n          <li><a class=\"new\" href=\"/pt-BR/docs/Learn/Tools_and_testing/Client-side_JavaScript_frameworks/Vue_first_component\" rel=\"nofollow\">Creating our first Vue component</a></li>\\n          <li><a class=\"new\" href=\"/pt-BR/docs/Learn/Tools_and_testing/Client-side_JavaScript_frameworks/Vue_rendering_lists\" rel=\"nofollow\">Rendering a list of Vue components</a></li>\\n          <li><a class=\"new\" href=\"/pt-BR/docs/Learn/Tools_and_testing/Client-side_JavaScript_frameworks/Vue_methods_events_models\" rel=\"nofollow\">Adding a new todo form: Vue events, methods, and models</a></li>\\n          <li><a class=\"new\" href=\"/pt-BR/docs/Learn/Tools_and_testing/Client-side_JavaScript_frameworks/Vue_styling\" rel=\"nofollow\">Styling Vue components with CSS</a></li>\\n          <li><a class=\"new\" href=\"/pt-BR/docs/Learn/Tools_and_testing/Client-side_JavaScript_frameworks/Vue_computed_properties\" rel=\"nofollow\">Using Vue computed properties</a></li>\\n          <li><a class=\"new\" href=\"/pt-BR/docs/Learn/Tools_and_testing/Client-side_JavaScript_frameworks/Vue_conditional_rendering  \" rel=\"nofollow\">Vue conditional rendering: editing existing todos</a></li>\\n          <li><a class=\"new\" href=\"/pt-BR/docs/Learn/Tools_and_testing/Client-side_JavaScript_frameworks/Vue_refs_focus_management\" rel=\"nofollow\">Focus management with Vue refs</a></li>\\n          <li><a class=\"new\" href=\"/pt-BR/docs/Learn/Tools_and_testing/Client-side_JavaScript_frameworks/Vue_resources\" rel=\"nofollow\">Vue resources</a></li>\\n        </ol>\\n    </details>\\n  </li>\\n  <li class=\"toggle\">\\n    <details>\\n        <summary>Git and GitHub</summary>\\n        <ol>\\n          <li><a class=\"new\" href=\"/pt-BR/docs/Learn/Tools_and_testing/GitHub\" rel=\"nofollow\">Git and GitHub overview</a></li>\\n          <li><a class=\"external\" href=\"https://guides.github.com/activities/hello-world/\" rel=\"noopener\">Hello World</a></li>\\n          <li><a class=\"external\" href=\"https://guides.github.com/introduction/git-handbook/\" rel=\"noopener\">Git Handbook</a></li>\\n          <li><a class=\"external\" href=\"https://guides.github.com/activities/forking/\" rel=\"noopener\">Forking Projects</a></li>\\n          <li><a class=\"external\" href=\"https://help.github.com/en/github/collaborating-with-issues-and-pull-requests/about-pull-requests\" rel=\"noopener\">About pull requests</a></li>\\n          <li><a class=\"external\" href=\"https://guides.github.com/features/issues/\" rel=\"noopener\">Mastering Issues</a></li>\\n        </ol>\\n    </details>\\n  </li>\\n  <li class=\"toggle\">\\n    <details>\\n        <summary>Testes entre navegadores</summary>\\n        <ol>\\n          <li><a href=\"/pt-BR/docs/Learn/Tools_and_testing/Cross_browser_testing\">Visão geral de testes entre navegadores</a></li>\\n          <li><a href=\"/pt-BR/docs/Learn/Tools_and_testing/Cross_browser_testing/Introduction\">Introdução a testes entre navegadores</a></li>\\n          <li><a class=\"new\" href=\"/pt-BR/docs/Learn/Tools_and_testing/Cross_browser_testing/Testing_strategies\" rel=\"nofollow\">Estratégias para execução de testes</a></li>\\n          <li><a class=\"new\" href=\"/pt-BR/docs/Learn/Tools_and_testing/Cross_browser_testing/HTML_and_CSS\" rel=\"nofollow\">Lidando com problemas comuns de HTML e CSS</a></li>\\n          <li><a class=\"new\" href=\"/pt-BR/docs/Learn/Tools_and_testing/Cross_browser_testing/JavaScript\" rel=\"nofollow\">Lidando com problemas comuns de JavaScript</a></li>\\n          <li><a class=\"new\" href=\"/pt-BR/docs/Learn/Tools_and_testing/Cross_browser_testing/Accessibility\" rel=\"nofollow\">Lidando com problemas comuns de acessibilidade</a></li>\\n          <li><a class=\"new\" href=\"/pt-BR/docs/Learn/Tools_and_testing/Cross_browser_testing/Feature_detection\" rel=\"nofollow\">Implementando detecção de funcionalidade</a></li>\\n          <li><a class=\"new\" href=\"/pt-BR/docs/Learn/Tools_and_testing/Cross_browser_testing/Automated_testing\" rel=\"nofollow\">Introdução a testes automatizados</a></li>\\n          <li><a class=\"new\" href=\"/pt-BR/docs/Learn/Tools_and_testing/Cross_browser_testing/Your_own_automation_environment\" rel=\"nofollow\">Configurando seu próprio ambiente de testes automatizados</a></li>\\n        </ol>\\n    </details>\\n  </li>\\n  <li data-default-state=\"open\"><a href=\"/pt-BR/docs/Learn/Server-side\"><strong>Programação de servidores de Aplicação</strong></a></li>\\n  <li class=\"toggle\">\\n    <details>\\n        <summary>Primeiros passos</summary>\\n        <ol>\\n          <li><a href=\"/pt-BR/docs/Learn/Server-side/First_steps\">Visão geral para os primeiros passos</a></li>\\n          <li><a class=\"new\" href=\"/pt-BR/docs/Learn/Server-side/First_steps/Introduction\" rel=\"nofollow\">Introdução ao Servidor de Aplicação</a></li>\\n          <li><a href=\"/pt-BR/docs/Learn/Server-side/First_steps/Client-Server_overview\">Visão geral da arquitetura Cliente-Servidor</a></li>\\n          <li><a class=\"new\" href=\"/pt-BR/docs/Learn/Server-side/First_steps/Web_frameworks\" rel=\"nofollow\">Frameworks Web para o Servidor de Aplicação</a></li>\\n          <li><a class=\"new\" href=\"/pt-BR/docs/Learn/Server-side/First_steps/Website_security\" rel=\"nofollow\">Segurança de sites</a></li>\\n        </ol>\\n    </details>\\n  </li>\\n  <li class=\"toggle\">\\n    <details open>\\n        <summary>Framework Web Django (Python)</summary>\\n        <ol>\\n          <li><a href=\"/pt-BR/docs/Learn/Server-side/Django\">Visão geral do Framework Web Django (Python)</a></li>\\n          <li><a class=\"new\" href=\"/pt-BR/docs/Learn/Server-side/Django/Introduction\" rel=\"nofollow\">Introdução</a></li>\\n          <li><a class=\"new\" href=\"/pt-BR/docs/Learn/Server-side/Django/development_environment\" rel=\"nofollow\">Configurando um ambiente de desenvolvimento para aplicações Django</a></li>\\n          <li><a class=\"new\" href=\"/pt-BR/docs/Learn/Server-side/Django/Tutorial_local_library_website\" rel=\"nofollow\">Tutorial: Um site para a Biblioteca Local</a></li>\\n          <li><a href=\"/pt-BR/docs/Learn/Server-side/Django/skeleton_website\">Tutorial Parte 2: Criando o esqueleto de um site</a></li>\\n          <li><a href=\"/pt-BR/docs/Learn/Server-side/Django/Models\">Tutorial Parte 3: Usando \"models\"</a></li>\\n          <li><a href=\"/pt-BR/docs/Learn/Server-side/Django/Admin_site\">Tutorial Parte 4: Um site administrativo em Django</a></li>\\n          <li><a href=\"/pt-BR/docs/Learn/Server-side/Django/Home_page\">Tutorial Parte 5: Criando nossa página inicial</a></li>\\n          <li><a href=\"/pt-BR/docs/Learn/Server-side/Django/Generic_views\">Tutorial Parte 6: Páginas de lista genérica e detalhamento</a></li>\\n          <li><a class=\"new\" href=\"/pt-BR/docs/Learn/Server-side/Django/Sessions\" rel=\"nofollow\">Tutorial Parte 7: Framework de sessões</a></li>\\n          <li><a href=\"/pt-BR/docs/Learn/Server-side/Django/Authentication\">Tutorial Parte 8: Autenticação e permissões de usuário</a></li>\\n          <li><a href=\"/pt-BR/docs/Learn/Server-side/Django/Forms\">Tutorial Part 9: Trabalhando com formulários</a></li>\\n          <li><a href=\"/pt-BR/docs/Learn/Server-side/Django/Testing\">Tutorial Parte 10: Testando aplicações web em Django</a></li>\\n          <li><a class=\"new\" href=\"/pt-BR/docs/Learn/Server-side/Django/Deployment\" rel=\"nofollow\">Tutorial Parte 11: Implantando Django em produção</a></li>\\n          <li><a href=\"/pt-BR/docs/Learn/Server-side/Django/web_application_security\">Segurança de Aplicações Web</a></li>\\n          <li><a class=\"new\" href=\"/pt-BR/docs/Learn/Server-side/Django/django_assessment_blog\" rel=\"nofollow\">Avaliação: Faça você mesmo: Um blog pessoal</a></li>\\n        </ol>\\n    </details>\\n  </li>\\n  <li class=\"toggle\">\\n    <details>\\n        <summary>Framework Web Express (Node.js/JavaScript)</summary>\\n        <ol>\\n          <li><a href=\"/pt-BR/docs/Learn/Server-side/Express_Nodejs\">Visão geral do Framework Web Express (Node.js/JavaScript)</a></li>\\n          <li><a class=\"new\" href=\"/pt-BR/docs/Learn/Server-side/Express_Nodejs/Introduction\" rel=\"nofollow\">Introdução a Express/Node</a></li>\\n          <li><a class=\"new\" href=\"/pt-BR/docs/Learn/Server-side/Express_Nodejs/development_environment\" rel=\"nofollow\">Configurando um ambiente de desenvolvimento Node (Express)</a></li>\\n          <li><a href=\"/pt-BR/docs/Learn/Server-side/Express_Nodejs/Tutorial_local_library_website\">Tutorial Rápido: Um site para a Biblioteca Local</a></li>\\n          <li><a href=\"/pt-BR/docs/Learn/Server-side/Express_Nodejs/skeleton_website\">Tutorial Rápido Parte 2: Criando o esqueleto de um site</a></li>\\n          <li><a href=\"/pt-BR/docs/Learn/Server-side/Express_Nodejs/mongoose\">Tutorial Rápido Parte 3: Usando um banco de dados (com Mongoose)</a></li>\\n          <li><a class=\"new\" href=\"/pt-BR/docs/Learn/Server-side/Express_Nodejs/routes\" rel=\"nofollow\">Tutorial Rápido Parte 4: Rotas e \"controllers\"</a></li>\\n          <li><a href=\"/pt-BR/docs/Learn/Server-side/Express_Nodejs/Displaying_data\">Tutorial Rápido Parte 5: Mostrando os dados da Biblioteca</a></li>\\n          <li><a class=\"new\" href=\"/pt-BR/docs/Learn/Server-side/Express_Nodejs/forms\" rel=\"nofollow\">Tutorial Rápido Parte 6: Trabalhando com formulários</a></li>\\n          <li><a href=\"/pt-BR/docs/Learn/Server-side/Express_Nodejs/deployment\">Tutorial Rápido Parte 7: Implantando em produção</a></li>\\n        </ol>\\n    </details>\\n  </li>\\n  <li><a href=\"#\"><strong>Mais recursos</strong></a></li>\\n  <li class=\"toggle\">\\n    <details>\\n        <summary>Questões gerais</summary>\\n        <ol>\\n          <li><a class=\"new\" href=\"/pt-BR/docs/Learn/HTML/Howto\" rel=\"nofollow\">Questões sobre HTML</a></li>\\n          <li><a href=\"/pt-BR/docs/Learn/CSS/Howto\">Questões sobre CSS</a></li>\\n          <li><a class=\"new\" href=\"/pt-BR/docs/Learn/JavaScript/Howto\" rel=\"nofollow\">Questões sobre JavaScript</a></li>\\n          <li><a href=\"/pt-BR/docs/Learn/Common_questions#How_the_Web_works\">Como a Internet funciona</a></li>\\n          <li><a href=\"/pt-BR/docs/Learn/Common_questions#Tools_and_setup\">Ferramentas e configuração</a></li>\\n          <li><a href=\"/pt-BR/docs/Learn/Common_questions#Design_and_accessibility\">Projeto e acessibilidade</a></li>\\n        </ol>\\n    </details>\\n  </li>\\n  <li data-default-state=\"closed\"><a class=\"new\" href=\"/pt-BR/docs/Learn/How_to_contribute\" rel=\"nofollow\">Como contribuir</a></li>\\n</ol>\\n\\n</div></div></div></div></main><section class=\"newsletter-container\"><div id=\"newsletter-form-container\" class=\"newsletter\"><form class=\"newsletter-form nodisable\" name=\"newsletter-form\"><section class=\"newsletter-head\"><h2 class=\"newsletter-teaser\">Aprenda o melhor em desenvolvimento web</h2><p class=\"newsletter-description\">Receba as últimas e mais importantes notícias da MDN diretamente na sua caixa de entrada.</p><p class=\"newsletter-lang\" aria-hidden=\"false\">O boletim informativo é oferecido somente em inglês no momento.</p></section><fieldset class=\"newsletter-fields\"><input type=\"hidden\" name=\"fmt\" value=\"H\"/><input type=\"hidden\" name=\"newsletters\" value=\"app-dev\"/><div class=\"form-group newsletter-group-email\"><label for=\"newsletter-email-input\" class=\"form-label offscreen\">E-mail</label><input type=\"email\" id=\"newsletter-email-input\" name=\"email\" class=\"form-input newsletter-input-email\" placeholder=\"voce@example.com\" required=\"\"/></div><div id=\"newsletter-privacy\" class=\"form-group form-group-agree newsletter-group-privacy\" aria-hidden=\"false\"><input type=\"checkbox\" id=\"newsletter-privacy-input\" name=\"privacy\" required=\"\"/><label for=\"newsletter-privacy-input\">Concordo com a Mozilla lidar com minhas informações, conforme explicado nesta <a href=\"https://www.mozilla.org/privacy/\">Política de privacidade</a>.</label></div><div class=\"newsletter-group-submit\"><button id=\"newsletter-submit\" type=\"submit\" class=\"button neutral newsletter-submit\">Inscreva-se agora</button></div></fieldset></form><button type=\"button\" class=\"only-icon newsletter-hide\" aria-controls=\"newsletter-form-container\"><span>Ocultar inscrição no boletim informativo</span><svg xmlns=\"http://www.w3.org/2000/svg\" role=\"presentation\" viewBox=\"0 0 24 24\"><path d=\"M18.3 5.71a.996.996 0 00-1.41 0L12 10.59 7.11 5.7A.996.996 0 105.7 7.11L10.59 12 5.7 16.89a.996.996 0 101.41 1.41L12 13.41l4.89 4.89a.996.996 0 101.41-1.41L13.41 12l4.89-4.89c.38-.38.38-1.02 0-1.4z\" fill-rule=\"nonzero\"></path></svg></button></div></section><footer id=\"nav-footer\" class=\"nav-footer\" data-testid=\"footer\"><div class=\"content-container\"><a href=\"/pt-BR/\" class=\"nav-footer-logo\">Documentação web da MDN</a><ul class=\"link-list-mdn\"><li><a href=\"/pt-BR/docs/Web\">Tecnologias web</a></li><li><a href=\"/pt-BR/docs/Learn\">Aprenda desenvolvimento web</a></li><li><a href=\"/pt-BR/docs/MDN/About\">Sobre a MDN</a></li><li><a href=\"/pt-BR/docs/MDN/Feedback\">Comentários</a></li></ul><ul class=\"link-list-moz\"><li><a href=\"https://www.mozilla.org/about/\" target=\"_blank\" rel=\"noopener noreferrer\">Sobre</a></li><li><a href=\"https://shop.spreadshirt.com/mdn-store/\" target=\"_blank\" rel=\"noopener noreferrer\">MDN Web Docs Store</a></li><li><a href=\"https://www.mozilla.org/contact/\" target=\"_blank\" rel=\"noopener noreferrer\">Fale conosco</a></li><li><a href=\"https://www.mozilla.org/firefox/?utm_source=developer.mozilla.org&amp;utm_campaign=footer&amp;utm_medium=referral\" target=\"_blank\" rel=\"noopener noreferrer\">Firefox</a></li></ul><div class=\"social social-mdn\"><h4>MDN</h4><ul><li><a href=\"https://twitter.com/mozdevnet\" target=\"_blank\" rel=\"noopener noreferrer\"><svg class=\"icon icon-twitter\" xmlns=\"http://www.w3.org/2000/svg\" viewBox=\"0 0 26 28\" aria-label=\"Twitter\" role=\"img\" focusable=\"false\"><path d=\"M25.312 6.375a10.85 10.85 0 01-2.531 2.609c.016.219.016.438.016.656 0 6.672-5.078 14.359-14.359 14.359-2.859 0-5.516-.828-7.75-2.266.406.047.797.063 1.219.063 2.359 0 4.531-.797 6.266-2.156a5.056 5.056 0 01-4.719-3.5c.313.047.625.078.953.078.453 0 .906-.063 1.328-.172a5.048 5.048 0 01-4.047-4.953v-.063a5.093 5.093 0 002.281.641 5.044 5.044 0 01-2.25-4.203c0-.938.25-1.797.688-2.547a14.344 14.344 0 0010.406 5.281 5.708 5.708 0 01-.125-1.156 5.045 5.045 0 015.047-5.047 5.03 5.03 0 013.687 1.594 9.943 9.943 0 003.203-1.219 5.032 5.032 0 01-2.219 2.781c1.016-.109 2-.391 2.906-.781z\"></path></svg></a></li><li><a href=\"https://github.com/mdn/\" target=\"_blank\" rel=\"noopener noreferrer\"><svg class=\"icon icon-github\" xmlns=\"http://www.w3.org/2000/svg\" viewBox=\"0 0 24 28\" aria-label=\"GitHub\" role=\"img\" focusable=\"false\"><path d=\"M12 2c6.625 0 12 5.375 12 12 0 5.297-3.437 9.797-8.203 11.391-.609.109-.828-.266-.828-.578 0-.391.016-1.687.016-3.297 0-1.125-.375-1.844-.812-2.219 2.672-.297 5.484-1.313 5.484-5.922 0-1.313-.469-2.375-1.234-3.219.125-.313.531-1.531-.125-3.187-1-.313-3.297 1.234-3.297 1.234a11.28 11.28 0 00-6 0S6.704 6.656 5.704 6.969c-.656 1.656-.25 2.875-.125 3.187-.766.844-1.234 1.906-1.234 3.219 0 4.594 2.797 5.625 5.469 5.922-.344.313-.656.844-.766 1.609-.688.313-2.438.844-3.484-1-.656-1.141-1.844-1.234-1.844-1.234-1.172-.016-.078.734-.078.734.781.359 1.328 1.75 1.328 1.75.703 2.141 4.047 1.422 4.047 1.422 0 1 .016 1.937.016 2.234 0 .313-.219.688-.828.578C3.439 23.796.002 19.296.002 13.999c0-6.625 5.375-12 12-12zM4.547 19.234c.031-.063-.016-.141-.109-.187-.094-.031-.172-.016-.203.031-.031.063.016.141.109.187.078.047.172.031.203-.031zm.484.532c.063-.047.047-.156-.031-.25-.078-.078-.187-.109-.25-.047-.063.047-.047.156.031.25.078.078.187.109.25.047zm.469.703c.078-.063.078-.187 0-.297-.063-.109-.187-.156-.266-.094-.078.047-.078.172 0 .281s.203.156.266.109zm.656.656c.063-.063.031-.203-.063-.297-.109-.109-.25-.125-.313-.047-.078.063-.047.203.063.297.109.109.25.125.313.047zm.891.391c.031-.094-.063-.203-.203-.25-.125-.031-.266.016-.297.109s.063.203.203.234c.125.047.266 0 .297-.094zm.984.078c0-.109-.125-.187-.266-.172-.141 0-.25.078-.25.172 0 .109.109.187.266.172.141 0 .25-.078.25-.172zm.906-.156c-.016-.094-.141-.156-.281-.141-.141.031-.234.125-.219.234.016.094.141.156.281.125s.234-.125.219-.219z\"></path></svg></a></li></ul></div><div class=\"social social-moz\"><h4>Mozilla</h4><ul><li><a href=\"https://twitter.com/mozilla\" target=\"_blank\" rel=\"noopener noreferrer\"><svg class=\"icon icon-twitter\" xmlns=\"http://www.w3.org/2000/svg\" viewBox=\"0 0 26 28\" aria-label=\"Twitter\" role=\"img\" focusable=\"false\"><path d=\"M25.312 6.375a10.85 10.85 0 01-2.531 2.609c.016.219.016.438.016.656 0 6.672-5.078 14.359-14.359 14.359-2.859 0-5.516-.828-7.75-2.266.406.047.797.063 1.219.063 2.359 0 4.531-.797 6.266-2.156a5.056 5.056 0 01-4.719-3.5c.313.047.625.078.953.078.453 0 .906-.063 1.328-.172a5.048 5.048 0 01-4.047-4.953v-.063a5.093 5.093 0 002.281.641 5.044 5.044 0 01-2.25-4.203c0-.938.25-1.797.688-2.547a14.344 14.344 0 0010.406 5.281 5.708 5.708 0 01-.125-1.156 5.045 5.045 0 015.047-5.047 5.03 5.03 0 013.687 1.594 9.943 9.943 0 003.203-1.219 5.032 5.032 0 01-2.219 2.781c1.016-.109 2-.391 2.906-.781z\"></path></svg></a></li><li><a href=\"https://www.instagram.com/mozillagram/\" target=\"_blank\" rel=\"noopener noreferrer\"><svg class=\"icon icon-instagram\" xmlns=\"http://www.w3.org/2000/svg\" viewBox=\"0 0 24 28\" aria-label=\"Instagram\" role=\"img\" focusable=\"false\"><path d=\"M16 14c0-2.203-1.797-4-4-4s-4 1.797-4 4 1.797 4 4 4 4-1.797 4-4zm2.156 0c0 3.406-2.75 6.156-6.156 6.156S5.844 17.406 5.844 14 8.594 7.844 12 7.844s6.156 2.75 6.156 6.156zm1.688-6.406c0 .797-.641 1.437-1.437 1.437S16.97 8.39 16.97 7.594s.641-1.437 1.437-1.437 1.437.641 1.437 1.437zM12 4.156c-1.75 0-5.5-.141-7.078.484-.547.219-.953.484-1.375.906s-.688.828-.906 1.375c-.625 1.578-.484 5.328-.484 7.078s-.141 5.5.484 7.078c.219.547.484.953.906 1.375s.828.688 1.375.906c1.578.625 5.328.484 7.078.484s5.5.141 7.078-.484c.547-.219.953-.484 1.375-.906s.688-.828.906-1.375c.625-1.578.484-5.328.484-7.078s.141-5.5-.484-7.078c-.219-.547-.484-.953-.906-1.375s-.828-.688-1.375-.906C17.5 4.015 13.75 4.156 12 4.156zM24 14c0 1.656.016 3.297-.078 4.953-.094 1.922-.531 3.625-1.937 5.031s-3.109 1.844-5.031 1.937c-1.656.094-3.297.078-4.953.078s-3.297.016-4.953-.078c-1.922-.094-3.625-.531-5.031-1.937S.173 20.875.08 18.953C-.014 17.297.002 15.656.002 14s-.016-3.297.078-4.953c.094-1.922.531-3.625 1.937-5.031s3.109-1.844 5.031-1.937c1.656-.094 3.297-.078 4.953-.078s3.297-.016 4.953.078c1.922.094 3.625.531 5.031 1.937s1.844 3.109 1.937 5.031C24.016 10.703 24 12.344 24 14z\"></path></svg></a></li></ul></div><p id=\"license\" class=\"footer-license\">© 2005-<!-- -->2020<!-- --> Mozilla and individual contributors. Content is available under<!-- --> <a href=\"/docs/MDN/About#Copyrights_and_licenses\">these licenses</a>.</p><ul class=\"footer-legal\"><li><a href=\"https://www.mozilla.org/about/legal/terms/mozilla\" target=\"_blank\" rel=\"noopener noreferrer\">Termos</a></li><li><a href=\"https://www.mozilla.org/privacy/websites/\" target=\"_blank\" rel=\"noopener noreferrer\">Privacidade</a></li><li><a href=\"https://www.mozilla.org/privacy/websites/#cookies\" target=\"_blank\" rel=\"noopener noreferrer\">Cookies</a></li></ul></div></footer></div>\\n<script>window._react_data = JSON.parse(\"{\\\\\"locale\\\\\":\\\\\"pt-BR\\\\\",\\\\\"stringCatalog\\\\\":{\\\\\"$5 <perMontSub />\\\\\":\\\\\"$5 <perMontSub />\\\\\",\\\\\"${subscription.brand} ending in ${subscription.last4}\\\\\":\\\\\"${subscription.brand} com final ${subscription.last4}\\\\\",\\\\\"%(sentDate)s by %(user)s\\\\\":\\\\\"%(sentDate)s por %(user)s\\\\\",\\\\\"...more docs\\\\\":\\\\\"...mais documentos\\\\\",\\\\\"/mo\\\\\":\\\\\"/m\\\\u00EAs\\\\\",\\\\\"2018 Mozilla Annual Report\\\\\":\\\\\"Relat\\\\u00F3rio Anual Mozilla 2018\\\\\",\\\\\"A newer version of this article has been published since this draft was saved. You can restore the draft to view the content, but you will not be able to submit it for publishing.\\\\\":\\\\\"Uma nova vers\\\\u00E3o desse artigo foi publicada desde que esse rascunho foi salvo. Voc\\\\u00EA pode restaurar o rascunho para ver o conte\\\\u00FAdo, mas n\\\\u00E3o poder\\\\u00E1 submet\\\\u00EA-lo para publica\\\\u00E7\\\\u00E3o.\\\\\",\\\\\"APIs / DOM\\\\\":\\\\\"APIs / DOM\\\\\",\\\\\"About\\\\\":\\\\\"Sobre\\\\\",\\\\\"About MDN\\\\\":\\\\\"Sobre a MDN\\\\\",\\\\\"Accessibility\\\\\":\\\\\"Acessibilidade\\\\\",\\\\\"Account Settings\\\\\":\\\\\"Configura\\\\u00E7\\\\u00F5es da conta\\\\\",\\\\\"Add a translation\\\\\":\\\\\"Adicionar uma tradu\\\\u00E7\\\\u00E3o\\\\\",\\\\\"Adding more content, and updating current content\\\\\":\\\\\"Adi\\\\u00E7\\\\u00E3o de mais conte\\\\u00FAdo e atualiza\\\\u00E7\\\\u00E3o do conte\\\\u00FAdo atual\\\\\",\\\\\"Adding offline access to MDN\\\\\":\\\\\"Adi\\\\u00E7\\\\u00E3o de acesso offline \\\\u00E0 MDN\\\\\",\\\\\"All payment information goes through payment processor <stripeLink />, and a record of your payment will be stored by Mozilla. Mozilla does not receive or store your credit card number.\\\\\":\\\\\"Todas as informa\\\\u00E7\\\\u00F5es de pagamento passam pelo processador de pagamentos <stripeLink /> e um registro do seu pagamento \\\\u00E9 armazenado pela Mozilla. A Mozilla n\\\\u00E3o recebe nem armazena seu n\\\\u00FAmero de cart\\\\u00E3o de cr\\\\u00E9dito.\\\\\",\\\\\"An error happened trying to load the Stripe integration\\\\\":\\\\\"Ocorreu um erro ao tentar carregar a integra\\\\u00E7\\\\u00E3o com o Stripe\\\\\",\\\\\"An error occurred trying to set up the subscription with Stripe\\'s server. We\\'ve recorded the error and will investigate it.\\\\\":\\\\\"Ocorreu um erro ao tentar configurar a assinatura no servidor do Stripe. Registramos o erro e iremos investigar.\\\\\",\\\\\"An unhandled error occurred in the application. We apologize for the inconvenience!\\\\\":\\\\\"Ocorreu um erro n\\\\u00E3o tratado no aplicativo. Pedimos desculpas pelo inconveniente!\\\\\",\\\\\"Application rendering error\\\\\":\\\\\"Erro de renderiza\\\\u00E7\\\\u00E3o do aplicativo\\\\\",\\\\\"Are you sure you want to cancel?\\\\\":\\\\\"Tem certeza de que deseja cancelar?\\\\\",\\\\\"Article Title Lookup / Link Text\\\\\":\\\\\"Busca do t\\\\u00EDtulo do artigo / Texto do link\\\\\",\\\\\"Aspect ratio\\\\\":\\\\\"Formato da tela\\\\\",\\\\\"Attachments\\\\\":\\\\\"Anexos\\\\\",\\\\\"Autosave enabled.\\\\\":\\\\\"Salvamento autom\\\\u00E1tico ativado.\\\\\",\\\\\"Because we aren\\\\u2019t looking for a lump sum. Our goal is to create a broad base of financial support from the people who benefit from the work of MDN.\\\\\":\\\\\"Porque n\\\\u00E3o estamos \\\\u00E0 procura de um montante fixo. Nosso objetivo \\\\u00E9 criar uma ampla base de apoio financeiro de pessoas que se beneficiam do trabalho da MDN.\\\\\",\\\\\"Become a monthly supporter\\\\\":\\\\\"Torne-se um apoiador mensal\\\\\",\\\\\"Briefly outline the issue you are highlighting.\\\\\":\\\\\"Descreva brevemente o problema que voc\\\\u00EA est\\\\u00E1 destacando.\\\\\",\\\\\"Browser Extensions\\\\\":\\\\\"Extens\\\\u00F5es do navegador\\\\\",\\\\\"Browser documentation and release notes are good supporting items to accompany your message. A demo hosted on services like Codepen or JSBin are perfect for providing real examples of your findings.\\\\\":\\\\\"A documenta\\\\u00E7\\\\u00E3o do navegador e as notas da vers\\\\u00E3o s\\\\u00E3o bons itens de suporte para acompanhar sua mensagem. Uma demonstra\\\\u00E7\\\\u00E3o hospedada em servi\\\\u00E7os como Codepen ou JSBin \\\\u00E9 perfeita para fornecer exemplos reais de suas descobertas.\\\\\",\\\\\"By clicking this button, I authorize Mozilla to charge this payment method each month, according to the <paymentTermsLink />, until I cancel my subscription.\\\\\":\\\\\"Ao clicar neste bot\\\\u00E3o, autorizo a Mozilla cobrar com este m\\\\u00E9todo de pagamento todo m\\\\u00EAs, conforme os <paymentTermsLink />, at\\\\u00E9 que eu cancele minha inscri\\\\u00E7\\\\u00E3o.\\\\\",\\\\\"CSS\\\\\":\\\\\"CSS\\\\\",\\\\\"Can I keep track of my report?\\\\\":\\\\\"Posso acompanhar o meu relat\\\\u00F3rio?\\\\\",\\\\\"Can you provide a brief explanation?\\\\\":\\\\\"Pode fornecer uma breve explica\\\\u00E7\\\\u00E3o?\\\\\",\\\\\"Cancel or manage your subscription\\\\\":\\\\\"Cancelar ou gerenciar assinatura\\\\\",\\\\\"Cancel subscription\\\\\":\\\\\"Cancelar assinatura\\\\\",\\\\\"Changes saved.\\\\\":\\\\\"Altera\\\\u00E7\\\\u00F5es salvas.\\\\\",\\\\\"Check back for invitations to attend special events and conferences.\\\\\":\\\\\"Volte sempre para ver se h\\\\u00E1 convites para participar de eventos ou confer\\\\u00EAncias especiais.\\\\\",\\\\\"Close\\\\\":\\\\\"Fechar\\\\\",\\\\\"Close Account\\\\\":\\\\\"Fechar conta\\\\\",\\\\\"Close account\\\\\":\\\\\"Fechar conta\\\\\",\\\\\"Close banner\\\\\":\\\\\"Fechar banner\\\\\",\\\\\"Close notification\\\\\":\\\\\"Fechar a notifica\\\\u00E7\\\\u00E3o\\\\\",\\\\\"Close search\\\\\":\\\\\"Fechar pesquisa\\\\\",\\\\\"Close submenu\\\\\":\\\\\"Fechar o submenu\\\\\",\\\\\"Compare this date to the latest revision date to ensure you\\'re not overwriting later changes.\\\\\":\\\\\"Compare essa data com a \\\\u00FAltima data de revis\\\\u00E3o para garantir que voc\\\\u00EA n\\\\u00E3o est\\\\u00E1 sobrescrevendo mudan\\\\u00E7as mais recentes.\\\\\",\\\\\"Connection error:\\\\\":\\\\\"Erro de conex\\\\u00E3o:\\\\\",\\\\\"Contact Us\\\\\":\\\\\"Fale conosco\\\\\",\\\\\"Content rendering error\\\\\":\\\\\"Erro ao reproduzir conte\\\\u00FAdo\\\\\",\\\\\"Continue\\\\\":\\\\\"Continuar\\\\\",\\\\\"Contributions\\\\\":\\\\\"Contribui\\\\u00E7\\\\u00F5es\\\\\",\\\\\"Cookies\\\\\":\\\\\"Cookies\\\\\",\\\\\"Create a Redirect\\\\\":\\\\\"Criar um redirecionamento\\\\\",\\\\\"Current language is %s. Choose your preferred language.\\\\\":\\\\\"O idioma atual \\\\u00E9 %s. Escolha seu idioma preferido.\\\\\",\\\\\"Currently, Mozilla pays for site operations and overhead (including staff writers and web developers). MDN user payments will fund accelerating current projects or launching new ones, including:\\\\\":\\\\\"Atualmente, a Mozilla paga pelas opera\\\\u00E7\\\\u00F5es do site e despesas gerais (incluindo a equipe de escritores e desenvolvedores web). A contribui\\\\u00E7\\\\u00E3o de usu\\\\u00E1rios \\\\u00E0 MDN financiar\\\\u00E1 a acelera\\\\u00E7\\\\u00E3o de projetos atuais e o lan\\\\u00E7amento de novos, incluindo:\\\\\",\\\\\"Default\\\\\":\\\\\"Padr\\\\u00E3o\\\\\",\\\\\"Delete your account and account data.\\\\\":\\\\\"Exclui sua conta e dados da conta.\\\\\",\\\\\"Details\\\\\":\\\\\"Detalhes\\\\\",\\\\\"Developer Guides\\\\\":\\\\\"Guias do desenvolvedor\\\\\",\\\\\"Discard draft.\\\\\":\\\\\"Descartar rascunho.\\\\\",\\\\\"Discounts on swag\\\\\":\\\\\"Descontos em artigos\\\\\",\\\\\"Dismiss\\\\\":\\\\\"Descartar\\\\\",\\\\\"Do you have any supporting material?\\\\\":\\\\\"Voc\\\\u00EA tem algum material de apoio?\\\\\",\\\\\"Document\\\\\":\\\\\"Documento\\\\\",\\\\\"Draft autosaved:\\\\\":\\\\\"Rascunho salvo automaticamente:\\\\\",\\\\\"Draft discarded.\\\\\":\\\\\"Rascunho descartado.\\\\\",\\\\\"Draft discarded:\\\\\":\\\\\"Rascunho descartado:\\\\\",\\\\\"Draft published:\\\\\":\\\\\"Rascunho publicado:\\\\\",\\\\\"Draft restored.\\\\\":\\\\\"Rascunho restaurado.\\\\\",\\\\\"E-mail\\\\\":\\\\\"E-mail\\\\\",\\\\\"Edit Page\\\\\":\\\\\"Editar p\\\\u00E1gina\\\\\",\\\\\"Edit in wiki\\\\\":\\\\\"Editar no wiki\\\\\",\\\\\"Edit profile\\\\\":\\\\\"Editar perfil\\\\\",\\\\\"Email\\\\\":\\\\\"E-mail\\\\\",\\\\\"Embed YouTube Video\\\\\":\\\\\"Integrar v\\\\u00EDdeo do YouTube\\\\\",\\\\\"English\\\\\":\\\\\"Ingl\\\\u00EAs\\\\\",\\\\\"Enjoy exclusive member perks\\\\\":\\\\\"Aproveite benef\\\\u00EDcios exclusivos para membros\\\\\",\\\\\"Enter optional feedback\\\\u2026\\\\\":\\\\\"Se quiser, digite um coment\\\\u00E1rio\\\\u2026\\\\\",\\\\\"Error loading content, please refresh the page\\\\\":\\\\\"Erro ao carregar o conte\\\\u00FAdo, atualize a p\\\\u00E1gina\\\\\",\\\\\"Error submitting as %(type)s\\\\\":\\\\\"Erro ao enviar como %(type)s\\\\\",\\\\\"Expires ${subscription.expires_at}\\\\\":\\\\\"Expira ${subscription.expires_at}\\\\\",\\\\\"FAQ\\\\\":\\\\\"Perguntas frequentes\\\\\",\\\\\"FAQs\\\\\":\\\\\"Perguntas frequentes\\\\\",\\\\\"Feedback\\\\\":\\\\\"Coment\\\\u00E1rios\\\\\",\\\\\"Finish\\\\\":\\\\\"Concluir\\\\\",\\\\\"Game development\\\\\":\\\\\"Desenvolvimento de jogos\\\\\",\\\\\"Get 20% off at the <merchStoreLink /> with the coupon code MDN20OFF.\\\\\":\\\\\"Ganhe 20% de desconto no <merchStoreLink /> com o c\\\\u00F3digo de cupon MDN20OFF.\\\\\",\\\\\"Get Firefox help\\\\\":\\\\\"Obtenha ajuda do Firefox\\\\\",\\\\\"Get discounts on sweet loot from the <merchStoreLink />.\\\\\":\\\\\"Obtenha descontos em produtos em <merchStoreLink />.\\\\\",\\\\\"Get exclusive content, offers and invitations to your inbox\\\\\":\\\\\"Receba e-mails com conte\\\\u00FAdo exclusivo, ofertas e convites\\\\\",\\\\\"Get invited to attend special events and conferences.\\\\\":\\\\\"Seja convidado a participar de eventos e confer\\\\u00EAncias especiais.\\\\\",\\\\\"Get the latest and greatest from MDN delivered straight to your inbox.\\\\\":\\\\\"Receba as \\\\u00FAltimas e mais importantes not\\\\u00EDcias da MDN diretamente na sua caixa de entrada.\\\\\",\\\\\"Get web development help\\\\\":\\\\\"Obtenha ajuda para desenvolvimento web\\\\\",\\\\\"Graphics\\\\\":\\\\\"Gr\\\\u00E1ficos\\\\\",\\\\\"HTML\\\\\":\\\\\"HTML\\\\\",\\\\\"HTTP\\\\\":\\\\\"HTTP\\\\\",\\\\\"Hang on! Updating filters\\\\u2026\\\\\":\\\\\"Espere! Atualizando filtros\\\\u2026\\\\\",\\\\\"Help us understand the top 10 needs of web developers.\\\\\":\\\\\"Ajude-nos a entender as 10 principais necessidades dos desenvolvedores web.\\\\\",\\\\\"Hide Newsletter Sign-up\\\\\":\\\\\"Ocultar inscri\\\\u00E7\\\\u00E3o no boletim informativo\\\\\",\\\\\"History\\\\\":\\\\\"Hist\\\\u00F3rico\\\\\",\\\\\"If you have questions, please read the <faqLink /> or you can also <supportEmail />\\\\\":\\\\\"Se tiver d\\\\u00FAvidas, consulte o <faqLink />. Tamb\\\\u00E9m pode <supportEmail />\\\\\",\\\\\"If you haven\\\\u2019t previously confirmed a subscription to a Mozilla - related newsletter you may have to do so. Please check your inbox or your spam filter for an email from us.\\\\\":\\\\\"Se voc\\\\u00EA n\\\\u00E3o confirmou anteriormente uma inscri\\\\u00E7\\\\u00E3o em um boletim informativo relacionado \\\\u00E0 Mozilla, pode precisar faz\\\\u00EA-lo. Verifique se recebeu um e-mail nosso em sua caixa de entrada ou filtro de spam.\\\\\",\\\\\"If you would like to cancel or manage your monthly subscription, go to <subscriptionLink />.\\\\\":\\\\\"Se quiser cancelar ou gerenciar sua assinatura mensal, v\\\\u00E1 em <subscriptionLink />.\\\\\",\\\\\"If you would like to manage your monthly subscription, such as changing your card account details, you will need to cancel your subscription and sign up again using the new card details. To cancel, go to the <subscriptionsLink />, or if you have any questions please contact <emailLink />.\\\\\":\\\\\"Se quiser gerenciar sua assinatura mensal, por exemplo alterar detalhes da conta do cart\\\\u00E3o, ser\\\\u00E1 necess\\\\u00E1rio cancelar a assinatura e assinar novamente usando as informa\\\\u00E7\\\\u00F5es atualizadas. Para cancelar, v\\\\u00E1 em <subscriptionsLink />. Se tiver alguma d\\\\u00FAvida, entre em contato com <emailLink />.\\\\\",\\\\\"Improving performance of the site\\\\\":\\\\\"Melhora no desempenho do site\\\\\",\\\\\"Insert Code Sample Template\\\\\":\\\\\"Inserir template de exemplo de c\\\\u00F3digo\\\\\",\\\\\"Insert Code Sample iFrame\\\\\":\\\\\"Inserir um exemplo de c\\\\u00F3digo iFrame\\\\\",\\\\\"Invitations to events\\\\\":\\\\\"Convites para eventos\\\\\",\\\\\"I\\\\u2019m okay with Mozilla handling my info as explained in this <privacyLink/>.\\\\\":\\\\\"Concordo com a Mozilla lidar com minhas informa\\\\u00E7\\\\u00F5es, conforme explicado nesta <privacyLink/>.\\\\\",\\\\\"JavaScript\\\\\":\\\\\"JavaScript\\\\\",\\\\\"Join the MDN community\\\\\":\\\\\"Junte-se \\\\u00E0 comunidade MDN\\\\\",\\\\\"Jump to section\\\\\":\\\\\"Ir para a se\\\\u00E7\\\\u00E3o\\\\\",\\\\\"Keep subscription\\\\\":\\\\\"Manter assinatura\\\\\",\\\\\"Language\\\\\":\\\\\"Idioma\\\\\",\\\\\"Last modified:\\\\\":\\\\\"\\\\u00DAltima modifica\\\\u00E7\\\\u00E3o:\\\\\",\\\\\"Launch\\\\\":\\\\\"Executar\\\\\",\\\\\"Learn Web Development\\\\\":\\\\\"Aprenda desenvolvimento web\\\\\",\\\\\"Learn more\\\\\":\\\\\"Saiba mais\\\\\",\\\\\"Learn the best of web development\\\\\":\\\\\"Aprenda o melhor em desenvolvimento web\\\\\",\\\\\"Learn web development\\\\\":\\\\\"Aprenda desenvolvimento web\\\\\",\\\\\"Link\\\\\":\\\\\"Link\\\\\",\\\\\"Loading\\\\u2026\\\\\":\\\\\"Carregando\\\\u2026\\\\\",\\\\\"Locate a YouTube Video\\\\\":\\\\\"Procurar um v\\\\u00EDdeo do YouTube\\\\\",\\\\\"MDN\\\\\":\\\\\"MDN\\\\\",\\\\\"MDN Merch store\\\\\":\\\\\"Loja de produtos da MDN\\\\\",\\\\\"MDN Redirect\\\\\":\\\\\"Redirecionamento MDN\\\\\",\\\\\"MDN Web DNA\\\\\":\\\\\"MDN Web DNA\\\\\",\\\\\"MDN Web Docs\\\\\":\\\\\"Documenta\\\\u00E7\\\\u00E3o web da MDN\\\\\",\\\\\"MDN is funded out of the Mozilla Corporation general budget (and has been since it was founded in 2005). Mozilla Corporation intends to continue to financially support MDN into the future, even as we broaden and diversify the sources of MDN funding. We just want to do more things with you and for you!\\\\\":\\\\\"A MDN \\\\u00E9 financiada a partir do or\\\\u00E7amento geral da Mozilla Corporation (tem sido assim desde sua funda\\\\u00E7\\\\u00E3o em 2005). A Mozilla Corporation pretende continuar apoiando financeiramente a MDN no futuro, mesmo estando n\\\\u00F3s ampliando e diversificando as fontes de financiamento da MDN. S\\\\u00F3 queremos fazer mais coisas com voc\\\\u00EAs e para voc\\\\u00EAs!\\\\\",\\\\\"MDN is seeking direct support from our users. We\\\\u2019d like to accelerate our growth and extend the maintenance of MDN\\\\u2019s content and platform, with assistance from those who use it.\\\\\":\\\\\"A MDN est\\\\u00E1 buscando apoio direto de nossos usu\\\\u00E1rios. Gostar\\\\u00EDamos de acelerar nosso crescimento e estender a manuten\\\\u00E7\\\\u00E3o do conte\\\\u00FAdo e da plataforma da MDN, com o aux\\\\u00EDlio de quem a usa.\\\\\",\\\\\"Manage email addresses\\\\\":\\\\\"Gerenciar endere\\\\u00E7os de e-mail\\\\\",\\\\\"Manage monthly subscription\\\\\":\\\\\"Gerenciar assinatura mensal\\\\\",\\\\\"MathML\\\\\":\\\\\"MathML\\\\\",\\\\\"Minimum %(min)s and maximum %(max)s characters.\\\\\":\\\\\"M\\\\u00EDnimo de %(min)s e m\\\\u00E1ximo de %(max)s caracteres.\\\\\",\\\\\"Modernizing the MDN platform\\\\\":\\\\\"Moderniza\\\\u00E7\\\\u00E3o da plataforma MDN\\\\\",\\\\\"Monthly payments\\\\\":\\\\\"Pagamentos mensais\\\\\",\\\\\"More tutorials and guides\\\\\":\\\\\"Mais tutoriais e guias\\\\\",\\\\\"Mozilla\\\\\":\\\\\"Mozilla\\\\\",\\\\\"Mozilla Corporation\\\\\":\\\\\"Mozilla Corporation\\\\\",\\\\\"Mozilla Foundation\\\\\":\\\\\"Funda\\\\u00E7\\\\u00E3o Mozilla\\\\\",\\\\\"Mozilla will collect and store your name and email, which will be used to send transactional emails (e.g. receipts and notifications). Mozilla will not have access to or store your credit card number.\\\\\":\\\\\"A Mozilla coleta e armazena seu nome e endere\\\\u00E7o de e-mail, usados para enviar e-mails sobre as transa\\\\u00E7\\\\u00F5es (por exemplo, recibos e notifica\\\\u00E7\\\\u00F5es). A Mozilla n\\\\u00E3o tem acesso nem armazena seu n\\\\u00FAmero de cart\\\\u00E3o de cr\\\\u00E9dito.\\\\\",\\\\\"Name\\\\\":\\\\\"Nome\\\\\",\\\\\"Never\\\\\":\\\\\"Nunca\\\\\",\\\\\"New tag...\\\\\":\\\\\"Nova etiqueta...\\\\\",\\\\\"Next\\\\\":\\\\\"Avan\\\\u00E7ar\\\\\",\\\\\"Next step (2 of 2)\\\\\":\\\\\"Pr\\\\u00F3xima etapa (2 de 2)\\\\\",\\\\\"No\\\\\":\\\\\"N\\\\u00E3o\\\\\",\\\\\"No Highlight\\\\\":\\\\\"Sem destaque\\\\\",\\\\\"No attachments available\\\\\":\\\\\"Sem anexos dispon\\\\u00EDveis\\\\\",\\\\\"No matching documents found.\\\\\":\\\\\"Nenhum documento correspondente foi encontrado.\\\\\",\\\\\"No selection\\\\\":\\\\\"Nada selecionado\\\\\",\\\\\"No. Payments to Mozilla Corporation in support of MDN are not tax deductible in the United States or other countries.\\\\\":\\\\\"N\\\\u00E3o. Os pagamentos \\\\u00E0 Mozilla Corporation em apoio \\\\u00E0 MDN n\\\\u00E3o s\\\\u00E3o dedut\\\\u00EDveis nos Estados Unidos ou em outros pa\\\\u00EDses.\\\\\",\\\\\"Nothing found if nothing searched.\\\\\":\\\\\"Nada \\\\u00E9 encontrado se nada for pesquisado.\\\\\",\\\\\"On this Page\\\\\":\\\\\"Nesta p\\\\u00E1gina\\\\\",\\\\\"Open\\\\\":\\\\\"Abrir\\\\\",\\\\\"Open implementation notes\\\\\":\\\\\"Abrir notas de implementa\\\\u00E7\\\\u00E3o\\\\\",\\\\\"Open in %(site)s\\\\\":\\\\\"Abrir em %(site)s\\\\\",\\\\\"Open in CodePen\\\\\":\\\\\"Abrir no CodePen\\\\\",\\\\\"Open in JSFiddle\\\\\":\\\\\"Abrir no JSFiddle\\\\\",\\\\\"Open search\\\\\":\\\\\"Abrir pesquisa\\\\\",\\\\\"Open the survey in a new tab\\\\\":\\\\\"Abrir a pesquisa de opini\\\\u00E3o em uma nova aba\\\\\",\\\\\"Optional\\\\\":\\\\\"Opcional\\\\\",\\\\\"Our goal is to provide accurate, real values for all our compatibility data tables. Notifying MDN of inaccurate data or supplying new data pushes us further towards our goal of providing 100% real values to the developer community.\\\\\":\\\\\"Nosso objetivo \\\\u00E9 fornecer valores reais e precisos em todas as nossas tabelas de dados de compatibilidade. Notificar a MDN  sobre dados imprecisos ou fornecer novos dados nos impulsiona em dire\\\\u00E7\\\\u00E3o \\\\u00E0 meta de fornecer valores 100% reais \\\\u00E0 comunidade de desenvolvedores.\\\\\",\\\\\"Our team will review your report. Once we verify the information you have supplied we will update this browser compatability table accordingly.\\\\\":\\\\\"Nossa equipe analisar\\\\u00E1 seu relat\\\\u00F3rio. Depois de verificar as informa\\\\u00E7\\\\u00F5es fornecidas, atualizaremos esta tabela de compatibilidade do navegador de acordo.\\\\\",\\\\\"Our user base has grown exponentially in the last few years and we have a large list of improvements we\\\\u2019d like to make. While MDN is currently wholly funded by Mozilla, and has been from the beginning, we\\\\u2019d like to create a closer, more collaborative relationship between our audience (that\\\\u2019s you!), our content (written for you and sometimes by you), and our supporters (also, you, again)-- to accelerate those improvements.\\\\\":\\\\\"Nossa base de usu\\\\u00E1rios cresceu exponencialmente nos \\\\u00FAltimos anos e temos uma grande lista de melhorias que gostar\\\\u00EDamos de fazer. Embora a MDN seja atualmente totalmente financiada pela Mozilla e tenha sido assim desde o in\\\\u00EDcio, gostar\\\\u00EDamos de criar um relacionamento mais pr\\\\u00F3ximo e colaborativo entre nosso p\\\\u00FAblico (que s\\\\u00E3o voc\\\\u00EAs!), nosso conte\\\\u00FAdo (escrito para voc\\\\u00EAs e \\\\u00E0s vezes por voc\\\\u00EAs) e nossos apoiadores (voc\\\\u00EAs tamb\\\\u00E9m, novamente) - para acelerar essas melhorias.\\\\\",\\\\\"Page has not yet been created.\\\\\":\\\\\"A p\\\\u00E1gina ainda n\\\\u00E3o foi criada.\\\\\",\\\\\"Paste YouTube Video URL\\\\\":\\\\\"Colar URL do v\\\\u00EDdeo do YouTube\\\\\",\\\\\"Payment Terms\\\\\":\\\\\"Termos de pagamento\\\\\",\\\\\"Payments are not tax deductible\\\\\":\\\\\"Os pagamentos n\\\\u00E3o s\\\\u00E3o dedut\\\\u00EDveis de impostos\\\\\",\\\\\"Please <signInLink /> to continue.\\\\\":\\\\\"Favor <signInLink /> para continuar.\\\\\",\\\\\"Please help translate this article from English\\\\\":\\\\\"Ajude a traduzir este artigo em ingl\\\\u00EAs\\\\\",\\\\\"Please read our <paymentLink /> for more information.\\\\\":\\\\\"Leia o nosso <paymentLink /> para mais informa\\\\u00E7\\\\u00F5es.\\\\\",\\\\\"Please read our <termsLink /> for more information.\\\\\":\\\\\"Leia mais informa\\\\u00E7\\\\u00F5es em nossos <termsLink />.\\\\\",\\\\\"Please select the browser or browsers which are affected.\\\\\":\\\\\"Selecione o navegador ou navegadores afetados.\\\\\",\\\\\"Postal/Zip Code: ${subscription.zip}\\\\\":\\\\\"C\\\\u00F3digo postal/CEP: ${subscription.zip}\\\\\",\\\\\"Previous\\\\\":\\\\\"Anterior\\\\\",\\\\\"Previous step\\\\\":\\\\\"Etapa anterior\\\\\",\\\\\"Privacy\\\\\":\\\\\"Privacidade\\\\\",\\\\\"Privacy Policy\\\\\":\\\\\"Pol\\\\u00EDtica de privacidade\\\\\",\\\\\"Published version\\\\\":\\\\\"Vers\\\\u00E3o publicada\\\\\",\\\\\"Publishing changes\\\\u2026\\\\\":\\\\\"Publicando mudan\\\\u00E7as\\\\u2026\\\\\",\\\\\"Publishing failed. Please copy and paste your changes into a safe place and try submitting the form using the \\\\\\\\\\\\\"Publish\\\\\\\\\\\\\" button.\\\\\":\\\\\"Erro ao publicar. Por favor copie e cole suas altera\\\\u00E7\\\\u00F5es em um lugar seguro e tente submeter o formul\\\\u00E1rio utilizando o bot\\\\u00E3o \\\\\\\\\\\\\"Publicar.\\\\\\\\\\\\\"\\\\\",\\\\\"Publishing failed. You are not currently signed in. Please use a new tab to sign in and try publishing again.\\\\\":\\\\\"Erro ao publicar. Voc\\\\u00EA n\\\\u00E3o est\\\\u00E1 logado. Por favor abra uma nova aba para fazer login e tente publicar novamente.\\\\\",\\\\\"References\\\\\":\\\\\"Refer\\\\u00EAncias\\\\\",\\\\\"References & Guides\\\\\":\\\\\"Refer\\\\u00EAncias e guias\\\\\",\\\\\"Related Topics\\\\\":\\\\\"T\\\\u00F3picos relacionados\\\\\",\\\\\"Related topics\\\\\":\\\\\"T\\\\u00F3picos relacionados\\\\\",\\\\\"Report a content problem\\\\\":\\\\\"Relate um problema de conte\\\\u00FAdo\\\\\",\\\\\"Report an issue\\\\\":\\\\\"Relatar um problema\\\\\",\\\\\"Report sent\\\\\":\\\\\"Relat\\\\u00F3rio enviado\\\\\",\\\\\"Restore draft.\\\\\":\\\\\"Restaurar rascunho.\\\\\",\\\\\"Result\\\\\":\\\\\"Resultado\\\\\",\\\\\"Return to compatibility table.\\\\\":\\\\\"Retornar \\\\u00E0 tabela de compatibilidade.\\\\\",\\\\\"Revert\\\\\":\\\\\"Reverter\\\\\",\\\\\"Revision history.\\\\\":\\\\\"Hist\\\\u00F3rico de revis\\\\u00F5es.\\\\\",\\\\\"Sample CSS Content\\\\\":\\\\\"Exemplo de conte\\\\u00FAdo CSS\\\\\",\\\\\"Sample Finder\\\\\":\\\\\"Buscador de amostras\\\\\",\\\\\"Sample HTML Content\\\\\":\\\\\"Exemplo de conte\\\\u00FAdo HTML\\\\\",\\\\\"Sample JavaScript Content\\\\\":\\\\\"Exemplo de conte\\\\u00FAdo JavaScript\\\\\",\\\\\"Save\\\\\":\\\\\"Salvar\\\\\",\\\\\"Search MDN\\\\\":\\\\\"Pesquisar na MDN\\\\\",\\\\\"Search Stack Overflow\\\\\":\\\\\"Pesquisar no Stack Overflow\\\\\",\\\\\"Section\\\\\":\\\\\"Se\\\\u00E7\\\\u00E3o\\\\\",\\\\\"Sections in Document\\\\\":\\\\\"Se\\\\u00E7\\\\u00F5es do documento\\\\\",\\\\\"See\\\\\":\\\\\"Ver\\\\\",\\\\\"Select a section\\\\\":\\\\\"Selecionar uma se\\\\u00E7\\\\u00E3o\\\\\",\\\\\"Select an attachment\\\\\":\\\\\"Selecionar um anexo\\\\\",\\\\\"Select language\\\\\":\\\\\"Selecionar idioma\\\\\",\\\\\"Selected: \\\\\":\\\\\"Selecionado:\\\\u00A0\\\\\",\\\\\"Send\\\\\":\\\\\"Enviar\\\\\",\\\\\"Send Feedback\\\\\":\\\\\"Enviar coment\\\\u00E1rio\\\\\",\\\\\"Send report\\\\\":\\\\\"Enviar relat\\\\u00F3rio\\\\\",\\\\\"Separately, the Mozilla Foundation is a not-for-profit, making its money primarily from donations and royalties from Mozilla Corporation. As a not-for-profit, the Mozilla Foundation reports these revenues publicly every trailing year, as in our most recent <annualReportLink />.\\\\\":\\\\\"Separadamente, a Funda\\\\u00E7\\\\u00E3o Mozilla \\\\u00E9 uma organiza\\\\u00E7\\\\u00E3o sem fins lucrativos, financiada principalmente por doa\\\\u00E7\\\\u00F5es e royalties da Mozilla Corporation. Sendo sem fins lucrativos, a Funda\\\\u00E7\\\\u00E3o Mozilla presta contas dessas receitas publicamente a cada ano consecutivo, como em nosso mais recente <annualReportLink />.\\\\\",\\\\\"Showing all \\\\\":\\\\\"Exibindo todos os resultados \\\\\",\\\\\"Showing results %(start)s to %(end)s.\\\\\":\\\\\"Exibindo resultados %(start)s a %(end)s.\\\\\",\\\\\"Sign in\\\\\":\\\\\"Entrar\\\\\",\\\\\"Sign in to support MDN. If you haven\\'t already created an account, you will be prompted to do so after signing in.\\\\\":\\\\\"Entre para dar apoio \\\\u00E0 MDN. Se voc\\\\u00EA ainda n\\\\u00E3o criou uma conta, ser\\\\u00E1 solicitado fazer isso ap\\\\u00F3s entrar.\\\\\",\\\\\"Sign out\\\\\":\\\\\"Sair\\\\\",\\\\\"Sign up now\\\\\":\\\\\"Inscreva-se agora\\\\\",\\\\\"Skip to main content\\\\\":\\\\\"Pular para o conte\\\\u00FAdo principal\\\\\",\\\\\"Skip to search\\\\\":\\\\\"Pular para a pesquisa\\\\\",\\\\\"Sorry!\\\\\":\\\\\"Desculpe!\\\\\",\\\\\"Sorry, we can\\\\u2019t seem to reach the server. We are working to fix the problem. Please try again later.\\\\\":\\\\\"Desculpe, parece que n\\\\u00E3o conseguimos acessar o servidor. Estamos trabalhando para corrigir o problema. Tente novamente mais tarde.\\\\\",\\\\\"Step %(current)s of %(total)s\\\\\":\\\\\"Etapa %(current)s de %(total)s\\\\\",\\\\\"Stripe\\\\\":\\\\\"Stripe\\\\\",\\\\\"Submitted as %(submissionType)s\\\\\":\\\\\"Enviado como %(submissionType)s\\\\\",\\\\\"Submitting...\\\\\":\\\\\"Enviando...\\\\\",\\\\\"Subscription\\\\\":\\\\\"Assinatura\\\\\",\\\\\"Subscription terms\\\\\":\\\\\"Termos de assinatura\\\\\",\\\\\"Support MDN with a %(amount)s monthly subscription\\\\\":\\\\\"Apoie a MDN com uma assinatura mensal de %(amount)s\\\\\",\\\\\"Support MDN with a %(amount)s monthly subscription and get back more of the knowledge and tools you rely on for when your work has to work.\\\\\":\\\\\"D\\\\u00EA apoio \\\\u00E0 MDN com uma assinatura mensal de %(amount)s e receba de volta mais do conhecimento e das ferramentas em que confia para quando seu trabalho tem mesmo que funcionar.\\\\\",\\\\\"Supporting integrations with popular developer tools\\\\\":\\\\\"Suporte \\\\u00E0 integra\\\\u00E7\\\\u00E3o com ferramentas de desenvolvimento populares\\\\\",\\\\\"Syntax Highlighter\\\\\":\\\\\"Destacar sintaxe\\\\\",\\\\\"Take the survey\\\\\":\\\\\"Participe da pesquisa\\\\\",\\\\\"Technologies\\\\\":\\\\\"Tecnologias\\\\\",\\\\\"Technologies Overview\\\\\":\\\\\"Vis\\\\u00E3o geral de tecnologias\\\\\",\\\\\"Tell us what\\\\u2019s wrong with this table\\\\\":\\\\\"Diga-nos o que h\\\\u00E1 de errado nesta tabela\\\\\",\\\\\"Terms\\\\\":\\\\\"Termos\\\\\",\\\\\"Thank you for becoming a monthly supporter!\\\\\":\\\\\"Obrigado por se tornar um membro que d\\\\u00E1 apoio mensal!\\\\\",\\\\\"Thank you for helping.\\\\\":\\\\\"Obrigado por ajudar.\\\\\",\\\\\"Thank you for submitting your feedback!\\\\\":\\\\\"Obrigado por enviar sua opini\\\\u00E3o!\\\\\",\\\\\"Thank you!\\\\\":\\\\\"Obrigado!\\\\\",\\\\\"Thanks! Please check your inbox to confirm your subscription.\\\\\":\\\\\"Obrigado! Verifique sua caixa de entrada para confirmar sua assinatura.\\\\\",\\\\\"The <mozillaLink /> and MDN are separate organizations and programs. Donations to the Mozilla Foundation are <taxLink /> to the fullest extent permitted by law, and go to support Mozilla public and charitable programs in one general fund. MDN is part of <mocoLink /> and payments to MDN are not used in Mozilla\\\\u2019s charitable programs but are reinvested into MDN\\\\u2019s content, tools, and platform.\\\\\":\\\\\"A <mozillaLink /> e a MDN s\\\\u00E3o organiza\\\\u00E7\\\\u00F5es e programas separados. As doa\\\\u00E7\\\\u00F5es para a Funda\\\\u00E7\\\\u00E3o Mozilla s\\\\u00E3o <taxLink /> na extens\\\\u00E3o m\\\\u00E1xima permitida por lei e s\\\\u00E3o usadas para apoiar programas p\\\\u00FAblicos e de caridade da Mozilla em um fundo \\\\u00FAnico geral. A MDN faz parte do <mocoLink /> e os pagamentos \\\\u00E0 MDN n\\\\u00E3o s\\\\u00E3o usados nos programas de caridade da Mozilla, mas s\\\\u00E3o reinvestidos no conte\\\\u00FAdo, nas ferramentas e na plataforma da MDN.\\\\\",\\\\\"The Mozilla Corporation, which funds MDN, makes money primarily from royalties from search providers on Firefox (such as Google, Amazon, DuckDuckGo, and others).\\\\\":\\\\\"A Mozilla Corporation, que financia a MDN, arrecada dinheiro principalmente com royalties de provedores de pesquisa no Firefox (como Google, Amazon, DuckDuckGo e outros).\\\\\",\\\\\"The URL you\\'ve entered doesn\\'t appear to be valid\\\\\":\\\\\"A URL informada n\\\\u00E3o parece ser v\\\\u00E1lida\\\\\",\\\\\"The money collected through MDN (minus processing fees, taxes, etc.) will be reinvested back into MDN. We will publish a monthly report on MDN Web Docs showing what work was completed.\\\\\":\\\\\"O dinheiro arrecadado atrav\\\\u00E9s da MDN (menos taxas de processamento, impostos, etc.) \\\\u00E9 reinvestido na MDN. Publicamos um relat\\\\u00F3rio mensal na MDN Web Docs mostrando que trabalhos foram conclu\\\\u00EDdos.\\\\\",\\\\\"The newsletter is offered in English only at the moment.\\\\\":\\\\\"O boletim informativo \\\\u00E9 oferecido somente em ingl\\\\u00EAs no momento.\\\\\",\\\\\"This translation is in progress.\\\\\":\\\\\"Esta tradu\\\\u00E7\\\\u00E3o est\\\\u00E1 em andamento.\\\\\",\\\\\"This translation is incomplete.\\\\\":\\\\\"Esta tradu\\\\u00E7\\\\u00E3o est\\\\u00E1 incompleta.\\\\\",\\\\\"To find out more about why MDN is raising money through monthly subscriptions, please visit our <faqLink />.\\\\\":\\\\\"Para saber mais sobre por que a MDN est\\\\u00E1 arrecadando dinheiro atrav\\\\u00E9s de assinaturas mensais, consulte nossas <faqLink />.\\\\\",\\\\\"To see your member perks, visit the <thankYouLink />\\\\\":\\\\\"Para ver as vantagens de ser membro, visite o <thankYouLink />\\\\\",\\\\\"Training and webinars\\\\\":\\\\\"Treinamento e webinars\\\\\",\\\\\"Try again\\\\\":\\\\\"Tentar novamente\\\\\",\\\\\"Tutorials\\\\\":\\\\\"Tutoriais\\\\\",\\\\\"URL\\\\\":\\\\\"URL\\\\\",\\\\\"Update your details and manage your preferences\\\\\":\\\\\"Atualize seus detalhes e gerencie suas prefer\\\\u00EAncias\\\\\",\\\\\"Updated filters.\\\\\":\\\\\"Filtros atualizados.\\\\\",\\\\\"Useful things\\\\\":\\\\\"Coisas \\\\u00FAteis\\\\\",\\\\\"Username\\\\\":\\\\\"Nome de usu\\\\u00E1rio\\\\\",\\\\\"View Page\\\\\":\\\\\"Ver p\\\\u00E1gina\\\\\",\\\\\"View draft.\\\\\":\\\\\"Exibir rascunho.\\\\\",\\\\\"View profile\\\\\":\\\\\"Visualizar perfil\\\\\",\\\\\"Viewing old draft. This draft cannot be published.\\\\\":\\\\\"Visualizando rascunho antigo. Esse rascunho n\\\\u00E3o pode ser publicado.\\\\\",\\\\\"We\\'re sorry, something went wrong. Please contact <emailLink />.\\\\\":\\\\\"Desculpe, algo deu errado. Entre em contato com <emailLink />.\\\\\",\\\\\"Web Technologies\\\\\":\\\\\"Tecnologias web\\\\\",\\\\\"What are we missing?\\\\\":\\\\\"O que est\\\\u00E1 faltando?\\\\\",\\\\\"What happens next?\\\\\":\\\\\"O que acontece depois?\\\\\",\\\\\"What should the sample title be?\\\\\":\\\\\"Qual ser\\\\u00E1 o t\\\\u00EDtulo do exemplo?\\\\\",\\\\\"When you request to delete your account we will also cancel your monthly subscription and not charge you for subsequent months.\\\\\":\\\\\"Se voc\\\\u00EA solicitar a exclus\\\\u00E3o de sua conta, tamb\\\\u00E9m cancelaremos sua assinatura mensal e n\\\\u00E3o lhe cobraremos pelos meses subsequentes.\\\\\",\\\\\"Which browsers are affected?\\\\\":\\\\\"Quais navegadores s\\\\u00E3o afetados?\\\\\",\\\\\"Which table row is affected?\\\\\":\\\\\"Qual linha da tabela \\\\u00E9 afetada?\\\\\",\\\\\"Why is MDN asking me for money?\\\\\":\\\\\"Por que a MDN est\\\\u00E1 pedindo dinheiro?\\\\\",\\\\\"Would you answer 4 questions for us?\\\\\":\\\\\"Voc\\\\u00EA responderia 4 perguntas?\\\\\",\\\\\"Would you answer 4 questions for us? <a %(url)s>Open the survey in a new tab</a> and fill it out when you are done on the site. Thanks!\\\\\":\\\\\"Voc\\\\u00EA responderia 4 perguntas para n\\\\u00F3s? <a %(url)s>Abra a pesquisa em uma nova aba</a> e preencha quando terminar de navegar no site. Obrigado!\\\\\",\\\\\"Yes\\\\\":\\\\\"Sim\\\\\",\\\\\"Yes, cancel subscription\\\\\":\\\\\"Sim, cancelar assinatura\\\\\",\\\\\"You are MDN member number %(num)s\\\\\":\\\\\"Voc\\\\u00EA \\\\u00E9 o membro da MDN de n\\\\u00FAmero %(num)s\\\\\",\\\\\"You are now viewing this site in %(localeName)s. Do you always want to view this site in %(localeName)s?\\\\\":\\\\\"Voc\\\\u00EA est\\\\u00E1 visualizando este site em %(localeName)s. Deseja ver este site em %(localeName)s sempre?\\\\\",\\\\\"You can cancel your monthly subscription at any time. Please go to the <subscriptionsLink /> to cancel your subscription. If you choose to cancel, we will not charge your payment card for subsequent months. For any other questions or inquiries please <emailLink />.\\\\\":\\\\\"Voc\\\\u00EA pode cancelar sua assinatura mensal quando quiser. V\\\\u00E1 em <subscriptionsLink /> para cancelar a assinatura. Se optar por cancelar, n\\\\u00E3o cobraremos seu cart\\\\u00E3o de pagamento nos meses subsequentes. Para qualquer outra d\\\\u00FAvida ou pergunta, <emailLink />.\\\\\",\\\\\"You can change your email address by adding a new one\\\\\":\\\\\"Voc\\\\u00EA pode alterar seu endere\\\\u00E7o de e-mail adicionando outro\\\\\",\\\\\"You can join the GitHub repository to see updates and commits for this table data:\\\\\":\\\\\"Voc\\\\u00EA pode ingressar no reposit\\\\u00F3rio GitHub para ver not\\\\u00EDcias e atualiza\\\\u00E7\\\\u00F5es nos dados dessa tabela:\\\\\",\\\\\"You have %(count)s Wiki revisions\\\\\":\\\\\"Voc\\\\u00EA tem %(count)s revis\\\\u00F5es no Wiki\\\\\",\\\\\"You have a draft from: %(time)s.\\\\\":\\\\\"Voc\\\\u00EA tem um rascunho de: %(time)s.\\\\\",\\\\\"You have no active subscription. Why not <signupLink />?\\\\\":\\\\\"Voc\\\\u00EA n\\\\u00E3o tem nenhuma assinatura ativa. Que tal <signupLink />?\\\\\",\\\\\"You must input a valid YouTube video URL.\\\\\":\\\\\"Voc\\\\u00EA deve fornecer uma URL v\\\\u00E1lida de um v\\\\u00EDdeo do YouTube.\\\\\",\\\\\"You need to be <signInLink /> to access account settings.\\\\\":\\\\\"Voc\\\\u00EA precisa estar <signInLink /> para acessar as configura\\\\u00E7\\\\u00F5es da conta.\\\\\",\\\\\"You will be MDN member number %(num)s\\\\\":\\\\\"Voc\\\\u00EA ser\\\\u00E1 o membro da MDN de n\\\\u00FAmero %(num)s\\\\\",\\\\\"Your browser does not support MathML. A CSS fallback has been used instead.\\\\\":\\\\\"Seu navegador n\\\\u00E3o suporta MathML. Ao inv\\\\u00E9s disso, foi utilizado um recurso CSS.\\\\\",\\\\\"Your monthly subscription has been successfully canceled.\\\\\":\\\\\"Sua assinatura mensal foi cancelada com sucesso.\\\\\",\\\\\"an unknown date\\\\\":\\\\\"uma data desconhecida\\\\\",\\\\\"and fill it out when you are done on the site. Thanks!\\\\\":\\\\\"e preencha quando terminar no site. Obrigado!\\\\\",\\\\\"by MDN contributors\\\\\":\\\\\"por colaboradores da MDN\\\\\",\\\\\"contact support\\\\\":\\\\\"entre em contato com o suporte\\\\\",\\\\\"contact support.\\\\\":\\\\\"entrar em contato com o suporte.\\\\\",\\\\\"https://github.com/mdn/browser-compat-data \\\\\":\\\\\"https://github.com/mdn/browser-compat-data \\\\\",\\\\\"manage monthly subscription page\\\\\":\\\\\"p\\\\u00E1gina de gerenciamento de assinatura mensal\\\\\",\\\\\"payment terms\\\\\":\\\\\"Termos de pagamento\\\\\",\\\\\"set one up\\\\\":\\\\\"fazer uma\\\\\",\\\\\"sign in\\\\\":\\\\\"entre\\\\\",\\\\\"signed in\\\\\":\\\\\"conectado\\\\\",\\\\\"subscription terms\\\\\":\\\\\"termos de assinatura\\\\\",\\\\\"tax-deductible in the U.S.\\\\\":\\\\\"dedut\\\\u00EDvel de impostos nos EUA\\\\\",\\\\\"thank you page.\\\\\":\\\\\"p\\\\u00E1gina de agradecimento.\\\\\",\\\\\"you@example.com\\\\\":\\\\\"voce@example.com\\\\\",\\\\\"%(count)s document found for \\\\\\\\\\\\\"%(query)s\\\\\\\\\\\\\" in %(locale)s.\\\\\":[\\\\\"%(count)s documento encontrado de \\\\\\\\\\\\\"%(query)s\\\\\\\\\\\\\" em %(locale)s.\\\\\",\\\\\"%(count)s documentos encontrados de \\\\\\\\\\\\\"%(query)s\\\\\\\\\\\\\" em %(locale)s.\\\\\"]},\\\\\"pluralExpression\\\\\":\\\\\"(n > 1)\\\\\",\\\\\"url\\\\\":\\\\\"/pt-BR/docs/Learn/Server-side/Django/Introdu%C3%A7%C3%A3o\\\\\",\\\\\"documentData\\\\\":{\\\\\"locale\\\\\":\\\\\"pt-BR\\\\\",\\\\\"slug\\\\\":\\\\\"Learn/Server-side/Django/Introdu\\\\u00E7\\\\u00E3o\\\\\",\\\\\"enSlug\\\\\":\\\\\"Learn/Server-side/Django/Introduction\\\\\",\\\\\"id\\\\\":229317,\\\\\"title\\\\\":\\\\\"Introdu\\\\u00E7\\\\u00E3o ao Django\\\\\",\\\\\"summary\\\\\":\\\\\"Neste primeiro artigo do Django, respondemos a pergunta \\\\\\\\\\\\\"O que \\\\u00E9 o Django?\\\\\\\\\\\\\" e daremos uma vis\\\\u00E3o geral do que torna este framework web especial. Vamos descrever os principais recursos, incluindo algumas das funcionalidades avan\\\\u00E7adas que n\\\\u00E3o teremos tempo para abordar detalhadamente neste m\\\\u00F3dulo. Tamb\\\\u00E9m mostraremos alguns dos principais blocos de constru\\\\u00E7\\\\u00E3o de um aplicativo Django (embora neste momento voc\\\\u00EA ainda n\\\\u00E3o tenha um ambiente de desenvolvimento para test\\\\u00E1-lo).\\\\\",\\\\\"language\\\\\":\\\\\"Portugu\\\\u00EAs (do\\\\u00A0Brasil)\\\\\",\\\\\"hrefLang\\\\\":\\\\\"pt\\\\\",\\\\\"absoluteURL\\\\\":\\\\\"/pt-BR/docs/Learn/Server-side/Django/Introdu%C3%A7%C3%A3o\\\\\",\\\\\"wikiURL\\\\\":\\\\\"https://wiki.developer.mozilla.org/pt-BR/docs/Learn/Server-side/Django/Introdu%C3%A7%C3%A3o\\\\\",\\\\\"editURL\\\\\":\\\\\"https://wiki.developer.mozilla.org/pt-BR/docs/Learn/Server-side/Django/Introdu%C3%A7%C3%A3o$edit\\\\\",\\\\\"translateURL\\\\\":null,\\\\\"translationStatus\\\\\":\\\\\"outdated\\\\\",\\\\\"bodyHTML\\\\\":\\\\\"<div></div>\\\\\\\\n\\\\\\\\n<div><div class=\\\\\\\\\\\\\"prevnext\\\\\\\\\\\\\">\\\\\\\\n  <a href=\\\\\\\\\\\\\"/pt-BR/docs/Learn/Server-side/Django\\\\\\\\\\\\\"><i class=\\\\\\\\\\\\\"icon-arrow-up\\\\\\\\\\\\\"></i> Menu: Django</a><a class=\\\\\\\\\\\\\"new\\\\\\\\\\\\\" href=\\\\\\\\\\\\\"/pt-BR/docs/Learn/Server-side/Django/development_environment\\\\\\\\\\\\\" rel=\\\\\\\\\\\\\"nofollow\\\\\\\\\\\\\"><span class=\\\\\\\\\\\\\"label\\\\\\\\\\\\\"> Pr\\\\u00F3xima  </span><i class=\\\\\\\\\\\\\"icon-arrow-right\\\\\\\\\\\\\"></i></a>\\\\\\\\n</div></div>\\\\\\\\n\\\\\\\\n<p class=\\\\\\\\\\\\\"summary\\\\\\\\\\\\\">Neste primeiro artigo do Django, respondemos a pergunta \\\\\\\\\\\\\"O que \\\\u00E9 o Django?\\\\\\\\\\\\\" e daremos uma vis\\\\u00E3o geral do que torna este framework web especial. Vamos descrever os principais recursos, incluindo algumas das funcionalidades avan\\\\u00E7adas que n\\\\u00E3o teremos tempo para abordar detalhadamente neste m\\\\u00F3dulo. Tamb\\\\u00E9m mostraremos alguns dos principais blocos de constru\\\\u00E7\\\\u00E3o de um aplicativo Django (embora neste momento voc\\\\u00EA ainda n\\\\u00E3o tenha um ambiente de desenvolvimento para test\\\\u00E1-lo).</p>\\\\\\\\n\\\\\\\\n<table class=\\\\\\\\\\\\\"learn-box standard-table\\\\\\\\\\\\\">\\\\\\\\n <tbody>\\\\\\\\n  <tr>\\\\\\\\n   <th scope=\\\\\\\\\\\\\"row\\\\\\\\\\\\\">Pr\\\\u00E9-requisitos:</th>\\\\\\\\n   <td>\\\\\\\\n    <p><span id=\\\\\\\\\\\\\"result_box\\\\\\\\\\\\\" lang=\\\\\\\\\\\\\"pt\\\\\\\\\\\\\"><span>Conhecimentos b\\\\u00E1sicos em computa\\\\u00E7\\\\u00E3o.</span> <span>Um entendimento geral de <a href=\\\\\\\\\\\\\"https://developer.mozilla.org/en-US/docs/Learn/Server-side/First_steps\\\\\\\\\\\\\">programa\\\\u00E7\\\\u00E3o de websites do lado do servidor</a> e, em particular, a mec\\\\u00E2nica de <a class=\\\\\\\\\\\\\"new\\\\\\\\\\\\\" href=\\\\\\\\\\\\\"/pt-BR/docs/\\\\\\\\\\\\\" rel=\\\\\\\\\\\\\"nofollow\\\\\\\\\\\\\">intera\\\\u00E7\\\\u00F5es cliente-servidor em websites</a>.</span></span></p>\\\\\\\\n   </td>\\\\\\\\n  </tr>\\\\\\\\n  <tr>\\\\\\\\n   <th scope=\\\\\\\\\\\\\"row\\\\\\\\\\\\\">Objetivos:</th>\\\\\\\\n   <td>Ganhar familiaridade com o que \\\\u00E9 o Django, quais funcionalidades ele fornece e os principais blocos de constru\\\\u00E7\\\\u00E3o de uma aplica\\\\u00E7\\\\u00E3o django.</td>\\\\\\\\n  </tr>\\\\\\\\n </tbody>\\\\\\\\n</table>\\\\\\\\n\\\\\\\\n<h2 id=\\\\\\\\\\\\\"O_que_\\\\u00E9_Django\\\\\\\\\\\\\">O que \\\\u00E9 Django?</h2>\\\\\\\\n\\\\\\\\n<p>Django \\\\u00E9 um framework web Python de alto n\\\\u00EDvel\\\\u00A0que permite o r\\\\u00E1pido desenvolvimento de sites seguros e de f\\\\u00E1cil manuten\\\\u00E7\\\\u00E3o. Construido por desenvolvedores experientes,\\\\u00A0o Django cuida de grande parte do trabalho de desenvolvimento web, para que voc\\\\u00EA\\\\u00A0possa se concentrar em escrever seu aplicativo sem precisar reinventar a roda. \\\\u00C9 gratuito e\\\\u00A0de c\\\\u00F3digo aberto,\\\\u00A0tem uma comunidade pr\\\\u00F3spera e ativa, \\\\u00F3tima documenta\\\\u00E7\\\\u00E3o\\\\u00A0e muitas op\\\\u00E7\\\\u00F5es de suporte gratuito e pago.\\\\u00A0</p>\\\\\\\\n\\\\\\\\n<p>Django ajuda voc\\\\u00EA a escrever programas que s\\\\u00E3o:</p>\\\\\\\\n\\\\\\\\n<dl>\\\\\\\\n <dt>Completo</dt>\\\\\\\\n <dd>Django segue a filosofia de \\\\\\\\\\\\\"baterias inclu\\\\u00EDdas\\\\\\\\\\\\\" e fornece quase tudo que desenvolvedores possam querer fazer \\\\\\\\\\\\\"fora da caixa\\\\\\\\\\\\\". Como tudo o que voc\\\\u00EA precisa \\\\u00E9 parte de um \\\\\\\\\\\\\"produto\\\\\\\\\\\\\", tudo funciona perfeitamente junto, seguindo princ\\\\u00EDpios de design consistentes, contando uma extensa e <a class=\\\\\\\\\\\\\"external\\\\\\\\\\\\\" href=\\\\\\\\\\\\\"https://docs.djangoproject.com/pt-br/2.1/\\\\\\\\\\\\\" rel=\\\\\\\\\\\\\"noopener\\\\\\\\\\\\\">atualizada documenta\\\\u00E7\\\\u00E3o</a>.</dd>\\\\\\\\n <dt>Vers\\\\u00E1til</dt>\\\\\\\\n <dd>Django pode ser (e tem sido) utilizado para construir quase todo tipo de website - desde sistema de gest\\\\u00E3o de conte\\\\u00FAdo e wikis, passando por redes sociais e sites de not\\\\u00EDcias. Ele pode trabalhar com qualquer framework do lado do cliente, e pode entregar conte\\\\u00FAdo em praticamente qualquer formato (incluindo HTML, feeds RSS, JSON, XML, etc). Esse site que voc\\\\u00EA est\\\\u00E1 lendo agora \\\\u00E9 baseado em Django.</dd>\\\\\\\\n <dd>\\\\u00C0 medida em que, internamente, fornece op\\\\u00E7\\\\u00F5es para quase todo tipo de funcionalidade que voc\\\\u00EA possa querer (por exemplo: v\\\\u00E1rios banco de dados que s\\\\u00E3o populares, motores de template, etc), ele pode tamb\\\\u00E9m ser extendido para utilizar outros componentes, caso seja necess\\\\u00E1rio.</dd>\\\\\\\\n <dt>Seguro</dt>\\\\\\\\n <dd>Django ajuda os desenvolvedores a evitar os erros de seguran\\\\u00E7a mais comuns, fornecendo um framework que foi desenhado para \\\\\\\\\\\\\"fazer as coisas certas\\\\\\\\\\\\\", de modo a proteger o website automaticamente. Por exemplo, Django fornece uma maneira segura de gerenciar as contas dos usu\\\\u00E1rios e suas senhas, evitando erros comuns, tais como colocar informa\\\\u00E7\\\\u00F5es da sess\\\\u00E3o em cookies, onde ficam vulner\\\\u00E1veis (ao inv\\\\u00E9s disso os cookies cont\\\\u00E9m apenas uma chave e os dados s\\\\u00E3o armazenados no banco de dados), ou armazenar as senhas de forma direta, ao inv\\\\u00E9s de gravar um hash para essas senhas.</dd>\\\\\\\\n <dd><em>Um hash de senha \\\\u00E9 um valor fixed-length (tamanho-fixo) criado mandando a senha por uma <a class=\\\\\\\\\\\\\"external\\\\\\\\\\\\\" href=\\\\\\\\\\\\\"https://pt.wikipedia.org/wiki/Fun%C3%A7%C3%A3o_hash_criptogr%C3%A1fica\\\\\\\\\\\\\" rel=\\\\\\\\\\\\\"noopener\\\\\\\\\\\\\">cryptographic\\\\u00A0hash function\\\\u00A0(fun\\\\u00E7\\\\u00E3o hash criptogr\\\\u00E1fica)</a>.\\\\u00A0Django pode checar se uma senha inserida est\\\\u00E1 correta\\\\u00A0executando ela pela fun\\\\u00E7\\\\u00E3o hash e comparando a sa\\\\u00EDda\\\\u00A0com o valor hash armazenado. Por\\\\u00E9m devido a natureza \\\\\\\\\\\\\"one-way\\\\\\\\\\\\\" (\\\\\\\\\\\\\"um-caminho\\\\\\\\\\\\\") da fun\\\\u00E7\\\\u00E3o, mesmo que o valor hash armazenado estiver comprometido, \\\\u00E9 difcil para uma pessoa comentendo um ataque resolver\\\\u00A0a senha original.</em></dd>\\\\\\\\n <dd>O Django ativa a prote\\\\u00E7\\\\u00E3o contra muitas vulnerabilidades por padr\\\\u00E3o, incluindo SQL injection (inje\\\\u00E7\\\\u00E3o de SQL),\\\\u00A0cross-site scripting, cross-site request forgery (Falsifica\\\\u00E7\\\\u00E3o de solicita\\\\u00E7\\\\u00E3o entre sites), e clickjacking (\\\\\\\\\\\\\"furto de click\\\\\\\\\\\\\") (veja <a href=\\\\\\\\\\\\\"https://developer.mozilla.org/en-US/docs/Learn/Server-side/First_steps/Website_security\\\\\\\\\\\\\">Seguran\\\\u00E7a de sites</a>\\\\u00A0para mais detalhes de tais ataques).</dd>\\\\\\\\n <dt>Escal\\\\u00E1vel</dt>\\\\\\\\n <dd>Django usa uma arquitetura baseada em componentes \\\\u201C<a class=\\\\\\\\\\\\\"external\\\\\\\\\\\\\" href=\\\\\\\\\\\\\"https://en.wikipedia.org/wiki/Shared_nothing_architecture\\\\\\\\\\\\\" rel=\\\\\\\\\\\\\"noopener\\\\\\\\\\\\\">shared-nothing</a>\\\\u201D (\\\\\\\\\\\\\"nada-compartilhado\\\\\\\\\\\\\") (cada parte da arquitetura \\\\u00E9 idependente das outras, e consequentemente podem ser subistituidas ou mudadas caso necess\\\\u00E1rio). Ter uma separa\\\\u00E7\\\\u00E3o clara entre as partes diferentes significa que pode se escalar para um tr\\\\u00E1gefo aumentado adicionando hardware em qualquer n\\\\u00EDvel: servidores de cache, servidores de banco de dados ou servidores de aplica\\\\u00E7\\\\u00E3o. Alguns dos sites mais ocupados escalaram o Django com sucesso para cumprir com as suas demandas (ex: Instagram e Disqus).</dd>\\\\\\\\n <dt>Sustent\\\\u00E1vel</dt>\\\\\\\\n <dd>O c\\\\u00F3digo do Django \\\\u00E9 escrito usando princ\\\\u00EDpios de design e padr\\\\u00F5es que encorajam a cria\\\\u00E7\\\\u00E3o de codigo sustent\\\\u00E1vel (que facilita a manuten\\\\u00E7\\\\u00E3o) e reus\\\\u00E1vel. Em particular, isso utiliza o principio\\\\u00A0\\\\u00A0DRY - Don\\'t Repeat Yourself\\\\u00A0(N\\\\u00E3o Repita a Si Mesmo) para que n\\\\u00E3o haja duplica\\\\u00E7\\\\u00F5es desnecess\\\\u00E1rias, reduzindo a quantidade de c\\\\u00F3digo. O Django tamb\\\\u00E9m promove o agrupamento de funcionalidades relacionadas para aplicativos reus\\\\u00E1veis e, em um n\\\\u00EDvel mais baixo, grupos de c\\\\u00F3digo relacionados para modulos (juntamente as\\\\u00A0linhas do padr\\\\u00E3o <a class=\\\\\\\\\\\\\"external\\\\\\\\\\\\\" href=\\\\\\\\\\\\\"https://pt.wikipedia.org/wiki/MVC\\\\\\\\\\\\\" rel=\\\\\\\\\\\\\"noopener\\\\\\\\\\\\\">MVC - Model View Controller</a>).</dd>\\\\\\\\n <dt>Port\\\\u00E1vel</dt>\\\\\\\\n <dd>Django \\\\u00E9 escrito em Python, que executa em muitas plataformas. Isso significa que voc\\\\u00EA n\\\\u00E3o esta preso em nenhuma plataforma de servidor em particular, e pode executar seus aplicativos em muitas distrubui\\\\u00E7\\\\u00F5es do Linux, Windows e Mac OS X. Al\\\\u00E9m disso, o Django tem um bom suporte em muitos provedores de\\\\u00A0servidores de web, que muitas vezes provem infraestrutura especifca e documenta\\\\u00E7\\\\u00E3o para hospedar sites feitos com Django.</dd>\\\\\\\\n</dl>\\\\\\\\n\\\\\\\\n<h2 id=\\\\\\\\\\\\\"De_onde_o_Django_veio\\\\\\\\\\\\\">De onde o Django veio?</h2>\\\\\\\\n\\\\\\\\n<p>Django foi inicialmente desenvolvido entre 2003 e 2005 por um time de web que era respons\\\\u00E1vel por criar e manter sites de jornal. Depois de criar um n\\\\u00FAmero de sites, o time come\\\\u00E7ou a fatorar e reutilizar muitos de seus c\\\\u00F3digos comuns e padr\\\\u00F5es de design. Esse c\\\\u00F3digo comum evoluiu para um framework gen\\\\u00E9rico de desenvolvimento web, que foi lan\\\\u00E7ado como um projeto de c\\\\u00F3digo aberto nomeado \\\\\\\\\\\\\"Django\\\\\\\\\\\\\"\\\\u00A0em Julho de 2005.</p>\\\\\\\\n\\\\\\\\n<p>Django continou a crescer e aprimorar, desde seu lan\\\\u00E7amento (1.0) em Setembro de 2008 at\\\\u00E9 a vers\\\\u00E3o recentemente lan\\\\u00E7ada 2.0 em 2017. Cada lan\\\\u00E7amento adicionou novas funcionalidades e consertou falhas, variando entre suportar novos tipos de banco de dados, mecanismos de template e caches, at\\\\u00E9 a adi\\\\u00E7\\\\u00E3o de fun\\\\u00E7\\\\u00F5es view \\\\\\\\\\\\\"gen\\\\u00E9ricas\\\\\\\\\\\\\" e classes (que reduzem a quantidade de c\\\\u00F3digo que os desenvolvedores tem que escrever para um n\\\\u00FAmero de tarefas de programa\\\\u00E7\\\\u00E3o).</p>\\\\\\\\n\\\\\\\\n<div class=\\\\\\\\\\\\\"note\\\\\\\\\\\\\">\\\\\\\\n<p><strong>Nota</strong>: Cheque as <span style=\\\\\\\\\\\\\"line-height: 1.5;\\\\\\\\\\\\\"><a class=\\\\\\\\\\\\\"external\\\\\\\\\\\\\" href=\\\\\\\\\\\\\"https://docs.djangoproject.com/pt-br/2.1/releases/\\\\\\\\\\\\\" rel=\\\\\\\\\\\\\"noopener\\\\\\\\\\\\\">notas de lan\\\\u00E7amento</a>\\\\u00A0no site do Django para ver o que mudou nas vers\\\\u00F5es mais recentes, e quanto trabalho esta sendo feito para tornar o Django melhor.</span></p>\\\\\\\\n</div>\\\\\\\\n\\\\\\\\n<p>Django\\\\u00A0\\\\u00E9 um\\\\u00A0projeto de c\\\\u00F3digo aberto, colaborativo e\\\\u00A0pr\\\\u00F3spero,\\\\u00A0com milhares de usu\\\\u00E1rios contribuindo. Embora ainda tenha alguns recursos que refletem sua origem, Django evoluiu para um framework vers\\\\u00E1til que \\\\u00E9 capaz de desenvovler qualquer tipo de website.</p>\\\\\\\\n\\\\\\\\n<h2 id=\\\\\\\\\\\\\"Qu\\\\u00E3o_popular_\\\\u00E9_o_Django\\\\\\\\\\\\\">Qu\\\\u00E3o popular \\\\u00E9 o Django?</h2>\\\\\\\\n\\\\\\\\n<p>N\\\\u00E3o h\\\\u00E1 nenhum m\\\\u00E9todo dispon\\\\u00EDvel e definitivo para medir a popularidade dos framework server-side (lado do servidor) (apesar de sites como\\\\u00A0<a class=\\\\\\\\\\\\\"external\\\\\\\\\\\\\" href=\\\\\\\\\\\\\"http://hotframeworks.com/\\\\\\\\\\\\\" rel=\\\\\\\\\\\\\"noopener\\\\\\\\\\\\\">Hot Frameworks</a>\\\\u00A0tentam acessar a popularidade usando mecanismos como contar o numero de projetos no GitHub e perguntas no StackOverflow para cada cada platafroma). Uma quest\\\\u00E3o melhor \\\\u00E9 se o Django \\\\u00E9 \\\\\\\\\\\\\"popular o suficiente\\\\\\\\\\\\\" para evitar problemas\\\\u00A0de plataformas n\\\\u00E3o populares. Ele continua a evoluir? Voc\\\\u00EA consegue ajuda se precisar? Existem oportunidades para voc\\\\u00EA ganhar dinheiro\\\\u00A0se voce aprender Django?</p>\\\\\\\\n\\\\\\\\n<p>Baseado no n\\\\u00FAmero de sites com alto perfil que usam Django, o n\\\\u00FAmero de pessoas contribuindo para a base de c\\\\u00F3digo, e o n\\\\u00FAmero de pessoas provendo ambos suporte gratuito e pago, ent\\\\u00E3o sim, Django \\\\u00E9 um framework popular!</p>\\\\\\\\n\\\\\\\\n<p>Alguns sites de alto perfil que usam Django s\\\\u00E3o:\\\\u00A0Disqus, Instagram,\\\\u00A0Knight Foundation, MacArthur Foundation, Mozilla, National Geographic,\\\\u00A0Open Knowledge Foundation, Pinterest, and Open Stack (fonte: <a class=\\\\\\\\\\\\\"external\\\\\\\\\\\\\" href=\\\\\\\\\\\\\"https://www.djangoproject.com/\\\\\\\\\\\\\" rel=\\\\\\\\\\\\\"noopener\\\\\\\\\\\\\">P\\\\u00E1gina inicial do django</a>).</p>\\\\\\\\n\\\\\\\\n<h2 id=\\\\\\\\\\\\\"O_Django_\\\\u00E9_opinativo\\\\\\\\\\\\\">O Django \\\\u00E9 opinativo?</h2>\\\\\\\\n\\\\\\\\n<p>Frameworks de web frequentemente referem a si mesmos como \\\\\\\\\\\\\"opinativo\\\\\\\\\\\\\" e \\\\\\\\\\\\\"n\\\\u00E3o opinativo\\\\\\\\\\\\\".</p>\\\\\\\\n\\\\\\\\n<p>Frameworks opinativos s\\\\u00E3o aqueles com opini\\\\u00F5es sobre o \\\\\\\\\\\\\"modo correto\\\\\\\\\\\\\" de como lidar com uma tarefa em particular. Eles frequentemente auxiliam no\\\\u00A0desenvolvimento rapido <em>em um dom\\\\u00EDnio em particular</em> (resolvendo problemas de um tipo em particular) porque o modo correto de fazer qualquer coisa normalmente j\\\\u00E1 foi bem compreendido e bem documentado. Por\\\\u00E9m eles podem ser menos flex\\\\u00EDveis para resolver problemas fora\\\\u00A0de seu principal dom\\\\u00EDnio, e tendem a oferecer menos op\\\\u00E7\\\\u00F5es para quais\\\\u00A0componentes e abordagens eles podem usar.</p>\\\\\\\\n\\\\\\\\n<p>Frameworks n\\\\u00E3o opinativos, em contraste, possuem bem menos restri\\\\u00E7\\\\u00F5es sobre a melhor maneira de unir os componentes para atingir um objetivo,\\\\u00A0ou at\\\\u00E9 mesmo quais componentes devem ser usados. Eles tornam mais f\\\\u00E1cil para os desenvolvedores usar as ferramentas mais adequadas para completar uma tarefa em particular, apesar do custo de voc\\\\u00EA mesmo ter que achar esses componentes.<br>\\\\\\\\n <br>\\\\\\\\n Django \\\\u00E9 \\\\\\\\\\\\\"moderadamente opinativo\\\\\\\\\\\\\" e, portantanto, oferece o \\\\\\\\\\\\\"melhor dos dois mundo\\\\\\\\\\\\\". Ele fornece um conjunto de componentes para lidar com a maioria das tarefas de desenvolvimento web, e uma (ou duas) maneiras preferidas de us\\\\u00E1-las. No entanto, a arquitetura desacoplada do Django significa que voc\\\\u00EA geralmente pode escolher entre v\\\\u00E1rias op\\\\u00E7\\\\u00F5es diferentes, ou adicionar suporte para outras completamente novas, se desejar.</p>\\\\\\\\n\\\\\\\\n<h2 id=\\\\\\\\\\\\\"Com_o_que_o_c\\\\u00F3digo_do_Django_parece\\\\\\\\\\\\\">Com o que o\\\\u00A0c\\\\u00F3digo do Django parece?</h2>\\\\\\\\n\\\\\\\\n<p>Em um site data-driven (orientado a dados)\\\\u00A0tradicional, um aplicativo web aguarda solicita\\\\u00E7\\\\u00F5es HTTP do navegador da web (ou outro cliente). Quando uma solicita\\\\u00E7\\\\u00E3o \\\\u00E9 recebida, o aplicativo calcula o que \\\\u00E9 necess\\\\u00E1rio com base na URL e possivelmente nas informa\\\\u00E7\\\\u00F5es dos dados <code>POST</code> ou <code>GET</code>. Dependendo do que for necess\\\\u00E1rio, ele poder\\\\u00E1 ler ou gravar informa\\\\u00E7\\\\u00F5es de um banco de dados ou executar outras tarefas necess\\\\u00E1rias para satisfazer a solicita\\\\u00E7\\\\u00E3o. O aplicativo retornar\\\\u00E1 uma resposta para o navegador da web, normalmente\\\\u00A0criando dinamicamente uma p\\\\u00E1gina HTML para o navegador exibir, inserindo os dados recuperados em espa\\\\u00E7os reservados em um template HTML.</p>\\\\\\\\n\\\\\\\\n<p>Aplicativos web feitos com Django geralmente agrupam o c\\\\u00F3digo que manipula cada uma dessas etapas em arquivos separados:</p>\\\\\\\\n\\\\\\\\n<p><img alt=\\\\\\\\\\\\\"\\\\\\\\\\\\\" src=\\\\\\\\\\\\\"https://i.postimg.cc/W4yzpVcd/arq.png\\\\\\\\\\\\\" style=\\\\\\\\\\\\\"border-style: solid; border-width: 1px; height: 503px; width: 713px;\\\\\\\\\\\\\"></p>\\\\\\\\n\\\\\\\\n<ul>\\\\\\\\n <li><strong>URLs: </strong>Embora seja poss\\\\u00EDvel processar solicita\\\\u00E7\\\\u00F5es de cada URL por meio de uma \\\\u00FAnica fun\\\\u00E7\\\\u00E3o, \\\\u00E9 muito mais simples fazer a manuten\\\\u00E7\\\\u00E3o do c\\\\u00F3digo escrevendo uma fun\\\\u00E7\\\\u00E3o view (vista) separada para manipular\\\\u00A0cada recurso. Um mapeador de URLs \\\\u00E9 usado para redirecionar solicita\\\\u00E7\\\\u00F5es HTTP para a view\\\\u00A0apropriada com base na\\\\u00A0URL da solicita\\\\u00E7\\\\u00E3o. O mapeador de URLs tamb\\\\u00E9m pode corresponder\\\\u00A0padr\\\\u00F5es espec\\\\u00EDficos de strings (cadeia de caracteres) ou d\\\\u00EDgitos que aparecem em um URL e transmiti-los a uma fun\\\\u00E7\\\\u00E3o view como dados.</li>\\\\\\\\n <li><strong>View (Vista):</strong>\\\\u00A0Uma view \\\\u00E9 uma fun\\\\u00E7\\\\u00E3o manipuladora de solicita\\\\u00E7\\\\u00F5es, que recebe solicita\\\\u00E7\\\\u00F5es HTTP e retorna respostas HTTP. As views\\\\u00A0acessam os dados necess\\\\u00E1rios para satisfazer solicita\\\\u00E7\\\\u00F5es por meio dos <em>models (modelos)</em>\\\\u00A0e encarregam\\\\u00A0a formata\\\\u00E7\\\\u00E3o da resposta aos <em>templates</em>.</li>\\\\\\\\n <li><strong>Models (Modelos):</strong>\\\\u00A0Modelos s\\\\u00E3o objetos em Python que definem a estrutura dos dados de um aplicativo,\\\\u00A0e fornecem mecanismos para gerenciar (adicionar, modificar e excluir) e consultar registros no banco de dados.</li>\\\\\\\\n <li><strong>Templates:</strong>\\\\u00A0Um template \\\\u00E9 um arquivo de texto que define a estrutura ou o layout de um arquivo (como uma p\\\\u00E1gina HTML), com espa\\\\u00E7os reservados usados para representar o conte\\\\u00FAdo real. Uma <em>view</em> pode criar dinamicamente uma p\\\\u00E1gina HTML usando um template HTML, preenchendo-a com dados de um <em>model (modelo)</em>. Um template pode ser usado para definir a estrutura de qualquer tipo de arquivo; n\\\\u00E3o precisa ser HTML!</li>\\\\\\\\n</ul>\\\\\\\\n\\\\\\\\n<div class=\\\\\\\\\\\\\"note\\\\\\\\\\\\\">\\\\\\\\n<p><strong>Nota</strong>: Django refere a essa organiza\\\\u00E7\\\\u00E3o como uma arquitetura nomeada\\\\u00A0\\\\\\\\\\\\\"Model View Template (MVT)\\\\\\\\\\\\\" (\\\\\\\\\\\\\"Modelo Vista Template\\\\\\\\\\\\\"). Ela tem muitas semelhan\\\\u00E7as com a familiar arquitetura\\\\u00A0<a class=\\\\\\\\\\\\\"external\\\\\\\\\\\\\" href=\\\\\\\\\\\\\"https://pt.wikipedia.org/wiki/MVC\\\\\\\\\\\\\" rel=\\\\\\\\\\\\\"noopener\\\\\\\\\\\\\">Model View Controller\\\\u00A0(Modelo Vista Controlador)</a>.</p>\\\\\\\\n</div>\\\\\\\\n\\\\\\\\n<ul>\\\\\\\\n</ul>\\\\\\\\n\\\\\\\\n<p>As se\\\\u00E7\\\\u00F5es abaixo lhe dar\\\\u00E3o uma id\\\\u00E9ia de como essas partes principais de um aplicativo do Django se parecer\\\\u00E3o (nos vamos entrar em mais detalhes mais tarde no curso, assim que configurarmos um ambiente de desenvolvimento).</p>\\\\\\\\n\\\\\\\\n<h3 id=\\\\\\\\\\\\\"Enviando_a_solicita\\\\u00E7\\\\u00E3o_para_a_view_correta_urls.py\\\\\\\\\\\\\">Enviando a solicita\\\\u00E7\\\\u00E3o para a view correta (urls.py)</h3>\\\\\\\\n\\\\\\\\n<p>Um mapeador de URLs normalmente \\\\u00E9 armazenado em um arquivo chamado <strong>urls.py</strong>. No exemplo abaixo, o mapeador (<code>urlpatterns</code>) (<em>padr\\\\u00F5es de url</em>) define uma lista de mapeamentos entre <em>rotas</em> (<em>padr\\\\u00F5es</em>\\\\u00A0espec\\\\u00EDficos de URL) e fun\\\\u00E7\\\\u00F5es view\\\\u00A0correspondentes. Se uma solicita\\\\u00E7\\\\u00E3o HTTP for recebida com uma URL correspondente a um padr\\\\u00E3o especificado, a fun\\\\u00E7\\\\u00E3o view associada ser\\\\u00E1 chamada e a\\\\u00A0solicita\\\\u00E7\\\\u00E3o/requisi\\\\u00E7\\\\u00E3o\\\\u00A0sera transmitida.</p>\\\\\\\\n\\\\\\\\n<pre class=\\\\\\\\\\\\\"notranslate\\\\\\\\\\\\\"><code>urlpatterns = [\\\\\\\\n    <strong>path(\\'admin/\\', admin.site.urls),</strong>\\\\\\\\n    path(\\'book/&lt;int:id&gt;/\\', views.book-detail, name=\\'book-detail\\'),\\\\\\\\n    path(\\'catalog/\\', include(\\'catalog.urls\\')),\\\\\\\\n    re_path(r\\'^([0-9]+)/$\\', views.best),\\\\\\\\n]\\\\\\\\n\\\\\\\\n# favor utilizar o c\\\\u00F3digo acima no seu projeto ao inv\\\\u00E9s do que est\\\\u00E1 abaixo\\\\\\\\n# urlpatterns = [ \\\\\\\\n#     path(\\'admin/\\', admin.site.urls), \\\\\\\\n#     path(\\'livro/&lt;int:id&gt;/\\', views.livro-detalhes, name=\\'livro-detalhes\\'), \\\\\\\\n#     path(\\'catalogo/\\', include(\\'catalogo.urls\\')), \\\\\\\\n# \\\\u00A0   re_path(r\\'^([0-9]+)/$\\', views.melhor), \\\\\\\\n# ]</code>\\\\\\\\n</pre>\\\\\\\\n\\\\\\\\n<p>O objeto\\\\u00A0<code>urlpatterns</code>\\\\u00A0\\\\u00E9 uma lista de fun\\\\u00E7\\\\u00F5es\\\\u00A0<code>path()</code>\\\\u00A0(caminhos) e/ou\\\\u00A0<code>re_path()</code>\\\\u00A0(listas em Python s\\\\u00E3o definidas usando\\\\u00A0colchetes, onde os itens s\\\\u00E3o separados por v\\\\u00EDrgulas e podem conter opcionalmente uma v\\\\u00EDrgula no final. Por exemplo:\\\\u00A0<strong><code>[item1, item2, item3,]</code></strong>).</p>\\\\\\\\n\\\\\\\\n<p>O primeiro argumento para ambos os m\\\\u00E9todos \\\\u00E9 uma rota (padr\\\\u00E3o) que ser\\\\u00E1 correspondida. O m\\\\u00E9todo <code>path()</code> usa sinais de menor e maior (&lt;, &gt;)\\\\u00A0para definir partes de uma URL que ser\\\\u00E3o capturadas e passadas para a fun\\\\u00E7\\\\u00E3o view como argumentos nomeados. A fun\\\\u00E7\\\\u00E3o <code>re_path()</code> usa uma abordagem de correspond\\\\u00EAncia de padr\\\\u00F5es flex\\\\u00EDvel, conhecida como express\\\\u00E3o regular. N\\\\u00F3s vamos falar sobre isso em um artigo posterior!</p>\\\\\\\\n\\\\\\\\n<p>O segundo argumento \\\\u00E9 outra fun\\\\u00E7\\\\u00E3o que ser\\\\u00E1 chamada quando o padr\\\\u00E3o for correspondido. A nota\\\\u00E7\\\\u00E3o <code>views.book-detail</code>\\\\u00A0(<code>views.livro-detalhes</code>) indica que a fun\\\\u00E7\\\\u00E3o \\\\u00E9 chamada de <code>book-detail()</code>\\\\u00A0(<code>livro-detalhes()</code>) e pode ser encontrada em um m\\\\u00F3dulo chamado <code>views</code> (ou seja, dentro de um arquivo chamado <code>views.py</code>)</p>\\\\\\\\n\\\\\\\\n<h3 id=\\\\\\\\\\\\\"Manipulando_a_solicita\\\\u00E7\\\\u00E3o_views.py\\\\\\\\\\\\\">Manipulando a solicita\\\\u00E7\\\\u00E3o\\\\u00A0(views.py)</h3>\\\\\\\\n\\\\\\\\n<p>As view s\\\\u00E3o o cora\\\\u00E7\\\\u00E3o do aplicativo web, recebendo solicita\\\\u00E7\\\\u00F5es HTTP de clientes da web e retornando respostas HTTP. No meio disto, eles preparam os outros recursos do framework para acessar bancos de dados, renderizar (exibir) templates, etc.</p>\\\\\\\\n\\\\\\\\n<p>O exemplo abaixo mostra uma fun\\\\u00E7\\\\u00E3o view m\\\\u00EDnima chamada <code>index()</code>, que poderia ter sido chamado pelo nosso mapeador de URLs na se\\\\u00E7\\\\u00E3o anterior. Como todas as fun\\\\u00E7\\\\u00F5es <em>view</em>, ele recebe um objeto <code>HttpRequest</code> como um par\\\\u00E2metro (<code>request</code>) e retorna um objeto <code>HttpResponse</code>. Nesse caso, n\\\\u00E3o fazemos nada com a solicita\\\\u00E7\\\\u00E3o, e nossa resposta simplesmente retorna uma string. Mostraremos uma solicita\\\\u00E7\\\\u00E3o que faz algo mais interessante em uma se\\\\u00E7\\\\u00E3o posterior.</p>\\\\\\\\n\\\\\\\\n<pre class=\\\\\\\\\\\\\"brush: python notranslate\\\\\\\\\\\\\">## filename: views.py (Django view functions)\\\\\\\\n\\\\\\\\nfrom django.http import HttpResponse\\\\\\\\n\\\\\\\\ndef index(request):\\\\\\\\n    # Get an HttpRequest - the request parameter\\\\\\\\n    # perform operations using information from the request.\\\\\\\\n\\\\u00A0   # Return HttpResponse\\\\\\\\n    return HttpResponse(\\'Hello from Django!\\')\\\\\\\\n\\\\\\\\n<code># favor utilizar o c\\\\u00F3digo acima no seu projeto ao inv\\\\u00E9s do que est\\\\u00E1 abaixo</code>\\\\\\\\n## nome do arquivo: views.py (Onde as fun\\\\u00E7\\\\u00F5es view ficam) \\\\\\\\n\\\\\\\\nfrom django.http import HttpResponse\\\\\\\\n\\\\\\\\ndef index(requisito):\\\\\\\\n    # Recebe um HttpRequest - o parametro requisito\\\\\\\\n    # Executar opera\\\\u00E7\\\\u00F5es usando informa\\\\u00E7\\\\u00F5es do requisito (solicita\\\\u00E7\\\\u00E3o).\\\\\\\\n    # Retornar HttpResponse\\\\\\\\n    return HttpResponse(\\'Um oi do Django!\\')\\\\\\\\n</pre>\\\\\\\\n\\\\\\\\n<div class=\\\\\\\\\\\\\"note\\\\\\\\\\\\\">\\\\\\\\n<p><strong>Nota</strong>: Um pouquinho de Python:</p>\\\\\\\\n\\\\\\\\n<ul>\\\\\\\\n <li><a class=\\\\\\\\\\\\\"external\\\\\\\\\\\\\" href=\\\\\\\\\\\\\"https://docs.python.org/3/tutorial/modules.html\\\\\\\\\\\\\" rel=\\\\\\\\\\\\\"noopener\\\\\\\\\\\\\">M\\\\u00F3dulos do Python</a>\\\\u00A0s\\\\u00E3o \\\\\\\\\\\\\"bibliotecas\\\\\\\\\\\\\" de fun\\\\u00E7\\\\u00F5es, armazenadas em arquivos separados, que podemos\\\\u00A0utilizar em nosso c\\\\u00F3digo. Aqui n\\\\u00F3s importamos apenas o objeto <code>HttpResponse</code> do m\\\\u00F3dulo <code>django.http</code> para que possamos us\\\\u00E1-lo em nossa view: <code>from django.http import HttpResponse</code>. Existem outras maneiras de importar alguns ou todos os objetos de um m\\\\u00F3dulo.</li>\\\\\\\\n <li>As fun\\\\u00E7\\\\u00F5es em Python s\\\\u00E3o declaradas usando a palavra-chave <code>def</code> como mostrado acima, com par\\\\u00E2metros nomeados listados entre par\\\\u00EAnteses ap\\\\u00F3s o nome da fun\\\\u00E7\\\\u00E3o; a linha inteira termina em dois pontos. Observe como as pr\\\\u00F3ximas linhas s\\\\u00E3o todas <strong>recuadas</strong>. O recuo \\\\u00E9 importante, pois especifica que as linhas de c\\\\u00F3digo est\\\\u00E3o dentro desse bloco espec\\\\u00EDfico (a indenta\\\\u00E7\\\\u00E3o obrigat\\\\u00F3ria \\\\u00E9 um recurso chave do Python e \\\\u00E9 um dos motivos pelos quais o c\\\\u00F3digo Python \\\\u00E9 t\\\\u00E3o f\\\\u00E1cil de ler).</li>\\\\\\\\n</ul>\\\\\\\\n</div>\\\\\\\\n\\\\\\\\n<ul>\\\\\\\\n</ul>\\\\\\\\n\\\\\\\\n<p>Views geralmente s\\\\u00E3o armazenadas em um arquivo chamado\\\\u00A0<strong>views.py</strong>.</p>\\\\\\\\n\\\\\\\\n<h3 id=\\\\\\\\\\\\\"Definindo_o_modelo_dos_dados_models.py\\\\\\\\\\\\\">Definindo o modelo dos dados\\\\u00A0(models.py)</h3>\\\\\\\\n\\\\\\\\n<p>Os aplicativos web feitos com\\\\u00A0Django gerenciam e consultam dados por meio de objetos do Python chamados de modelos. Os modelos definem a estrutura dos dados armazenados, incluindo os <em>tipos </em>do campo e possivelmente tamb\\\\u00E9m seu tamanho m\\\\u00E1ximo, valores padr\\\\u00E3o, op\\\\u00E7\\\\u00F5es de lista de sele\\\\u00E7\\\\u00E3o, texto de ajuda para documenta\\\\u00E7\\\\u00E3o, texto de etiqueta (label) para formul\\\\u00E1rios etc. A defini\\\\u00E7\\\\u00E3o do modelo \\\\u00E9 independente do banco de dados subjacente\\\\u00A0\\\\u2014\\\\u00A0voc\\\\u00EA pode escolher um dentre v\\\\u00E1rios como parte das configura\\\\u00E7\\\\u00F5es do seu projeto. Uma vez que voc\\\\u00EA escolheu qual banco de dados voc\\\\u00EA quer usar, voc\\\\u00EA n\\\\u00E3o precisa se comunicar diretamente com ele \\\\u2014\\\\u00A0voc\\\\u00EA apenas escreve a estrutura dos seus modelos e qualquer outro c\\\\u00F3digo, e o Django lida com todo o trabalho\\\\u00A0de se comunicar com o banco de dados para voc\\\\u00EA.</p>\\\\\\\\n\\\\\\\\n<p>O trecho de c\\\\u00F3digo abaixo mostra um modelo\\\\u00A0simples do Django para um objeto <code>Team</code>\\\\u00A0(Time).\\\\u00A0A classe <code>Team</code> \\\\u00E9 derivada da classe do Django <code>models.Model</code>.\\\\u00A0Ela define o nome\\\\u00A0e o n\\\\u00EDvel da equipe como campos de caractere e especifica um n\\\\u00FAmero m\\\\u00E1ximo de caracteres a serem armazenados para cada registro. O <code>team_level</code>\\\\u00A0(time_nivel) pode ser um de v\\\\u00E1rios valores, portanto, o definimos como um campo de op\\\\u00E7\\\\u00E3o e fornecemos um mapeamento entre as op\\\\u00E7\\\\u00F5es a serem exibidas e os dados a serem armazenados, junto com um valor padr\\\\u00E3o.</p>\\\\\\\\n\\\\\\\\n<pre class=\\\\\\\\\\\\\"brush: python notranslate\\\\\\\\\\\\\">## filename: models.py\\\\\\\\n\\\\\\\\nfrom django.db import models \\\\\\\\n\\\\\\\\nclass Team(models.Model): \\\\\\\\n\\\\u00A0   team_name = models.CharField(max_length=40) \\\\\\\\n\\\\\\\\n\\\\u00A0 \\\\u00A0 TEAM_LEVELS = (\\\\\\\\n\\\\u00A0 \\\\u00A0 \\\\u00A0 \\\\u00A0 (\\'U09\\', \\'Under 09s\\'),\\\\\\\\n\\\\u00A0 \\\\u00A0 \\\\u00A0 \\\\u00A0 (\\'U10\\', \\'Under 10s\\'),\\\\\\\\n\\\\u00A0 \\\\u00A0 \\\\u00A0 \\\\u00A0 (\\'U11\\', \\'Under 11s\\'),\\\\\\\\n\\\\u00A0       ...  #list other team levels\\\\\\\\n\\\\u00A0 \\\\u00A0 )\\\\\\\\n    \\\\\\\\n    team_level = models.CharField(max_length=3,choices=TEAM_LEVELS,default=\\'U11\\')\\\\\\\\n\\\\\\\\n<code># favor utilizar o c\\\\u00F3digo acima no seu projeto ao inv\\\\u00E9s do que est\\\\u00E1 abaixo</code>\\\\\\\\n## nome do arquivo: models.py\\\\\\\\n\\\\\\\\nfrom django.db import models\\\\\\\\n\\\\\\\\nclass Time(models.Model):\\\\\\\\n    # models.CharField define um campo de caractere no banco de dados e max_length define o tamanho maximo permitido\\\\\\\\n    time_nome = models.CharField(max_length=40)\\\\\\\\n\\\\\\\\n \\\\u00A0 \\\\u00A0TIME_NIVEIS = (\\\\\\\\n \\\\u00A0 \\\\u00A0\\\\u00A0 \\\\u00A0 (\\'A09\\', \\'Abaixo de 09\\'),\\\\\\\\n \\\\u00A0 \\\\u00A0 \\\\u00A0\\\\u00A0 (\\'A10\\', \\'Abaixo de 10\\'),\\\\\\\\n \\\\u00A0 \\\\u00A0 \\\\u00A0  (\\'A11\\', \\'Abaixo de 11\\'),\\\\\\\\n      \\\\u00A0 ... #list other team levels\\\\\\\\n \\\\u00A0 \\\\u00A0)\\\\\\\\n    \\\\\\\\n\\\\u00A0 \\\\u00A0 time_nivel = models.CharField(max_length=3,choices=TIME_NIVEIS,default=\\'A11\\') # choices-op\\\\u00E7\\\\u00F5es / default-padr\\\\u00E3o\\\\\\\\n</pre>\\\\\\\\n\\\\\\\\n<div class=\\\\\\\\\\\\\"note\\\\\\\\\\\\\">\\\\\\\\n<p><strong>Nota</strong>: Um pouquinho de Python:</p>\\\\\\\\n\\\\\\\\n<ul>\\\\\\\\n <li>O Python suporta \\\\\\\\\\\\\"programa\\\\u00E7\\\\u00E3o orientada a objetos\\\\\\\\\\\\\", um estilo de programa\\\\u00E7\\\\u00E3o onde organizamos nosso c\\\\u00F3digo em objetos, que incluem dados\\\\u00A0e fun\\\\u00E7\\\\u00F5es relacionadas para operar nesses dados. Os objetos tamb\\\\u00E9m podem herdar/estender/derivar de outros objetos, permitindo que um comportamento comum entre objetos relacionados seja compartilhado. Em Python, usamos a palavra-chave\\\\u00A0<code>class</code>\\\\u00A0(classe) para definir o \\\\\\\\\\\\\"blueprint\\\\\\\\\\\\\" (modelo/planta/plano) de um objeto. Podemos criar v\\\\u00E1rias <em>inst\\\\u00E2ncias</em> espec\\\\u00EDficas do tipo de objeto com base no modelo da classe.<br>\\\\\\\\n  <br>\\\\\\\\n  Por exemplo, aqui temos uma classe <code>Team</code>\\\\u00A0(Time), que deriva da classe <code>Model</code>. Isso significa que \\\\u00E9 um modelo e conter\\\\u00E1 todos os m\\\\u00E9todos de um modelo, mas tamb\\\\u00E9m podemos fornecer recursos especializados pr\\\\u00F3prios. Em nosso modelo, definimos os campos que nosso banco de dados precisar\\\\u00E1 para armazenar nossos dados, dando-lhes nomes espec\\\\u00EDficos. O Django usa essas defini\\\\u00E7\\\\u00F5es, incluindo os nomes dos campos, para criar o banco de dados subjacente.</li>\\\\\\\\n</ul>\\\\\\\\n</div>\\\\\\\\n\\\\\\\\n<h3 id=\\\\\\\\\\\\\"Consultando_dados_views.py\\\\\\\\\\\\\">Consultando dados\\\\u00A0(views.py)</h3>\\\\\\\\n\\\\\\\\n<p>O modelo Django fornece uma query API simples para buscas no banco de dados. Isto pode combinar com um grande n\\\\u00FAmero de campos ao mesmo tempo utilizando diversos crit\\\\u00E9rios (ex.: exato, mai\\\\u00FAsculas e min\\\\u00FAsculas (case-sensitive), maior que, etc.), e pode suportar defini\\\\u00E7\\\\u00F5es complexas (por exemplo, voc\\\\u00EA pode especificar a busca por times U11 que tem os nomes come\\\\u00E7ando com \\'Fr\\\\\\\\\\\\\" ou terminando com \\\\\\\\\\\\\"al\\\\\\\\\\\\\").</p>\\\\\\\\n\\\\\\\\n<p>O trecho de c\\\\u00F3digo mostra uma fun\\\\u00E7\\\\u00E3o da View (manipulador de recursos) para exibir todos os nossos times U09. A linha em negrito mostra como podemos usar a API modelo de consulta para filtrar todos os registros em que o campo <code>team_level</code> possui exatamente o texto \\'U09\\' (observe como esse crit\\\\u00E9rio \\\\u00E9 passado para a fun\\\\u00E7\\\\u00E3o\\\\u00A0 <code>filter()</code>\\\\u00A0 com o argumento no campo de nome e o tipo de busca de correspond\\\\u00EAncia (<strong>exact</strong>) separado por um sublinhado duplo: <strong>(team_level__exact</strong>).</p>\\\\\\\\n\\\\\\\\n<pre class=\\\\\\\\\\\\\"brush: python notranslate\\\\\\\\\\\\\">## filename: views.py\\\\\\\\n\\\\\\\\nfrom django.shortcuts import render\\\\\\\\nfrom .models import Team \\\\\\\\n\\\\\\\\ndef index(request):\\\\\\\\n\\\\u00A0 \\\\u00A0 <strong>list_teams = Team.objects.filter(team_level__exact=\\\\\\\\\\\\\"U09\\\\\\\\\\\\\")</strong>\\\\\\\\n\\\\u00A0 \\\\u00A0 context = {\\'youngest_teams\\': list_teams}\\\\\\\\n\\\\u00A0 \\\\u00A0 return render(request, \\'/best/index.html\\', context)                                                                         \\\\\\\\n\\\\\\\\n# favor utilizar o c\\\\u00F3digo acima no seu projeto ao inv\\\\u00E9s do c\\\\u00F3digo abaixo \\\\\\\\n## nome do arquivo: views.py\\\\\\\\n\\\\\\\\nfrom django.shortcuts import render \\\\\\\\nfrom .models import Team \\\\\\\\n\\\\\\\\ndef index(request): \\\\\\\\n    <strong>lista_times =</strong> <strong>Team.objects.filter(team_level__exact=\\\\\\\\\\\\\"U09\\\\\\\\\\\\\")</strong> \\\\\\\\n    contexto = {\\'times_jovens\\': lista_times}\\\\\\\\n    return render(request, \\'/best/index.html\\', contexto)\\\\\\\\n</pre>\\\\\\\\n\\\\\\\\n<dl>\\\\\\\\n</dl>\\\\\\\\n\\\\\\\\n<p>A fun\\\\u00E7\\\\u00E3o <code>index()</code> usa a fun\\\\u00E7\\\\u00E3o <code>render()</code> para criar o <code>HttpResponse</code> que \\\\u00E9 enviado de volta para o navegador. Essa fun\\\\u00E7\\\\u00E3o \\\\u00E9 um atalho, ela cria um arquivo HTML combinando um modelo HTML espec\\\\u00EDfico com alguns dados (fornecidos pela vari\\\\u00E1vel denominada \\\\\\\\\\\\\"<code>context</code>\\\\\\\\\\\\\"). Na pr\\\\u00F3xima se\\\\u00E7\\\\u00E3o, mostramos como os dados s\\\\u00E3o inseridos no modelo para criar HTML.</p>\\\\\\\\n\\\\\\\\n<h3 id=\\\\\\\\\\\\\"Renderizando_dados_Modelos_HTML\\\\\\\\\\\\\">Renderizando dados (Modelos HTML)</h3>\\\\\\\\n\\\\\\\\n<p>O sistema de modelo permite especificar a estrutura de um documento de sa\\\\u00EDda, usando espa\\\\u00E7os reservados para dados que ser\\\\u00E3o preenchidos quando uma p\\\\u00E1gina for gerada. Os modelos geralmente s\\\\u00E3o usados para criar HTML, mas tamb\\\\u00E9m podem criar outros tipos de documentos. O Django suporta o sistema de modelos nativo e outra biblioteca Python popular chamada Jinja2 pronta para uso (tamb\\\\u00E9m pode ser feita para suportar outros sistemas, se necess\\\\u00E1rio).</p>\\\\\\\\n\\\\\\\\n<p>O trecho de c\\\\u00F3digo mostra a apar\\\\u00EAncia do modelo HTML chamado pela fun\\\\u00E7\\\\u00E3o <code>render()</code> na se\\\\u00E7\\\\u00E3o anterior. Este modelo foi escrito sob a premissa de que ele ter\\\\u00E1 acesso a uma vari\\\\u00E1vel do tipo lista chamada <code>youngest_teams</code> quando for renderizada (contida na vari\\\\u00E1vel <code>context</code> dentro da fun\\\\u00E7\\\\u00E3o <code>render()</code> acima). Dentro do esqueleto HTML, temos um a express\\\\u00E3o que primeiro verifica se a vari\\\\u00E1vel <code>youngest_teams</code> existe e a itera em um loop <code>for</code>. Em cada itera\\\\u00E7\\\\u00E3o, o modelo exibe o valor <code>team_name</code> de cada equipe em um elemento <a href=\\\\\\\\\\\\\"/pt-BR/docs/Web/HTML/Element/li\\\\\\\\\\\\\" title=\\\\\\\\\\\\\"O\\\\u00A0elemento HTML &lt;li>\\\\u00A0 (ou a Lista dos Itens de um elemento HTML) \\\\u00E9 usado para representar um item que faz parte de uma lista. Este item deve estar contido em um elemento pai: uma lista ordenada (&lt;ol>), uma lista desordenada (&lt;ul>), ou um menu (&lt;menu>) e representa uma \\\\u00FAnica entidade dessa lista. Em menus e listas desordenadas a rela\\\\u00E7\\\\u00E3o de itens \\\\u00E9 exibida, normalmente, usando pontos de marca\\\\u00E7\\\\u00E3o (as bolinhas). Em listas ordenadas eles s\\\\u00E3o, comumente, mostrados com algum contador ascendente - como um n\\\\u00FAmero, ou letra - \\\\u00E0 sua esquerda.\\\\\\\\\\\\\"><code>&lt;li&gt;</code></a>.</p>\\\\\\\\n\\\\\\\\n<pre class=\\\\\\\\\\\\\"brush: python notranslate\\\\\\\\\\\\\">## filename: best/templates/best/index.html\\\\\\\\n\\\\\\\\n&lt;!DOCTYPE html&gt;\\\\\\\\n&lt;html lang=\\\\\\\\\\\\\"en\\\\\\\\\\\\\"&gt;\\\\\\\\n&lt;body&gt;\\\\\\\\n\\\\\\\\n {% if youngest_teams %}\\\\\\\\n\\\\u00A0 \\\\u00A0 &lt;ul&gt;\\\\\\\\n\\\\u00A0 \\\\u00A0 {% for team in youngest_teams %}\\\\\\\\n\\\\u00A0 \\\\u00A0 \\\\u00A0 \\\\u00A0 &lt;li&gt;{{ team.team_name }}&lt;/li&gt;\\\\\\\\n\\\\u00A0 \\\\u00A0 {% endfor %}\\\\\\\\n\\\\u00A0 \\\\u00A0 &lt;/ul&gt;\\\\\\\\n{% else %}\\\\\\\\n\\\\u00A0 \\\\u00A0 &lt;p&gt;No teams are available.&lt;/p&gt;\\\\\\\\n{% endif %}\\\\\\\\n\\\\\\\\n&lt;/body&gt;\\\\\\\\n&lt;/html&gt;\\\\\\\\n\\\\\\\\n#favor utilizar o c\\\\u00F3digo acima no seu projeto ao inv\\\\u00E9s do c\\\\u00F3digo abaixo\\\\\\\\n## nome do arquivo: best/templates/best/index.html \\\\\\\\n\\\\\\\\n&lt;!DOCTYPE html&gt; \\\\\\\\n&lt;html lang=\\\\\\\\\\\\\"pt\\\\\\\\\\\\\"&gt; \\\\\\\\n&lt;body&gt; \\\\\\\\n\\\\\\\\n {% if youngest_teams %} \\\\u00A0 \\\\u00A0 \\\\\\\\n    &lt;ul&gt; \\\\u00A0 \\\\u00A0 \\\\\\\\n     {% for team in youngest_teams %}\\\\\\\\n \\\\u00A0 \\\\u00A0 \\\\u00A0 \\\\u00A0 &lt;li&gt;{{ team.team_name }}&lt;/li&gt;\\\\\\\\n \\\\u00A0 \\\\u00A0 {% endfor %} \\\\u00A0 \\\\u00A0 &lt;/ul&gt; {% else %}\\\\\\\\n \\\\u00A0 \\\\u00A0 &lt;p&gt;Nenhum time dispon\\\\u00EDvel.&lt;/p&gt;\\\\\\\\n {% endif %}\\\\\\\\n &lt;/body&gt;\\\\\\\\n &lt;/html&gt;\\\\\\\\n</pre>\\\\\\\\n\\\\\\\\n<h2 id=\\\\\\\\\\\\\"O_que_mais_voc\\\\u00EA_pode_fazer\\\\\\\\\\\\\">O que mais voc\\\\u00EA pode fazer?</h2>\\\\\\\\n\\\\\\\\n<p>As se\\\\u00E7\\\\u00F5es anteriores mostram os principais recursos que voc\\\\u00EA usar\\\\u00E1 na maioria dos aplicativos Web: mapeamento de URL, views, moldes e modelos. O Django tamb\\\\u00E9m fornece outras coisas, como:</p>\\\\\\\\n\\\\\\\\n<ul>\\\\\\\\n <li><strong>Formul\\\\u00E1rios (Forms)</strong>: Os formul\\\\u00E1rios HTML s\\\\u00E3o usados para coletar dados do usu\\\\u00E1rio para processamento no servidor. Django simplifica a cria\\\\u00E7\\\\u00E3o, valida\\\\u00E7\\\\u00E3o e processamento de formul\\\\u00E1rios.</li>\\\\\\\\n <li><strong>Autentica\\\\u00E7\\\\u00E3o de usu\\\\u00E1rio e permiss\\\\u00F5es</strong>: Django inclui um sistema robusto de autentic\\\\u00E7\\\\u00E3o e permiss\\\\u00E3o de usu\\\\u00E1rio, constru\\\\u00EDdo com a seguran\\\\u00E7a em mente.</li>\\\\\\\\n <li><strong>Caching</strong>: Criar conte\\\\u00FAdo dinamicamente \\\\u00E9 muito mais pesado (e lento) computacionalmente do que exibir conte\\\\u00FAdo est\\\\u00E1tico. O Django fornece armazenamento em cache flex\\\\u00EDvel para que voc\\\\u00EA possa armazenar toda ou parte de uma p\\\\u00E1gina pronta para que ela n\\\\u00E3o seja renderizada novamente, exceto quando necess\\\\u00E1rio.</li>\\\\\\\\n <li><strong>Site de administra\\\\u00E7\\\\u00E3o</strong>: O site de administra\\\\u00E7\\\\u00E3o do Django \\\\u00E9 inclu\\\\u00EDdo por padr\\\\u00E3o quando voc\\\\u00EA cria um aplicativo usando o esqueleto b\\\\u00E1sico. Ele facilita o fornecimento de uma p\\\\u00E1gina de administra\\\\u00E7\\\\u00E3o para os administradores do site criarem, editarem e exibirem quaisquer modelos de dados em seu site</li>\\\\\\\\n <li><strong>Serializando dados</strong>: O Django facilita a serializa\\\\u00E7\\\\u00E3o e a veicula\\\\u00E7\\\\u00E3o de dados como XML ou JSON. Isso pode ser \\\\u00FAtil ap criar um servi\\\\u00E7o Web (um site que serve apenas para que dados sejam consumidos por outros aplicativos ou sites e n\\\\u00E3o exibe nada por si s\\\\u00F3), ou ao criar um site no qual o c\\\\u00F3digo do lado do cliente lida com todas as renderiza\\\\u00E7\\\\u00F5es.</li>\\\\\\\\n</ul>\\\\\\\\n\\\\\\\\n<h2 id=\\\\\\\\\\\\\"Resumo\\\\\\\\\\\\\">Resumo</h2>\\\\\\\\n\\\\\\\\n<p>Parab\\\\u00E9ns, voc\\\\u00EA completou o primeiro passo em sua jornada no Django! Agora voc\\\\u00EA deve entender os principais benef\\\\u00EDcios do Django, um pouco sobre sua hist\\\\u00F3ria e aproximadamente como podem ser as partes principais de um aplicativo Django. Voc\\\\u00EA tamb\\\\u00E9m deve ter aprendido algumas coisas sobre a linguagem de programa\\\\u00E7\\\\u00E3o Python, incluindo a sintaxe para listas, fun\\\\u00E7\\\\u00F5es e classes.</p>\\\\\\\\n\\\\\\\\n<p>Voc\\\\u00EA j\\\\u00E1 viu algum c\\\\u00F3digo real do Django acima, mas, diferentemente do c\\\\u00F3digo do lado do cliente, voc\\\\u00EA precisa configurar um ambiente de desenvolvimento para execut\\\\u00E1-lo. Esse \\\\u00E9 o nosso pr\\\\u00F3ximo passo.</p>\\\\\\\\n\\\\\\\\n<div><div class=\\\\\\\\\\\\\"prevnext\\\\\\\\\\\\\">\\\\\\\\n  <a href=\\\\\\\\\\\\\"/pt-BR/docs/Learn/Server-side/Django\\\\\\\\\\\\\"><i class=\\\\\\\\\\\\\"icon-arrow-up\\\\\\\\\\\\\"></i> Menu: Django</a><a class=\\\\\\\\\\\\\"new\\\\\\\\\\\\\" href=\\\\\\\\\\\\\"/pt-BR/docs/Learn/Server-side/Django/development_environment\\\\\\\\\\\\\" rel=\\\\\\\\\\\\\"nofollow\\\\\\\\\\\\\"><span class=\\\\\\\\\\\\\"label\\\\\\\\\\\\\"> Pr\\\\u00F3xima  </span><i class=\\\\\\\\\\\\\"icon-arrow-right\\\\\\\\\\\\\"></i></a>\\\\\\\\n</div></div>\\\\\\\\n\\\\\\\\n<h2 id=\\\\\\\\\\\\\"Neste_m\\\\u00F3dulo\\\\\\\\\\\\\">Neste m\\\\u00F3dulo</h2>\\\\\\\\n\\\\\\\\n<ul>\\\\\\\\n <li><a href=\\\\\\\\\\\\\"/pt-BR/docs/Learn/Server-side/Django/Introdu\\\\u00E7\\\\u00E3o\\\\\\\\\\\\\">Introdu\\\\u00E7\\\\u00E3o ao Django</a></li>\\\\\\\\n <li><a href=\\\\\\\\\\\\\"/en-US/docs/Learn/Server-side/Django/development_environment\\\\\\\\\\\\\">Configurando um ambiente de desenvolvimento</a></li>\\\\\\\\n <li><a href=\\\\\\\\\\\\\"/en-US/docs/Learn/Server-side/Django/Tutorial_local_library_website\\\\\\\\\\\\\">Tutorial Django: The Local Library website</a></li>\\\\\\\\n <li><a href=\\\\\\\\\\\\\"/en-US/docs/Learn/Server-side/Django/Tutorial_local_library_website\\\\\\\\\\\\\">Tutorial Django</a><a href=\\\\\\\\\\\\\"/en-US/docs/Learn/Server-side/Django/skeleton_website\\\\\\\\\\\\\"> Parte 2: Criando um esqueleto de site</a></li>\\\\\\\\n <li><a href=\\\\\\\\\\\\\"/en-US/docs/Learn/Server-side/Django/Tutorial_local_library_website\\\\\\\\\\\\\">Tutorial Django</a><a href=\\\\\\\\\\\\\"/en-US/docs/Learn/Server-side/Django/Models\\\\\\\\\\\\\"> Parte 3: Usando moldes</a></li>\\\\\\\\n <li><a href=\\\\\\\\\\\\\"/en-US/docs/Learn/Server-side/Django/Tutorial_local_library_website\\\\\\\\\\\\\">Tutorial Django</a><a href=\\\\\\\\\\\\\"/en-US/docs/Learn/Server-side/Django/Admin_site\\\\\\\\\\\\\"> Parte 4: Site administrador do Django</a></li>\\\\\\\\n <li><a href=\\\\\\\\\\\\\"/en-US/docs/Learn/Server-side/Django/Tutorial_local_library_website\\\\\\\\\\\\\">Tutorial Django</a><a href=\\\\\\\\\\\\\"/en-US/docs/Learn/Server-side/Django/Home_page\\\\\\\\\\\\\"> Parte 5: Criando nossa p\\\\u00E1gina principal</a></li>\\\\\\\\n <li><a href=\\\\\\\\\\\\\"/en-US/docs/Learn/Server-side/Django/Tutorial_local_library_website\\\\\\\\\\\\\">Tutorial Django</a><a href=\\\\\\\\\\\\\"/en-US/docs/Learn/Server-side/Django/Generic_views\\\\\\\\\\\\\"> Parte 6: Generic list and detail views</a></li>\\\\\\\\n <li><a href=\\\\\\\\\\\\\"/en-US/docs/Learn/Server-side/Django/Tutorial_local_library_website\\\\\\\\\\\\\">Tutorial Django</a><a href=\\\\\\\\\\\\\"/en-US/docs/Learn/Server-side/Django/Sessions\\\\\\\\\\\\\"> Parte 7: Sessions framework</a></li>\\\\\\\\n <li><a href=\\\\\\\\\\\\\"/en-US/docs/Learn/Server-side/Django/Tutorial_local_library_website\\\\\\\\\\\\\">Tutorial Django</a><a href=\\\\\\\\\\\\\"/en-US/docs/Learn/Server-side/Django/Authentication\\\\\\\\\\\\\"> Parte 8: Autentica\\\\u00E7\\\\u00E3o de usu\\\\u00E1rio e permiss\\\\u00F5es</a></li>\\\\\\\\n <li><a href=\\\\\\\\\\\\\"/en-US/docs/Learn/Server-side/Django/Tutorial_local_library_website\\\\\\\\\\\\\">Tutorial Django</a><a href=\\\\\\\\\\\\\"/en-US/docs/Learn/Server-side/Django/Forms\\\\\\\\\\\\\"> Parte 9: Trabalhando com formul\\\\u00E1rios</a></li>\\\\\\\\n <li><a href=\\\\\\\\\\\\\"/en-US/docs/Learn/Server-side/Django/Tutorial_local_library_website\\\\\\\\\\\\\">Tutorial Django</a><a href=\\\\\\\\\\\\\"/en-US/docs/Learn/Server-side/Django/Testing\\\\\\\\\\\\\"> Parte 10: Testando uma aplica\\\\u00E7\\\\u00E3o web Django</a></li>\\\\\\\\n <li><a href=\\\\\\\\\\\\\"/en-US/docs/Learn/Server-side/Django/Tutorial_local_library_website\\\\\\\\\\\\\">Tutorial Django</a><a href=\\\\\\\\\\\\\"/en-US/docs/Learn/Server-side/Django/Deployment\\\\\\\\\\\\\"> Parte 11: Implantando o Django na produ\\\\u00E7\\\\u00E3o</a></li>\\\\\\\\n <li><a href=\\\\\\\\\\\\\"/en-US/docs/Learn/Server-side/Django/web_application_security\\\\\\\\\\\\\">Seguran\\\\u00E7a da aplica\\\\u00E7\\\\u00E3o web Django</a></li>\\\\\\\\n <li><a href=\\\\\\\\\\\\\"/en-US/docs/Learn/Server-side/Django/django_assessment_blog\\\\\\\\\\\\\">Criando um mini blog Django</a></li>\\\\\\\\n</ul>\\\\\",\\\\\"quickLinksHTML\\\\\":\\\\\"\\\\\\\\n\\\\\\\\n<ol>\\\\\\\\n  <li data-default-state=\\\\\\\\\\\\\"closed\\\\\\\\\\\\\"><a class=\\\\\\\\\\\\\"new\\\\\\\\\\\\\" href=\\\\\\\\\\\\\"/pt-BR/docs/Learn/Getting_started_with_the_web\\\\\\\\\\\\\" rel=\\\\\\\\\\\\\"nofollow\\\\\\\\\\\\\"><strong>Completos iniciantes, comecem por aqui!</strong></a></li>\\\\\\\\n  <li class=\\\\\\\\\\\\\"toggle\\\\\\\\\\\\\">\\\\\\\\n      <details>\\\\\\\\n          <summary>Iniciando na Internet</summary>\\\\\\\\n          <ol>\\\\\\\\n            <li><a class=\\\\\\\\\\\\\"new\\\\\\\\\\\\\" href=\\\\\\\\\\\\\"/pt-BR/docs/Learn/Getting_started_with_the_web\\\\\\\\\\\\\" rel=\\\\\\\\\\\\\"nofollow\\\\\\\\\\\\\">Vis\\\\u00E3o geral sobre Iniciando na Internet</a></li>\\\\\\\\n            <li><a class=\\\\\\\\\\\\\"new\\\\\\\\\\\\\" href=\\\\\\\\\\\\\"/pt-BR/docs/Learn/Getting_started_with_the_web/Installing_basic_software\\\\\\\\\\\\\" rel=\\\\\\\\\\\\\"nofollow\\\\\\\\\\\\\">Instala\\\\u00E7\\\\u00E3o dos softwares b\\\\u00E1sicos</a></li>\\\\\\\\n            <li><a class=\\\\\\\\\\\\\"new\\\\\\\\\\\\\" href=\\\\\\\\\\\\\"/pt-BR/docs/Learn/Getting_started_with_the_web/What_will_your_website_look_like\\\\\\\\\\\\\" rel=\\\\\\\\\\\\\"nofollow\\\\\\\\\\\\\">Como ser\\\\u00E1 seu site?</a></li>\\\\\\\\n            <li><a class=\\\\\\\\\\\\\"new\\\\\\\\\\\\\" href=\\\\\\\\\\\\\"/pt-BR/docs/Learn/Getting_started_with_the_web/Dealing_with_files\\\\\\\\\\\\\" rel=\\\\\\\\\\\\\"nofollow\\\\\\\\\\\\\">Lidando com arquivos</a></li>\\\\\\\\n            <li><a class=\\\\\\\\\\\\\"new\\\\\\\\\\\\\" href=\\\\\\\\\\\\\"/pt-BR/docs/Learn/Getting_started_with_the_web/HTML_basics\\\\\\\\\\\\\" rel=\\\\\\\\\\\\\"nofollow\\\\\\\\\\\\\">O b\\\\u00E1sico de HTML</a></li>\\\\\\\\n            <li><a class=\\\\\\\\\\\\\"new\\\\\\\\\\\\\" href=\\\\\\\\\\\\\"/pt-BR/docs/Learn/Getting_started_with_the_web/CSS_basics\\\\\\\\\\\\\" rel=\\\\\\\\\\\\\"nofollow\\\\\\\\\\\\\">O b\\\\u00E1sico de CSS</a></li>\\\\\\\\n            <li><a class=\\\\\\\\\\\\\"new\\\\\\\\\\\\\" href=\\\\\\\\\\\\\"/pt-BR/docs/Learn/Getting_started_with_the_web/JavaScript_basics\\\\\\\\\\\\\" rel=\\\\\\\\\\\\\"nofollow\\\\\\\\\\\\\">O b\\\\u00E1sico de JavaScript</a></li>\\\\\\\\n            <li><a class=\\\\\\\\\\\\\"new\\\\\\\\\\\\\" href=\\\\\\\\\\\\\"/pt-BR/docs/Learn/Getting_started_with_the_web/Publishing_your_website\\\\\\\\\\\\\" rel=\\\\\\\\\\\\\"nofollow\\\\\\\\\\\\\">Publicando seu site</a></li>\\\\\\\\n            <li><a class=\\\\\\\\\\\\\"new\\\\\\\\\\\\\" href=\\\\\\\\\\\\\"/pt-BR/docs/Learn/Getting_started_with_the_web/How_the_Web_works\\\\\\\\\\\\\" rel=\\\\\\\\\\\\\"nofollow\\\\\\\\\\\\\">Como a Internet funciona</a></li>\\\\\\\\n          </ol>\\\\\\\\n      </details>\\\\\\\\n  </li>\\\\\\\\n  <li data-default-state=\\\\\\\\\\\\\"closed\\\\\\\\\\\\\"><a class=\\\\\\\\\\\\\"new\\\\\\\\\\\\\" href=\\\\\\\\\\\\\"/pt-BR/docs/Learn/HTML\\\\\\\\\\\\\" rel=\\\\\\\\\\\\\"nofollow\\\\\\\\\\\\\"><strong>HTML \\\\u2014 Estruturando a Web</strong></a></li>\\\\\\\\n  <li class=\\\\\\\\\\\\\"toggle\\\\\\\\\\\\\">\\\\\\\\n      <details>\\\\\\\\n          <summary>Introdu\\\\u00E7\\\\u00E3o ao HTML</summary>\\\\\\\\n          <ol>\\\\\\\\n            <li><a class=\\\\\\\\\\\\\"new\\\\\\\\\\\\\" href=\\\\\\\\\\\\\"/pt-BR/docs/Learn/HTML/Introduction_to_HTML\\\\\\\\\\\\\" rel=\\\\\\\\\\\\\"nofollow\\\\\\\\\\\\\">Vis\\\\u00E3o geral da Introdu\\\\u00E7\\\\u00E3o ao HTML</a></li>\\\\\\\\n            <li><a class=\\\\\\\\\\\\\"new\\\\\\\\\\\\\" href=\\\\\\\\\\\\\"/pt-BR/docs/Learn/HTML/Introduction_to_HTML/Getting_started\\\\\\\\\\\\\" rel=\\\\\\\\\\\\\"nofollow\\\\\\\\\\\\\">Iniciando em HTML</a></li>\\\\\\\\n            <li><a class=\\\\\\\\\\\\\"new\\\\\\\\\\\\\" href=\\\\\\\\\\\\\"/pt-BR/docs/Learn/HTML/Introduction_to_HTML/The_head_metadata_in_HTML\\\\\\\\\\\\\" rel=\\\\\\\\\\\\\"nofollow\\\\\\\\\\\\\">O que est\\\\u00E1 no \\\\\\\\\\\\\"head\\\\\\\\\\\\\"? Metadados em HTML</a></li>\\\\\\\\n            <li><a class=\\\\\\\\\\\\\"new\\\\\\\\\\\\\" href=\\\\\\\\\\\\\"/pt-BR/docs/Learn/HTML/Introduction_to_HTML/HTML_text_fundamentals\\\\\\\\\\\\\" rel=\\\\\\\\\\\\\"nofollow\\\\\\\\\\\\\">Fundamentos de Textos HTML</a></li>\\\\\\\\n            <li><a class=\\\\\\\\\\\\\"new\\\\\\\\\\\\\" href=\\\\\\\\\\\\\"/pt-BR/docs/Learn/HTML/Introduction_to_HTML/Creating_hyperlinks\\\\\\\\\\\\\" rel=\\\\\\\\\\\\\"nofollow\\\\\\\\\\\\\">Criando hiperlinks</a></li>\\\\\\\\n            <li><a class=\\\\\\\\\\\\\"new\\\\\\\\\\\\\" href=\\\\\\\\\\\\\"/pt-BR/docs/Learn/HTML/Introduction_to_HTML/Advanced_text_formatting\\\\\\\\\\\\\" rel=\\\\\\\\\\\\\"nofollow\\\\\\\\\\\\\">Formata\\\\u00E7\\\\u00E3o avan\\\\u00E7ada de textos</a></li>\\\\\\\\n            <li><a class=\\\\\\\\\\\\\"new\\\\\\\\\\\\\" href=\\\\\\\\\\\\\"/pt-BR/docs/Learn/HTML/Introduction_to_HTML/Document_and_website_structure\\\\\\\\\\\\\" rel=\\\\\\\\\\\\\"nofollow\\\\\\\\\\\\\">Estrutura de Documentos e Sites</a></li>\\\\\\\\n            <li><a class=\\\\\\\\\\\\\"new\\\\\\\\\\\\\" href=\\\\\\\\\\\\\"/pt-BR/docs/Learn/HTML/Introduction_to_HTML/Debugging_HTML\\\\\\\\\\\\\" rel=\\\\\\\\\\\\\"nofollow\\\\\\\\\\\\\">Depurando HTML</a></li>\\\\\\\\n            <li><a class=\\\\\\\\\\\\\"new\\\\\\\\\\\\\" href=\\\\\\\\\\\\\"/pt-BR/docs/Learn/HTML/Introduction_to_HTML/Marking_up_a_letter\\\\\\\\\\\\\" rel=\\\\\\\\\\\\\"nofollow\\\\\\\\\\\\\">Avalia\\\\u00E7\\\\u00E3o: Marcando uma carta</a></li>\\\\\\\\n            <li><a class=\\\\\\\\\\\\\"new\\\\\\\\\\\\\" href=\\\\\\\\\\\\\"/pt-BR/docs/Learn/HTML/Introduction_to_HTML/Structuring_a_page_of_content\\\\\\\\\\\\\" rel=\\\\\\\\\\\\\"nofollow\\\\\\\\\\\\\">Avalia\\\\u00E7\\\\u00E3o: Estrutura\\\\u00E7\\\\u00E3o de uma p\\\\u00E1gina de conte\\\\u00FAdo</a></li>\\\\\\\\n          </ol>\\\\\\\\n      </details>\\\\\\\\n  </li>\\\\\\\\n  <li class=\\\\\\\\\\\\\"toggle\\\\\\\\\\\\\">\\\\\\\\n      <details>\\\\\\\\n          <summary>Multim\\\\u00EDdia e incorpora\\\\u00E7\\\\u00E3o</summary>\\\\\\\\n          <ol>\\\\\\\\n            <li><a class=\\\\\\\\\\\\\"new\\\\\\\\\\\\\" href=\\\\\\\\\\\\\"/pt-BR/docs/Learn/HTML/Multimedia_and_embedding\\\\\\\\\\\\\" rel=\\\\\\\\\\\\\"nofollow\\\\\\\\\\\\\">Vis\\\\u00E3o geral sobre Multim\\\\u00EDdia e incorpora\\\\u00E7\\\\u00E3o</a></li>\\\\\\\\n            <li><a class=\\\\\\\\\\\\\"new\\\\\\\\\\\\\" href=\\\\\\\\\\\\\"/pt-BR/docs/Learn/HTML/Multimedia_and_embedding/Images_in_HTML\\\\\\\\\\\\\" rel=\\\\\\\\\\\\\"nofollow\\\\\\\\\\\\\">Imagens em HTML</a></li>\\\\\\\\n            <li><a class=\\\\\\\\\\\\\"new\\\\\\\\\\\\\" href=\\\\\\\\\\\\\"/pt-BR/docs/Learn/HTML/Multimedia_and_embedding/Video_and_audio_content\\\\\\\\\\\\\" rel=\\\\\\\\\\\\\"nofollow\\\\\\\\\\\\\">Conte\\\\u00FAdos em V\\\\u00EDdeo e \\\\u00E1udio</a></li>\\\\\\\\n            <li><a class=\\\\\\\\\\\\\"new\\\\\\\\\\\\\" href=\\\\\\\\\\\\\"/pt-BR/docs/Learn/HTML/Multimedia_and_embedding/Other_embedding_technologies\\\\\\\\\\\\\" rel=\\\\\\\\\\\\\"nofollow\\\\\\\\\\\\\">De objeto a iframe \\\\u2014 outras tecnologias de incorpora\\\\u00E7\\\\u00E3o</a></li>\\\\\\\\n            <li><a class=\\\\\\\\\\\\\"new\\\\\\\\\\\\\" href=\\\\\\\\\\\\\"/pt-BR/docs/Learn/HTML/Multimedia_and_embedding/Adding_vector_graphics_to_the_Web\\\\\\\\\\\\\" rel=\\\\\\\\\\\\\"nofollow\\\\\\\\\\\\\">Adicionando vetores gr\\\\u00E1ficos na Web</a></li>\\\\\\\\n            <li><a class=\\\\\\\\\\\\\"new\\\\\\\\\\\\\" href=\\\\\\\\\\\\\"/pt-BR/docs/Learn/HTML/Multimedia_and_embedding/Responsive_images\\\\\\\\\\\\\" rel=\\\\\\\\\\\\\"nofollow\\\\\\\\\\\\\">Imagens responsivas</a></li>\\\\\\\\n            <li><a class=\\\\\\\\\\\\\"new\\\\\\\\\\\\\" href=\\\\\\\\\\\\\"/pt-BR/docs/Learn/HTML/Multimedia_and_embedding/Mozilla_splash_page\\\\\\\\\\\\\" rel=\\\\\\\\\\\\\"nofollow\\\\\\\\\\\\\">Avalia\\\\u00E7\\\\u00E3o: P\\\\u00E1gina de abertura da Mozilla</a></li>\\\\\\\\n          </ol>\\\\\\\\n      </details>\\\\\\\\n  </li>\\\\\\\\n  <li class=\\\\\\\\\\\\\"toggle\\\\\\\\\\\\\">\\\\\\\\n      <details>\\\\\\\\n          <summary>Tabelas HTML</summary>\\\\\\\\n          <ol>\\\\\\\\n            <li><a class=\\\\\\\\\\\\\"new\\\\\\\\\\\\\" href=\\\\\\\\\\\\\"/pt-BR/docs/Learn/HTML/Tables\\\\\\\\\\\\\" rel=\\\\\\\\\\\\\"nofollow\\\\\\\\\\\\\">Vis\\\\u00E3o geral sobre tabelas HTML</a></li>\\\\\\\\n            <li><a class=\\\\\\\\\\\\\"new\\\\\\\\\\\\\" href=\\\\\\\\\\\\\"/pt-BR/docs/Learn/HTML/Tables/Basics\\\\\\\\\\\\\" rel=\\\\\\\\\\\\\"nofollow\\\\\\\\\\\\\">O b\\\\u00E1sico sobre Tabelas HTML</a></li>\\\\\\\\n            <li><a class=\\\\\\\\\\\\\"new\\\\\\\\\\\\\" href=\\\\\\\\\\\\\"/pt-BR/docs/Learn/HTML/Tables/Advanced\\\\\\\\\\\\\" rel=\\\\\\\\\\\\\"nofollow\\\\\\\\\\\\\">Funcionalidades avan\\\\u00E7adas e acessibilidade de Tabelas HTML</a></li>\\\\\\\\n            <li><a class=\\\\\\\\\\\\\"new\\\\\\\\\\\\\" href=\\\\\\\\\\\\\"/pt-BR/docs/Learn/HTML/Tables/Structuring_planet_data\\\\\\\\\\\\\" rel=\\\\\\\\\\\\\"nofollow\\\\\\\\\\\\\">Avalia\\\\u00E7\\\\u00E3o: Estrutura\\\\u00E7\\\\u00E3o dos dados do planenta</a></li>\\\\\\\\n          </ol>\\\\\\\\n      </details>\\\\\\\\n  </li>\\\\\\\\n  <li data-default-state=\\\\\\\\\\\\\"closed\\\\\\\\\\\\\"><a class=\\\\\\\\\\\\\"new\\\\\\\\\\\\\" href=\\\\\\\\\\\\\"/pt-BR/docs/Learn/CSS\\\\\\\\\\\\\" rel=\\\\\\\\\\\\\"nofollow\\\\\\\\\\\\\"><strong>CSS \\\\u2014 Estilizando a Web</strong></a></li>\\\\\\\\n  <li class=\\\\\\\\\\\\\"toggle\\\\\\\\\\\\\">\\\\\\\\n      <details>\\\\\\\\n          <summary>CSS first steps</summary>\\\\\\\\n          <ol>\\\\\\\\n            <li><a href=\\\\\\\\\\\\\"/pt-BR/docs/Learn/CSS/First_steps\\\\\\\\\\\\\">CSS first steps overview</a></li>\\\\\\\\n            <li><a class=\\\\\\\\\\\\\"new\\\\\\\\\\\\\" href=\\\\\\\\\\\\\"/pt-BR/docs/Learn/CSS/First_steps/What_is_CSS\\\\\\\\\\\\\" rel=\\\\\\\\\\\\\"nofollow\\\\\\\\\\\\\">What is CSS?</a></li>\\\\\\\\n            <li><a class=\\\\\\\\\\\\\"new\\\\\\\\\\\\\" href=\\\\\\\\\\\\\"/pt-BR/docs/Learn/CSS/First_steps/Getting_started\\\\\\\\\\\\\" rel=\\\\\\\\\\\\\"nofollow\\\\\\\\\\\\\">Getting started with CSS</a></li>\\\\\\\\n            <li><a class=\\\\\\\\\\\\\"new\\\\\\\\\\\\\" href=\\\\\\\\\\\\\"/pt-BR/docs/Learn/CSS/First_steps/How_CSS_is_structured\\\\\\\\\\\\\" rel=\\\\\\\\\\\\\"nofollow\\\\\\\\\\\\\">How CSS is structured</a></li>\\\\\\\\n            <li><a href=\\\\\\\\\\\\\"/pt-BR/docs/Learn/CSS/First_steps/How_CSS_works\\\\\\\\\\\\\">How CSS works</a></li>\\\\\\\\n            <li><a href=\\\\\\\\\\\\\"/pt-BR/docs/Learn/CSS/First_steps/Using_your_new_knowledge\\\\\\\\\\\\\">Using your new knowledge</a></li>\\\\\\\\n          </ol>\\\\\\\\n      </details>\\\\\\\\n  </li>\\\\\\\\n  <li class=\\\\\\\\\\\\\"toggle\\\\\\\\\\\\\">\\\\\\\\n      <details>\\\\\\\\n          <summary>CSS building blocks</summary>\\\\\\\\n          <ol>\\\\\\\\n            <li><a class=\\\\\\\\\\\\\"new\\\\\\\\\\\\\" href=\\\\\\\\\\\\\"/pt-BR/docs/Learn/CSS/Building_blocks\\\\\\\\\\\\\" rel=\\\\\\\\\\\\\"nofollow\\\\\\\\\\\\\">CSS building blocks overview</a></li>\\\\\\\\n            <li><a class=\\\\\\\\\\\\\"new\\\\\\\\\\\\\" href=\\\\\\\\\\\\\"/pt-BR/docs/Learn/CSS/Building_blocks/Cascade_and_inheritance\\\\\\\\\\\\\" rel=\\\\\\\\\\\\\"nofollow\\\\\\\\\\\\\">Cascade and inheritance</a></li>\\\\\\\\n            <li><a href=\\\\\\\\\\\\\"/pt-BR/docs/Learn/CSS/Building_blocks/Selectors\\\\\\\\\\\\\">CSS selectors</a></li>\\\\\\\\n            <li><a class=\\\\\\\\\\\\\"new\\\\\\\\\\\\\" href=\\\\\\\\\\\\\"/pt-BR/docs/Learn/CSS/Building_blocks/The_box_model\\\\\\\\\\\\\" rel=\\\\\\\\\\\\\"nofollow\\\\\\\\\\\\\">The box model</a></li>\\\\\\\\n            <li><a class=\\\\\\\\\\\\\"new\\\\\\\\\\\\\" href=\\\\\\\\\\\\\"/pt-BR/docs/Learn/CSS/Building_blocks/Backgrounds_and_borders\\\\\\\\\\\\\" rel=\\\\\\\\\\\\\"nofollow\\\\\\\\\\\\\">Backgrounds and borders</a></li>\\\\\\\\n            <li><a class=\\\\\\\\\\\\\"new\\\\\\\\\\\\\" href=\\\\\\\\\\\\\"/pt-BR/docs/Learn/CSS/Building_blocks/Handling_different_text_directions\\\\\\\\\\\\\" rel=\\\\\\\\\\\\\"nofollow\\\\\\\\\\\\\">Handling different text directions</a></li>\\\\\\\\n            <li><a class=\\\\\\\\\\\\\"new\\\\\\\\\\\\\" href=\\\\\\\\\\\\\"/pt-BR/docs/Learn/CSS/Building_blocks/Overflowing_content\\\\\\\\\\\\\" rel=\\\\\\\\\\\\\"nofollow\\\\\\\\\\\\\">Overflowing content</a></li>\\\\\\\\n            <li><a class=\\\\\\\\\\\\\"new\\\\\\\\\\\\\" href=\\\\\\\\\\\\\"/pt-BR/docs/Learn/CSS/Building_blocks/Values_and_units\\\\\\\\\\\\\" rel=\\\\\\\\\\\\\"nofollow\\\\\\\\\\\\\">Values and units</a></li>\\\\\\\\n            <li><a class=\\\\\\\\\\\\\"new\\\\\\\\\\\\\" href=\\\\\\\\\\\\\"/pt-BR/docs/Learn/CSS/Building_blocks/Sizing_items_in_CSS\\\\\\\\\\\\\" rel=\\\\\\\\\\\\\"nofollow\\\\\\\\\\\\\">Sizing items in CSS</a></li>\\\\\\\\n            <li><a class=\\\\\\\\\\\\\"new\\\\\\\\\\\\\" href=\\\\\\\\\\\\\"/pt-BR/docs/Learn/CSS/Building_blocks/Images_media_form_elements\\\\\\\\\\\\\" rel=\\\\\\\\\\\\\"nofollow\\\\\\\\\\\\\">Images, media, and form elements</a></li>\\\\\\\\n            <li><a class=\\\\\\\\\\\\\"new\\\\\\\\\\\\\" href=\\\\\\\\\\\\\"/pt-BR/docs/Learn/CSS/Building_blocks/Styling_tables\\\\\\\\\\\\\" rel=\\\\\\\\\\\\\"nofollow\\\\\\\\\\\\\">Styling tables</a></li>\\\\\\\\n            <li><a class=\\\\\\\\\\\\\"new\\\\\\\\\\\\\" href=\\\\\\\\\\\\\"/pt-BR/docs/Learn/CSS/Building_blocks/Debugging_CSS\\\\\\\\\\\\\" rel=\\\\\\\\\\\\\"nofollow\\\\\\\\\\\\\">Debugging CSS</a></li>\\\\\\\\n            <li><a class=\\\\\\\\\\\\\"new\\\\\\\\\\\\\" href=\\\\\\\\\\\\\"/pt-BR/docs/Learn/CSS/Building_blocks/Organizing\\\\\\\\\\\\\" rel=\\\\\\\\\\\\\"nofollow\\\\\\\\\\\\\">Organizing your CSS</a></li>\\\\\\\\n      </ol></details>\\\\\\\\n  </li>\\\\\\\\n  <li class=\\\\\\\\\\\\\"toggle\\\\\\\\\\\\\">\\\\\\\\n      <details>\\\\\\\\n          <summary>Estiliza\\\\u00E7\\\\u00E3o de textos</summary>\\\\\\\\n          <ol>\\\\\\\\n            <li><a class=\\\\\\\\\\\\\"new\\\\\\\\\\\\\" href=\\\\\\\\\\\\\"/pt-BR/docs/Learn/CSS/Styling_text\\\\\\\\\\\\\" rel=\\\\\\\\\\\\\"nofollow\\\\\\\\\\\\\">Vis\\\\u00E3o geral da Estiliza\\\\u00E7o de textos</a></li>\\\\\\\\n            <li><a class=\\\\\\\\\\\\\"new\\\\\\\\\\\\\" href=\\\\\\\\\\\\\"/pt-BR/docs/Learn/CSS/Styling_text/Fundamentals\\\\\\\\\\\\\" rel=\\\\\\\\\\\\\"nofollow\\\\\\\\\\\\\">Fundamentos da estiliza\\\\u00E7\\\\u00E3o de textos e fontes</a></li>\\\\\\\\n            <li><a class=\\\\\\\\\\\\\"new\\\\\\\\\\\\\" href=\\\\\\\\\\\\\"/pt-BR/docs/Learn/CSS/Styling_text/Styling_lists\\\\\\\\\\\\\" rel=\\\\\\\\\\\\\"nofollow\\\\\\\\\\\\\">Estiliza\\\\u00E7\\\\u00E3o de listas</a></li>\\\\\\\\n            <li><a class=\\\\\\\\\\\\\"new\\\\\\\\\\\\\" href=\\\\\\\\\\\\\"/pt-BR/docs/Learn/CSS/Styling_text/Styling_links\\\\\\\\\\\\\" rel=\\\\\\\\\\\\\"nofollow\\\\\\\\\\\\\">Estiliza\\\\u00E7\\\\u00E3o de links</a></li>\\\\\\\\n            <li><a class=\\\\\\\\\\\\\"new\\\\\\\\\\\\\" href=\\\\\\\\\\\\\"/pt-BR/docs/Learn/CSS/Styling_text/Web_fonts\\\\\\\\\\\\\" rel=\\\\\\\\\\\\\"nofollow\\\\\\\\\\\\\">Fontes Web</a></li>\\\\\\\\n            <li><a class=\\\\\\\\\\\\\"new\\\\\\\\\\\\\" href=\\\\\\\\\\\\\"/pt-BR/docs/Learn/CSS/Styling_text/Typesetting_a_homepage\\\\\\\\\\\\\" rel=\\\\\\\\\\\\\"nofollow\\\\\\\\\\\\\">Avalia\\\\u00E7\\\\u00E3o: Tipografia para a p\\\\u00E1gina inicial da escola p\\\\u00FAblica local</a></li>\\\\\\\\n          </ol>\\\\\\\\n      </details>\\\\\\\\n  </li>\\\\\\\\n  <li class=\\\\\\\\\\\\\"toggle\\\\\\\\\\\\\">\\\\\\\\n      <details>\\\\\\\\n          <summary>Esquemas CSS</summary>\\\\\\\\n          <ol>\\\\\\\\n            <li><a href=\\\\\\\\\\\\\"/pt-BR/docs/Learn/CSS/CSS_layout\\\\\\\\\\\\\">Vis\\\\u00E3o geral de esquemas CSS</a></li>\\\\\\\\n            <li><a class=\\\\\\\\\\\\\"new\\\\\\\\\\\\\" href=\\\\\\\\\\\\\"/pt-BR/docs/Learn/CSS/CSS_layout/Introduction\\\\\\\\\\\\\" rel=\\\\\\\\\\\\\"nofollow\\\\\\\\\\\\\">Introdu\\\\u00E7\\\\u00E3o</a></li>\\\\\\\\n            <li><a class=\\\\\\\\\\\\\"new\\\\\\\\\\\\\" href=\\\\\\\\\\\\\"/pt-BR/docs/Learn/CSS/CSS_layout/Normal_Flow\\\\\\\\\\\\\" rel=\\\\\\\\\\\\\"nofollow\\\\\\\\\\\\\">Normal Flow</a></li>\\\\\\\\n            <li><a href=\\\\\\\\\\\\\"/pt-BR/docs/Learn/CSS/CSS_layout/Flexbox\\\\\\\\\\\\\">Flexbox</a></li>\\\\\\\\n            <li><a class=\\\\\\\\\\\\\"new\\\\\\\\\\\\\" href=\\\\\\\\\\\\\"/pt-BR/docs/Learn/CSS/CSS_layout/Grids\\\\\\\\\\\\\" rel=\\\\\\\\\\\\\"nofollow\\\\\\\\\\\\\">Grids</a></li>\\\\\\\\n            <li><a class=\\\\\\\\\\\\\"new\\\\\\\\\\\\\" href=\\\\\\\\\\\\\"/pt-BR/docs/Learn/CSS/CSS_layout/Floats\\\\\\\\\\\\\" rel=\\\\\\\\\\\\\"nofollow\\\\\\\\\\\\\">\\\\\\\\\\\\\"Floats\\\\\\\\\\\\\" - Flutuando elementos</a></li>\\\\\\\\n            <li><a href=\\\\\\\\\\\\\"/pt-BR/docs/Learn/CSS/CSS_layout/Positioning\\\\\\\\\\\\\">Posicionamento</a></li>\\\\\\\\n            <li><a class=\\\\\\\\\\\\\"new\\\\\\\\\\\\\" href=\\\\\\\\\\\\\"/pt-BR/docs/Learn/CSS/CSS_layout/Multiple-column_Layout\\\\\\\\\\\\\" rel=\\\\\\\\\\\\\"nofollow\\\\\\\\\\\\\">Multiple-column Layout</a></li>\\\\\\\\n            <li><a href=\\\\\\\\\\\\\"/pt-BR/docs/Learn/CSS/CSS_layout/Responsive_Design\\\\\\\\\\\\\">Responsive design</a></li>\\\\\\\\n            <li><a class=\\\\\\\\\\\\\"new\\\\\\\\\\\\\" href=\\\\\\\\\\\\\"/pt-BR/docs/Learn/CSS/CSS_layout/Media_queries\\\\\\\\\\\\\" rel=\\\\\\\\\\\\\"nofollow\\\\\\\\\\\\\">Beginner\\'s guide to media queries</a></li>\\\\\\\\n            <li><a class=\\\\\\\\\\\\\"new\\\\\\\\\\\\\" href=\\\\\\\\\\\\\"/pt-BR/docs/Learn/CSS/CSS_layout/Legacy_Layout_Methods\\\\\\\\\\\\\" rel=\\\\\\\\\\\\\"nofollow\\\\\\\\\\\\\">Legacy Layout Methods</a></li>\\\\\\\\n            <li><a class=\\\\\\\\\\\\\"new\\\\\\\\\\\\\" href=\\\\\\\\\\\\\"/pt-BR/docs/Learn/CSS/CSS_layout/Supporting_Older_Browsers\\\\\\\\\\\\\" rel=\\\\\\\\\\\\\"nofollow\\\\\\\\\\\\\">Supporting Older Browsers</a></li>\\\\\\\\n            <li><a class=\\\\\\\\\\\\\"new\\\\\\\\\\\\\" href=\\\\\\\\\\\\\"/pt-BR/docs/Learn/CSS/CSS_layout/Fundamental_Layout_Comprehension\\\\\\\\\\\\\" rel=\\\\\\\\\\\\\"nofollow\\\\\\\\\\\\\">Fundamental Layout Comprehension</a></li>\\\\\\\\n          </ol>\\\\\\\\n      </details>\\\\\\\\n  </li>\\\\\\\\n  <li data-default-state=\\\\\\\\\\\\\"closed\\\\\\\\\\\\\"><a class=\\\\\\\\\\\\\"new\\\\\\\\\\\\\" href=\\\\\\\\\\\\\"/pt-BR/docs/Learn/JavaScript\\\\\\\\\\\\\" rel=\\\\\\\\\\\\\"nofollow\\\\\\\\\\\\\"><strong>JavaScript \\\\u2014 Uma linguagem de script din\\\\u00E2mica para aplica\\\\u00E7\\\\u00F5es cliente</strong></a></li>\\\\\\\\n  <li class=\\\\\\\\\\\\\"toggle\\\\\\\\\\\\\">\\\\\\\\n      <details>\\\\\\\\n          <summary>Primeiros passos com JavaScript</summary>\\\\\\\\n          <ol>\\\\\\\\n            <li><a href=\\\\\\\\\\\\\"/pt-BR/docs/Learn/JavaScript/First_steps\\\\\\\\\\\\\">Vis\\\\u00E3o geral dos Primeiros passos com JavaScript</a></li>\\\\\\\\n            <li><a class=\\\\\\\\\\\\\"new\\\\\\\\\\\\\" href=\\\\\\\\\\\\\"/pt-BR/docs/Learn/JavaScript/First_steps/What_is_JavaScript\\\\\\\\\\\\\" rel=\\\\\\\\\\\\\"nofollow\\\\\\\\\\\\\">O que \\\\u00E9 JavaScript?</a></li>\\\\\\\\n            <li><a href=\\\\\\\\\\\\\"/pt-BR/docs/Learn/JavaScript/First_steps/A_first_splash\\\\\\\\\\\\\">Um primeiro olhar em JavaScript</a></li>\\\\\\\\n            <li><a href=\\\\\\\\\\\\\"/pt-BR/docs/Learn/JavaScript/First_steps/What_went_wrong\\\\\\\\\\\\\">O que deu errado? Solu\\\\u00E7\\\\u00E3o de problemas de JavaScript</a></li>\\\\\\\\n            <li><a class=\\\\\\\\\\\\\"new\\\\\\\\\\\\\" href=\\\\\\\\\\\\\"/pt-BR/docs/Learn/JavaScript/First_steps/Variables\\\\\\\\\\\\\" rel=\\\\\\\\\\\\\"nofollow\\\\\\\\\\\\\">Guardando a informa\\\\u00E7\\\\u00E3o que precisa \\\\u2014 Vari\\\\u00E1veis</a></li>\\\\\\\\n            <li><a class=\\\\\\\\\\\\\"new\\\\\\\\\\\\\" href=\\\\\\\\\\\\\"/pt-BR/docs/Learn/JavaScript/First_steps/Math\\\\\\\\\\\\\" rel=\\\\\\\\\\\\\"nofollow\\\\\\\\\\\\\">B\\\\u00E1sico de JavaScript \\\\u2014 N\\\\u00FAmeros e operadores</a></li>\\\\\\\\n            <li><a href=\\\\\\\\\\\\\"/pt-BR/docs/Learn/JavaScript/First_steps/Strings\\\\\\\\\\\\\">Lidando com textos \\\\u2014 Strings em JavaScript</a></li>\\\\\\\\n            <li><a href=\\\\\\\\\\\\\"/pt-BR/docs/Learn/JavaScript/First_steps/Useful_string_methods\\\\\\\\\\\\\">M\\\\u00E9todos de String \\\\u00FAteis</a></li>\\\\\\\\n            <li><a href=\\\\\\\\\\\\\"/pt-BR/docs/Learn/JavaScript/First_steps/Arrays\\\\\\\\\\\\\">\\\\\\\\\\\\\"Arrays\\\\\\\\\\\\\" \\\\u2014 Arranjos</a></li>\\\\\\\\n            <li><a class=\\\\\\\\\\\\\"new\\\\\\\\\\\\\" href=\\\\\\\\\\\\\"/pt-BR/docs/Learn/JavaScript/First_steps/Silly_story_generator\\\\\\\\\\\\\" rel=\\\\\\\\\\\\\"nofollow\\\\\\\\\\\\\">Avalia\\\\u00E7\\\\u00E3o: Gerador de est\\\\u00F3rias bobas</a></li>\\\\\\\\n          </ol>\\\\\\\\n      </details>\\\\\\\\n  </li>\\\\\\\\n  <li class=\\\\\\\\\\\\\"toggle\\\\\\\\\\\\\">\\\\\\\\n      <details>\\\\\\\\n          <summary>Programando em JavaScript</summary>\\\\\\\\n          <ol>\\\\\\\\n            <li><a class=\\\\\\\\\\\\\"new\\\\\\\\\\\\\" href=\\\\\\\\\\\\\"/pt-BR/docs/Learn/JavaScript/Building_blocks\\\\\\\\\\\\\" rel=\\\\\\\\\\\\\"nofollow\\\\\\\\\\\\\">Vis\\\\u00E3o geral de Programando em JavaScript</a></li>\\\\\\\\n            <li><a class=\\\\\\\\\\\\\"new\\\\\\\\\\\\\" href=\\\\\\\\\\\\\"/pt-BR/docs/Learn/JavaScript/Building_blocks/conditionals\\\\\\\\\\\\\" rel=\\\\\\\\\\\\\"nofollow\\\\\\\\\\\\\">Tomando decis\\\\u00F5es no seu c\\\\u00F3digo \\\\u2014 Condicionais</a></li>\\\\\\\\n            <li><a class=\\\\\\\\\\\\\"new\\\\\\\\\\\\\" href=\\\\\\\\\\\\\"/pt-BR/docs/Learn/JavaScript/Building_blocks/Looping_code\\\\\\\\\\\\\" rel=\\\\\\\\\\\\\"nofollow\\\\\\\\\\\\\">C\\\\u00F3digo de repeti\\\\u00E7\\\\u00E3o</a></li>\\\\\\\\n            <li><a class=\\\\\\\\\\\\\"new\\\\\\\\\\\\\" href=\\\\\\\\\\\\\"/pt-BR/docs/Learn/JavaScript/Building_blocks/Functions\\\\\\\\\\\\\" rel=\\\\\\\\\\\\\"nofollow\\\\\\\\\\\\\">Fun\\\\u00E7\\\\u00F5es \\\\u2014 Blocos de c\\\\u00F3digos reutiliz\\\\u00E1veis</a></li>\\\\\\\\n            <li><a class=\\\\\\\\\\\\\"new\\\\\\\\\\\\\" href=\\\\\\\\\\\\\"/pt-BR/docs/Learn/JavaScript/Building_blocks/Build_your_own_function\\\\\\\\\\\\\" rel=\\\\\\\\\\\\\"nofollow\\\\\\\\\\\\\">Construa sua pr\\\\u00F3pria fun\\\\u00E7\\\\u00E3o</a></li>\\\\\\\\n            <li><a class=\\\\\\\\\\\\\"new\\\\\\\\\\\\\" href=\\\\\\\\\\\\\"/pt-BR/docs/Learn/JavaScript/Building_blocks/Return_values\\\\\\\\\\\\\" rel=\\\\\\\\\\\\\"nofollow\\\\\\\\\\\\\">Retorno de valores em fun\\\\u00E7\\\\u00F5es</a></li>\\\\\\\\n            <li><a class=\\\\\\\\\\\\\"new\\\\\\\\\\\\\" href=\\\\\\\\\\\\\"/pt-BR/docs/Learn/JavaScript/Building_blocks/Events\\\\\\\\\\\\\" rel=\\\\\\\\\\\\\"nofollow\\\\\\\\\\\\\">Introdu\\\\u00E7\\\\u00E3o a eventos</a></li>\\\\\\\\n            <li><a class=\\\\\\\\\\\\\"new\\\\\\\\\\\\\" href=\\\\\\\\\\\\\"/pt-BR/docs/Learn/JavaScript/Building_blocks/Image_gallery\\\\\\\\\\\\\" rel=\\\\\\\\\\\\\"nofollow\\\\\\\\\\\\\">Avalia\\\\u00E7\\\\u00E3o: Galeria de imagens</a></li>\\\\\\\\n          </ol>\\\\\\\\n      </details>\\\\\\\\n  </li>\\\\\\\\n  <li class=\\\\\\\\\\\\\"toggle\\\\\\\\\\\\\">\\\\\\\\n      <details>\\\\\\\\n          <summary>Introdu\\\\u00E7\\\\u00E3o Objetos em JavaScript</summary>\\\\\\\\n          <ol>\\\\\\\\n            <li><a class=\\\\\\\\\\\\\"new\\\\\\\\\\\\\" href=\\\\\\\\\\\\\"/pt-BR/docs/Learn/JavaScript/Objects\\\\\\\\\\\\\" rel=\\\\\\\\\\\\\"nofollow\\\\\\\\\\\\\">Vis\\\\u00E3o geral de Objetos em JavaScript</a></li>\\\\\\\\n            <li><a class=\\\\\\\\\\\\\"new\\\\\\\\\\\\\" href=\\\\\\\\\\\\\"/pt-BR/docs/Learn/JavaScript/Objects/Basics\\\\\\\\\\\\\" rel=\\\\\\\\\\\\\"nofollow\\\\\\\\\\\\\">O b\\\\u00E1sico de Objetos</a></li>\\\\\\\\n            <li><a class=\\\\\\\\\\\\\"new\\\\\\\\\\\\\" href=\\\\\\\\\\\\\"/pt-BR/docs/Learn/JavaScript/Objects/Object-oriented_JS\\\\\\\\\\\\\" rel=\\\\\\\\\\\\\"nofollow\\\\\\\\\\\\\">Orienta\\\\u00E7\\\\u00E3o a Objetos em JavaScript para iniciantes</a></li>\\\\\\\\n            <li><a class=\\\\\\\\\\\\\"new\\\\\\\\\\\\\" href=\\\\\\\\\\\\\"/pt-BR/docs/Learn/JavaScript/Objects/Object_prototypes\\\\\\\\\\\\\" rel=\\\\\\\\\\\\\"nofollow\\\\\\\\\\\\\">\\\\\\\\\\\\\"Prototypes\\\\\\\\\\\\\" de objetos</a></li>\\\\\\\\n            <li><a class=\\\\\\\\\\\\\"new\\\\\\\\\\\\\" href=\\\\\\\\\\\\\"/pt-BR/docs/Learn/JavaScript/Objects/Inheritance\\\\\\\\\\\\\" rel=\\\\\\\\\\\\\"nofollow\\\\\\\\\\\\\">Heran\\\\u00E7a em JavaScript</a></li>\\\\\\\\n            <li><a class=\\\\\\\\\\\\\"new\\\\\\\\\\\\\" href=\\\\\\\\\\\\\"/pt-BR/docs/Learn/JavaScript/Objects/JSON\\\\\\\\\\\\\" rel=\\\\\\\\\\\\\"nofollow\\\\\\\\\\\\\">Trabalhando com dados em JSON</a></li>\\\\\\\\n            <li><a class=\\\\\\\\\\\\\"new\\\\\\\\\\\\\" href=\\\\\\\\\\\\\"/pt-BR/docs/Learn/JavaScript/Objects/Object_building_practice\\\\\\\\\\\\\" rel=\\\\\\\\\\\\\"nofollow\\\\\\\\\\\\\">Pr\\\\u00E1tica de constru\\\\u00E7\\\\u00E3o de objetos</a></li>\\\\\\\\n            <li><a class=\\\\\\\\\\\\\"new\\\\\\\\\\\\\" href=\\\\\\\\\\\\\"/pt-BR/docs/Learn/JavaScript/Objects/Adding_bouncing_balls_features\\\\\\\\\\\\\" rel=\\\\\\\\\\\\\"nofollow\\\\\\\\\\\\\">Avalia\\\\u00E7\\\\u00E3o: Adicionando funcionalidades ao nosso aplicativo Bolas Saltitantes</a></li>\\\\\\\\n          </ol>\\\\\\\\n      </details>\\\\\\\\n  </li>\\\\\\\\n  <li class=\\\\\\\\\\\\\"toggle\\\\\\\\\\\\\">\\\\\\\\n    <details>\\\\\\\\n        <summary>Asynchronous JavaScript</summary>\\\\\\\\n        <ol>\\\\\\\\n          <li><a href=\\\\\\\\\\\\\"/pt-BR/docs/Learn/JavaScript/Asynchronous\\\\\\\\\\\\\">Asynchronous JavaScript overview</a></li>\\\\\\\\n          <li><a class=\\\\\\\\\\\\\"new\\\\\\\\\\\\\" href=\\\\\\\\\\\\\"/pt-BR/docs/Learn/JavaScript/Asynchronous/Concepts\\\\\\\\\\\\\" rel=\\\\\\\\\\\\\"nofollow\\\\\\\\\\\\\">General asynchronous programming concepts</a></li>\\\\\\\\n          <li><a class=\\\\\\\\\\\\\"new\\\\\\\\\\\\\" href=\\\\\\\\\\\\\"/pt-BR/docs/Learn/JavaScript/Asynchronous/Introducing\\\\\\\\\\\\\" rel=\\\\\\\\\\\\\"nofollow\\\\\\\\\\\\\">Introducing asynchronous JavaScript</a></li>\\\\\\\\n          <li><a href=\\\\\\\\\\\\\"/pt-BR/docs/Learn/JavaScript/Asynchronous/Timeouts_and_intervals\\\\\\\\\\\\\">Cooperative asynchronous Java\\\\u200BScript: Timeouts and intervals</a></li>\\\\\\\\n          <li><a href=\\\\\\\\\\\\\"/pt-BR/docs/Learn/JavaScript/Asynchronous/Promises\\\\\\\\\\\\\">Graceful asynchronous programming with Promises</a></li>\\\\\\\\n          <li><a class=\\\\\\\\\\\\\"new\\\\\\\\\\\\\" href=\\\\\\\\\\\\\"/pt-BR/docs/Learn/JavaScript/Asynchronous/Async_await\\\\\\\\\\\\\" rel=\\\\\\\\\\\\\"nofollow\\\\\\\\\\\\\">Making asynchronous programming easier with async and await</a></li>\\\\\\\\n          <li><a class=\\\\\\\\\\\\\"new\\\\\\\\\\\\\" href=\\\\\\\\\\\\\"/pt-BR/docs/Learn/JavaScript/Asynchronous/Choosing_the_right_approach\\\\\\\\\\\\\" rel=\\\\\\\\\\\\\"nofollow\\\\\\\\\\\\\">Choosing the right approach</a></li>\\\\\\\\n        </ol>\\\\\\\\n    </details>\\\\\\\\n  </li>\\\\\\\\n  <li class=\\\\\\\\\\\\\"toggle\\\\\\\\\\\\\">\\\\\\\\n    <details>\\\\\\\\n        <summary>APIs Web na aplica\\\\u00E7\\\\u00E3o Cliente</summary>\\\\\\\\n        <ol>\\\\\\\\n          <li><a class=\\\\\\\\\\\\\"new\\\\\\\\\\\\\" href=\\\\\\\\\\\\\"/pt-BR/docs/Learn/JavaScript/Client-side_web_APIs\\\\\\\\\\\\\" rel=\\\\\\\\\\\\\"nofollow\\\\\\\\\\\\\">APIs Web na aplica\\\\u00E7\\\\u00E3o Cliente</a></li>\\\\\\\\n          <li><a class=\\\\\\\\\\\\\"new\\\\\\\\\\\\\" href=\\\\\\\\\\\\\"/pt-BR/docs/Learn/JavaScript/Client-side_web_APIs/Introduction\\\\\\\\\\\\\" rel=\\\\\\\\\\\\\"nofollow\\\\\\\\\\\\\">Introdu\\\\u00E7\\\\u00E3o a APIs Web</a></li>\\\\\\\\n          <li><a class=\\\\\\\\\\\\\"new\\\\\\\\\\\\\" href=\\\\\\\\\\\\\"/pt-BR/docs/Learn/JavaScript/Client-side_web_APIs/Manipulating_documents\\\\\\\\\\\\\" rel=\\\\\\\\\\\\\"nofollow\\\\\\\\\\\\\">Manipulando documentos</a></li>\\\\\\\\n          <li><a class=\\\\\\\\\\\\\"new\\\\\\\\\\\\\" href=\\\\\\\\\\\\\"/pt-BR/docs/Learn/JavaScript/Client-side_web_APIs/Fetching_data\\\\\\\\\\\\\" rel=\\\\\\\\\\\\\"nofollow\\\\\\\\\\\\\">Pegando dados do servidor</a></li>\\\\\\\\n          <li><a class=\\\\\\\\\\\\\"new\\\\\\\\\\\\\" href=\\\\\\\\\\\\\"/pt-BR/docs/Learn/JavaScript/Client-side_web_APIs/Third_party_APIs\\\\\\\\\\\\\" rel=\\\\\\\\\\\\\"nofollow\\\\\\\\\\\\\">APIs de Terceiros</a></li>\\\\\\\\n          <li><a class=\\\\\\\\\\\\\"new\\\\\\\\\\\\\" href=\\\\\\\\\\\\\"/pt-BR/docs/Learn/JavaScript/Client-side_web_APIs/Drawing_graphics\\\\\\\\\\\\\" rel=\\\\\\\\\\\\\"nofollow\\\\\\\\\\\\\">Desenhando gr\\\\u00E1ficos</a></li>\\\\\\\\n          <li><a class=\\\\\\\\\\\\\"new\\\\\\\\\\\\\" href=\\\\\\\\\\\\\"/pt-BR/docs/Learn/JavaScript/Client-side_web_APIs/Video_and_audio_APIs\\\\\\\\\\\\\" rel=\\\\\\\\\\\\\"nofollow\\\\\\\\\\\\\">APIs de V\\\\u00EDdeo e \\\\u00C1udio</a></li>\\\\\\\\n          <li><a class=\\\\\\\\\\\\\"new\\\\\\\\\\\\\" href=\\\\\\\\\\\\\"/pt-BR/docs/Learn/JavaScript/Client-side_web_APIs/Client-side_storage\\\\\\\\\\\\\" rel=\\\\\\\\\\\\\"nofollow\\\\\\\\\\\\\">Armazenamento na aplica\\\\u00E7\\\\u00E3o cliente</a></li>\\\\\\\\n        </ol>\\\\\\\\n    </details>\\\\\\\\n  </li>\\\\\\\\n  <li><a class=\\\\\\\\\\\\\"new\\\\\\\\\\\\\" href=\\\\\\\\\\\\\"/pt-BR/docs/Learn/Forms\\\\\\\\\\\\\" rel=\\\\\\\\\\\\\"nofollow\\\\\\\\\\\\\"><strong>Web forms \\\\u2014 Working with user data</strong></a></li>\\\\\\\\n  <li class=\\\\\\\\\\\\\"toggle\\\\\\\\\\\\\">\\\\\\\\n    <details>\\\\\\\\n        <summary>Core forms learning pathway</summary>\\\\\\\\n        <ol>\\\\\\\\n          <li><a class=\\\\\\\\\\\\\"new\\\\\\\\\\\\\" href=\\\\\\\\\\\\\"/pt-BR/docs/Learn/Forms\\\\\\\\\\\\\" rel=\\\\\\\\\\\\\"nofollow\\\\\\\\\\\\\">Web forms overview</a></li>\\\\\\\\n          <li><a class=\\\\\\\\\\\\\"new\\\\\\\\\\\\\" href=\\\\\\\\\\\\\"/pt-BR/docs/Learn/Forms/Your_first_form\\\\\\\\\\\\\" rel=\\\\\\\\\\\\\"nofollow\\\\\\\\\\\\\">Your first form</a></li>\\\\\\\\n          <li><a class=\\\\\\\\\\\\\"new\\\\\\\\\\\\\" href=\\\\\\\\\\\\\"/pt-BR/docs/Learn/Forms/How_to_structure_a_web_form\\\\\\\\\\\\\" rel=\\\\\\\\\\\\\"nofollow\\\\\\\\\\\\\">How to structure a web form</a></li>\\\\\\\\n          <li><a class=\\\\\\\\\\\\\"new\\\\\\\\\\\\\" href=\\\\\\\\\\\\\"/pt-BR/docs/Learn/Forms/Basic_native_form_controls\\\\\\\\\\\\\" rel=\\\\\\\\\\\\\"nofollow\\\\\\\\\\\\\">Basic native form controls</a></li>\\\\\\\\n          <li><a class=\\\\\\\\\\\\\"new\\\\\\\\\\\\\" href=\\\\\\\\\\\\\"/pt-BR/docs/Learn/Forms/HTML5_input_types\\\\\\\\\\\\\" rel=\\\\\\\\\\\\\"nofollow\\\\\\\\\\\\\">The HTML5 input types</a></li>\\\\\\\\n          <li><a class=\\\\\\\\\\\\\"new\\\\\\\\\\\\\" href=\\\\\\\\\\\\\"/pt-BR/docs/Learn/Forms/Other_form_controls\\\\\\\\\\\\\" rel=\\\\\\\\\\\\\"nofollow\\\\\\\\\\\\\">Other form controls</a></li>\\\\\\\\n          <li><a class=\\\\\\\\\\\\\"new\\\\\\\\\\\\\" href=\\\\\\\\\\\\\"/pt-BR/docs/Learn/Forms/Styling_web_forms\\\\\\\\\\\\\" rel=\\\\\\\\\\\\\"nofollow\\\\\\\\\\\\\">Styling web forms</a></li>\\\\\\\\n          <li><a class=\\\\\\\\\\\\\"new\\\\\\\\\\\\\" href=\\\\\\\\\\\\\"/pt-BR/docs/Learn/Forms/Advanced_form_styling\\\\\\\\\\\\\" rel=\\\\\\\\\\\\\"nofollow\\\\\\\\\\\\\">Advanced form styling</a></li>\\\\\\\\n          <li><a class=\\\\\\\\\\\\\"new\\\\\\\\\\\\\" href=\\\\\\\\\\\\\"/pt-BR/docs/Learn/Forms/UI_pseudo-classes\\\\\\\\\\\\\" rel=\\\\\\\\\\\\\"nofollow\\\\\\\\\\\\\">UI pseudo-classes</a></li>\\\\\\\\n          <li><a class=\\\\\\\\\\\\\"new\\\\\\\\\\\\\" href=\\\\\\\\\\\\\"/pt-BR/docs/Learn/Forms/Form_validation\\\\\\\\\\\\\" rel=\\\\\\\\\\\\\"nofollow\\\\\\\\\\\\\">Client-side form validation</a></li>\\\\\\\\n          <li><a class=\\\\\\\\\\\\\"new\\\\\\\\\\\\\" href=\\\\\\\\\\\\\"/pt-BR/docs/Learn/Forms/Sending_and_retrieving_form_data\\\\\\\\\\\\\" rel=\\\\\\\\\\\\\"nofollow\\\\\\\\\\\\\">Sending form data</a></li>\\\\\\\\n        </ol>\\\\\\\\n    </details>\\\\\\\\n  </li>\\\\\\\\n  <li class=\\\\\\\\\\\\\"toggle\\\\\\\\\\\\\">\\\\\\\\n    <details>\\\\\\\\n        <summary>Advanced forms articles</summary>\\\\\\\\n        <ol>\\\\\\\\n          <li><a class=\\\\\\\\\\\\\"new\\\\\\\\\\\\\" href=\\\\\\\\\\\\\"/pt-BR/docs/Learn/Forms/How_to_build_custom_form_controls\\\\\\\\\\\\\" rel=\\\\\\\\\\\\\"nofollow\\\\\\\\\\\\\">How to build custom form controls</a></li>\\\\\\\\n          <li><a class=\\\\\\\\\\\\\"new\\\\\\\\\\\\\" href=\\\\\\\\\\\\\"/pt-BR/docs/Learn/Forms/Sending_forms_through_JavaScript\\\\\\\\\\\\\" rel=\\\\\\\\\\\\\"nofollow\\\\\\\\\\\\\">Sending forms through JavaScript</a></li>\\\\\\\\n          <li><a class=\\\\\\\\\\\\\"new\\\\\\\\\\\\\" href=\\\\\\\\\\\\\"/pt-BR/docs/Learn/Forms/Property_compatibility_table_for_form_controls\\\\\\\\\\\\\" rel=\\\\\\\\\\\\\"nofollow\\\\\\\\\\\\\">CSS property compatibility table for form controls</a></li>\\\\\\\\n        </ol>\\\\\\\\n    </details>\\\\\\\\n  </li>\\\\\\\\n  <li><a href=\\\\\\\\\\\\\"/pt-BR/docs/Learn/Accessibility\\\\\\\\\\\\\"><strong>Acessibilidade \\\\u2014 Fa\\\\u00E7a a Internet us\\\\u00E1vel por qualquer pessoa</strong></a></li>\\\\\\\\n  <li class=\\\\\\\\\\\\\"toggle\\\\\\\\\\\\\">\\\\\\\\n    <details>\\\\\\\\n        <summary>Guias de acessibilidade</summary>\\\\\\\\n        <ol>\\\\\\\\n          <li><a href=\\\\\\\\\\\\\"/pt-BR/docs/Learn/Accessibility\\\\\\\\\\\\\">Vis\\\\u00E3o geral sobre Acessibilidade</a></li>\\\\\\\\n          <li><a class=\\\\\\\\\\\\\"new\\\\\\\\\\\\\" href=\\\\\\\\\\\\\"/pt-BR/docs/Learn/Accessibility/What_is_accessibility\\\\\\\\\\\\\" rel=\\\\\\\\\\\\\"nofollow\\\\\\\\\\\\\">O que \\\\u00E9 acessibilidade?</a></li>\\\\\\\\n          <li><a href=\\\\\\\\\\\\\"/pt-BR/docs/Learn/Accessibility/HTML\\\\\\\\\\\\\">HTML: Uma boa base para acessibilidade</a></li>\\\\\\\\n          <li><a class=\\\\\\\\\\\\\"new\\\\\\\\\\\\\" href=\\\\\\\\\\\\\"/pt-BR/docs/Learn/Accessibility/CSS_and_JavaScript\\\\\\\\\\\\\" rel=\\\\\\\\\\\\\"nofollow\\\\\\\\\\\\\">Melhores pr\\\\u00E1ticas para acessibilidade em CSS e JavaScript</a></li>\\\\\\\\n          <li><a class=\\\\\\\\\\\\\"new\\\\\\\\\\\\\" href=\\\\\\\\\\\\\"/pt-BR/docs/Learn/Accessibility/WAI-ARIA_basics\\\\\\\\\\\\\" rel=\\\\\\\\\\\\\"nofollow\\\\\\\\\\\\\">O b\\\\u00E1sico de WAI-ARIA</a></li>\\\\\\\\n          <li><a class=\\\\\\\\\\\\\"new\\\\\\\\\\\\\" href=\\\\\\\\\\\\\"/pt-BR/docs/Learn/Accessibility/Multimedia\\\\\\\\\\\\\" rel=\\\\\\\\\\\\\"nofollow\\\\\\\\\\\\\">Multim\\\\u00EDdia acess\\\\u00EDvel</a></li>\\\\\\\\n          <li><a class=\\\\\\\\\\\\\"new\\\\\\\\\\\\\" href=\\\\\\\\\\\\\"/pt-BR/docs/Learn/Accessibility/Mobile\\\\\\\\\\\\\" rel=\\\\\\\\\\\\\"nofollow\\\\\\\\\\\\\">Acessibilidade em dispositivos m\\\\u00F3veis</a></li>\\\\\\\\n        </ol>\\\\\\\\n    </details>\\\\\\\\n  </li>\\\\\\\\n  <li class=\\\\\\\\\\\\\"toggle\\\\\\\\\\\\\">\\\\\\\\n    <details>\\\\\\\\n        <summary>Avaliando a acessibilidade</summary>\\\\\\\\n        <ol>\\\\\\\\n            <li><a class=\\\\\\\\\\\\\"new\\\\\\\\\\\\\" href=\\\\\\\\\\\\\"/pt-BR/docs/Learn/Accessibility/Accessibility_troubleshooting\\\\\\\\\\\\\" rel=\\\\\\\\\\\\\"nofollow\\\\\\\\\\\\\">Avalia\\\\u00E7\\\\u00E3o: Solu\\\\u00E7\\\\u00E3o de problemas de Acessibilidade</a></li>\\\\\\\\n        </ol>\\\\\\\\n    </details>\\\\\\\\n  </li>\\\\\\\\n  <li><a class=\\\\\\\\\\\\\"new\\\\\\\\\\\\\" href=\\\\\\\\\\\\\"/pt-BR/docs/Learn/Tools_and_testing\\\\\\\\\\\\\" rel=\\\\\\\\\\\\\"nofollow\\\\\\\\\\\\\"><strong>Ferramentas e teste</strong></a></li>\\\\\\\\n  <li class=\\\\\\\\\\\\\"toggle\\\\\\\\\\\\\">\\\\\\\\n    <details>\\\\\\\\n        <summary>Client-side web development tools</summary>\\\\\\\\n        <ol>\\\\\\\\n          <li><a class=\\\\\\\\\\\\\"new\\\\\\\\\\\\\" href=\\\\\\\\\\\\\"/pt-BR/docs/Learn/Tools_and_testing/Understanding_client-side_tools\\\\\\\\\\\\\" rel=\\\\\\\\\\\\\"nofollow\\\\\\\\\\\\\">Client-side web development tools index</a></li>\\\\\\\\n          <li><a class=\\\\\\\\\\\\\"new\\\\\\\\\\\\\" href=\\\\\\\\\\\\\"/pt-BR/docs/Learn/Tools_and_testing/Understanding_client-side_tools/Overview\\\\\\\\\\\\\" rel=\\\\\\\\\\\\\"nofollow\\\\\\\\\\\\\">Client-side tooling overview</a></li>\\\\\\\\n          <li><a class=\\\\\\\\\\\\\"new\\\\\\\\\\\\\" href=\\\\\\\\\\\\\"/pt-BR/docs/Learn/Tools_and_testing/Understanding_client-side_tools/Command_line\\\\\\\\\\\\\" rel=\\\\\\\\\\\\\"nofollow\\\\\\\\\\\\\">Command line crash course</a></li>\\\\\\\\n          <li><a class=\\\\\\\\\\\\\"new\\\\\\\\\\\\\" href=\\\\\\\\\\\\\"/pt-BR/docs/Learn/Tools_and_testing/Understanding_client-side_tools/Package_management\\\\\\\\\\\\\" rel=\\\\\\\\\\\\\"nofollow\\\\\\\\\\\\\">Package management basics</a></li>\\\\\\\\n          <li><a class=\\\\\\\\\\\\\"new\\\\\\\\\\\\\" href=\\\\\\\\\\\\\"/pt-BR/docs/Learn/Tools_and_testing/Understanding_client-side_tools/Introducing_complete_toolchain\\\\\\\\\\\\\" rel=\\\\\\\\\\\\\"nofollow\\\\\\\\\\\\\">Introducing a complete toolchain</a></li>\\\\\\\\n          <li><a class=\\\\\\\\\\\\\"new\\\\\\\\\\\\\" href=\\\\\\\\\\\\\"/pt-BR/docs/Learn/Tools_and_testing/Understanding_client-side_tools/Deployment\\\\\\\\\\\\\" rel=\\\\\\\\\\\\\"nofollow\\\\\\\\\\\\\">Deploying our app</a></li>\\\\\\\\n        </ol>\\\\\\\\n    </details>\\\\\\\\n  </li>\\\\\\\\n  <li class=\\\\\\\\\\\\\"toggle\\\\\\\\\\\\\">\\\\\\\\n    <details>\\\\\\\\n        <summary>Introduction to client-side frameworks</summary>\\\\\\\\n        <ol>\\\\\\\\n          <li><a class=\\\\\\\\\\\\\"new\\\\\\\\\\\\\" href=\\\\\\\\\\\\\"/pt-BR/docs/Learn/Tools_and_testing/Client-side_JavaScript_frameworks/Introduction\\\\\\\\\\\\\" rel=\\\\\\\\\\\\\"nofollow\\\\\\\\\\\\\">Client-side frameworks overview</a></li>\\\\\\\\n          <li><a class=\\\\\\\\\\\\\"new\\\\\\\\\\\\\" href=\\\\\\\\\\\\\"/pt-BR/docs/Learn/Tools_and_testing/Client-side_JavaScript_frameworks/Main_features\\\\\\\\\\\\\" rel=\\\\\\\\\\\\\"nofollow\\\\\\\\\\\\\">Framework main features</a></li>\\\\\\\\n        </ol>\\\\\\\\n    </details>\\\\\\\\n  </li>\\\\\\\\n  <li class=\\\\\\\\\\\\\"toggle\\\\\\\\\\\\\">\\\\\\\\n    <details>\\\\\\\\n        <summary>React</summary>\\\\\\\\n        <ol>\\\\\\\\n          <li><a class=\\\\\\\\\\\\\"new\\\\\\\\\\\\\" href=\\\\\\\\\\\\\"/pt-BR/docs/Learn/Tools_and_testing/Client-side_JavaScript_frameworks/React_getting_started\\\\\\\\\\\\\" rel=\\\\\\\\\\\\\"nofollow\\\\\\\\\\\\\">Getting started with React</a></li>\\\\\\\\n          <li><a class=\\\\\\\\\\\\\"new\\\\\\\\\\\\\" href=\\\\\\\\\\\\\"/pt-BR/docs/Learn/Tools_and_testing/Client-side_JavaScript_frameworks/React_todo_list_beginning\\\\\\\\\\\\\" rel=\\\\\\\\\\\\\"nofollow\\\\\\\\\\\\\">Beginning our React todo list</a></li>\\\\\\\\n          <li><a class=\\\\\\\\\\\\\"new\\\\\\\\\\\\\" href=\\\\\\\\\\\\\"/pt-BR/docs/Learn/Tools_and_testing/Client-side_JavaScript_frameworks/React_components\\\\\\\\\\\\\" rel=\\\\\\\\\\\\\"nofollow\\\\\\\\\\\\\">Componentizing our React app</a></li>\\\\\\\\n          <li><a class=\\\\\\\\\\\\\"new\\\\\\\\\\\\\" href=\\\\\\\\\\\\\"/pt-BR/docs/Learn/Tools_and_testing/Client-side_JavaScript_frameworks/React_interactivity_events_state\\\\\\\\\\\\\" rel=\\\\\\\\\\\\\"nofollow\\\\\\\\\\\\\">React interactivity: Events and state</a></li>\\\\\\\\n          <li><a class=\\\\\\\\\\\\\"new\\\\\\\\\\\\\" href=\\\\\\\\\\\\\"/pt-BR/docs/Learn/Tools_and_testing/Client-side_JavaScript_frameworks/React_interactivity_filtering_conditional_rendering\\\\\\\\\\\\\" rel=\\\\\\\\\\\\\"nofollow\\\\\\\\\\\\\">React interactivity: Editing, filtering, conditional rendering</a></li>\\\\\\\\n          <li><a class=\\\\\\\\\\\\\"new\\\\\\\\\\\\\" href=\\\\\\\\\\\\\"/pt-BR/docs/Learn/Tools_and_testing/Client-side_JavaScript_frameworks/React_accessibility\\\\\\\\\\\\\" rel=\\\\\\\\\\\\\"nofollow\\\\\\\\\\\\\">Accessibility in React</a></li>\\\\\\\\n          <li><a class=\\\\\\\\\\\\\"new\\\\\\\\\\\\\" href=\\\\\\\\\\\\\"/pt-BR/docs/Learn/Tools_and_testing/Client-side_JavaScript_frameworks/React_resources\\\\\\\\\\\\\" rel=\\\\\\\\\\\\\"nofollow\\\\\\\\\\\\\">React resources</a></li>\\\\\\\\n        </ol>\\\\\\\\n    </details>\\\\\\\\n  </li>\\\\\\\\n  <li class=\\\\\\\\\\\\\"toggle\\\\\\\\\\\\\">\\\\\\\\n    <details>\\\\\\\\n        <summary>Ember</summary>\\\\\\\\n        <ol>\\\\\\\\n          <li><a class=\\\\\\\\\\\\\"new\\\\\\\\\\\\\" href=\\\\\\\\\\\\\"/pt-BR/docs/Learn/Tools_and_testing/Client-side_JavaScript_frameworks/Ember_getting_started\\\\\\\\\\\\\" rel=\\\\\\\\\\\\\"nofollow\\\\\\\\\\\\\">Getting started with Ember</a></li>\\\\\\\\n          <li><a class=\\\\\\\\\\\\\"new\\\\\\\\\\\\\" href=\\\\\\\\\\\\\"/pt-BR/docs/Learn/Tools_and_testing/Client-side_JavaScript_frameworks/Ember_structure_componentization\\\\\\\\\\\\\" rel=\\\\\\\\\\\\\"nofollow\\\\\\\\\\\\\">Ember app structure and componentization</a></li>\\\\\\\\n          <li><a class=\\\\\\\\\\\\\"new\\\\\\\\\\\\\" href=\\\\\\\\\\\\\"/pt-BR/docs/Learn/Tools_and_testing/Client-side_JavaScript_frameworks/Ember_interactivity_events_state\\\\\\\\\\\\\" rel=\\\\\\\\\\\\\"nofollow\\\\\\\\\\\\\">Ember interactivity: Events, classes and state</a></li>\\\\\\\\n          <li><a class=\\\\\\\\\\\\\"new\\\\\\\\\\\\\" href=\\\\\\\\\\\\\"/pt-BR/docs/Learn/Tools_and_testing/Client-side_JavaScript_frameworks/Ember_conditional_footer\\\\\\\\\\\\\" rel=\\\\\\\\\\\\\"nofollow\\\\\\\\\\\\\">Ember Interactivity: Footer functionality, conditional rendering</a></li>\\\\\\\\n          <li><a class=\\\\\\\\\\\\\"new\\\\\\\\\\\\\" href=\\\\\\\\\\\\\"/pt-BR/docs/Learn/Tools_and_testing/Client-side_JavaScript_frameworks/Ember_routing\\\\\\\\\\\\\" rel=\\\\\\\\\\\\\"nofollow\\\\\\\\\\\\\">Routing in Ember</a></li>\\\\\\\\n          <li><a class=\\\\\\\\\\\\\"new\\\\\\\\\\\\\" href=\\\\\\\\\\\\\"/pt-BR/docs/Learn/Tools_and_testing/Client-side_JavaScript_frameworks/Ember_resources\\\\\\\\\\\\\" rel=\\\\\\\\\\\\\"nofollow\\\\\\\\\\\\\">Ember resources and troubleshooting</a></li>\\\\\\\\n        </ol>\\\\\\\\n    </details>\\\\\\\\n  </li>\\\\\\\\n  <li class=\\\\\\\\\\\\\"toggle\\\\\\\\\\\\\">\\\\\\\\n    <details>\\\\\\\\n        <summary>Vue</summary>\\\\\\\\n        <ol>\\\\\\\\n          <li><a class=\\\\\\\\\\\\\"new\\\\\\\\\\\\\" href=\\\\\\\\\\\\\"/pt-BR/docs/Learn/Tools_and_testing/Client-side_JavaScript_frameworks/Vue_getting_started\\\\\\\\\\\\\" rel=\\\\\\\\\\\\\"nofollow\\\\\\\\\\\\\">Getting started with Vue</a></li>\\\\\\\\n          <li><a class=\\\\\\\\\\\\\"new\\\\\\\\\\\\\" href=\\\\\\\\\\\\\"/pt-BR/docs/Learn/Tools_and_testing/Client-side_JavaScript_frameworks/Vue_first_component\\\\\\\\\\\\\" rel=\\\\\\\\\\\\\"nofollow\\\\\\\\\\\\\">Creating our first Vue component</a></li>\\\\\\\\n          <li><a class=\\\\\\\\\\\\\"new\\\\\\\\\\\\\" href=\\\\\\\\\\\\\"/pt-BR/docs/Learn/Tools_and_testing/Client-side_JavaScript_frameworks/Vue_rendering_lists\\\\\\\\\\\\\" rel=\\\\\\\\\\\\\"nofollow\\\\\\\\\\\\\">Rendering a list of Vue components</a></li>\\\\\\\\n          <li><a class=\\\\\\\\\\\\\"new\\\\\\\\\\\\\" href=\\\\\\\\\\\\\"/pt-BR/docs/Learn/Tools_and_testing/Client-side_JavaScript_frameworks/Vue_methods_events_models\\\\\\\\\\\\\" rel=\\\\\\\\\\\\\"nofollow\\\\\\\\\\\\\">Adding a new todo form: Vue events, methods, and models</a></li>\\\\\\\\n          <li><a class=\\\\\\\\\\\\\"new\\\\\\\\\\\\\" href=\\\\\\\\\\\\\"/pt-BR/docs/Learn/Tools_and_testing/Client-side_JavaScript_frameworks/Vue_styling\\\\\\\\\\\\\" rel=\\\\\\\\\\\\\"nofollow\\\\\\\\\\\\\">Styling Vue components with CSS</a></li>\\\\\\\\n          <li><a class=\\\\\\\\\\\\\"new\\\\\\\\\\\\\" href=\\\\\\\\\\\\\"/pt-BR/docs/Learn/Tools_and_testing/Client-side_JavaScript_frameworks/Vue_computed_properties\\\\\\\\\\\\\" rel=\\\\\\\\\\\\\"nofollow\\\\\\\\\\\\\">Using Vue computed properties</a></li>\\\\\\\\n          <li><a class=\\\\\\\\\\\\\"new\\\\\\\\\\\\\" href=\\\\\\\\\\\\\"/pt-BR/docs/Learn/Tools_and_testing/Client-side_JavaScript_frameworks/Vue_conditional_rendering  \\\\\\\\\\\\\" rel=\\\\\\\\\\\\\"nofollow\\\\\\\\\\\\\">Vue conditional rendering: editing existing todos</a></li>\\\\\\\\n          <li><a class=\\\\\\\\\\\\\"new\\\\\\\\\\\\\" href=\\\\\\\\\\\\\"/pt-BR/docs/Learn/Tools_and_testing/Client-side_JavaScript_frameworks/Vue_refs_focus_management\\\\\\\\\\\\\" rel=\\\\\\\\\\\\\"nofollow\\\\\\\\\\\\\">Focus management with Vue refs</a></li>\\\\\\\\n          <li><a class=\\\\\\\\\\\\\"new\\\\\\\\\\\\\" href=\\\\\\\\\\\\\"/pt-BR/docs/Learn/Tools_and_testing/Client-side_JavaScript_frameworks/Vue_resources\\\\\\\\\\\\\" rel=\\\\\\\\\\\\\"nofollow\\\\\\\\\\\\\">Vue resources</a></li>\\\\\\\\n        </ol>\\\\\\\\n    </details>\\\\\\\\n  </li>\\\\\\\\n  <li class=\\\\\\\\\\\\\"toggle\\\\\\\\\\\\\">\\\\\\\\n    <details>\\\\\\\\n        <summary>Git and GitHub</summary>\\\\\\\\n        <ol>\\\\\\\\n          <li><a class=\\\\\\\\\\\\\"new\\\\\\\\\\\\\" href=\\\\\\\\\\\\\"/pt-BR/docs/Learn/Tools_and_testing/GitHub\\\\\\\\\\\\\" rel=\\\\\\\\\\\\\"nofollow\\\\\\\\\\\\\">Git and GitHub overview</a></li>\\\\\\\\n          <li><a class=\\\\\\\\\\\\\"external\\\\\\\\\\\\\" href=\\\\\\\\\\\\\"https://guides.github.com/activities/hello-world/\\\\\\\\\\\\\" rel=\\\\\\\\\\\\\"noopener\\\\\\\\\\\\\">Hello World</a></li>\\\\\\\\n          <li><a class=\\\\\\\\\\\\\"external\\\\\\\\\\\\\" href=\\\\\\\\\\\\\"https://guides.github.com/introduction/git-handbook/\\\\\\\\\\\\\" rel=\\\\\\\\\\\\\"noopener\\\\\\\\\\\\\">Git Handbook</a></li>\\\\\\\\n          <li><a class=\\\\\\\\\\\\\"external\\\\\\\\\\\\\" href=\\\\\\\\\\\\\"https://guides.github.com/activities/forking/\\\\\\\\\\\\\" rel=\\\\\\\\\\\\\"noopener\\\\\\\\\\\\\">Forking Projects</a></li>\\\\\\\\n          <li><a class=\\\\\\\\\\\\\"external\\\\\\\\\\\\\" href=\\\\\\\\\\\\\"https://help.github.com/en/github/collaborating-with-issues-and-pull-requests/about-pull-requests\\\\\\\\\\\\\" rel=\\\\\\\\\\\\\"noopener\\\\\\\\\\\\\">About pull requests</a></li>\\\\\\\\n          <li><a class=\\\\\\\\\\\\\"external\\\\\\\\\\\\\" href=\\\\\\\\\\\\\"https://guides.github.com/features/issues/\\\\\\\\\\\\\" rel=\\\\\\\\\\\\\"noopener\\\\\\\\\\\\\">Mastering Issues</a></li>\\\\\\\\n        </ol>\\\\\\\\n    </details>\\\\\\\\n  </li>\\\\\\\\n  <li class=\\\\\\\\\\\\\"toggle\\\\\\\\\\\\\">\\\\\\\\n    <details>\\\\\\\\n        <summary>Testes entre navegadores</summary>\\\\\\\\n        <ol>\\\\\\\\n          <li><a href=\\\\\\\\\\\\\"/pt-BR/docs/Learn/Tools_and_testing/Cross_browser_testing\\\\\\\\\\\\\">Vis\\\\u00E3o geral de testes entre navegadores</a></li>\\\\\\\\n          <li><a href=\\\\\\\\\\\\\"/pt-BR/docs/Learn/Tools_and_testing/Cross_browser_testing/Introduction\\\\\\\\\\\\\">Introdu\\\\u00E7\\\\u00E3o a testes entre navegadores</a></li>\\\\\\\\n          <li><a class=\\\\\\\\\\\\\"new\\\\\\\\\\\\\" href=\\\\\\\\\\\\\"/pt-BR/docs/Learn/Tools_and_testing/Cross_browser_testing/Testing_strategies\\\\\\\\\\\\\" rel=\\\\\\\\\\\\\"nofollow\\\\\\\\\\\\\">Estrat\\\\u00E9gias para execu\\\\u00E7\\\\u00E3o de testes</a></li>\\\\\\\\n          <li><a class=\\\\\\\\\\\\\"new\\\\\\\\\\\\\" href=\\\\\\\\\\\\\"/pt-BR/docs/Learn/Tools_and_testing/Cross_browser_testing/HTML_and_CSS\\\\\\\\\\\\\" rel=\\\\\\\\\\\\\"nofollow\\\\\\\\\\\\\">Lidando com problemas comuns de HTML e CSS</a></li>\\\\\\\\n          <li><a class=\\\\\\\\\\\\\"new\\\\\\\\\\\\\" href=\\\\\\\\\\\\\"/pt-BR/docs/Learn/Tools_and_testing/Cross_browser_testing/JavaScript\\\\\\\\\\\\\" rel=\\\\\\\\\\\\\"nofollow\\\\\\\\\\\\\">Lidando com problemas comuns de JavaScript</a></li>\\\\\\\\n          <li><a class=\\\\\\\\\\\\\"new\\\\\\\\\\\\\" href=\\\\\\\\\\\\\"/pt-BR/docs/Learn/Tools_and_testing/Cross_browser_testing/Accessibility\\\\\\\\\\\\\" rel=\\\\\\\\\\\\\"nofollow\\\\\\\\\\\\\">Lidando com problemas comuns de acessibilidade</a></li>\\\\\\\\n          <li><a class=\\\\\\\\\\\\\"new\\\\\\\\\\\\\" href=\\\\\\\\\\\\\"/pt-BR/docs/Learn/Tools_and_testing/Cross_browser_testing/Feature_detection\\\\\\\\\\\\\" rel=\\\\\\\\\\\\\"nofollow\\\\\\\\\\\\\">Implementando detec\\\\u00E7\\\\u00E3o de funcionalidade</a></li>\\\\\\\\n          <li><a class=\\\\\\\\\\\\\"new\\\\\\\\\\\\\" href=\\\\\\\\\\\\\"/pt-BR/docs/Learn/Tools_and_testing/Cross_browser_testing/Automated_testing\\\\\\\\\\\\\" rel=\\\\\\\\\\\\\"nofollow\\\\\\\\\\\\\">Introdu\\\\u00E7\\\\u00E3o a testes automatizados</a></li>\\\\\\\\n          <li><a class=\\\\\\\\\\\\\"new\\\\\\\\\\\\\" href=\\\\\\\\\\\\\"/pt-BR/docs/Learn/Tools_and_testing/Cross_browser_testing/Your_own_automation_environment\\\\\\\\\\\\\" rel=\\\\\\\\\\\\\"nofollow\\\\\\\\\\\\\">Configurando seu pr\\\\u00F3prio ambiente de testes automatizados</a></li>\\\\\\\\n        </ol>\\\\\\\\n    </details>\\\\\\\\n  </li>\\\\\\\\n  <li data-default-state=\\\\\\\\\\\\\"open\\\\\\\\\\\\\"><a href=\\\\\\\\\\\\\"/pt-BR/docs/Learn/Server-side\\\\\\\\\\\\\"><strong>Programa\\\\u00E7\\\\u00E3o de servidores de Aplica\\\\u00E7\\\\u00E3o</strong></a></li>\\\\\\\\n  <li class=\\\\\\\\\\\\\"toggle\\\\\\\\\\\\\">\\\\\\\\n    <details>\\\\\\\\n        <summary>Primeiros passos</summary>\\\\\\\\n        <ol>\\\\\\\\n          <li><a href=\\\\\\\\\\\\\"/pt-BR/docs/Learn/Server-side/First_steps\\\\\\\\\\\\\">Vis\\\\u00E3o geral para os primeiros passos</a></li>\\\\\\\\n          <li><a class=\\\\\\\\\\\\\"new\\\\\\\\\\\\\" href=\\\\\\\\\\\\\"/pt-BR/docs/Learn/Server-side/First_steps/Introduction\\\\\\\\\\\\\" rel=\\\\\\\\\\\\\"nofollow\\\\\\\\\\\\\">Introdu\\\\u00E7\\\\u00E3o ao Servidor de Aplica\\\\u00E7\\\\u00E3o</a></li>\\\\\\\\n          <li><a href=\\\\\\\\\\\\\"/pt-BR/docs/Learn/Server-side/First_steps/Client-Server_overview\\\\\\\\\\\\\">Vis\\\\u00E3o geral da arquitetura Cliente-Servidor</a></li>\\\\\\\\n          <li><a class=\\\\\\\\\\\\\"new\\\\\\\\\\\\\" href=\\\\\\\\\\\\\"/pt-BR/docs/Learn/Server-side/First_steps/Web_frameworks\\\\\\\\\\\\\" rel=\\\\\\\\\\\\\"nofollow\\\\\\\\\\\\\">Frameworks Web para o Servidor de Aplica\\\\u00E7\\\\u00E3o</a></li>\\\\\\\\n          <li><a class=\\\\\\\\\\\\\"new\\\\\\\\\\\\\" href=\\\\\\\\\\\\\"/pt-BR/docs/Learn/Server-side/First_steps/Website_security\\\\\\\\\\\\\" rel=\\\\\\\\\\\\\"nofollow\\\\\\\\\\\\\">Seguran\\\\u00E7a de sites</a></li>\\\\\\\\n        </ol>\\\\\\\\n    </details>\\\\\\\\n  </li>\\\\\\\\n  <li class=\\\\\\\\\\\\\"toggle\\\\\\\\\\\\\">\\\\\\\\n    <details open>\\\\\\\\n        <summary>Framework Web Django (Python)</summary>\\\\\\\\n        <ol>\\\\\\\\n          <li><a href=\\\\\\\\\\\\\"/pt-BR/docs/Learn/Server-side/Django\\\\\\\\\\\\\">Vis\\\\u00E3o geral do Framework Web Django (Python)</a></li>\\\\\\\\n          <li><a class=\\\\\\\\\\\\\"new\\\\\\\\\\\\\" href=\\\\\\\\\\\\\"/pt-BR/docs/Learn/Server-side/Django/Introduction\\\\\\\\\\\\\" rel=\\\\\\\\\\\\\"nofollow\\\\\\\\\\\\\">Introdu\\\\u00E7\\\\u00E3o</a></li>\\\\\\\\n          <li><a class=\\\\\\\\\\\\\"new\\\\\\\\\\\\\" href=\\\\\\\\\\\\\"/pt-BR/docs/Learn/Server-side/Django/development_environment\\\\\\\\\\\\\" rel=\\\\\\\\\\\\\"nofollow\\\\\\\\\\\\\">Configurando um ambiente de desenvolvimento para aplica\\\\u00E7\\\\u00F5es Django</a></li>\\\\\\\\n          <li><a class=\\\\\\\\\\\\\"new\\\\\\\\\\\\\" href=\\\\\\\\\\\\\"/pt-BR/docs/Learn/Server-side/Django/Tutorial_local_library_website\\\\\\\\\\\\\" rel=\\\\\\\\\\\\\"nofollow\\\\\\\\\\\\\">Tutorial: Um site para a Biblioteca Local</a></li>\\\\\\\\n          <li><a href=\\\\\\\\\\\\\"/pt-BR/docs/Learn/Server-side/Django/skeleton_website\\\\\\\\\\\\\">Tutorial Parte 2: Criando o esqueleto de um site</a></li>\\\\\\\\n          <li><a href=\\\\\\\\\\\\\"/pt-BR/docs/Learn/Server-side/Django/Models\\\\\\\\\\\\\">Tutorial Parte 3: Usando \\\\\\\\\\\\\"models\\\\\\\\\\\\\"</a></li>\\\\\\\\n          <li><a href=\\\\\\\\\\\\\"/pt-BR/docs/Learn/Server-side/Django/Admin_site\\\\\\\\\\\\\">Tutorial Parte 4: Um site administrativo em Django</a></li>\\\\\\\\n          <li><a href=\\\\\\\\\\\\\"/pt-BR/docs/Learn/Server-side/Django/Home_page\\\\\\\\\\\\\">Tutorial Parte 5: Criando nossa p\\\\u00E1gina inicial</a></li>\\\\\\\\n          <li><a href=\\\\\\\\\\\\\"/pt-BR/docs/Learn/Server-side/Django/Generic_views\\\\\\\\\\\\\">Tutorial Parte 6: P\\\\u00E1ginas de lista gen\\\\u00E9rica e detalhamento</a></li>\\\\\\\\n          <li><a class=\\\\\\\\\\\\\"new\\\\\\\\\\\\\" href=\\\\\\\\\\\\\"/pt-BR/docs/Learn/Server-side/Django/Sessions\\\\\\\\\\\\\" rel=\\\\\\\\\\\\\"nofollow\\\\\\\\\\\\\">Tutorial Parte 7: Framework de sess\\\\u00F5es</a></li>\\\\\\\\n          <li><a href=\\\\\\\\\\\\\"/pt-BR/docs/Learn/Server-side/Django/Authentication\\\\\\\\\\\\\">Tutorial Parte 8: Autentica\\\\u00E7\\\\u00E3o e permiss\\\\u00F5es de usu\\\\u00E1rio</a></li>\\\\\\\\n          <li><a href=\\\\\\\\\\\\\"/pt-BR/docs/Learn/Server-side/Django/Forms\\\\\\\\\\\\\">Tutorial Part 9: Trabalhando com formul\\\\u00E1rios</a></li>\\\\\\\\n          <li><a href=\\\\\\\\\\\\\"/pt-BR/docs/Learn/Server-side/Django/Testing\\\\\\\\\\\\\">Tutorial Parte 10: Testando aplica\\\\u00E7\\\\u00F5es web em Django</a></li>\\\\\\\\n          <li><a class=\\\\\\\\\\\\\"new\\\\\\\\\\\\\" href=\\\\\\\\\\\\\"/pt-BR/docs/Learn/Server-side/Django/Deployment\\\\\\\\\\\\\" rel=\\\\\\\\\\\\\"nofollow\\\\\\\\\\\\\">Tutorial Parte 11: Implantando Django em produ\\\\u00E7\\\\u00E3o</a></li>\\\\\\\\n          <li><a href=\\\\\\\\\\\\\"/pt-BR/docs/Learn/Server-side/Django/web_application_security\\\\\\\\\\\\\">Seguran\\\\u00E7a de Aplica\\\\u00E7\\\\u00F5es Web</a></li>\\\\\\\\n          <li><a class=\\\\\\\\\\\\\"new\\\\\\\\\\\\\" href=\\\\\\\\\\\\\"/pt-BR/docs/Learn/Server-side/Django/django_assessment_blog\\\\\\\\\\\\\" rel=\\\\\\\\\\\\\"nofollow\\\\\\\\\\\\\">Avalia\\\\u00E7\\\\u00E3o: Fa\\\\u00E7a voc\\\\u00EA mesmo: Um blog pessoal</a></li>\\\\\\\\n        </ol>\\\\\\\\n    </details>\\\\\\\\n  </li>\\\\\\\\n  <li class=\\\\\\\\\\\\\"toggle\\\\\\\\\\\\\">\\\\\\\\n    <details>\\\\\\\\n        <summary>Framework Web Express (Node.js/JavaScript)</summary>\\\\\\\\n        <ol>\\\\\\\\n          <li><a href=\\\\\\\\\\\\\"/pt-BR/docs/Learn/Server-side/Express_Nodejs\\\\\\\\\\\\\">Vis\\\\u00E3o geral do Framework Web Express (Node.js/JavaScript)</a></li>\\\\\\\\n          <li><a class=\\\\\\\\\\\\\"new\\\\\\\\\\\\\" href=\\\\\\\\\\\\\"/pt-BR/docs/Learn/Server-side/Express_Nodejs/Introduction\\\\\\\\\\\\\" rel=\\\\\\\\\\\\\"nofollow\\\\\\\\\\\\\">Introdu\\\\u00E7\\\\u00E3o a Express/Node</a></li>\\\\\\\\n          <li><a class=\\\\\\\\\\\\\"new\\\\\\\\\\\\\" href=\\\\\\\\\\\\\"/pt-BR/docs/Learn/Server-side/Express_Nodejs/development_environment\\\\\\\\\\\\\" rel=\\\\\\\\\\\\\"nofollow\\\\\\\\\\\\\">Configurando um ambiente de desenvolvimento Node (Express)</a></li>\\\\\\\\n          <li><a href=\\\\\\\\\\\\\"/pt-BR/docs/Learn/Server-side/Express_Nodejs/Tutorial_local_library_website\\\\\\\\\\\\\">Tutorial R\\\\u00E1pido: Um site para a Biblioteca Local</a></li>\\\\\\\\n          <li><a href=\\\\\\\\\\\\\"/pt-BR/docs/Learn/Server-side/Express_Nodejs/skeleton_website\\\\\\\\\\\\\">Tutorial R\\\\u00E1pido Parte 2: Criando o esqueleto de um site</a></li>\\\\\\\\n          <li><a href=\\\\\\\\\\\\\"/pt-BR/docs/Learn/Server-side/Express_Nodejs/mongoose\\\\\\\\\\\\\">Tutorial R\\\\u00E1pido Parte 3: Usando um banco de dados (com Mongoose)</a></li>\\\\\\\\n          <li><a class=\\\\\\\\\\\\\"new\\\\\\\\\\\\\" href=\\\\\\\\\\\\\"/pt-BR/docs/Learn/Server-side/Express_Nodejs/routes\\\\\\\\\\\\\" rel=\\\\\\\\\\\\\"nofollow\\\\\\\\\\\\\">Tutorial R\\\\u00E1pido Parte 4: Rotas e \\\\\\\\\\\\\"controllers\\\\\\\\\\\\\"</a></li>\\\\\\\\n          <li><a href=\\\\\\\\\\\\\"/pt-BR/docs/Learn/Server-side/Express_Nodejs/Displaying_data\\\\\\\\\\\\\">Tutorial R\\\\u00E1pido Parte 5: Mostrando os dados da Biblioteca</a></li>\\\\\\\\n          <li><a class=\\\\\\\\\\\\\"new\\\\\\\\\\\\\" href=\\\\\\\\\\\\\"/pt-BR/docs/Learn/Server-side/Express_Nodejs/forms\\\\\\\\\\\\\" rel=\\\\\\\\\\\\\"nofollow\\\\\\\\\\\\\">Tutorial R\\\\u00E1pido Parte 6: Trabalhando com formul\\\\u00E1rios</a></li>\\\\\\\\n          <li><a href=\\\\\\\\\\\\\"/pt-BR/docs/Learn/Server-side/Express_Nodejs/deployment\\\\\\\\\\\\\">Tutorial R\\\\u00E1pido Parte 7: Implantando em produ\\\\u00E7\\\\u00E3o</a></li>\\\\\\\\n        </ol>\\\\\\\\n    </details>\\\\\\\\n  </li>\\\\\\\\n  <li><a href=\\\\\\\\\\\\\"#\\\\\\\\\\\\\"><strong>Mais recursos</strong></a></li>\\\\\\\\n  <li class=\\\\\\\\\\\\\"toggle\\\\\\\\\\\\\">\\\\\\\\n    <details>\\\\\\\\n        <summary>Quest\\\\u00F5es gerais</summary>\\\\\\\\n        <ol>\\\\\\\\n          <li><a class=\\\\\\\\\\\\\"new\\\\\\\\\\\\\" href=\\\\\\\\\\\\\"/pt-BR/docs/Learn/HTML/Howto\\\\\\\\\\\\\" rel=\\\\\\\\\\\\\"nofollow\\\\\\\\\\\\\">Quest\\\\u00F5es sobre HTML</a></li>\\\\\\\\n          <li><a href=\\\\\\\\\\\\\"/pt-BR/docs/Learn/CSS/Howto\\\\\\\\\\\\\">Quest\\\\u00F5es sobre CSS</a></li>\\\\\\\\n          <li><a class=\\\\\\\\\\\\\"new\\\\\\\\\\\\\" href=\\\\\\\\\\\\\"/pt-BR/docs/Learn/JavaScript/Howto\\\\\\\\\\\\\" rel=\\\\\\\\\\\\\"nofollow\\\\\\\\\\\\\">Quest\\\\u00F5es sobre JavaScript</a></li>\\\\\\\\n          <li><a href=\\\\\\\\\\\\\"/pt-BR/docs/Learn/Common_questions#How_the_Web_works\\\\\\\\\\\\\">Como a Internet funciona</a></li>\\\\\\\\n          <li><a href=\\\\\\\\\\\\\"/pt-BR/docs/Learn/Common_questions#Tools_and_setup\\\\\\\\\\\\\">Ferramentas e configura\\\\u00E7\\\\u00E3o</a></li>\\\\\\\\n          <li><a href=\\\\\\\\\\\\\"/pt-BR/docs/Learn/Common_questions#Design_and_accessibility\\\\\\\\\\\\\">Projeto e acessibilidade</a></li>\\\\\\\\n        </ol>\\\\\\\\n    </details>\\\\\\\\n  </li>\\\\\\\\n  <li data-default-state=\\\\\\\\\\\\\"closed\\\\\\\\\\\\\"><a class=\\\\\\\\\\\\\"new\\\\\\\\\\\\\" href=\\\\\\\\\\\\\"/pt-BR/docs/Learn/How_to_contribute\\\\\\\\\\\\\" rel=\\\\\\\\\\\\\"nofollow\\\\\\\\\\\\\">Como contribuir</a></li>\\\\\\\\n</ol>\\\\\\\\n\\\\\\\\n\\\\\",\\\\\"tocHTML\\\\\":\\\\\"\\\\\",\\\\\"raw\\\\\":\\\\\"<div>{{LearnSidebar}}</div>\\\\\\\\n\\\\\\\\n<div>{{NextMenu(\\\\\\\\\\\\\"Learn/Server-side/Django/development_environment\\\\\\\\\\\\\", \\\\\\\\\\\\\"Learn/Server-side/Django\\\\\\\\\\\\\")}}</div>\\\\\\\\n\\\\\\\\n<p class=\\\\\\\\\\\\\"summary\\\\\\\\\\\\\">Neste primeiro artigo do Django, respondemos a pergunta \\\\\\\\\\\\\"O que \\\\u00E9 o Django?\\\\\\\\\\\\\" e daremos uma vis\\\\u00E3o geral do que torna este framework web especial. Vamos descrever os principais recursos, incluindo algumas das funcionalidades avan\\\\u00E7adas que n\\\\u00E3o teremos tempo para abordar detalhadamente neste m\\\\u00F3dulo. Tamb\\\\u00E9m mostraremos alguns dos principais blocos de constru\\\\u00E7\\\\u00E3o de um aplicativo Django (embora neste momento voc\\\\u00EA ainda n\\\\u00E3o tenha um ambiente de desenvolvimento para test\\\\u00E1-lo).</p>\\\\\\\\n\\\\\\\\n<table class=\\\\\\\\\\\\\"learn-box standard-table\\\\\\\\\\\\\">\\\\\\\\n <tbody>\\\\\\\\n  <tr>\\\\\\\\n   <th scope=\\\\\\\\\\\\\"row\\\\\\\\\\\\\">Pr\\\\u00E9-requisitos:</th>\\\\\\\\n   <td>\\\\\\\\n    <p><span id=\\\\\\\\\\\\\"result_box\\\\\\\\\\\\\" lang=\\\\\\\\\\\\\"pt\\\\\\\\\\\\\"><span>Conhecimentos b\\\\u00E1sicos em computa\\\\u00E7\\\\u00E3o.</span> <span>Um entendimento geral de <a href=\\\\\\\\\\\\\"https://developer.mozilla.org/en-US/docs/Learn/Server-side/First_steps\\\\\\\\\\\\\">programa\\\\u00E7\\\\u00E3o de websites do lado do servidor</a> e, em particular, a mec\\\\u00E2nica de <a href=\\\\\\\\\\\\\"/pt-BR/docs/\\\\\\\\\\\\\">intera\\\\u00E7\\\\u00F5es cliente-servidor em websites</a>.</span></span></p>\\\\\\\\n   </td>\\\\\\\\n  </tr>\\\\\\\\n  <tr>\\\\\\\\n   <th scope=\\\\\\\\\\\\\"row\\\\\\\\\\\\\">Objetivos:</th>\\\\\\\\n   <td>Ganhar familiaridade com o que \\\\u00E9 o Django, quais funcionalidades ele fornece e os principais blocos de constru\\\\u00E7\\\\u00E3o de uma aplica\\\\u00E7\\\\u00E3o django.</td>\\\\\\\\n  </tr>\\\\\\\\n </tbody>\\\\\\\\n</table>\\\\\\\\n\\\\\\\\n<h2 id=\\\\\\\\\\\\\"O_que_\\\\u00E9_Django\\\\\\\\\\\\\">O que \\\\u00E9 Django?</h2>\\\\\\\\n\\\\\\\\n<p>Django \\\\u00E9 um framework web Python de alto n\\\\u00EDvel\\\\u00A0que permite o r\\\\u00E1pido desenvolvimento de sites seguros e de f\\\\u00E1cil manuten\\\\u00E7\\\\u00E3o. Construido por desenvolvedores experientes,\\\\u00A0o Django cuida de grande parte do trabalho de desenvolvimento web, para que voc\\\\u00EA\\\\u00A0possa se concentrar em escrever seu aplicativo sem precisar reinventar a roda. \\\\u00C9 gratuito e\\\\u00A0de c\\\\u00F3digo aberto,\\\\u00A0tem uma comunidade pr\\\\u00F3spera e ativa, \\\\u00F3tima documenta\\\\u00E7\\\\u00E3o\\\\u00A0e muitas op\\\\u00E7\\\\u00F5es de suporte gratuito e pago.\\\\u00A0</p>\\\\\\\\n\\\\\\\\n<p>Django ajuda voc\\\\u00EA a escrever programas que s\\\\u00E3o:</p>\\\\\\\\n\\\\\\\\n<dl>\\\\\\\\n <dt>Completo</dt>\\\\\\\\n <dd>Django segue a filosofia de \\\\\\\\\\\\\"baterias inclu\\\\u00EDdas\\\\\\\\\\\\\" e fornece quase tudo que desenvolvedores possam querer fazer \\\\\\\\\\\\\"fora da caixa\\\\\\\\\\\\\". Como tudo o que voc\\\\u00EA precisa \\\\u00E9 parte de um \\\\\\\\\\\\\"produto\\\\\\\\\\\\\", tudo funciona perfeitamente junto, seguindo princ\\\\u00EDpios de design consistentes, contando uma extensa e <a href=\\\\\\\\\\\\\"https://docs.djangoproject.com/pt-br/2.1/\\\\\\\\\\\\\">atualizada documenta\\\\u00E7\\\\u00E3o</a>.</dd>\\\\\\\\n <dt>Vers\\\\u00E1til</dt>\\\\\\\\n <dd>Django pode ser (e tem sido) utilizado para construir quase todo tipo de website - desde sistema de gest\\\\u00E3o de conte\\\\u00FAdo e wikis, passando por redes sociais e sites de not\\\\u00EDcias. Ele pode trabalhar com qualquer framework do lado do cliente, e pode entregar conte\\\\u00FAdo em praticamente qualquer formato (incluindo HTML, feeds RSS, JSON, XML, etc). Esse site que voc\\\\u00EA est\\\\u00E1 lendo agora \\\\u00E9 baseado em Django.</dd>\\\\\\\\n <dd>\\\\u00C0 medida em que, internamente, fornece op\\\\u00E7\\\\u00F5es para quase todo tipo de funcionalidade que voc\\\\u00EA possa querer (por exemplo: v\\\\u00E1rios banco de dados que s\\\\u00E3o populares, motores de template, etc), ele pode tamb\\\\u00E9m ser extendido para utilizar outros componentes, caso seja necess\\\\u00E1rio.</dd>\\\\\\\\n <dt>Seguro</dt>\\\\\\\\n <dd>Django ajuda os desenvolvedores a evitar os erros de seguran\\\\u00E7a mais comuns, fornecendo um framework que foi desenhado para \\\\\\\\\\\\\"fazer as coisas certas\\\\\\\\\\\\\", de modo a proteger o website automaticamente. Por exemplo, Django fornece uma maneira segura de gerenciar as contas dos usu\\\\u00E1rios e suas senhas, evitando erros comuns, tais como colocar informa\\\\u00E7\\\\u00F5es da sess\\\\u00E3o em cookies, onde ficam vulner\\\\u00E1veis (ao inv\\\\u00E9s disso os cookies cont\\\\u00E9m apenas uma chave e os dados s\\\\u00E3o armazenados no banco de dados), ou armazenar as senhas de forma direta, ao inv\\\\u00E9s de gravar um hash para essas senhas.</dd>\\\\\\\\n <dd><em>Um hash de senha \\\\u00E9 um valor fixed-length (tamanho-fixo) criado mandando a senha por uma <a href=\\\\\\\\\\\\\"https://pt.wikipedia.org/wiki/Fun%C3%A7%C3%A3o_hash_criptogr%C3%A1fica\\\\\\\\\\\\\">cryptographic\\\\u00A0hash function\\\\u00A0(fun\\\\u00E7\\\\u00E3o hash criptogr\\\\u00E1fica)</a>.\\\\u00A0Django pode checar se uma senha inserida est\\\\u00E1 correta\\\\u00A0executando ela pela fun\\\\u00E7\\\\u00E3o hash e comparando a sa\\\\u00EDda\\\\u00A0com o valor hash armazenado. Por\\\\u00E9m devido a natureza \\\\\\\\\\\\\"one-way\\\\\\\\\\\\\" (\\\\\\\\\\\\\"um-caminho\\\\\\\\\\\\\") da fun\\\\u00E7\\\\u00E3o, mesmo que o valor hash armazenado estiver comprometido, \\\\u00E9 difcil para uma pessoa comentendo um ataque resolver\\\\u00A0a senha original.</em></dd>\\\\\\\\n <dd>O Django ativa a prote\\\\u00E7\\\\u00E3o contra muitas vulnerabilidades por padr\\\\u00E3o, incluindo SQL injection (inje\\\\u00E7\\\\u00E3o de SQL),\\\\u00A0cross-site scripting, cross-site request forgery (Falsifica\\\\u00E7\\\\u00E3o de solicita\\\\u00E7\\\\u00E3o entre sites), e clickjacking (\\\\\\\\\\\\\"furto de click\\\\\\\\\\\\\") (veja <a href=\\\\\\\\\\\\\"https://developer.mozilla.org/en-US/docs/Learn/Server-side/First_steps/Website_security\\\\\\\\\\\\\">Seguran\\\\u00E7a de sites</a>\\\\u00A0para mais detalhes de tais ataques).</dd>\\\\\\\\n <dt>Escal\\\\u00E1vel</dt>\\\\\\\\n <dd>Django usa uma arquitetura baseada em componentes \\\\u201C<a href=\\\\\\\\\\\\\"https://en.wikipedia.org/wiki/Shared_nothing_architecture\\\\\\\\\\\\\">shared-nothing</a>\\\\u201D (\\\\\\\\\\\\\"nada-compartilhado\\\\\\\\\\\\\") (cada parte da arquitetura \\\\u00E9 idependente das outras, e consequentemente podem ser subistituidas ou mudadas caso necess\\\\u00E1rio). Ter uma separa\\\\u00E7\\\\u00E3o clara entre as partes diferentes significa que pode se escalar para um tr\\\\u00E1gefo aumentado adicionando hardware em qualquer n\\\\u00EDvel: servidores de cache, servidores de banco de dados ou servidores de aplica\\\\u00E7\\\\u00E3o. Alguns dos sites mais ocupados escalaram o Django com sucesso para cumprir com as suas demandas (ex: Instagram e Disqus).</dd>\\\\\\\\n <dt>Sustent\\\\u00E1vel</dt>\\\\\\\\n <dd>O c\\\\u00F3digo do Django \\\\u00E9 escrito usando princ\\\\u00EDpios de design e padr\\\\u00F5es que encorajam a cria\\\\u00E7\\\\u00E3o de codigo sustent\\\\u00E1vel (que facilita a manuten\\\\u00E7\\\\u00E3o) e reus\\\\u00E1vel. Em particular, isso utiliza o principio\\\\u00A0\\\\u00A0DRY - Don\\'t Repeat Yourself\\\\u00A0(N\\\\u00E3o Repita a Si Mesmo) para que n\\\\u00E3o haja duplica\\\\u00E7\\\\u00F5es desnecess\\\\u00E1rias, reduzindo a quantidade de c\\\\u00F3digo. O Django tamb\\\\u00E9m promove o agrupamento de funcionalidades relacionadas para aplicativos reus\\\\u00E1veis e, em um n\\\\u00EDvel mais baixo, grupos de c\\\\u00F3digo relacionados para modulos (juntamente as\\\\u00A0linhas do padr\\\\u00E3o <a href=\\\\\\\\\\\\\"https://pt.wikipedia.org/wiki/MVC\\\\\\\\\\\\\">MVC - Model View Controller</a>).</dd>\\\\\\\\n <dt>Port\\\\u00E1vel</dt>\\\\\\\\n <dd>Django \\\\u00E9 escrito em Python, que executa em muitas plataformas. Isso significa que voc\\\\u00EA n\\\\u00E3o esta preso em nenhuma plataforma de servidor em particular, e pode executar seus aplicativos em muitas distrubui\\\\u00E7\\\\u00F5es do Linux, Windows e Mac OS X. Al\\\\u00E9m disso, o Django tem um bom suporte em muitos provedores de\\\\u00A0servidores de web, que muitas vezes provem infraestrutura especifca e documenta\\\\u00E7\\\\u00E3o para hospedar sites feitos com Django.</dd>\\\\\\\\n</dl>\\\\\\\\n\\\\\\\\n<h2 id=\\\\\\\\\\\\\"De_onde_o_Django_veio\\\\\\\\\\\\\">De onde o Django veio?</h2>\\\\\\\\n\\\\\\\\n<p>Django foi inicialmente desenvolvido entre 2003 e 2005 por um time de web que era respons\\\\u00E1vel por criar e manter sites de jornal. Depois de criar um n\\\\u00FAmero de sites, o time come\\\\u00E7ou a fatorar e reutilizar muitos de seus c\\\\u00F3digos comuns e padr\\\\u00F5es de design. Esse c\\\\u00F3digo comum evoluiu para um framework gen\\\\u00E9rico de desenvolvimento web, que foi lan\\\\u00E7ado como um projeto de c\\\\u00F3digo aberto nomeado \\\\\\\\\\\\\"Django\\\\\\\\\\\\\"\\\\u00A0em Julho de 2005.</p>\\\\\\\\n\\\\\\\\n<p>Django continou a crescer e aprimorar, desde seu lan\\\\u00E7amento (1.0) em Setembro de 2008 at\\\\u00E9 a vers\\\\u00E3o recentemente lan\\\\u00E7ada 2.0 em 2017. Cada lan\\\\u00E7amento adicionou novas funcionalidades e consertou falhas, variando entre suportar novos tipos de banco de dados, mecanismos de template e caches, at\\\\u00E9 a adi\\\\u00E7\\\\u00E3o de fun\\\\u00E7\\\\u00F5es view \\\\\\\\\\\\\"gen\\\\u00E9ricas\\\\\\\\\\\\\" e classes (que reduzem a quantidade de c\\\\u00F3digo que os desenvolvedores tem que escrever para um n\\\\u00FAmero de tarefas de programa\\\\u00E7\\\\u00E3o).</p>\\\\\\\\n\\\\\\\\n<div class=\\\\\\\\\\\\\"note\\\\\\\\\\\\\">\\\\\\\\n<p><strong>Nota</strong>: Cheque as <span style=\\\\\\\\\\\\\"line-height: 1.5;\\\\\\\\\\\\\"><a href=\\\\\\\\\\\\\"https://docs.djangoproject.com/pt-br/2.1/releases/\\\\\\\\\\\\\">notas de lan\\\\u00E7amento</a>\\\\u00A0no site do Django para ver o que mudou nas vers\\\\u00F5es mais recentes, e quanto trabalho esta sendo feito para tornar o Django melhor.</span></p>\\\\\\\\n</div>\\\\\\\\n\\\\\\\\n<p>Django\\\\u00A0\\\\u00E9 um\\\\u00A0projeto de c\\\\u00F3digo aberto, colaborativo e\\\\u00A0pr\\\\u00F3spero,\\\\u00A0com milhares de usu\\\\u00E1rios contribuindo. Embora ainda tenha alguns recursos que refletem sua origem, Django evoluiu para um framework vers\\\\u00E1til que \\\\u00E9 capaz de desenvovler qualquer tipo de website.</p>\\\\\\\\n\\\\\\\\n<h2 id=\\\\\\\\\\\\\"Qu\\\\u00E3o_popular_\\\\u00E9_o_Django\\\\\\\\\\\\\">Qu\\\\u00E3o popular \\\\u00E9 o Django?</h2>\\\\\\\\n\\\\\\\\n<p>N\\\\u00E3o h\\\\u00E1 nenhum m\\\\u00E9todo dispon\\\\u00EDvel e definitivo para medir a popularidade dos framework server-side (lado do servidor) (apesar de sites como\\\\u00A0<a href=\\\\\\\\\\\\\"http://hotframeworks.com/\\\\\\\\\\\\\">Hot Frameworks</a>\\\\u00A0tentam acessar a popularidade usando mecanismos como contar o numero de projetos no GitHub e perguntas no StackOverflow para cada cada platafroma). Uma quest\\\\u00E3o melhor \\\\u00E9 se o Django \\\\u00E9 \\\\\\\\\\\\\"popular o suficiente\\\\\\\\\\\\\" para evitar problemas\\\\u00A0de plataformas n\\\\u00E3o populares. Ele continua a evoluir? Voc\\\\u00EA consegue ajuda se precisar? Existem oportunidades para voc\\\\u00EA ganhar dinheiro\\\\u00A0se voce aprender Django?</p>\\\\\\\\n\\\\\\\\n<p>Baseado no n\\\\u00FAmero de sites com alto perfil que usam Django, o n\\\\u00FAmero de pessoas contribuindo para a base de c\\\\u00F3digo, e o n\\\\u00FAmero de pessoas provendo ambos suporte gratuito e pago, ent\\\\u00E3o sim, Django \\\\u00E9 um framework popular!</p>\\\\\\\\n\\\\\\\\n<p>Alguns sites de alto perfil que usam Django s\\\\u00E3o:\\\\u00A0Disqus, Instagram,\\\\u00A0Knight Foundation, MacArthur Foundation, Mozilla, National Geographic,\\\\u00A0Open Knowledge Foundation, Pinterest, and Open Stack (fonte: <a href=\\\\\\\\\\\\\"https://www.djangoproject.com/\\\\\\\\\\\\\">P\\\\u00E1gina inicial do django</a>).</p>\\\\\\\\n\\\\\\\\n<h2 id=\\\\\\\\\\\\\"O_Django_\\\\u00E9_opinativo\\\\\\\\\\\\\">O Django \\\\u00E9 opinativo?</h2>\\\\\\\\n\\\\\\\\n<p>Frameworks de web frequentemente referem a si mesmos como \\\\\\\\\\\\\"opinativo\\\\\\\\\\\\\" e \\\\\\\\\\\\\"n\\\\u00E3o opinativo\\\\\\\\\\\\\".</p>\\\\\\\\n\\\\\\\\n<p>Frameworks opinativos s\\\\u00E3o aqueles com opini\\\\u00F5es sobre o \\\\\\\\\\\\\"modo correto\\\\\\\\\\\\\" de como lidar com uma tarefa em particular. Eles frequentemente auxiliam no\\\\u00A0desenvolvimento rapido <em>em um dom\\\\u00EDnio em particular</em> (resolvendo problemas de um tipo em particular) porque o modo correto de fazer qualquer coisa normalmente j\\\\u00E1 foi bem compreendido e bem documentado. Por\\\\u00E9m eles podem ser menos flex\\\\u00EDveis para resolver problemas fora\\\\u00A0de seu principal dom\\\\u00EDnio, e tendem a oferecer menos op\\\\u00E7\\\\u00F5es para quais\\\\u00A0componentes e abordagens eles podem usar.</p>\\\\\\\\n\\\\\\\\n<p>Frameworks n\\\\u00E3o opinativos, em contraste, possuem bem menos restri\\\\u00E7\\\\u00F5es sobre a melhor maneira de unir os componentes para atingir um objetivo,\\\\u00A0ou at\\\\u00E9 mesmo quais componentes devem ser usados. Eles tornam mais f\\\\u00E1cil para os desenvolvedores usar as ferramentas mais adequadas para completar uma tarefa em particular, apesar do custo de voc\\\\u00EA mesmo ter que achar esses componentes.<br>\\\\\\\\n <br>\\\\\\\\n Django \\\\u00E9 \\\\\\\\\\\\\"moderadamente opinativo\\\\\\\\\\\\\" e, portantanto, oferece o \\\\\\\\\\\\\"melhor dos dois mundo\\\\\\\\\\\\\". Ele fornece um conjunto de componentes para lidar com a maioria das tarefas de desenvolvimento web, e uma (ou duas) maneiras preferidas de us\\\\u00E1-las. No entanto, a arquitetura desacoplada do Django significa que voc\\\\u00EA geralmente pode escolher entre v\\\\u00E1rias op\\\\u00E7\\\\u00F5es diferentes, ou adicionar suporte para outras completamente novas, se desejar.</p>\\\\\\\\n\\\\\\\\n<h2 id=\\\\\\\\\\\\\"Com_o_que_o_c\\\\u00F3digo_do_Django_parece\\\\\\\\\\\\\">Com o que o\\\\u00A0c\\\\u00F3digo do Django parece?</h2>\\\\\\\\n\\\\\\\\n<p>Em um site data-driven (orientado a dados)\\\\u00A0tradicional, um aplicativo web aguarda solicita\\\\u00E7\\\\u00F5es HTTP do navegador da web (ou outro cliente). Quando uma solicita\\\\u00E7\\\\u00E3o \\\\u00E9 recebida, o aplicativo calcula o que \\\\u00E9 necess\\\\u00E1rio com base na URL e possivelmente nas informa\\\\u00E7\\\\u00F5es dos dados <code>POST</code> ou <code>GET</code>. Dependendo do que for necess\\\\u00E1rio, ele poder\\\\u00E1 ler ou gravar informa\\\\u00E7\\\\u00F5es de um banco de dados ou executar outras tarefas necess\\\\u00E1rias para satisfazer a solicita\\\\u00E7\\\\u00E3o. O aplicativo retornar\\\\u00E1 uma resposta para o navegador da web, normalmente\\\\u00A0criando dinamicamente uma p\\\\u00E1gina HTML para o navegador exibir, inserindo os dados recuperados em espa\\\\u00E7os reservados em um template HTML.</p>\\\\\\\\n\\\\\\\\n<p>Aplicativos web feitos com Django geralmente agrupam o c\\\\u00F3digo que manipula cada uma dessas etapas em arquivos separados:</p>\\\\\\\\n\\\\\\\\n<p><img alt=\\\\\\\\\\\\\"\\\\\\\\\\\\\" src=\\\\\\\\\\\\\"https://i.postimg.cc/W4yzpVcd/arq.png\\\\\\\\\\\\\" style=\\\\\\\\\\\\\"border-style: solid; border-width: 1px; height: 503px; width: 713px;\\\\\\\\\\\\\"></p>\\\\\\\\n\\\\\\\\n<ul>\\\\\\\\n <li><strong>URLs: </strong>Embora seja poss\\\\u00EDvel processar solicita\\\\u00E7\\\\u00F5es de cada URL por meio de uma \\\\u00FAnica fun\\\\u00E7\\\\u00E3o, \\\\u00E9 muito mais simples fazer a manuten\\\\u00E7\\\\u00E3o do c\\\\u00F3digo escrevendo uma fun\\\\u00E7\\\\u00E3o view (vista) separada para manipular\\\\u00A0cada recurso. Um mapeador de URLs \\\\u00E9 usado para redirecionar solicita\\\\u00E7\\\\u00F5es HTTP para a view\\\\u00A0apropriada com base na\\\\u00A0URL da solicita\\\\u00E7\\\\u00E3o. O mapeador de URLs tamb\\\\u00E9m pode corresponder\\\\u00A0padr\\\\u00F5es espec\\\\u00EDficos de strings (cadeia de caracteres) ou d\\\\u00EDgitos que aparecem em um URL e transmiti-los a uma fun\\\\u00E7\\\\u00E3o view como dados.</li>\\\\\\\\n <li><strong>View (Vista):</strong>\\\\u00A0Uma view \\\\u00E9 uma fun\\\\u00E7\\\\u00E3o manipuladora de solicita\\\\u00E7\\\\u00F5es, que recebe solicita\\\\u00E7\\\\u00F5es HTTP e retorna respostas HTTP. As views\\\\u00A0acessam os dados necess\\\\u00E1rios para satisfazer solicita\\\\u00E7\\\\u00F5es por meio dos <em>models (modelos)</em>\\\\u00A0e encarregam\\\\u00A0a formata\\\\u00E7\\\\u00E3o da resposta aos <em>templates</em>.</li>\\\\\\\\n <li><strong>Models (Modelos):</strong>\\\\u00A0Modelos s\\\\u00E3o objetos em Python que definem a estrutura dos dados de um aplicativo,\\\\u00A0e fornecem mecanismos para gerenciar (adicionar, modificar e excluir) e consultar registros no banco de dados.</li>\\\\\\\\n <li><strong>Templates:</strong>\\\\u00A0Um template \\\\u00E9 um arquivo de texto que define a estrutura ou o layout de um arquivo (como uma p\\\\u00E1gina HTML), com espa\\\\u00E7os reservados usados para representar o conte\\\\u00FAdo real. Uma <em>view</em> pode criar dinamicamente uma p\\\\u00E1gina HTML usando um template HTML, preenchendo-a com dados de um <em>model (modelo)</em>. Um template pode ser usado para definir a estrutura de qualquer tipo de arquivo; n\\\\u00E3o precisa ser HTML!</li>\\\\\\\\n</ul>\\\\\\\\n\\\\\\\\n<div class=\\\\\\\\\\\\\"note\\\\\\\\\\\\\">\\\\\\\\n<p><strong>Nota</strong>: Django refere a essa organiza\\\\u00E7\\\\u00E3o como uma arquitetura nomeada\\\\u00A0\\\\\\\\\\\\\"Model View Template (MVT)\\\\\\\\\\\\\" (\\\\\\\\\\\\\"Modelo Vista Template\\\\\\\\\\\\\"). Ela tem muitas semelhan\\\\u00E7as com a familiar arquitetura\\\\u00A0<a href=\\\\\\\\\\\\\"https://pt.wikipedia.org/wiki/MVC\\\\\\\\\\\\\">Model View Controller\\\\u00A0(Modelo Vista Controlador)</a>.</p>\\\\\\\\n</div>\\\\\\\\n\\\\\\\\n<ul>\\\\\\\\n</ul>\\\\\\\\n\\\\\\\\n<p>As se\\\\u00E7\\\\u00F5es abaixo lhe dar\\\\u00E3o uma id\\\\u00E9ia de como essas partes principais de um aplicativo do Django se parecer\\\\u00E3o (nos vamos entrar em mais detalhes mais tarde no curso, assim que configurarmos um ambiente de desenvolvimento).</p>\\\\\\\\n\\\\\\\\n<h3 id=\\\\\\\\\\\\\"Enviando_a_solicita\\\\u00E7\\\\u00E3o_para_a_view_correta_urls.py\\\\\\\\\\\\\">Enviando a solicita\\\\u00E7\\\\u00E3o para a view correta (urls.py)</h3>\\\\\\\\n\\\\\\\\n<p>Um mapeador de URLs normalmente \\\\u00E9 armazenado em um arquivo chamado <strong>urls.py</strong>. No exemplo abaixo, o mapeador (<code>urlpatterns</code>) (<em>padr\\\\u00F5es de url</em>) define uma lista de mapeamentos entre <em>rotas</em> (<em>padr\\\\u00F5es</em>\\\\u00A0espec\\\\u00EDficos de URL) e fun\\\\u00E7\\\\u00F5es view\\\\u00A0correspondentes. Se uma solicita\\\\u00E7\\\\u00E3o HTTP for recebida com uma URL correspondente a um padr\\\\u00E3o especificado, a fun\\\\u00E7\\\\u00E3o view associada ser\\\\u00E1 chamada e a\\\\u00A0solicita\\\\u00E7\\\\u00E3o/requisi\\\\u00E7\\\\u00E3o\\\\u00A0sera transmitida.</p>\\\\\\\\n\\\\\\\\n<pre class=\\\\\\\\\\\\\"notranslate\\\\\\\\\\\\\"><code>urlpatterns = [\\\\\\\\n    <strong>path(\\'admin/\\', admin.site.urls),</strong>\\\\\\\\n    path(\\'book/&lt;int:id&gt;/\\', views.book-detail, name=\\'book-detail\\'),\\\\\\\\n    path(\\'catalog/\\', include(\\'catalog.urls\\')),\\\\\\\\n    re_path(r\\'^([0-9]+)/$\\', views.best),\\\\\\\\n]\\\\\\\\n\\\\\\\\n# favor utilizar o c\\\\u00F3digo acima no seu projeto ao inv\\\\u00E9s do que est\\\\u00E1 abaixo\\\\\\\\n# urlpatterns = [ \\\\\\\\n#     path(\\'admin/\\', admin.site.urls), \\\\\\\\n#     path(\\'livro/&lt;int:id&gt;/\\', views.livro-detalhes, name=\\'livro-detalhes\\'), \\\\\\\\n#     path(\\'catalogo/\\', include(\\'catalogo.urls\\')), \\\\\\\\n# \\\\u00A0   re_path(r\\'^([0-9]+)/$\\', views.melhor), \\\\\\\\n# ]</code>\\\\\\\\n</pre>\\\\\\\\n\\\\\\\\n<p>O objeto\\\\u00A0<code>urlpatterns</code>\\\\u00A0\\\\u00E9 uma lista de fun\\\\u00E7\\\\u00F5es\\\\u00A0<code>path()</code>\\\\u00A0(caminhos) e/ou\\\\u00A0<code>re_path()</code>\\\\u00A0(listas em Python s\\\\u00E3o definidas usando\\\\u00A0colchetes, onde os itens s\\\\u00E3o separados por v\\\\u00EDrgulas e podem conter opcionalmente uma v\\\\u00EDrgula no final. Por exemplo:\\\\u00A0<strong><code>[item1, item2, item3,]</code></strong>).</p>\\\\\\\\n\\\\\\\\n<p>O primeiro argumento para ambos os m\\\\u00E9todos \\\\u00E9 uma rota (padr\\\\u00E3o) que ser\\\\u00E1 correspondida. O m\\\\u00E9todo <code>path()</code> usa sinais de menor e maior (&lt;, &gt;)\\\\u00A0para definir partes de uma URL que ser\\\\u00E3o capturadas e passadas para a fun\\\\u00E7\\\\u00E3o view como argumentos nomeados. A fun\\\\u00E7\\\\u00E3o <code>re_path()</code> usa uma abordagem de correspond\\\\u00EAncia de padr\\\\u00F5es flex\\\\u00EDvel, conhecida como express\\\\u00E3o regular. N\\\\u00F3s vamos falar sobre isso em um artigo posterior!</p>\\\\\\\\n\\\\\\\\n<p>O segundo argumento \\\\u00E9 outra fun\\\\u00E7\\\\u00E3o que ser\\\\u00E1 chamada quando o padr\\\\u00E3o for correspondido. A nota\\\\u00E7\\\\u00E3o <code>views.book-detail</code>\\\\u00A0(<code>views.livro-detalhes</code>) indica que a fun\\\\u00E7\\\\u00E3o \\\\u00E9 chamada de <code>book-detail()</code>\\\\u00A0(<code>livro-detalhes()</code>) e pode ser encontrada em um m\\\\u00F3dulo chamado <code>views</code> (ou seja, dentro de um arquivo chamado <code>views.py</code>)</p>\\\\\\\\n\\\\\\\\n<h3 id=\\\\\\\\\\\\\"Manipulando_a_solicita\\\\u00E7\\\\u00E3o_views.py\\\\\\\\\\\\\">Manipulando a solicita\\\\u00E7\\\\u00E3o\\\\u00A0(views.py)</h3>\\\\\\\\n\\\\\\\\n<p>As view s\\\\u00E3o o cora\\\\u00E7\\\\u00E3o do aplicativo web, recebendo solicita\\\\u00E7\\\\u00F5es HTTP de clientes da web e retornando respostas HTTP. No meio disto, eles preparam os outros recursos do framework para acessar bancos de dados, renderizar (exibir) templates, etc.</p>\\\\\\\\n\\\\\\\\n<p>O exemplo abaixo mostra uma fun\\\\u00E7\\\\u00E3o view m\\\\u00EDnima chamada <code>index()</code>, que poderia ter sido chamado pelo nosso mapeador de URLs na se\\\\u00E7\\\\u00E3o anterior. Como todas as fun\\\\u00E7\\\\u00F5es <em>view</em>, ele recebe um objeto <code>HttpRequest</code> como um par\\\\u00E2metro (<code>request</code>) e retorna um objeto <code>HttpResponse</code>. Nesse caso, n\\\\u00E3o fazemos nada com a solicita\\\\u00E7\\\\u00E3o, e nossa resposta simplesmente retorna uma string. Mostraremos uma solicita\\\\u00E7\\\\u00E3o que faz algo mais interessante em uma se\\\\u00E7\\\\u00E3o posterior.</p>\\\\\\\\n\\\\\\\\n<pre class=\\\\\\\\\\\\\"brush: python notranslate\\\\\\\\\\\\\">## filename: views.py (Django view functions)\\\\\\\\n\\\\\\\\nfrom django.http import HttpResponse\\\\\\\\n\\\\\\\\ndef index(request):\\\\\\\\n    # Get an HttpRequest - the request parameter\\\\\\\\n    # perform operations using information from the request.\\\\\\\\n\\\\u00A0   # Return HttpResponse\\\\\\\\n    return HttpResponse(\\'Hello from Django!\\')\\\\\\\\n\\\\\\\\n<code># favor utilizar o c\\\\u00F3digo acima no seu projeto ao inv\\\\u00E9s do que est\\\\u00E1 abaixo</code>\\\\\\\\n## nome do arquivo: views.py (Onde as fun\\\\u00E7\\\\u00F5es view ficam) \\\\\\\\n\\\\\\\\nfrom django.http import HttpResponse\\\\\\\\n\\\\\\\\ndef index(requisito):\\\\\\\\n    # Recebe um HttpRequest - o parametro requisito\\\\\\\\n    # Executar opera\\\\u00E7\\\\u00F5es usando informa\\\\u00E7\\\\u00F5es do requisito (solicita\\\\u00E7\\\\u00E3o).\\\\\\\\n    # Retornar HttpResponse\\\\\\\\n    return HttpResponse(\\'Um oi do Django!\\')\\\\\\\\n</pre>\\\\\\\\n\\\\\\\\n<div class=\\\\\\\\\\\\\"note\\\\\\\\\\\\\">\\\\\\\\n<p><strong>Nota</strong>: Um pouquinho de Python:</p>\\\\\\\\n\\\\\\\\n<ul>\\\\\\\\n <li><a href=\\\\\\\\\\\\\"https://docs.python.org/3/tutorial/modules.html\\\\\\\\\\\\\">M\\\\u00F3dulos do Python</a>\\\\u00A0s\\\\u00E3o \\\\\\\\\\\\\"bibliotecas\\\\\\\\\\\\\" de fun\\\\u00E7\\\\u00F5es, armazenadas em arquivos separados, que podemos\\\\u00A0utilizar em nosso c\\\\u00F3digo. Aqui n\\\\u00F3s importamos apenas o objeto <code>HttpResponse</code> do m\\\\u00F3dulo <code>django.http</code> para que possamos us\\\\u00E1-lo em nossa view: <code>from django.http import HttpResponse</code>. Existem outras maneiras de importar alguns ou todos os objetos de um m\\\\u00F3dulo.</li>\\\\\\\\n <li>As fun\\\\u00E7\\\\u00F5es em Python s\\\\u00E3o declaradas usando a palavra-chave <code>def</code> como mostrado acima, com par\\\\u00E2metros nomeados listados entre par\\\\u00EAnteses ap\\\\u00F3s o nome da fun\\\\u00E7\\\\u00E3o; a linha inteira termina em dois pontos. Observe como as pr\\\\u00F3ximas linhas s\\\\u00E3o todas <strong>recuadas</strong>. O recuo \\\\u00E9 importante, pois especifica que as linhas de c\\\\u00F3digo est\\\\u00E3o dentro desse bloco espec\\\\u00EDfico (a indenta\\\\u00E7\\\\u00E3o obrigat\\\\u00F3ria \\\\u00E9 um recurso chave do Python e \\\\u00E9 um dos motivos pelos quais o c\\\\u00F3digo Python \\\\u00E9 t\\\\u00E3o f\\\\u00E1cil de ler).</li>\\\\\\\\n</ul>\\\\\\\\n</div>\\\\\\\\n\\\\\\\\n<ul>\\\\\\\\n</ul>\\\\\\\\n\\\\\\\\n<p>Views geralmente s\\\\u00E3o armazenadas em um arquivo chamado\\\\u00A0<strong>views.py</strong>.</p>\\\\\\\\n\\\\\\\\n<h3 id=\\\\\\\\\\\\\"Definindo_o_modelo_dos_dados_models.py\\\\\\\\\\\\\">Definindo o modelo dos dados\\\\u00A0(models.py)</h3>\\\\\\\\n\\\\\\\\n<p>Os aplicativos web feitos com\\\\u00A0Django gerenciam e consultam dados por meio de objetos do Python chamados de modelos. Os modelos definem a estrutura dos dados armazenados, incluindo os <em>tipos </em>do campo e possivelmente tamb\\\\u00E9m seu tamanho m\\\\u00E1ximo, valores padr\\\\u00E3o, op\\\\u00E7\\\\u00F5es de lista de sele\\\\u00E7\\\\u00E3o, texto de ajuda para documenta\\\\u00E7\\\\u00E3o, texto de etiqueta (label) para formul\\\\u00E1rios etc. A defini\\\\u00E7\\\\u00E3o do modelo \\\\u00E9 independente do banco de dados subjacente\\\\u00A0\\\\u2014\\\\u00A0voc\\\\u00EA pode escolher um dentre v\\\\u00E1rios como parte das configura\\\\u00E7\\\\u00F5es do seu projeto. Uma vez que voc\\\\u00EA escolheu qual banco de dados voc\\\\u00EA quer usar, voc\\\\u00EA n\\\\u00E3o precisa se comunicar diretamente com ele \\\\u2014\\\\u00A0voc\\\\u00EA apenas escreve a estrutura dos seus modelos e qualquer outro c\\\\u00F3digo, e o Django lida com todo o trabalho\\\\u00A0de se comunicar com o banco de dados para voc\\\\u00EA.</p>\\\\\\\\n\\\\\\\\n<p>O trecho de c\\\\u00F3digo abaixo mostra um modelo\\\\u00A0simples do Django para um objeto <code>Team</code>\\\\u00A0(Time).\\\\u00A0A classe <code>Team</code> \\\\u00E9 derivada da classe do Django <code>models.Model</code>.\\\\u00A0Ela define o nome\\\\u00A0e o n\\\\u00EDvel da equipe como campos de caractere e especifica um n\\\\u00FAmero m\\\\u00E1ximo de caracteres a serem armazenados para cada registro. O <code>team_level</code>\\\\u00A0(time_nivel) pode ser um de v\\\\u00E1rios valores, portanto, o definimos como um campo de op\\\\u00E7\\\\u00E3o e fornecemos um mapeamento entre as op\\\\u00E7\\\\u00F5es a serem exibidas e os dados a serem armazenados, junto com um valor padr\\\\u00E3o.</p>\\\\\\\\n\\\\\\\\n<pre class=\\\\\\\\\\\\\"brush: python notranslate\\\\\\\\\\\\\">## filename: models.py\\\\\\\\n\\\\\\\\nfrom django.db import models \\\\\\\\n\\\\\\\\nclass Team(models.Model): \\\\\\\\n\\\\u00A0   team_name = models.CharField(max_length=40) \\\\\\\\n\\\\\\\\n\\\\u00A0 \\\\u00A0 TEAM_LEVELS = (\\\\\\\\n\\\\u00A0 \\\\u00A0 \\\\u00A0 \\\\u00A0 (\\'U09\\', \\'Under 09s\\'),\\\\\\\\n\\\\u00A0 \\\\u00A0 \\\\u00A0 \\\\u00A0 (\\'U10\\', \\'Under 10s\\'),\\\\\\\\n\\\\u00A0 \\\\u00A0 \\\\u00A0 \\\\u00A0 (\\'U11\\', \\'Under 11s\\'),\\\\\\\\n\\\\u00A0       ...  #list other team levels\\\\\\\\n\\\\u00A0 \\\\u00A0 )\\\\\\\\n    \\\\\\\\n    team_level = models.CharField(max_length=3,choices=TEAM_LEVELS,default=\\'U11\\')\\\\\\\\n\\\\\\\\n<code># favor utilizar o c\\\\u00F3digo acima no seu projeto ao inv\\\\u00E9s do que est\\\\u00E1 abaixo</code>\\\\\\\\n## nome do arquivo: models.py\\\\\\\\n\\\\\\\\nfrom django.db import models\\\\\\\\n\\\\\\\\nclass Time(models.Model):\\\\\\\\n    # models.CharField define um campo de caractere no banco de dados e max_length define o tamanho maximo permitido\\\\\\\\n    time_nome = models.CharField(max_length=40)\\\\\\\\n\\\\\\\\n \\\\u00A0 \\\\u00A0TIME_NIVEIS = (\\\\\\\\n \\\\u00A0 \\\\u00A0\\\\u00A0 \\\\u00A0 (\\'A09\\', \\'Abaixo de 09\\'),\\\\\\\\n \\\\u00A0 \\\\u00A0 \\\\u00A0\\\\u00A0 (\\'A10\\', \\'Abaixo de 10\\'),\\\\\\\\n \\\\u00A0 \\\\u00A0 \\\\u00A0  (\\'A11\\', \\'Abaixo de 11\\'),\\\\\\\\n      \\\\u00A0 ... #list other team levels\\\\\\\\n \\\\u00A0 \\\\u00A0)\\\\\\\\n    \\\\\\\\n\\\\u00A0 \\\\u00A0 time_nivel = models.CharField(max_length=3,choices=TIME_NIVEIS,default=\\'A11\\') # choices-op\\\\u00E7\\\\u00F5es / default-padr\\\\u00E3o\\\\\\\\n</pre>\\\\\\\\n\\\\\\\\n<div class=\\\\\\\\\\\\\"note\\\\\\\\\\\\\">\\\\\\\\n<p><strong>Nota</strong>: Um pouquinho de Python:</p>\\\\\\\\n\\\\\\\\n<ul>\\\\\\\\n <li>O Python suporta \\\\\\\\\\\\\"programa\\\\u00E7\\\\u00E3o orientada a objetos\\\\\\\\\\\\\", um estilo de programa\\\\u00E7\\\\u00E3o onde organizamos nosso c\\\\u00F3digo em objetos, que incluem dados\\\\u00A0e fun\\\\u00E7\\\\u00F5es relacionadas para operar nesses dados. Os objetos tamb\\\\u00E9m podem herdar/estender/derivar de outros objetos, permitindo que um comportamento comum entre objetos relacionados seja compartilhado. Em Python, usamos a palavra-chave\\\\u00A0<code>class</code>\\\\u00A0(classe) para definir o \\\\\\\\\\\\\"blueprint\\\\\\\\\\\\\" (modelo/planta/plano) de um objeto. Podemos criar v\\\\u00E1rias <em>inst\\\\u00E2ncias</em> espec\\\\u00EDficas do tipo de objeto com base no modelo da classe.<br>\\\\\\\\n  <br>\\\\\\\\n  Por exemplo, aqui temos uma classe <code>Team</code>\\\\u00A0(Time), que deriva da classe <code>Model</code>. Isso significa que \\\\u00E9 um modelo e conter\\\\u00E1 todos os m\\\\u00E9todos de um modelo, mas tamb\\\\u00E9m podemos fornecer recursos especializados pr\\\\u00F3prios. Em nosso modelo, definimos os campos que nosso banco de dados precisar\\\\u00E1 para armazenar nossos dados, dando-lhes nomes espec\\\\u00EDficos. O Django usa essas defini\\\\u00E7\\\\u00F5es, incluindo os nomes dos campos, para criar o banco de dados subjacente.</li>\\\\\\\\n</ul>\\\\\\\\n</div>\\\\\\\\n\\\\\\\\n<h3 id=\\\\\\\\\\\\\"Consultando_dados_views.py\\\\\\\\\\\\\">Consultando dados\\\\u00A0(views.py)</h3>\\\\\\\\n\\\\\\\\n<p>O modelo Django fornece uma query API simples para buscas no banco de dados. Isto pode combinar com um grande n\\\\u00FAmero de campos ao mesmo tempo utilizando diversos crit\\\\u00E9rios (ex.: exato, mai\\\\u00FAsculas e min\\\\u00FAsculas (case-sensitive), maior que, etc.), e pode suportar defini\\\\u00E7\\\\u00F5es complexas (por exemplo, voc\\\\u00EA pode especificar a busca por times U11 que tem os nomes come\\\\u00E7ando com \\'Fr\\\\\\\\\\\\\" ou terminando com \\\\\\\\\\\\\"al\\\\\\\\\\\\\").</p>\\\\\\\\n\\\\\\\\n<p>O trecho de c\\\\u00F3digo mostra uma fun\\\\u00E7\\\\u00E3o da View (manipulador de recursos) para exibir todos os nossos times U09. A linha em negrito mostra como podemos usar a API modelo de consulta para filtrar todos os registros em que o campo <code>team_level</code> possui exatamente o texto \\'U09\\' (observe como esse crit\\\\u00E9rio \\\\u00E9 passado para a fun\\\\u00E7\\\\u00E3o\\\\u00A0 <code>filter()</code>\\\\u00A0 com o argumento no campo de nome e o tipo de busca de correspond\\\\u00EAncia (<strong>exact</strong>) separado por um sublinhado duplo: <strong>(team_level__exact</strong>).</p>\\\\\\\\n\\\\\\\\n<pre class=\\\\\\\\\\\\\"brush: python notranslate\\\\\\\\\\\\\">## filename: views.py\\\\\\\\n\\\\\\\\nfrom django.shortcuts import render\\\\\\\\nfrom .models import Team \\\\\\\\n\\\\\\\\ndef index(request):\\\\\\\\n\\\\u00A0 \\\\u00A0 <strong>list_teams = Team.objects.filter(team_level__exact=\\\\\\\\\\\\\"U09\\\\\\\\\\\\\")</strong>\\\\\\\\n\\\\u00A0 \\\\u00A0 context = {\\'youngest_teams\\': list_teams}\\\\\\\\n\\\\u00A0 \\\\u00A0 return render(request, \\'/best/index.html\\', context)                                                                         \\\\\\\\n\\\\\\\\n# favor utilizar o c\\\\u00F3digo acima no seu projeto ao inv\\\\u00E9s do c\\\\u00F3digo abaixo \\\\\\\\n## nome do arquivo: views.py\\\\\\\\n\\\\\\\\nfrom django.shortcuts import render \\\\\\\\nfrom .models import Team \\\\\\\\n\\\\\\\\ndef index(request): \\\\\\\\n    <strong>lista_times =</strong> <strong>Team.objects.filter(team_level__exact=\\\\\\\\\\\\\"U09\\\\\\\\\\\\\")</strong> \\\\\\\\n    contexto = {\\'times_jovens\\': lista_times}\\\\\\\\n    return render(request, \\'/best/index.html\\', contexto)\\\\\\\\n</pre>\\\\\\\\n\\\\\\\\n<dl>\\\\\\\\n</dl>\\\\\\\\n\\\\\\\\n<p>A fun\\\\u00E7\\\\u00E3o <code>index()</code> usa a fun\\\\u00E7\\\\u00E3o <code>render()</code> para criar o <code>HttpResponse</code> que \\\\u00E9 enviado de volta para o navegador. Essa fun\\\\u00E7\\\\u00E3o \\\\u00E9 um atalho, ela cria um arquivo HTML combinando um modelo HTML espec\\\\u00EDfico com alguns dados (fornecidos pela vari\\\\u00E1vel denominada \\\\\\\\\\\\\"<code>context</code>\\\\\\\\\\\\\"). Na pr\\\\u00F3xima se\\\\u00E7\\\\u00E3o, mostramos como os dados s\\\\u00E3o inseridos no modelo para criar HTML.</p>\\\\\\\\n\\\\\\\\n<h3 id=\\\\\\\\\\\\\"Renderizando_dados_Modelos_HTML\\\\\\\\\\\\\">Renderizando dados (Modelos HTML)</h3>\\\\\\\\n\\\\\\\\n<p>O sistema de modelo permite especificar a estrutura de um documento de sa\\\\u00EDda, usando espa\\\\u00E7os reservados para dados que ser\\\\u00E3o preenchidos quando uma p\\\\u00E1gina for gerada. Os modelos geralmente s\\\\u00E3o usados para criar HTML, mas tamb\\\\u00E9m podem criar outros tipos de documentos. O Django suporta o sistema de modelos nativo e outra biblioteca Python popular chamada Jinja2 pronta para uso (tamb\\\\u00E9m pode ser feita para suportar outros sistemas, se necess\\\\u00E1rio).</p>\\\\\\\\n\\\\\\\\n<p>O trecho de c\\\\u00F3digo mostra a apar\\\\u00EAncia do modelo HTML chamado pela fun\\\\u00E7\\\\u00E3o <code>render()</code> na se\\\\u00E7\\\\u00E3o anterior. Este modelo foi escrito sob a premissa de que ele ter\\\\u00E1 acesso a uma vari\\\\u00E1vel do tipo lista chamada <code>youngest_teams</code> quando for renderizada (contida na vari\\\\u00E1vel <code>context</code> dentro da fun\\\\u00E7\\\\u00E3o <code>render()</code> acima). Dentro do esqueleto HTML, temos um a express\\\\u00E3o que primeiro verifica se a vari\\\\u00E1vel <code>youngest_teams</code> existe e a itera em um loop <code>for</code>. Em cada itera\\\\u00E7\\\\u00E3o, o modelo exibe o valor <code>team_name</code> de cada equipe em um elemento {{htmlelement(\\\\\\\\\\\\\"li\\\\\\\\\\\\\")}}.</p>\\\\\\\\n\\\\\\\\n<pre class=\\\\\\\\\\\\\"brush: python notranslate\\\\\\\\\\\\\">## filename: best/templates/best/index.html\\\\\\\\n\\\\\\\\n&lt;!DOCTYPE html&gt;\\\\\\\\n&lt;html lang=\\\\\\\\\\\\\"en\\\\\\\\\\\\\"&gt;\\\\\\\\n&lt;body&gt;\\\\\\\\n\\\\\\\\n {% if youngest_teams %}\\\\\\\\n\\\\u00A0 \\\\u00A0 &lt;ul&gt;\\\\\\\\n\\\\u00A0 \\\\u00A0 {% for team in youngest_teams %}\\\\\\\\n\\\\u00A0 \\\\u00A0 \\\\u00A0 \\\\u00A0 &lt;li&gt;\\\\\\\\\\\\\\\\{\\\\\\\\\\\\\\\\{ team.team_name \\\\\\\\\\\\\\\\}\\\\\\\\\\\\\\\\}&lt;/li&gt;\\\\\\\\n\\\\u00A0 \\\\u00A0 {% endfor %}\\\\\\\\n\\\\u00A0 \\\\u00A0 &lt;/ul&gt;\\\\\\\\n{% else %}\\\\\\\\n\\\\u00A0 \\\\u00A0 &lt;p&gt;No teams are available.&lt;/p&gt;\\\\\\\\n{% endif %}\\\\\\\\n\\\\\\\\n&lt;/body&gt;\\\\\\\\n&lt;/html&gt;\\\\\\\\n\\\\\\\\n#favor utilizar o c\\\\u00F3digo acima no seu projeto ao inv\\\\u00E9s do c\\\\u00F3digo abaixo\\\\\\\\n## nome do arquivo: best/templates/best/index.html \\\\\\\\n\\\\\\\\n&lt;!DOCTYPE html&gt; \\\\\\\\n&lt;html lang=\\\\\\\\\\\\\"pt\\\\\\\\\\\\\"&gt; \\\\\\\\n&lt;body&gt; \\\\\\\\n\\\\\\\\n {% if youngest_teams %} \\\\u00A0 \\\\u00A0 \\\\\\\\n    &lt;ul&gt; \\\\u00A0 \\\\u00A0 \\\\\\\\n     {% for team in youngest_teams %}\\\\\\\\n \\\\u00A0 \\\\u00A0 \\\\u00A0 \\\\u00A0 &lt;li&gt;\\\\\\\\\\\\\\\\{\\\\\\\\\\\\\\\\{ team.team_name \\\\\\\\\\\\\\\\}\\\\\\\\\\\\\\\\}&lt;/li&gt;\\\\\\\\n \\\\u00A0 \\\\u00A0 {% endfor %} \\\\u00A0 \\\\u00A0 &lt;/ul&gt; {% else %}\\\\\\\\n \\\\u00A0 \\\\u00A0 &lt;p&gt;Nenhum time dispon\\\\u00EDvel.&lt;/p&gt;\\\\\\\\n {% endif %}\\\\\\\\n &lt;/body&gt;\\\\\\\\n &lt;/html&gt;\\\\\\\\n</pre>\\\\\\\\n\\\\\\\\n<h2 id=\\\\\\\\\\\\\"O_que_mais_voc\\\\u00EA_pode_fazer\\\\\\\\\\\\\">O que mais voc\\\\u00EA pode fazer?</h2>\\\\\\\\n\\\\\\\\n<p>As se\\\\u00E7\\\\u00F5es anteriores mostram os principais recursos que voc\\\\u00EA usar\\\\u00E1 na maioria dos aplicativos Web: mapeamento de URL, views, moldes e modelos. O Django tamb\\\\u00E9m fornece outras coisas, como:</p>\\\\\\\\n\\\\\\\\n<ul>\\\\\\\\n <li><strong>Formul\\\\u00E1rios (Forms)</strong>: Os formul\\\\u00E1rios HTML s\\\\u00E3o usados para coletar dados do usu\\\\u00E1rio para processamento no servidor. Django simplifica a cria\\\\u00E7\\\\u00E3o, valida\\\\u00E7\\\\u00E3o e processamento de formul\\\\u00E1rios.</li>\\\\\\\\n <li><strong>Autentica\\\\u00E7\\\\u00E3o de usu\\\\u00E1rio e permiss\\\\u00F5es</strong>: Django inclui um sistema robusto de autentic\\\\u00E7\\\\u00E3o e permiss\\\\u00E3o de usu\\\\u00E1rio, constru\\\\u00EDdo com a seguran\\\\u00E7a em mente.</li>\\\\\\\\n <li><strong>Caching</strong>: Criar conte\\\\u00FAdo dinamicamente \\\\u00E9 muito mais pesado (e lento) computacionalmente do que exibir conte\\\\u00FAdo est\\\\u00E1tico. O Django fornece armazenamento em cache flex\\\\u00EDvel para que voc\\\\u00EA possa armazenar toda ou parte de uma p\\\\u00E1gina pronta para que ela n\\\\u00E3o seja renderizada novamente, exceto quando necess\\\\u00E1rio.</li>\\\\\\\\n <li><strong>Site de administra\\\\u00E7\\\\u00E3o</strong>: O site de administra\\\\u00E7\\\\u00E3o do Django \\\\u00E9 inclu\\\\u00EDdo por padr\\\\u00E3o quando voc\\\\u00EA cria um aplicativo usando o esqueleto b\\\\u00E1sico. Ele facilita o fornecimento de uma p\\\\u00E1gina de administra\\\\u00E7\\\\u00E3o para os administradores do site criarem, editarem e exibirem quaisquer modelos de dados em seu site</li>\\\\\\\\n <li><strong>Serializando dados</strong>: O Django facilita a serializa\\\\u00E7\\\\u00E3o e a veicula\\\\u00E7\\\\u00E3o de dados como XML ou JSON. Isso pode ser \\\\u00FAtil ap criar um servi\\\\u00E7o Web (um site que serve apenas para que dados sejam consumidos por outros aplicativos ou sites e n\\\\u00E3o exibe nada por si s\\\\u00F3), ou ao criar um site no qual o c\\\\u00F3digo do lado do cliente lida com todas as renderiza\\\\u00E7\\\\u00F5es.</li>\\\\\\\\n</ul>\\\\\\\\n\\\\\\\\n<h2 id=\\\\\\\\\\\\\"Resumo\\\\\\\\\\\\\">Resumo</h2>\\\\\\\\n\\\\\\\\n<p>Parab\\\\u00E9ns, voc\\\\u00EA completou o primeiro passo em sua jornada no Django! Agora voc\\\\u00EA deve entender os principais benef\\\\u00EDcios do Django, um pouco sobre sua hist\\\\u00F3ria e aproximadamente como podem ser as partes principais de um aplicativo Django. Voc\\\\u00EA tamb\\\\u00E9m deve ter aprendido algumas coisas sobre a linguagem de programa\\\\u00E7\\\\u00E3o Python, incluindo a sintaxe para listas, fun\\\\u00E7\\\\u00F5es e classes.</p>\\\\\\\\n\\\\\\\\n<p>Voc\\\\u00EA j\\\\u00E1 viu algum c\\\\u00F3digo real do Django acima, mas, diferentemente do c\\\\u00F3digo do lado do cliente, voc\\\\u00EA precisa configurar um ambiente de desenvolvimento para execut\\\\u00E1-lo. Esse \\\\u00E9 o nosso pr\\\\u00F3ximo passo.</p>\\\\\\\\n\\\\\\\\n<div>{{NextMenu(\\\\\\\\\\\\\"Learn/Server-side/Django/development_environment\\\\\\\\\\\\\", \\\\\\\\\\\\\"Learn/Server-side/Django\\\\\\\\\\\\\")}}</div>\\\\\\\\n\\\\\\\\n<h2 id=\\\\\\\\\\\\\"Neste_m\\\\u00F3dulo\\\\\\\\\\\\\">Neste m\\\\u00F3dulo</h2>\\\\\\\\n\\\\\\\\n<ul>\\\\\\\\n <li><a href=\\\\\\\\\\\\\"/pt-BR/docs/Learn/Server-side/Django/Introdu\\\\u00E7\\\\u00E3o\\\\\\\\\\\\\">Introdu\\\\u00E7\\\\u00E3o ao Django</a></li>\\\\\\\\n <li><a href=\\\\\\\\\\\\\"/en-US/docs/Learn/Server-side/Django/development_environment\\\\\\\\\\\\\">Configurando um ambiente de desenvolvimento</a></li>\\\\\\\\n <li><a href=\\\\\\\\\\\\\"/en-US/docs/Learn/Server-side/Django/Tutorial_local_library_website\\\\\\\\\\\\\">Tutorial Django: The Local Library website</a></li>\\\\\\\\n <li><a href=\\\\\\\\\\\\\"/en-US/docs/Learn/Server-side/Django/Tutorial_local_library_website\\\\\\\\\\\\\">Tutorial Django</a><a href=\\\\\\\\\\\\\"/en-US/docs/Learn/Server-side/Django/skeleton_website\\\\\\\\\\\\\"> Parte 2: Criando um esqueleto de site</a></li>\\\\\\\\n <li><a href=\\\\\\\\\\\\\"/en-US/docs/Learn/Server-side/Django/Tutorial_local_library_website\\\\\\\\\\\\\">Tutorial Django</a><a href=\\\\\\\\\\\\\"/en-US/docs/Learn/Server-side/Django/Models\\\\\\\\\\\\\"> Parte 3: Usando moldes</a></li>\\\\\\\\n <li><a href=\\\\\\\\\\\\\"/en-US/docs/Learn/Server-side/Django/Tutorial_local_library_website\\\\\\\\\\\\\">Tutorial Django</a><a href=\\\\\\\\\\\\\"/en-US/docs/Learn/Server-side/Django/Admin_site\\\\\\\\\\\\\"> Parte 4: Site administrador do Django</a></li>\\\\\\\\n <li><a href=\\\\\\\\\\\\\"/en-US/docs/Learn/Server-side/Django/Tutorial_local_library_website\\\\\\\\\\\\\">Tutorial Django</a><a href=\\\\\\\\\\\\\"/en-US/docs/Learn/Server-side/Django/Home_page\\\\\\\\\\\\\"> Parte 5: Criando nossa p\\\\u00E1gina principal</a></li>\\\\\\\\n <li><a href=\\\\\\\\\\\\\"/en-US/docs/Learn/Server-side/Django/Tutorial_local_library_website\\\\\\\\\\\\\">Tutorial Django</a><a href=\\\\\\\\\\\\\"/en-US/docs/Learn/Server-side/Django/Generic_views\\\\\\\\\\\\\"> Parte 6: Generic list and detail views</a></li>\\\\\\\\n <li><a href=\\\\\\\\\\\\\"/en-US/docs/Learn/Server-side/Django/Tutorial_local_library_website\\\\\\\\\\\\\">Tutorial Django</a><a href=\\\\\\\\\\\\\"/en-US/docs/Learn/Server-side/Django/Sessions\\\\\\\\\\\\\"> Parte 7: Sessions framework</a></li>\\\\\\\\n <li><a href=\\\\\\\\\\\\\"/en-US/docs/Learn/Server-side/Django/Tutorial_local_library_website\\\\\\\\\\\\\">Tutorial Django</a><a href=\\\\\\\\\\\\\"/en-US/docs/Learn/Server-side/Django/Authentication\\\\\\\\\\\\\"> Parte 8: Autentica\\\\u00E7\\\\u00E3o de usu\\\\u00E1rio e permiss\\\\u00F5es</a></li>\\\\\\\\n <li><a href=\\\\\\\\\\\\\"/en-US/docs/Learn/Server-side/Django/Tutorial_local_library_website\\\\\\\\\\\\\">Tutorial Django</a><a href=\\\\\\\\\\\\\"/en-US/docs/Learn/Server-side/Django/Forms\\\\\\\\\\\\\"> Parte 9: Trabalhando com formul\\\\u00E1rios</a></li>\\\\\\\\n <li><a href=\\\\\\\\\\\\\"/en-US/docs/Learn/Server-side/Django/Tutorial_local_library_website\\\\\\\\\\\\\">Tutorial Django</a><a href=\\\\\\\\\\\\\"/en-US/docs/Learn/Server-side/Django/Testing\\\\\\\\\\\\\"> Parte 10: Testando uma aplica\\\\u00E7\\\\u00E3o web Django</a></li>\\\\\\\\n <li><a href=\\\\\\\\\\\\\"/en-US/docs/Learn/Server-side/Django/Tutorial_local_library_website\\\\\\\\\\\\\">Tutorial Django</a><a href=\\\\\\\\\\\\\"/en-US/docs/Learn/Server-side/Django/Deployment\\\\\\\\\\\\\"> Parte 11: Implantando o Django na produ\\\\u00E7\\\\u00E3o</a></li>\\\\\\\\n <li><a href=\\\\\\\\\\\\\"/en-US/docs/Learn/Server-side/Django/web_application_security\\\\\\\\\\\\\">Seguran\\\\u00E7a da aplica\\\\u00E7\\\\u00E3o web Django</a></li>\\\\\\\\n <li><a href=\\\\\\\\\\\\\"/en-US/docs/Learn/Server-side/Django/django_assessment_blog\\\\\\\\\\\\\">Criando um mini blog Django</a></li>\\\\\\\\n</ul>\\\\\",\\\\\"parents\\\\\":[{\\\\\"url\\\\\":\\\\\"/pt-BR/docs/Aprender\\\\\",\\\\\"title\\\\\":\\\\\"Aprendendo desenvolvimento web\\\\\"},{\\\\\"url\\\\\":\\\\\"/pt-BR/docs/Learn/Server-side\\\\\",\\\\\"title\\\\\":\\\\\"Programa\\\\u00E7\\\\u00E3o de site do lado do servidor\\\\\"},{\\\\\"url\\\\\":\\\\\"/pt-BR/docs/Learn/Server-side/Django\\\\\",\\\\\"title\\\\\":\\\\\"Django Web Framework (Python)\\\\\"}],\\\\\"translations\\\\\":[{\\\\\"language\\\\\":\\\\\"English (US)\\\\\",\\\\\"hrefLang\\\\\":\\\\\"en\\\\\",\\\\\"localizedLanguage\\\\\":\\\\\"Ingl\\\\u00EAs (EUA)\\\\\",\\\\\"locale\\\\\":\\\\\"en-US\\\\\",\\\\\"url\\\\\":\\\\\"/en-US/docs/Learn/Server-side/Django/Introduction\\\\\",\\\\\"title\\\\\":\\\\\"Django introduction\\\\\"},{\\\\\"language\\\\\":\\\\\"Espa\\\\u00F1ol\\\\\",\\\\\"hrefLang\\\\\":\\\\\"es\\\\\",\\\\\"localizedLanguage\\\\\":\\\\\"Espanhol\\\\\",\\\\\"locale\\\\\":\\\\\"es\\\\\",\\\\\"url\\\\\":\\\\\"/es/docs/Learn/Server-side/Django/Introducci%C3%B3n\\\\\",\\\\\"title\\\\\":\\\\\"Introducci\\\\u00F3n a Django\\\\\"},{\\\\\"language\\\\\":\\\\\"Fran\\\\u00E7ais\\\\\",\\\\\"hrefLang\\\\\":\\\\\"fr\\\\\",\\\\\"localizedLanguage\\\\\":\\\\\"Franc\\\\u00EAs\\\\\",\\\\\"locale\\\\\":\\\\\"fr\\\\\",\\\\\"url\\\\\":\\\\\"/fr/docs/Learn/Server-side/Django/Introduction\\\\\",\\\\\"title\\\\\":\\\\\"Introduction \\\\u00E0 Django\\\\\"},{\\\\\"language\\\\\":\\\\\"Italiano\\\\\",\\\\\"hrefLang\\\\\":\\\\\"it\\\\\",\\\\\"localizedLanguage\\\\\":\\\\\"Italiano\\\\\",\\\\\"locale\\\\\":\\\\\"it\\\\\",\\\\\"url\\\\\":\\\\\"/it/docs/Learn/Server-side/Django/Introduzione\\\\\",\\\\\"title\\\\\":\\\\\"Introduzione a Django\\\\\"},{\\\\\"language\\\\\":\\\\\"\\\\u65E5\\\\u672C\\\\u8A9E\\\\\",\\\\\"hrefLang\\\\\":\\\\\"ja\\\\\",\\\\\"localizedLanguage\\\\\":\\\\\"Japon\\\\u00EAs\\\\\",\\\\\"locale\\\\\":\\\\\"ja\\\\\",\\\\\"url\\\\\":\\\\\"/ja/docs/Learn/Server-side/Django/Introduction\\\\\",\\\\\"title\\\\\":\\\\\"Django\\\\u306E\\\\u7D39\\\\u4ECB\\\\\"},{\\\\\"language\\\\\":\\\\\"\\\\uD55C\\\\uAD6D\\\\uC5B4\\\\\",\\\\\"hrefLang\\\\\":\\\\\"ko\\\\\",\\\\\"localizedLanguage\\\\\":\\\\\"Coreano\\\\\",\\\\\"locale\\\\\":\\\\\"ko\\\\\",\\\\\"url\\\\\":\\\\\"/ko/docs/Learn/Server-side/Django/Introduction\\\\\",\\\\\"title\\\\\":\\\\\"Django \\\\uC18C\\\\uAC1C\\\\\"},{\\\\\"language\\\\\":\\\\\"\\\\u0420\\\\u0443\\\\u0441\\\\u0441\\\\u043A\\\\u0438\\\\u0439\\\\\",\\\\\"hrefLang\\\\\":\\\\\"ru\\\\\",\\\\\"localizedLanguage\\\\\":\\\\\"Russo\\\\\",\\\\\"locale\\\\\":\\\\\"ru\\\\\",\\\\\"url\\\\\":\\\\\"/ru/docs/Learn/Server-side/Django/%D0%92%D0%B2%D0%B5%D0%B4%D0%B5%D0%BD%D0%B8%D0%B5\\\\\",\\\\\"title\\\\\":\\\\\"Django \\\\u0432\\\\u0432\\\\u0435\\\\u0434\\\\u0435\\\\u043D\\\\u0438\\\\u0435\\\\\"},{\\\\\"language\\\\\":\\\\\"\\\\u0423\\\\u043A\\\\u0440\\\\u0430\\\\u0457\\\\u043D\\\\u0441\\\\u044C\\\\u043A\\\\u0430\\\\\",\\\\\"hrefLang\\\\\":\\\\\"uk\\\\\",\\\\\"localizedLanguage\\\\\":\\\\\"Ucraniano\\\\\",\\\\\"locale\\\\\":\\\\\"uk\\\\\",\\\\\"url\\\\\":\\\\\"/uk/docs/Learn/Server-side/Django/Introduction\\\\\",\\\\\"title\\\\\":\\\\\"\\\\u0412\\\\u0432\\\\u0435\\\\u0434\\\\u0435\\\\u043D\\\\u043D\\\\u044F \\\\u0432 Django\\\\\"},{\\\\\"language\\\\\":\\\\\"\\\\u4E2D\\\\u6587 (\\\\u7B80\\\\u4F53)\\\\\",\\\\\"hrefLang\\\\\":\\\\\"zh\\\\\",\\\\\"localizedLanguage\\\\\":\\\\\"Chin\\\\u00EAs (Simplificado)\\\\\",\\\\\"locale\\\\\":\\\\\"zh-CN\\\\\",\\\\\"url\\\\\":\\\\\"/zh-CN/docs/learn/Server-side/Django/Introduction\\\\\",\\\\\"title\\\\\":\\\\\"Django \\\\u4ECB\\\\u7ECD\\\\\"},{\\\\\"language\\\\\":\\\\\"\\\\u6B63\\\\u9AD4\\\\u4E2D\\\\u6587 (\\\\u7E41\\\\u9AD4)\\\\\",\\\\\"hrefLang\\\\\":\\\\\"zh-TW\\\\\",\\\\\"localizedLanguage\\\\\":\\\\\"Chin\\\\u00EAs (Tradicional)\\\\\",\\\\\"locale\\\\\":\\\\\"zh-TW\\\\\",\\\\\"url\\\\\":\\\\\"/zh-TW/docs/Learn/Server-side/Django/Introduction\\\\\",\\\\\"title\\\\\":\\\\\"Django \\\\u4ECB\\\\u7D39\\\\\"}],\\\\\"lastModified\\\\\":\\\\\"2020-09-05T15:15:53.669122\\\\\"}}\");</script>\\n\\n\\n  \\n    <div id=\"auth-modal\" class=\"modal hidden\">\\n    <section class=\"auth-providers\" tabindex=\"-1\" role=\"dialog\" aria-modal=\"true\"\\n        aria-labelledby=\"modal-main-heading\">\\n        <header>\\n            <h2 id=\"modal-main-heading\">Entrar</h2>\\n        </header>\\n        \\n  <p>\\n    Entre para aproveitar os benefícios de uma conta MDN. Se você ainda não criou uma conta, será solicitado fazer isso após entrar.\\n</p>\\n<div class=\"auth-button-container\">\\n    <a href=\"/users/github/login/?next=%2Fpt-BR%2Fdocs%2FLearn%2FServer-side%2FDjango%2FIntrodu%25C3%25A7%25C3%25A3o\" class=\"github-auth\" data-first-focusable=\"true\">\\n        Entrar com GitHub\\n    </a>\\n    <a href=\"/users/google/login/?next=%2Fpt-BR%2Fdocs%2FLearn%2FServer-side%2FDjango%2FIntrodu%25C3%25A7%25C3%25A3o\" class=\"google-auth\">\\n        Entrar com Google\\n    </a>\\n</div>\\n\\n        <button id=\"close-modal\" class=\"close-modal\" data-last-focusable=\"true\">\\n            <span>Fechar modal</span>\\n        </button>\\n    </section>\\n</div>\\n  \\n\\n  <!-- site js -->\\n  <script defer type=\"text/javascript\" src=\"/static/build/js/react-main.01db16f317c6.js\" charset=\"utf-8\"></script>\\n  <script defer type=\"text/javascript\" src=\"/static/build/js/mathml.3cb4c04c0706.js\" charset=\"utf-8\"></script>\\n  <script defer type=\"text/javascript\" src=\"/static/build/js/auth-modal.119e5d70465f.js\" charset=\"utf-8\"></script>\\n  \\n    <script defer type=\"text/javascript\" src=\"/static/build/js/react-bcd-signal.cf0fc711cfa2.js\" charset=\"utf-8\"></script>\\n  \\n</body>\\n</html>'"
      ]
     },
     "execution_count": 5,
     "metadata": {},
     "output_type": "execute_result"
    }
   ],
   "source": [
    "html = bytesread.decode()\n",
    "html"
   ]
  },
  {
   "cell_type": "code",
   "execution_count": 6,
   "metadata": {},
   "outputs": [
    {
     "data": {
      "text/plain": [
       "str"
      ]
     },
     "execution_count": 6,
     "metadata": {},
     "output_type": "execute_result"
    }
   ],
   "source": [
    "type(html)"
   ]
  },
  {
   "cell_type": "code",
   "execution_count": 7,
   "metadata": {},
   "outputs": [
    {
     "data": {
      "text/plain": [
       "479"
      ]
     },
     "execution_count": 7,
     "metadata": {},
     "output_type": "execute_result"
    }
   ],
   "source": [
    "html.count('Django')"
   ]
  },
  {
   "cell_type": "markdown",
   "metadata": {},
   "source": [
    "Com tudo o que aprendemos até aqui, podemos escrever uma função que aceita um URL de uma página Web como entrada e retorna o conteúdo do arquivo-fonte da página Web como uma string:"
   ]
  },
  {
   "cell_type": "code",
   "execution_count": 8,
   "metadata": {},
   "outputs": [],
   "source": [
    "def getSource(url, saveAs = None):\n",
    "    'returns the content of resource specified by url as a string'\n",
    "    response = urlopen(url)\n",
    "    html = response.read()\n",
    "    html = html.decode()\n",
    "    if saveAs != None:\n",
    "        infile = open(saveAs, 'w')\n",
    "        infile.write(html)\n",
    "        infile.flush()\n",
    "        return print('''Arquivo \"{}\" salvo com sucesso!'''.format(saveAs))\n",
    "    else:\n",
    "        return html"
   ]
  },
  {
   "cell_type": "code",
   "execution_count": 9,
   "metadata": {},
   "outputs": [
    {
     "data": {
      "text/plain": [
       "'\\n\\n\\n\\n\\n<!DOCTYPE html>\\n<html lang=\"pt-BR\" dir=\"ltr\">\\n<head prefix=\"og: http://ogp.me/ns#\">\\n  <link rel=\"preconnect\" href=\"https://interactive-examples.mdn.mozilla.net\" pr=\"0.75\" />\\n  <meta charset=\"utf-8\">\\n  <meta http-equiv=\"X-UA-Compatible\" content=\"IE=Edge\">\\n  <script>(function(d) { d.className = d.className.replace(/\\\\bno-js/, \\'\\'); })(document.documentElement);</script>\\n  <title>Aprenda a estilizar HTML utilizando CSS - Aprendendo desenvolvimento web | MDN</title>\\n\\n  <meta name=\"viewport\" content=\"width=device-width, initial-scale=1\">\\n  <meta name=\"robots\" content=\"index, follow\">\\n\\n  \\n<link rel=\"preload\" href=\"/static/fonts/locales/ZillaSlab-Regular.subset.bbc33fb47cf6.woff2\" as=\"font\" type=\"font/woff2\"\\n    crossorigin />\\n<link rel=\"preload\" href=\"/static/fonts/locales/ZillaSlab-Bold.subset.e96c15f68c68.woff2\" as=\"font\" type=\"font/woff2\"\\n    crossorigin />\\n\\n  <link rel=\"home\" href=\"/pt-BR/\">\\n  <link rel=\"license\" href=\"#license\">\\n\\n  <link href=\"/static/build/styles/react-header.c2034e7be118.css\" rel=\"stylesheet\" type=\"text/css\" />\\n<link href=\"/static/build/styles/auth-modal.be43f0f58a73.css\" rel=\"stylesheet\" type=\"text/css\" />\\n<link href=\"/static/build/styles/react-mdn.704638bbb52f.css\" rel=\"stylesheet\" type=\"text/css\" />\\n<link href=\"/static/build/styles/subscriptions.3cebf84de805.css\" rel=\"stylesheet\" type=\"text/css\" />\\n\\n  <link href=\"/static/build/styles/prism.a6f275e5032b.css\" rel=\"stylesheet\" type=\"text/css\" />\\n\\n  \\n<style>\\n    @font-face {\\n        font-family: zillaslab;\\n        font-display: swap;\\n        src: url(/static/fonts/locales/ZillaSlab-Regular.subset.bbc33fb47cf6.woff2) format(\\'woff2\\'),\\n             url(/static/fonts/locales/ZillaSlab-Regular.subset.0357f12613a7.woff) format(\\'woff\\');\\n        font-weight: normal;\\n        font-style: normal;\\n    }\\n\\n    @font-face {\\n        font-family: zillaslab;\\n        font-display: swap;\\n        src: url(/static/fonts/locales/ZillaSlab-Bold.subset.e96c15f68c68.woff2) format(\\'woff2\\'),\\n             url(/static/fonts/locales/ZillaSlab-Bold.subset.da0ccde4ca4a.woff) format(\\'woff\\');\\n        font-weight: bold;\\n        font-style: normal;\\n    }\\n</style>\\n\\n\\n  \\n<script>\\n    // Mozilla DNT Helper\\n    /* This Source Code Form is subject to the terms of the Mozilla Public License, v. 2.0. If a copy of the MPL was not distributed with this file, You can obtain one at http://mozilla.org/MPL/2.0/. */ if(typeof Mozilla===\\'undefined\\'){var Mozilla={}}Mozilla.dntEnabled=function(dnt,ua){\\'use strict\\';var dntStatus=dnt||navigator.doNotTrack||window.doNotTrack||navigator.msDoNotTrack;var userAgent=ua||navigator.userAgent;var anomalousWinVersions=[\\'Windows NT 6.1\\',\\'Windows NT 6.2\\',\\'Windows NT 6.3\\'];var fxMatch=userAgent.match(/Firefox\\\\/(\\\\d+)/);var ieRegEx=/MSIE|Trident/i;var isIE=ieRegEx.test(userAgent);var platform=userAgent.match(/Windows.+?(?=;)/g);if(isIE&&typeof Array.prototype.indexOf!==\\'function\\'){return false}else if(fxMatch&&parseInt(fxMatch[1],10)<32){dntStatus=\\'Unspecified\\'}else if(isIE&&platform&&anomalousWinVersions.indexOf(platform.toString())!==-1){dntStatus=\\'Unspecified\\'}else{dntStatus={\\'0\\':\\'Disabled\\',\\'1\\':\\'Enabled\\'}[dntStatus]||\\'Unspecified\\'}return dntStatus===\\'Enabled\\'?true:false};\\n    // only load GA if DNT is not enabled\\n    if (Mozilla && !Mozilla.dntEnabled()) {\\n        window.ga=window.ga||function(){(ga.q=ga.q||[]).push(arguments)};ga.l=+new Date;\\n        ga(\\'create\\', \\'UA-36116321-5\\', \\'mozilla.org\\');\\n        ga(\\'set\\', \\'anonymizeIp\\', true);\\n    }\\n</script>\\n<script async src=\\'https://www.google-analytics.com/analytics.js\\'></script>\\n\\n\\n  <script>\\nLUX=(function(){var a=(\"undefined\"!==typeof(LUX)&&\"undefined\"!==typeof(LUX.gaMarks)?LUX.gaMarks:[]);var d=(\"undefined\"!==typeof(LUX)&&\"undefined\"!==typeof(LUX.gaMeasures)?LUX.gaMeasures:[]);var j=\"LUX_start\";var k=window.performance;var l=(\"undefined\"!==typeof(LUX)&&LUX.ns?LUX.ns:(Date.now?Date.now():+(new Date())));if(k&&k.timing&&k.timing.navigationStart){l=k.timing.navigationStart}function f(){if(k&&k.now){return k.now()}var o=Date.now?Date.now():+(new Date());return o-l}function b(n){if(k){if(k.mark){return k.mark(n)}else{if(k.webkitMark){return k.webkitMark(n)}}}a.push({name:n,entryType:\"mark\",startTime:f(),duration:0});return}function m(p,t,n){if(\"undefined\"===typeof(t)&&h(j)){t=j}if(k){if(k.measure){if(t){if(n){return k.measure(p,t,n)}else{return k.measure(p,t)}}else{return k.measure(p)}}else{if(k.webkitMeasure){return k.webkitMeasure(p,t,n)}}}var r=0,o=f();if(t){var s=h(t);if(s){r=s.startTime}else{if(k&&k.timing&&k.timing[t]){r=k.timing[t]-k.timing.navigationStart}else{return}}}if(n){var q=h(n);if(q){o=q.startTime}else{if(k&&k.timing&&k.timing[n]){o=k.timing[n]-k.timing.navigationStart}else{return}}}d.push({name:p,entryType:\"measure\",startTime:r,duration:(o-r)});return}function h(n){return c(n,g())}function c(p,o){for(i=o.length-1;i>=0;i--){var n=o[i];if(p===n.name){return n}}return undefined}function g(){if(k){if(k.getEntriesByType){return k.getEntriesByType(\"mark\")}else{if(k.webkitGetEntriesByType){return k.webkitGetEntriesByType(\"mark\")}}}return a}return{mark:b,measure:m,gaMarks:a,gaMeasures:d}})();LUX.ns=(Date.now?Date.now():+(new Date()));LUX.ac=[];LUX.cmd=function(a){LUX.ac.push(a)};LUX.init=function(){LUX.cmd([\"init\"])};LUX.send=function(){LUX.cmd([\"send\"])};LUX.addData=function(a,b){LUX.cmd([\"addData\",a,b])};LUX_ae=[];window.addEventListener(\"error\",function(a){LUX_ae.push(a)});LUX_al=[];if(\"function\"===typeof(PerformanceObserver)){var LongTaskObserver=new PerformanceObserver(function(c){var b=c.getEntries();for(var a=0;a<b.length;a++){var d=b[a];LUX_al.push(d)}});try{LongTaskObserver.observe({entryTypes:[\"longtask\"],buffered:true})}catch(e){}};\\n</script>\\n<script src=\"https://cdn.speedcurve.com/js/lux.js?id=108906238\" async defer crossorigin=\"anonymous\"></script>\\n\\n\\n  <script>\\n  window.fetch || document.write(\\'<script src=\"/static/build/js/fetch-polyfill.63fdc379c7eb.js\"><\\\\/script>\\');\\n</script>\\n<script>\\n  // Only include the fat polyfill for browsers that seem to not have\\n  // certain JS features. E.g. Firefox 38.\\n  Array.prototype.includes || document.write(\\'<script src=\"/static/build/js/js-polyfill.6f2e22100487.js\"><\\\\/script>\\');\\n</script>\\n\\n  <script async type=\"text/javascript\" src=\"/static/build/js/perf.654b849a6fd9.js\" charset=\"utf-8\"></script>\\n\\n  <!-- common social tags -->\\n  \\n  <meta property=\"og:type\" content=\"website\">\\n  <meta property=\"og:image\" content=\"https://developer.mozilla.org/static/img/opengraph-logo.72382e605ce3.png\">\\n  <meta property=\"og:site_name\" content=\"MDN Web Docs\">\\n  <meta name=\"twitter:card\" content=\"summary\">\\n  <meta name=\"twitter:image\" content=\"https://developer.mozilla.org/static/img/opengraph-logo.72382e605ce3.png\">\\n  <meta name=\"twitter:site\" content=\"@MozDevNet\">\\n  <meta name=\"twitter:creator\" content=\"@MozDevNet\">\\n  <link rel=\"search\" type=\"application/opensearchdescription+xml\" href=\"https://developer.mozilla.org/pt-BR/search/xml\" title=\"MDN Web Docs\">\\n\\n  <!-- third-generation iPad with high-resolution Retina display: -->\\n  <link rel=\"apple-touch-icon-precomposed\" sizes=\"144x144\" href=\"/static/img/favicon144.e7e21ca263ca.png\">\\n  <!-- iPhone with high-resolution Retina display: -->\\n  <link rel=\"apple-touch-icon-precomposed\" sizes=\"114x114\" href=\"/static/img/favicon114.d526f38b09c5.png\">\\n  <!-- first- and second-generation iPad: -->\\n  <link rel=\"apple-touch-icon-precomposed\" sizes=\"72x72\" href=\"/static/img/favicon72.cc65d1d762a0.png\">\\n  <!-- non-Retina iPhone, iPod Touch, and Android 2.1+ devices: -->\\n  <link rel=\"apple-touch-icon-precomposed\" href=\"/static/img/favicon57.de33179910ae.png\">\\n  <!-- basic favicon -->\\n  <link rel=\"shortcut icon\" href=\"/static/img/favicon32.7f3da72dcea1.png\">\\n\\n  <link href=\"/static/build/styles/banners.e6cd46767c2e.css\" rel=\"stylesheet\" type=\"text/css\" />\\n\\n\\n\\n<link href=\"/static/build/styles/mdn-subscriptions.dbb82432d74c.css\" rel=\"stylesheet\" type=\"text/css\" />\\n\\n\\n  <link rel=\"canonical\" href=\"https://developer.mozilla.org/pt-BR/docs/Aprender/CSS\" >\\n\\n  \\n  <link rel=\"alternate\" hreflang=\"pt-BR\" href=\"https://developer.mozilla.org/pt-BR/docs/Aprender/CSS\" title=\"Aprenda a estilizar HTML utilizando CSS\">\\n  \\n    <link rel=\"alternate\" hreflang=\"en\" href=\"https://developer.mozilla.org/en-US/docs/Learn/CSS\" title=\"Learn to style HTML using CSS\">\\n  \\n    <link rel=\"alternate\" hreflang=\"ar\" href=\"https://developer.mozilla.org/ar/docs/Learn/CSS\" title=\"CSS\">\\n  \\n    <link rel=\"alternate\" hreflang=\"bn\" href=\"https://developer.mozilla.org/bn/docs/Learn/CSS\" title=\"Learn to style HTML using CSS\">\\n  \\n    <link rel=\"alternate\" hreflang=\"ca\" href=\"https://developer.mozilla.org/ca/docs/Learn/CSS\" title=\"CSS\">\\n  \\n    <link rel=\"alternate\" hreflang=\"de\" href=\"https://developer.mozilla.org/de/docs/Learn/CSS\" title=\"CSS\">\\n  \\n    <link rel=\"alternate\" hreflang=\"es\" href=\"https://developer.mozilla.org/es/docs/Learn/CSS\" title=\"CSS\">\\n  \\n    <link rel=\"alternate\" hreflang=\"fa\" href=\"https://developer.mozilla.org/fa/docs/Learn/CSS\" title=\"آموزش استایل\\u200cدهی به HTML با استفاده از CSS\">\\n  \\n    <link rel=\"alternate\" hreflang=\"fr\" href=\"https://developer.mozilla.org/fr/docs/Apprendre/CSS\" title=\"Composer le HTML avec les CSS\">\\n  \\n    <link rel=\"alternate\" hreflang=\"he\" href=\"https://developer.mozilla.org/he/docs/Learn/CSS\" title=\"CSS\">\\n  \\n    <link rel=\"alternate\" hreflang=\"id\" href=\"https://developer.mozilla.org/id/docs/Learn/CSS\" title=\"Learn to style HTML using CSS\">\\n  \\n    <link rel=\"alternate\" hreflang=\"it\" href=\"https://developer.mozilla.org/it/docs/Learn/CSS\" title=\"Impara a stilizzare HTML usando i CSS\">\\n  \\n    <link rel=\"alternate\" hreflang=\"ja\" href=\"https://developer.mozilla.org/ja/docs/Learn/CSS\" title=\"CSS\">\\n  \\n    <link rel=\"alternate\" hreflang=\"ko\" href=\"https://developer.mozilla.org/ko/docs/Learn/CSS\" title=\"CSS를 이용한 HTML 스타일링 익히기\">\\n  \\n    <link rel=\"alternate\" hreflang=\"my\" href=\"https://developer.mozilla.org/my/docs/Learn/CSS\" title=\"CSS နင့် HTML အား အသွင်ပောင်းခင်း\">\\n  \\n    <link rel=\"alternate\" hreflang=\"nl\" href=\"https://developer.mozilla.org/nl/docs/Learn/CSS\" title=\"CSS\">\\n  \\n    <link rel=\"alternate\" hreflang=\"pl\" href=\"https://developer.mozilla.org/pl/docs/Learn/CSS\" title=\"CSSs\">\\n  \\n    <link rel=\"alternate\" hreflang=\"pt\" href=\"https://developer.mozilla.org/pt-PT/docs/Learn/CSS\" title=\"Aprender a estilizar HTML, utilizando CSS\">\\n  \\n    <link rel=\"alternate\" hreflang=\"ru\" href=\"https://developer.mozilla.org/ru/docs/Learn/CSS\" title=\"CSS\">\\n  \\n    <link rel=\"alternate\" hreflang=\"th\" href=\"https://developer.mozilla.org/th/docs/Learn/CSS\" title=\"CSS\">\\n  \\n    <link rel=\"alternate\" hreflang=\"tr\" href=\"https://developer.mozilla.org/tr/docs/%C3%96%C4%9Fren/CSS\" title=\"CSS kullanarak HTML şekillendirmeyi öğrenin\">\\n  \\n    <link rel=\"alternate\" hreflang=\"uk\" href=\"https://developer.mozilla.org/uk/docs/Learn/CSS\" title=\"Learn to style HTML using CSS\">\\n  \\n    <link rel=\"alternate\" hreflang=\"vi\" href=\"https://developer.mozilla.org/vi/docs/Learn/CSS\" title=\"Learn to style HTML using CSS\">\\n  \\n    <link rel=\"alternate\" hreflang=\"zh\" href=\"https://developer.mozilla.org/zh-CN/docs/Learn/CSS\" title=\"CSS\">\\n  \\n    <link rel=\"alternate\" hreflang=\"zh-TW\" href=\"https://developer.mozilla.org/zh-TW/docs/Learn/CSS\" title=\"CSS（樣式表）\">\\n  \\n\\n  <!-- document-specific social tags -->\\n  <meta property=\"og:title\" content=\"Aprenda a estilizar HTML utilizando CSS\">\\n  <meta property=\"og:url\" content=\"https://developer.mozilla.org/pt-BR/docs/Aprender/CSS\">\\n  <meta name=\"twitter:url\" content=\"https://developer.mozilla.org/pt-BR/docs/Aprender/CSS\">\\n  <meta name=\"twitter:title\" content=\"Aprenda a estilizar HTML utilizando CSS\">\\n  \\n  <meta property=\"og:description\" content=\"Cascading Stylesheets — ou CSS — é a primeira tecnologia que você deve aprender após o HTML. Enquanto o\\xa0HTML é utilizado para definir a estrutura e\\xa0semântica do seu conteúdo, o CSS é usado para estilizá-lo e desenhá-lo. Por exemplo, você pode usar o CSS para alterar a fonte, cor, tamanho e espaçamento do seu conteúdo, dividí-lo em multiplas colunas, ou adicionar animações e outros recursos decorativos.\">\\n  <meta name=\"description\" content=\"Cascading Stylesheets — ou CSS — é a primeira tecnologia que você deve aprender após o HTML. Enquanto o\\xa0HTML é utilizado para definir a estrutura e\\xa0semântica do seu conteúdo, o CSS é usado para estilizá-lo e desenhá-lo. Por exemplo, você pode usar o CSS para alterar a fonte, cor, tamanho e espaçamento do seu conteúdo, dividí-lo em multiplas colunas, ou adicionar animações e outros recursos decorativos.\">\\n  <meta name=\"twitter:description\" content=\"Cascading Stylesheets — ou CSS — é a primeira tecnologia que você deve aprender após o HTML. Enquanto o\\xa0HTML é utilizado para definir a estrutura e\\xa0semântica do seu conteúdo, o CSS é usado para estilizá-lo e desenhá-lo. Por exemplo, você pode usar o CSS para alterar a fonte, cor, tamanho e espaçamento do seu conteúdo, dividí-lo em multiplas colunas, ou adicionar animações e outros recursos decorativos.\">\\n  \\n\\n  \\n    <link href=\"/static/build/styles/print.ca192a439743.css\" rel=\"stylesheet\" type=\"text/css\" media=\"print\" />\\n  \\n</head>\\n<body>\\n  <script>\\n    // make sure global mdn object exists\\n    var mdn = window.mdn || {};\\n\\n    (function(win) {\\n        \\'use strict\\';\\n\\n        win.mdn.features = {};\\n        win.mdn.stripePublicKey = \\'pk_live_GZl4tCi8J5mWhKbJeRey4DSy\\';\\n        win.mdn.contributionSupportEmail = \\'mdn-support@mozilla.com\\';\\n\\n        win.mdn.siteUrl = \\'https://developer.mozilla.org\\';\\n        win.mdn.wikiSiteUrl = \\'https://wiki.developer.mozilla.org\\';\\n        win.mdn.staticPath = \\'/static/\\';\\n        win.mdn.wiki = {\\n            autosuggestTitleUrl: \\'/pt-BR/docs/get-documents\\'\\n        };\\n\\n        win.mdn.notifications = [];\\n\\n        \\n\\n        // interactive editor config\\n        win.mdn.interactiveEditor = {\\n            siteUrl: \"https://developer.mozilla.org\",\\n            editorUrl: \"https://interactive-examples.mdn.mozilla.net\"\\n        };\\n        win.mdn.langCookieName = \"django_language\";\\n\\n    })(this);\\n</script>\\n\\n  \\n\\n  <div id=\"react-container\" data-component-name=\"SPA\"><div class=\"loading-bar\"></div><ul id=\"nav-access\" data-testid=\"a11y-nav\"><li><a id=\"skip-main\" href=\"#content\">Pular para o conteúdo principal</a></li><li><a id=\"skip-language\" href=\"#language\">Selecionar idioma</a></li><li><a id=\"skip-search\" href=\"#main-q\">Pular para a pesquisa</a></li></ul><header class=\"page-header\" data-testid=\"header\"><a href=\"/pt-BR/\" class=\"logo\" aria-label=\"Documentação web da MDN\"><svg xmlns=\"http://www.w3.org/2000/svg\" viewBox=\"0 0 219 48\" role=\"img\"><path d=\"M49.752 30.824h59.917v17.132H49.75zm57.23 12.3c-.103.03-.21.048-.316.05-.338 0-.514-.15-.514-.582v-3.256c0-1.71-1.352-2.543-2.976-2.543a7.206 7.206 0 00-3.21.676l-.29 1.724 1.71.182.245-.842a2.338 2.338 0 011.147-.216c1.214 0 1.23.913 1.23 1.69v.234c-.407-.048-.818-.07-1.23-.068-1.71 0-3.49.433-3.49 2.276 0 1.563 1.23 2.144 2.31 2.144a2.7 2.7 0 002.41-1.494c.018.88.77 1.563 1.648 1.494a2.89 2.89 0 001.353-.338zm-4.604-.05a.787.787 0 01-.88-.867c0-.815.677-1.015 1.432-1.015.36.008.722.04 1.078.098-.05 1.235-.852 1.783-1.63 1.783zM97.388 33l-3.24 11.433h2.11L99.5 33.002zm-4.353 0l-3.24 11.433h2.11L95.145 33zm-6.89 6.645h2.243V36.94h-2.242zm0 4.802h2.243v-2.706h-2.242zm-3.617-1.64H80.1l4.156-4.736-.166-1.13h-6.58l-.268 2.63 1.546.164.338-1.163h2.343l-4.123 4.734.216 1.13h6.544l.467-2.63-1.69-.164zM72.143 36.79c-2.706 0-4.02 1.812-4.02 4.004 0 2.394 1.595 3.804 3.905 3.804 2.394 0 4.122-1.51 4.122-3.905-.003-2.093-1.32-3.906-4.01-3.906zm-.054 6.154c-1.165 0-1.763-.997-1.763-2.292 0-1.414.676-2.23 1.778-2.23 1.015 0 1.83.677 1.83 2.196 0 1.438-.73 2.327-1.846 2.327zm-5.906-3.564c0-1.78-1.224-2.594-2.577-2.594a2.51 2.51 0 00-2.44 1.612c-.367-1.1-1.364-1.613-2.443-1.613a2.48 2.48 0 00-2.276 1.278v-1.13h-3.14v1.63h.996v4.24h-.997v1.63h4.572v-1.63h-1.432V40.2c0-1.048.433-1.78 1.448-1.78.845 0 1.278.502 1.278 1.797v4.224h3.14v-1.63h-.996v-2.612c0-1.048.433-1.78 1.447-1.78.846 0 1.278.502 1.278 1.797v4.214h3.142V42.8h-.998zm78.791-22.39h-6.29c.23-1.935 1.16-3.558 3.274-3.558 2.245 0 3.2 1.857 3.016 3.558zM218.952 0v29.137h-169.2V0zM71.706 6.885h-3.85L61.51 20.01h-.104L54.882 6.884h-3.84v1.65h2.19V21.98H51.12v1.65h5.927v-1.65h-2.012V11.24h.1l5.75 11.553H61.9l5.62-11.474h.105v10.66h-1.962v1.65h5.942v-1.65h-2.09V8.536h2.19zm9.993 16.76c5.285 0 8.484-3.48 8.484-8.42 0-4.847-3.094-8.353-8.56-8.353H74.12v1.623h2.114v13.527H74.12v1.623zm27.05-16.76h-6.426v1.65h2.526v11.268h-.1L95.21 6.885H91.6v1.65h2.22V21.98h-1.935v1.65h6.385v-1.65h-2.655V10.444h.1l9.724 13.202h1.21V8.535h2.09zm26.71 5.29h-5.156v1.467h1.83l-1.857 7.247h-.128l-3.586-8.716h-1.21l-3.423 8.718h-.127l-2.14-7.247h1.933v-1.47h-5.41v1.467h1.522l3.25 10.003h1.352l3.432-8.766h.13l3.496 8.765h1.393l3.122-10.003h1.573zm6.704 11.727c2.837 0 4.514-1.583 4.83-3.568l-1.523-.338c-.36 1.42-1.365 2.347-3.17 2.347-2.283 0-3.53-1.468-3.636-4.02h8.058c.1-.445.153-.898.156-1.354-.024-2.71-1.728-5.03-4.873-5.03-3.246 0-5.26 2.58-5.26 6.14 0 3.712 2.162 5.825 5.412 5.825zm13.408 0c3.663 0 5.134-3.25 5.134-6.294 0-3.642-2.063-5.67-4.924-5.67-2.19 0-3.402 1.186-4.1 2.603V5.905h-3.53v1.47h1.692v12.923a22.8 22.8 0 01-.338 3.35h1.805a44.05 44.05 0 00.235-1.906c.747 1.39 2.242 2.165 4.02 2.165zm26.198-1.728h-1.985V5.904h-4.6v1.47h2.798v6.653c-.748-1.342-2.15-2.09-3.842-2.09-3.74 0-5.183 3.2-5.183 6.267 0 3.584 1.958 5.698 4.924 5.698 2.087 0 3.352-1.224 4.1-2.577v2.323h3.784zm6.963 1.728c3.53 0 5.75-2.526 5.742-6.006 0-3.25-1.934-5.982-5.647-5.982s-5.67 2.735-5.67 6.087c0 3.457 2.09 5.905 5.568 5.905zm12.942 0c3.172 0 4.538-2.114 4.866-4.112l-1.548-.34c-.334 1.885-1.315 2.917-3.094 2.917-2.27 0-3.507-1.637-3.507-4.397 0-2.475.982-4.487 3.43-4.487a4.4 4.4 0 012.45.646l.42 1.936 1.496-.18-.44-2.758c-1.16-.876-2.397-1.187-3.92-1.187-3.556 0-5.362 2.966-5.362 6.14 0 3.685 2.036 5.825 5.208 5.825zm11.166 0c2.76 0 4.874-1.34 4.847-3.595 0-4.565-7.1-2.195-7.1-5.184 0-1.177 1.03-1.69 2.474-1.69.826-.015 1.64.18 2.368.567l.267 1.864 1.495-.18-.284-2.68a8.135 8.135 0 00-3.997-1.06c-2.088 0-4.255.903-4.255 3.328 0 4.46 7.193 2.063 7.193 5.208 0 1.315-1.495 1.934-3.095 1.934a5.812 5.812 0 01-2.553-.568l.078-1.522-1.444-.156-.362 2.604c.977.643 2.736 1.133 4.36 1.133zm-54.042-6.11c0 2.373-1.058 4.564-3.584 4.564a3.455 3.455 0 01-3.534-3.456v-1.728c.05-1.7 1.444-3.686 3.635-3.686 1.948 0 3.48 1.444 3.483 4.305zm19.18-1.06v1.833c-.076 1.73-1.57 3.79-3.634 3.79-1.985 0-3.48-1.47-3.48-4.28 0-2.425 1.133-4.59 3.686-4.59a3.36 3.36 0 013.43 3.248zm14.597 1.133c0 2.58-1.34 4.488-3.79 4.488-2.453 0-3.74-1.958-3.74-4.46 0-2.55 1.34-4.434 3.74-4.434 2.397 0 3.79 1.778 3.79 4.405zm-104.39-2.593c0 4.16-2.32 6.763-6.574 6.763h-3.478V8.508h3.466c4.254 0 6.574 2.71 6.587 6.764zM.116 0h47.956v47.956H.116zM42.01 22.02c-.036-.723-.12-1.448-.17-2.166a1.74 1.74 0 00-.395-.98 2.465 2.465 0 00-1.026-.74c-.808-.314-1.622-.664-2.435-.975a21.509 21.509 0 01-3.342-1.472 2.626 2.626 0 01-1.296-1.972 2.954 2.954 0 00-1.47-2.228 4.062 4.062 0 00-2.958-.35c-.734.176-1.5.165-2.23-.033l-1.112-.34-.302-.09-.873-.26c-1.57-.468-2.228-.713-4.773-.278a14.678 14.678 0 00-7.09 3.897l-6.37 6.76h5.72l-3.504 3.71h6.026l-3.503 3.71h4.844l-1.548 4.06c5.93 6.07 12.25 7.295 12.25 7.295 0-1.673.38-8.24.826-9.34a5.25 5.25 0 01.762-1.54 4.211 4.211 0 013.393-1.547c1.303 0 2.597.238 3.815.702.74.31 1.577.264 2.277-.122a38.42 38.42 0 001.498-.94.839.839 0 01.556-.18c.54.06 1.054-.237 1.27-.734.16-.33.35-.64.524-.97.472-.884.69-1.88.633-2.88z\"></path></svg></a><nav class=\"main-nav\" aria-label=\"Main menu\"><button type=\"button\" class=\"ghost main-menu-toggle\" aria-haspopup=\"true\" aria-label=\"Show Menu\"></button><ul class=\"main-menu \"><li class=\"top-level-entry-container\"><button id=\"technologies-button\" type=\"button\" class=\"top-level-entry\" aria-haspopup=\"true\" aria-expanded=\"false\">Tecnologias</button><ul role=\"menu\" aria-labelledby=\"technologies-button\"><li data-item=\"Tecnologias\" role=\"none\"><a href=\"/pt-BR/docs/Web\" role=\"menuitem\">Visão geral de tecnologias</a></li><li data-item=\"Tecnologias\" role=\"none\"><a href=\"/pt-BR/docs/Web/HTML\" role=\"menuitem\">HTML</a></li><li data-item=\"Tecnologias\" role=\"none\"><a href=\"/pt-BR/docs/Web/CSS\" role=\"menuitem\">CSS</a></li><li data-item=\"Tecnologias\" role=\"none\"><a href=\"/pt-BR/docs/Web/JavaScript\" role=\"menuitem\">JavaScript</a></li><li data-item=\"Tecnologias\" role=\"none\"><a href=\"/pt-BR/docs/Web/Guide/Graphics\" role=\"menuitem\">Gráficos</a></li><li data-item=\"Tecnologias\" role=\"none\"><a href=\"/pt-BR/docs/Web/HTTP\" role=\"menuitem\">HTTP</a></li><li data-item=\"Tecnologias\" role=\"none\"><a href=\"/pt-BR/docs/Web/API\" role=\"menuitem\">APIs / DOM</a></li><li data-item=\"Tecnologias\" role=\"none\"><a href=\"/pt-BR/docs/Mozilla/Add-ons/WebExtensions\" role=\"menuitem\">Extensões do navegador</a></li><li data-item=\"Tecnologias\" role=\"none\"><a href=\"/pt-BR/docs/Web/MathML\" role=\"menuitem\">MathML</a></li></ul></li><li class=\"top-level-entry-container\"><button id=\"references-guides-button\" type=\"button\" class=\"top-level-entry\" aria-haspopup=\"true\" aria-expanded=\"false\">Referências e guias</button><ul role=\"menu\" aria-labelledby=\"references-guides-button\"><li data-item=\"Referências e guias\" role=\"none\"><a href=\"/pt-BR/docs/Learn\" role=\"menuitem\">Aprenda desenvolvimento web</a></li><li data-item=\"Referências e guias\" role=\"none\"><a href=\"/pt-BR/docs/Web/Tutorials\" role=\"menuitem\">Tutoriais</a></li><li data-item=\"Referências e guias\" role=\"none\"><a href=\"/pt-BR/docs/Web/Reference\" role=\"menuitem\">Referências</a></li><li data-item=\"Referências e guias\" role=\"none\"><a href=\"/pt-BR/docs/Web/Guide\" role=\"menuitem\">Guias do desenvolvedor</a></li><li data-item=\"Referências e guias\" role=\"none\"><a href=\"/pt-BR/docs/Web/Accessibility\" role=\"menuitem\">Acessibilidade</a></li><li data-item=\"Referências e guias\" role=\"none\"><a href=\"/pt-BR/docs/Games\" role=\"menuitem\">Desenvolvimento de jogos</a></li><li data-item=\"Referências e guias\" role=\"none\"><a href=\"/pt-BR/docs/Web\" role=\"menuitem\">...mais documentos</a></li></ul></li><li class=\"top-level-entry-container\"><button id=\"feedback-button\" type=\"button\" class=\"top-level-entry\" aria-haspopup=\"true\" aria-expanded=\"false\">Comentários</button><ul role=\"menu\" aria-labelledby=\"feedback-button\"><li data-item=\"Comentários\" role=\"none\"><a href=\"/pt-BR/docs/MDN/Feedback\" role=\"menuitem\">Enviar comentário</a></li><li data-item=\"Comentários\" role=\"none\"><a target=\"_blank\" rel=\"noopener noreferrer\" href=\"https://support.mozilla.org/\" role=\"menuitem\">Obtenha ajuda do Firefox<!-- --> 🌐</a></li><li data-item=\"Comentários\" role=\"none\"><a target=\"_blank\" rel=\"noopener noreferrer\" href=\"https://stackoverflow.com/\" role=\"menuitem\">Obtenha ajuda para desenvolvimento web<!-- --> 🌐</a></li><li data-item=\"Comentários\" role=\"none\"><a href=\"/pt-BR/docs/MDN/Community\" role=\"menuitem\">Junte-se à comunidade MDN</a></li><li data-item=\"Comentários\" role=\"none\"><a target=\"_blank\" rel=\"noopener noreferrer\" href=\"https://github.com/mdn/sprints/issues/new?template=issue-template.md&amp;projects=mdn/sprints/2&amp;labels=user-report&amp;title=/pt-BR/docs/Aprender/CSS\" role=\"menuitem\">Relate um problema de conteúdo<!-- --> 🌐</a></li><li data-item=\"Comentários\" role=\"none\"><a target=\"_blank\" rel=\"noopener noreferrer\" href=\"https://github.com/mdn/kuma/issues/new/choose\" role=\"menuitem\">Relatar um problema<!-- --> 🌐</a></li></ul></li></ul></nav><div class=\"header-search \"><form id=\"nav-main-search\" action=\"/pt-BR/search\" method=\"get\" role=\"search\"><svg xmlns=\"http://www.w3.org/2000/svg\" viewBox=\"0 0 24 24\" aria-hidden=\"true\" class=\"search-icon\"><path fill-rule=\"nonzero\" d=\"M15.5 14h-.79l-.28-.27a6.5 6.5 0 001.48-5.34c-.47-2.78-2.79-5-5.59-5.34a6.505 6.505 0 00-7.27 7.27c.34 2.8 2.56 5.12 5.34 5.59a6.5 6.5 0 005.34-1.48l.27.28v.79l4.25 4.25c.41.41 1.08.41 1.49 0 .41-.41.41-1.08 0-1.49L15.5 14zm-6 0C7.01 14 5 11.99 5 9.5S7.01 5 9.5 5 14 7.01 14 9.5 11.99 14 9.5 14z\"></path></svg><label for=\"main-q\" class=\"visually-hidden\">Pesquisar na MDN</label><input type=\"search\" class=\"search-input-field\" id=\"main-q\" name=\"q\" placeholder=\"Pesquisar na MDN\" pattern=\"(.|\\\\s)*\\\\S(.|\\\\s)*\" required=\"\"/></form><button class=\"toggle-form\"><svg xmlns=\"http://www.w3.org/2000/svg\" role=\"presentation\" viewBox=\"0 0 24 24\" class=\"close-icon hide\"><path d=\"M18.3 5.71a.996.996 0 00-1.41 0L12 10.59 7.11 5.7A.996.996 0 105.7 7.11L10.59 12 5.7 16.89a.996.996 0 101.41 1.41L12 13.41l4.89 4.89a.996.996 0 101.41-1.41L13.41 12l4.89-4.89c.38-.38.38-1.02 0-1.4z\" fill-rule=\"nonzero\"></path></svg><svg xmlns=\"http://www.w3.org/2000/svg\" viewBox=\"0 0 24 24\" aria-hidden=\"true\" class=\"search-icon\"><path fill-rule=\"nonzero\" d=\"M15.5 14h-.79l-.28-.27a6.5 6.5 0 001.48-5.34c-.47-2.78-2.79-5-5.59-5.34a6.505 6.505 0 00-7.27 7.27c.34 2.8 2.56 5.12 5.34 5.59a6.5 6.5 0 005.34-1.48l.27.28v.79l4.25 4.25c.41.41 1.08.41 1.49 0 .41-.41.41-1.08 0-1.49L15.5 14zm-6 0C7.01 14 5 11.99 5 9.5S7.01 5 9.5 5 14 7.01 14 9.5 11.99 14 9.5 14z\"></path></svg><span>Abrir pesquisa</span></button></div></header><main role=\"main\"><header class=\"documentation-page-header\"><div class=\"titlebar-container\"><div class=\"titlebar\"><h1 class=\"title\">Aprenda a estilizar HTML utilizando CSS</h1></div></div><div class=\"full-width-row-container\"><div class=\"max-content-width-container\"><nav class=\"breadcrumbs\" role=\"navigation\"><ol typeof=\"BreadcrumbList\" vocab=\"https://schema.org/\" aria-label=\"breadcrumbs\"><li property=\"itemListElement\" typeof=\"ListItem\"><a href=\"/pt-BR/docs/Aprender\" class=\"breadcrumb-previous\" property=\"item\" typeof=\"WebPage\"><span class=\"pre-text\">Ver<!-- -->\\xa0</span><span property=\"name\">Aprendendo desenvolvimento web</span></a><meta property=\"position\" content=\"1\"/></li><li property=\"itemListElement\" typeof=\"ListItem\"><a href=\"/pt-BR/docs/Aprender/CSS\" class=\"crumb-current-page\" property=\"item\" typeof=\"WebPage\"><span property=\"name\" aria-current=\"page\">Aprenda a estilizar HTML utilizando CSS</span></a><meta property=\"position\" content=\"2\"/></li></ol></nav><div class=\"dropdown-container language-menu\"><button id=\"header-language-menu\" type=\"button\" class=\"dropdown-menu-label\" aria-haspopup=\"true\" aria-owns=\"language-menu\" aria-label=\"O idioma atual é Português (do\\xa0Brasil). Escolha seu idioma preferido.\">Português (do\\xa0Brasil)<span class=\"dropdown-arrow-down\" aria-hidden=\"true\">▼</span></button><ul id=\"language-menu\" class=\"dropdown-menu-items right \" aria-expanded=\"false\" role=\"menu\"><li lang=\"en-US\" role=\"menuitem\"><a href=\"/en-US/docs/Learn/CSS\" title=\"Inglês (EUA)\"><bdi>English (US)</bdi></a></li><li lang=\"ar\" role=\"menuitem\"><a href=\"/ar/docs/Learn/CSS\" title=\"Árabe\"><bdi>عربي</bdi></a></li><li lang=\"bn\" role=\"menuitem\"><a href=\"/bn/docs/Learn/CSS\" title=\"Bengali\"><bdi>বাংলা</bdi></a></li><li lang=\"ca\" role=\"menuitem\"><a href=\"/ca/docs/Learn/CSS\" title=\"Catalão\"><bdi>Català</bdi></a></li><li lang=\"de\" role=\"menuitem\"><a href=\"/de/docs/Learn/CSS\" title=\"Alemão\"><bdi>Deutsch</bdi></a></li><li lang=\"es\" role=\"menuitem\"><a href=\"/es/docs/Learn/CSS\" title=\"Espanhol\"><bdi>Español</bdi></a></li><li lang=\"fa\" role=\"menuitem\"><a href=\"/fa/docs/Learn/CSS\" title=\"Persa\"><bdi>فارسی</bdi></a></li><li lang=\"fr\" role=\"menuitem\"><a href=\"/fr/docs/Apprendre/CSS\" title=\"Francês\"><bdi>Français</bdi></a></li><li lang=\"he\" role=\"menuitem\"><a href=\"/he/docs/Learn/CSS\" title=\"Hebraico\"><bdi>עברית</bdi></a></li><li lang=\"id\" role=\"menuitem\"><a href=\"/id/docs/Learn/CSS\" title=\"Indonésio\"><bdi>Bahasa Indonesia</bdi></a></li><li lang=\"it\" role=\"menuitem\"><a href=\"/it/docs/Learn/CSS\" title=\"Italiano\"><bdi>Italiano</bdi></a></li><li lang=\"ja\" role=\"menuitem\"><a href=\"/ja/docs/Learn/CSS\" title=\"Japonês\"><bdi>日本語</bdi></a></li><li lang=\"ko\" role=\"menuitem\"><a href=\"/ko/docs/Learn/CSS\" title=\"Coreano\"><bdi>한국어</bdi></a></li><li lang=\"my\" role=\"menuitem\"><a href=\"/my/docs/Learn/CSS\" title=\"Birmanês\"><bdi>မြန်မာဘာသာ</bdi></a></li><li lang=\"nl\" role=\"menuitem\"><a href=\"/nl/docs/Learn/CSS\" title=\"Holandês\"><bdi>Nederlands</bdi></a></li><li lang=\"pl\" role=\"menuitem\"><a href=\"/pl/docs/Learn/CSS\" title=\"Polonês\"><bdi>Polski</bdi></a></li><li lang=\"pt-PT\" role=\"menuitem\"><a href=\"/pt-PT/docs/Learn/CSS\" title=\"Português (Europeu)\"><bdi>Português (Europeu)</bdi></a></li><li lang=\"ru\" role=\"menuitem\"><a href=\"/ru/docs/Learn/CSS\" title=\"Russo\"><bdi>Русский</bdi></a></li><li lang=\"th\" role=\"menuitem\"><a href=\"/th/docs/Learn/CSS\" title=\"Tailandês\"><bdi>ไทย</bdi></a></li><li lang=\"tr\" role=\"menuitem\"><a href=\"/tr/docs/%C3%96%C4%9Fren/CSS\" title=\"Turco\"><bdi>Türkçe</bdi></a></li><li lang=\"uk\" role=\"menuitem\"><a href=\"/uk/docs/Learn/CSS\" title=\"Ucraniano\"><bdi>Українська</bdi></a></li><li lang=\"vi\" role=\"menuitem\"><a href=\"/vi/docs/Learn/CSS\" title=\"Vietnamita\"><bdi>Tiếng Việt</bdi></a></li><li lang=\"zh-CN\" role=\"menuitem\"><a href=\"/zh-CN/docs/Learn/CSS\" title=\"Chinês (Simplificado)\"><bdi>中文 (简体)</bdi></a></li><li lang=\"zh-TW\" role=\"menuitem\"><a href=\"/zh-TW/docs/Learn/CSS\" title=\"Chinês (Tradicional)\"><bdi>正體中文 (繁體)</bdi></a></li></ul></div></div></div></header><div class=\"content-layout\"><div id=\"content\" class=\"article text-content\"><article id=\"wikiArticle\"><p class=\"summary\">Cascading Stylesheets — ou <a href=\"/pt-BR/docs/Glossario/CSS\">CSS</a> — é a primeira tecnologia que você deve aprender após o <a href=\"/pt-BR/docs/Glossario/HTML\">HTML</a>. Enquanto o\\xa0HTML é utilizado para definir a estrutura e\\xa0semântica do seu conteúdo, o CSS é usado para estilizá-lo e desenhá-lo. Por exemplo, você pode usar o CSS para alterar a fonte, cor, tamanho e espaçamento do seu conteúdo, dividí-lo em multiplas colunas, ou adicionar animações e outros recursos decorativos.</p>\\n\\n<h2 id=\"Percurso_de_aprendizagem\">Percurso de aprendizagem</h2>\\n\\n<p>Você deveria aprender o básico de HTML antes de tentar algo com CSS.\\xa0Nós recomendamos que você comece através da nossa\\xa0<a href=\"/en-US/docs/Learn/HTML/Introduction_to_HTML\">Introdução ao HTML</a>.Neste módulo você irá aprender sobre:</p>\\n\\n<ul>\\n <li>CSS, começando com a <a href=\"/pt-BR/docs/Aprender/CSS/Introduction_to_CSS\">introdução ao\\xa0CSS</a></li>\\n <li><a href=\"/en-US/Learn/HTML#Modules\">Módulos HTML </a>mais avançados</li>\\n <li><a href=\"/en-US/docs/Learn/JavaScript\">JavaScript</a>, e como utiliza-lo para adicionar funcionalidade dinâmica as páginas da web</li>\\n</ul>\\n\\n<p>Uma vez que voce entendeu\\xa0os Fundamentos do HTML, Nós recomendamos que você aprenda HTML e CSS ao mesmo tempo, movendo-se para trás e para frente entre os dois temas. Isso por que HTML é muito mais interessante com CSS e você não pode aprender realmente\\xa0CSS sem conhecer HTML.</p>\\n\\n<p>Antes de iniciar este tópico, você também deve ter ao\\xa0menos familiaridade\\xa0com o uso de computadores, e utilizar a Web passivamente (isto é, apenas navegando e consumindo conteúdo.) Você deve ter uma configuração básica de ambiente de trabalho, conforme detalhado no\\xa0<a href=\"/en-US/docs/Learn/Getting_started_with_the_web/Installing_basic_software\">Instalando o software básico</a>, e entender como criar e gerenciar arquivos, conforme detalhado em\\xa0<a href=\"/en-US/docs/Learn/Getting_started_with_the_web/Dealing_with_files\">Lidando com arquivos</a>\\xa0— ambos são partes do nosso\\xa0<a href=\"/en-US/docs/Learn/Getting_started_with_the_web\">Como começar com a web</a> módulo completo de iniciante.</p>\\n\\n<p>É recomendável que você trabalhe através do\\xa0<a href=\"/en-US/docs/Learn/Getting_started_with_the_web\">Como começar com a web</a> antes de começar este tema.\\xa0Contudo, não é absolutamente necessário; ja que muito do que é abordado no artigo básico de CSS também é coberto em nossa <a href=\"/pt-BR/docs/Aprender/CSS/Introduction_to_CSS\">introdução ao\\xa0CSS</a>, embora com muito mais detalhes.</p>\\n\\n<h2 id=\"Módulos\">Módulos</h2>\\n\\n<p>Este tópico contém os seguintes módulos em uma ordem sugerida para trabalhar através deles. Você deve definitivamente começar com o primeiro.</p>\\n\\n<dl>\\n <dt><a href=\"/pt-BR/docs/Aprender/CSS/Introduction_to_CSS\">Introdução ao CSS</a></dt>\\n <dd>Este módulo é uma introdução com as noções básicas de como CSS funciona, incluindo seletores e propriedades, escrever regras CSS, aplicando CSS para HTML, como especificar comprimento, cor e outras unidades em CSS, controlar cascatas e heranças, noções básicas de box model\\xa0e depuração CSS.</dd>\\n <dt><a href=\"/en-US/docs/Learn/CSS/Styling_text\">Estilo\\xa0de texto</a></dt>\\n <dd>Aqui nós olhamos os fundamentos do estilos de texto, incluindo a configuração da fonte, negrito, itálico,\\xa0linha e espaçamento das letras, além de sombras e outros componentes de texto. Nós usamos este módulo para\\xa0personalizar fontes para sua página, e estilizar listas e links.</dd>\\n <dt><a href=\"/en-US/docs/Learn/CSS/Styling_boxes\">Caixas de estilo</a></dt>\\n <dd>Próximo, procuramos as caixas de estilo, um dos passos fundamentais para elaborar uma página web.\\xa0Neste módulo, nós recapitulamos box model para então controlarmos o layout\\xa0por configuração de padding,\\xa0borders e margins, configurações personalizada do\\xa0background colors , imagens e outros componentes, componentes elegantes tais\\xa0como sombras e filtros das caixas.</dd>\\n <dt><a href=\"/pt-BR/docs/Learn/CSS/CSS_layout\">CSS layout</a></dt>\\n <dd>Neste ponto, nós olharemos os fundamentos CSS, como estilizar o texto, e como estilizar e manipular as caixas com conteudos\\xa0alocados. Agora é hora de olhar como pôr suas caixas no lugar certo em relação ao viewport, \\xa0e outros. Nós temos cobertos\\xa0os pré-requisitos necessários para então agora podemos aprofundar no layout CSS, olhar em diferentes configurações de telas,\\xa0tradicionais métodos envolvendo float e posicionamento, além de novos ferramentas de flanged layouts como flexbox, CSS Grid e posicionamento, alem de algumas tecnicas que voce ainda pode querer conhecer.</dd>\\n <dt>Design Responsivo (TBD)</dt>\\n <dd>Com tantos tipos diferentes de dispositivos capazes de navegar pela internet nos dias de hoje, <a href=\"https://developer.mozilla.org/en-US/docs/Web/Guide/Responsive_design\">design web responsivo</a> (RWD) se tornou uma habilidade primordial para o desenvolvimento web. Esse módulo irá cobrir os principios básicos e ferramentas do RWD, explicar como aplicar diferentes arquivos CSS à um documento a depender de dos recursos do dispositivo como largura de tela, orientação, e resolução, e explorar tecnologias disponíveis para servir diferentes vídeos e imagens dependendo de tais recursos.</dd>\\n <dt>Animações e transformações (TBD)</dt>\\n <dd>Duas das áreas mais interessantes do CSS são a habilidade de manipular elementos (ex. mover, rotacionar e inclinação), e animar elementos suavemente (ex. de uma cor ou posição para outra). Esse módulo explora como implementar as transformações e animações.</dd>\\n</dl>\\n\\n<h2 id=\"Resolvendo_problemas_de_CSS_comuns\">Resolvendo problemas de CSS comuns</h2>\\n\\n<p><a href=\"/en-US/docs/Learn/CSS/Howto\">Use CSS para resolver problemas comuns</a> proporcione links para seções de conteúdo explicando como usar CSS para resolver problemas muito comuns na criação de páginas web.</p>\\n\\n<p>Para começar, primeirmamente você aplicara cores aos elementos HTML e seus backgrounds;\\xa0\\xa0alterará o tamanho, forma\\xa0e posição dos elementos; definira e adicionara bordas aos elementos. Não há muito o que você não podera fazer depois que tiver uma compreensão solida até mesmo sobre o basico do CSS. Uma das melhores coisas sobre aprender CSS é que uma vez que voce conhece os fundamentos, normalmente voce tera uma boa noção do que pode ou não fazer, mesmo que não saiba como fazer aquilo ainda.</p>\\n\\n<h2 id=\"Veja_também\">Veja também</h2>\\n\\n<dl>\\n <dt><a href=\"/en-US/docs/Web/CSS\">CSS no MDN</a></dt>\\n <dd>O principal ponto de entrada para documentação CSS no MDN, onde voce encontra desde referências detalhadas a tutoriais avançados. Quer saber todos os valores que uma propriedade pode ter? Este é o melhor lugar</dd>\\n <dt><a href=\"/en-US/docs/Web/CSS/Reference\">Referência CSS</a></dt>\\n <dd>Um guia de referência abrangente para todos os muitos recursos da linguagem CSS - se você quiser saber quais valores uma propriedade pode tomar, por exemplo, este é um ótimo lugar para começar.</dd>\\n</dl></article><div class=\"metadata\"><section class=\"document-meta\"><header class=\"visually-hidden\"><h4>Metadata</h4></header> <ul><li class=\"last-modified\"><b>Última modificação:</b> <time dateTime=\"2019-05-03T18:24:44.908043\">May 3, 2019</time>,<!-- --> <a href=\"https://wiki.developer.mozilla.org/pt-BR/docs/Aprender/CSS$history\" rel=\"nofollow\">por colaboradores da MDN</a></li></ul></section></div></div></div></main><section class=\"newsletter-container\"><div id=\"newsletter-form-container\" class=\"newsletter\"><form class=\"newsletter-form nodisable\" name=\"newsletter-form\"><section class=\"newsletter-head\"><h2 class=\"newsletter-teaser\">Aprenda o melhor em desenvolvimento web</h2><p class=\"newsletter-description\">Receba as últimas e mais importantes notícias da MDN diretamente na sua caixa de entrada.</p><p class=\"newsletter-lang\" aria-hidden=\"false\">O boletim informativo é oferecido somente em inglês no momento.</p></section><fieldset class=\"newsletter-fields\"><input type=\"hidden\" name=\"fmt\" value=\"H\"/><input type=\"hidden\" name=\"newsletters\" value=\"app-dev\"/><div class=\"form-group newsletter-group-email\"><label for=\"newsletter-email-input\" class=\"form-label offscreen\">E-mail</label><input type=\"email\" id=\"newsletter-email-input\" name=\"email\" class=\"form-input newsletter-input-email\" placeholder=\"voce@example.com\" required=\"\"/></div><div id=\"newsletter-privacy\" class=\"form-group form-group-agree newsletter-group-privacy\" aria-hidden=\"false\"><input type=\"checkbox\" id=\"newsletter-privacy-input\" name=\"privacy\" required=\"\"/><label for=\"newsletter-privacy-input\">Concordo com a Mozilla lidar com minhas informações, conforme explicado nesta <a href=\"https://www.mozilla.org/privacy/\">Política de privacidade</a>.</label></div><div class=\"newsletter-group-submit\"><button id=\"newsletter-submit\" type=\"submit\" class=\"button neutral newsletter-submit\">Inscreva-se agora</button></div></fieldset></form><button type=\"button\" class=\"only-icon newsletter-hide\" aria-controls=\"newsletter-form-container\"><span>Ocultar inscrição no boletim informativo</span><svg xmlns=\"http://www.w3.org/2000/svg\" role=\"presentation\" viewBox=\"0 0 24 24\"><path d=\"M18.3 5.71a.996.996 0 00-1.41 0L12 10.59 7.11 5.7A.996.996 0 105.7 7.11L10.59 12 5.7 16.89a.996.996 0 101.41 1.41L12 13.41l4.89 4.89a.996.996 0 101.41-1.41L13.41 12l4.89-4.89c.38-.38.38-1.02 0-1.4z\" fill-rule=\"nonzero\"></path></svg></button></div></section><footer id=\"nav-footer\" class=\"nav-footer\" data-testid=\"footer\"><div class=\"content-container\"><a href=\"/pt-BR/\" class=\"nav-footer-logo\">Documentação web da MDN</a><ul class=\"link-list-mdn\"><li><a href=\"/pt-BR/docs/Web\">Tecnologias web</a></li><li><a href=\"/pt-BR/docs/Learn\">Aprenda desenvolvimento web</a></li><li><a href=\"/pt-BR/docs/MDN/About\">Sobre a MDN</a></li><li><a href=\"/pt-BR/docs/MDN/Feedback\">Comentários</a></li></ul><ul class=\"link-list-moz\"><li><a href=\"https://www.mozilla.org/about/\" target=\"_blank\" rel=\"noopener noreferrer\">Sobre</a></li><li><a href=\"https://shop.spreadshirt.com/mdn-store/\" target=\"_blank\" rel=\"noopener noreferrer\">MDN Web Docs Store</a></li><li><a href=\"https://www.mozilla.org/contact/\" target=\"_blank\" rel=\"noopener noreferrer\">Fale conosco</a></li><li><a href=\"https://www.mozilla.org/firefox/?utm_source=developer.mozilla.org&amp;utm_campaign=footer&amp;utm_medium=referral\" target=\"_blank\" rel=\"noopener noreferrer\">Firefox</a></li></ul><div class=\"social social-mdn\"><h4>MDN</h4><ul><li><a href=\"https://twitter.com/mozdevnet\" target=\"_blank\" rel=\"noopener noreferrer\"><svg class=\"icon icon-twitter\" xmlns=\"http://www.w3.org/2000/svg\" viewBox=\"0 0 26 28\" aria-label=\"Twitter\" role=\"img\" focusable=\"false\"><path d=\"M25.312 6.375a10.85 10.85 0 01-2.531 2.609c.016.219.016.438.016.656 0 6.672-5.078 14.359-14.359 14.359-2.859 0-5.516-.828-7.75-2.266.406.047.797.063 1.219.063 2.359 0 4.531-.797 6.266-2.156a5.056 5.056 0 01-4.719-3.5c.313.047.625.078.953.078.453 0 .906-.063 1.328-.172a5.048 5.048 0 01-4.047-4.953v-.063a5.093 5.093 0 002.281.641 5.044 5.044 0 01-2.25-4.203c0-.938.25-1.797.688-2.547a14.344 14.344 0 0010.406 5.281 5.708 5.708 0 01-.125-1.156 5.045 5.045 0 015.047-5.047 5.03 5.03 0 013.687 1.594 9.943 9.943 0 003.203-1.219 5.032 5.032 0 01-2.219 2.781c1.016-.109 2-.391 2.906-.781z\"></path></svg></a></li><li><a href=\"https://github.com/mdn/\" target=\"_blank\" rel=\"noopener noreferrer\"><svg class=\"icon icon-github\" xmlns=\"http://www.w3.org/2000/svg\" viewBox=\"0 0 24 28\" aria-label=\"GitHub\" role=\"img\" focusable=\"false\"><path d=\"M12 2c6.625 0 12 5.375 12 12 0 5.297-3.437 9.797-8.203 11.391-.609.109-.828-.266-.828-.578 0-.391.016-1.687.016-3.297 0-1.125-.375-1.844-.812-2.219 2.672-.297 5.484-1.313 5.484-5.922 0-1.313-.469-2.375-1.234-3.219.125-.313.531-1.531-.125-3.187-1-.313-3.297 1.234-3.297 1.234a11.28 11.28 0 00-6 0S6.704 6.656 5.704 6.969c-.656 1.656-.25 2.875-.125 3.187-.766.844-1.234 1.906-1.234 3.219 0 4.594 2.797 5.625 5.469 5.922-.344.313-.656.844-.766 1.609-.688.313-2.438.844-3.484-1-.656-1.141-1.844-1.234-1.844-1.234-1.172-.016-.078.734-.078.734.781.359 1.328 1.75 1.328 1.75.703 2.141 4.047 1.422 4.047 1.422 0 1 .016 1.937.016 2.234 0 .313-.219.688-.828.578C3.439 23.796.002 19.296.002 13.999c0-6.625 5.375-12 12-12zM4.547 19.234c.031-.063-.016-.141-.109-.187-.094-.031-.172-.016-.203.031-.031.063.016.141.109.187.078.047.172.031.203-.031zm.484.532c.063-.047.047-.156-.031-.25-.078-.078-.187-.109-.25-.047-.063.047-.047.156.031.25.078.078.187.109.25.047zm.469.703c.078-.063.078-.187 0-.297-.063-.109-.187-.156-.266-.094-.078.047-.078.172 0 .281s.203.156.266.109zm.656.656c.063-.063.031-.203-.063-.297-.109-.109-.25-.125-.313-.047-.078.063-.047.203.063.297.109.109.25.125.313.047zm.891.391c.031-.094-.063-.203-.203-.25-.125-.031-.266.016-.297.109s.063.203.203.234c.125.047.266 0 .297-.094zm.984.078c0-.109-.125-.187-.266-.172-.141 0-.25.078-.25.172 0 .109.109.187.266.172.141 0 .25-.078.25-.172zm.906-.156c-.016-.094-.141-.156-.281-.141-.141.031-.234.125-.219.234.016.094.141.156.281.125s.234-.125.219-.219z\"></path></svg></a></li></ul></div><div class=\"social social-moz\"><h4>Mozilla</h4><ul><li><a href=\"https://twitter.com/mozilla\" target=\"_blank\" rel=\"noopener noreferrer\"><svg class=\"icon icon-twitter\" xmlns=\"http://www.w3.org/2000/svg\" viewBox=\"0 0 26 28\" aria-label=\"Twitter\" role=\"img\" focusable=\"false\"><path d=\"M25.312 6.375a10.85 10.85 0 01-2.531 2.609c.016.219.016.438.016.656 0 6.672-5.078 14.359-14.359 14.359-2.859 0-5.516-.828-7.75-2.266.406.047.797.063 1.219.063 2.359 0 4.531-.797 6.266-2.156a5.056 5.056 0 01-4.719-3.5c.313.047.625.078.953.078.453 0 .906-.063 1.328-.172a5.048 5.048 0 01-4.047-4.953v-.063a5.093 5.093 0 002.281.641 5.044 5.044 0 01-2.25-4.203c0-.938.25-1.797.688-2.547a14.344 14.344 0 0010.406 5.281 5.708 5.708 0 01-.125-1.156 5.045 5.045 0 015.047-5.047 5.03 5.03 0 013.687 1.594 9.943 9.943 0 003.203-1.219 5.032 5.032 0 01-2.219 2.781c1.016-.109 2-.391 2.906-.781z\"></path></svg></a></li><li><a href=\"https://www.instagram.com/mozillagram/\" target=\"_blank\" rel=\"noopener noreferrer\"><svg class=\"icon icon-instagram\" xmlns=\"http://www.w3.org/2000/svg\" viewBox=\"0 0 24 28\" aria-label=\"Instagram\" role=\"img\" focusable=\"false\"><path d=\"M16 14c0-2.203-1.797-4-4-4s-4 1.797-4 4 1.797 4 4 4 4-1.797 4-4zm2.156 0c0 3.406-2.75 6.156-6.156 6.156S5.844 17.406 5.844 14 8.594 7.844 12 7.844s6.156 2.75 6.156 6.156zm1.688-6.406c0 .797-.641 1.437-1.437 1.437S16.97 8.39 16.97 7.594s.641-1.437 1.437-1.437 1.437.641 1.437 1.437zM12 4.156c-1.75 0-5.5-.141-7.078.484-.547.219-.953.484-1.375.906s-.688.828-.906 1.375c-.625 1.578-.484 5.328-.484 7.078s-.141 5.5.484 7.078c.219.547.484.953.906 1.375s.828.688 1.375.906c1.578.625 5.328.484 7.078.484s5.5.141 7.078-.484c.547-.219.953-.484 1.375-.906s.688-.828.906-1.375c.625-1.578.484-5.328.484-7.078s.141-5.5-.484-7.078c-.219-.547-.484-.953-.906-1.375s-.828-.688-1.375-.906C17.5 4.015 13.75 4.156 12 4.156zM24 14c0 1.656.016 3.297-.078 4.953-.094 1.922-.531 3.625-1.937 5.031s-3.109 1.844-5.031 1.937c-1.656.094-3.297.078-4.953.078s-3.297.016-4.953-.078c-1.922-.094-3.625-.531-5.031-1.937S.173 20.875.08 18.953C-.014 17.297.002 15.656.002 14s-.016-3.297.078-4.953c.094-1.922.531-3.625 1.937-5.031s3.109-1.844 5.031-1.937c1.656-.094 3.297-.078 4.953-.078s3.297-.016 4.953.078c1.922.094 3.625.531 5.031 1.937s1.844 3.109 1.937 5.031C24.016 10.703 24 12.344 24 14z\"></path></svg></a></li></ul></div><p id=\"license\" class=\"footer-license\">© 2005-<!-- -->2020<!-- --> Mozilla and individual contributors. Content is available under<!-- --> <a href=\"/docs/MDN/About#Copyrights_and_licenses\">these licenses</a>.</p><ul class=\"footer-legal\"><li><a href=\"https://www.mozilla.org/about/legal/terms/mozilla\" target=\"_blank\" rel=\"noopener noreferrer\">Termos</a></li><li><a href=\"https://www.mozilla.org/privacy/websites/\" target=\"_blank\" rel=\"noopener noreferrer\">Privacidade</a></li><li><a href=\"https://www.mozilla.org/privacy/websites/#cookies\" target=\"_blank\" rel=\"noopener noreferrer\">Cookies</a></li></ul></div></footer></div>\\n<script>window._react_data = JSON.parse(\"{\\\\\"locale\\\\\":\\\\\"pt-BR\\\\\",\\\\\"stringCatalog\\\\\":{\\\\\"$5 <perMontSub />\\\\\":\\\\\"$5 <perMontSub />\\\\\",\\\\\"${subscription.brand} ending in ${subscription.last4}\\\\\":\\\\\"${subscription.brand} com final ${subscription.last4}\\\\\",\\\\\"%(sentDate)s by %(user)s\\\\\":\\\\\"%(sentDate)s por %(user)s\\\\\",\\\\\"...more docs\\\\\":\\\\\"...mais documentos\\\\\",\\\\\"/mo\\\\\":\\\\\"/m\\\\u00EAs\\\\\",\\\\\"2018 Mozilla Annual Report\\\\\":\\\\\"Relat\\\\u00F3rio Anual Mozilla 2018\\\\\",\\\\\"A newer version of this article has been published since this draft was saved. You can restore the draft to view the content, but you will not be able to submit it for publishing.\\\\\":\\\\\"Uma nova vers\\\\u00E3o desse artigo foi publicada desde que esse rascunho foi salvo. Voc\\\\u00EA pode restaurar o rascunho para ver o conte\\\\u00FAdo, mas n\\\\u00E3o poder\\\\u00E1 submet\\\\u00EA-lo para publica\\\\u00E7\\\\u00E3o.\\\\\",\\\\\"APIs / DOM\\\\\":\\\\\"APIs / DOM\\\\\",\\\\\"About\\\\\":\\\\\"Sobre\\\\\",\\\\\"About MDN\\\\\":\\\\\"Sobre a MDN\\\\\",\\\\\"Accessibility\\\\\":\\\\\"Acessibilidade\\\\\",\\\\\"Account Settings\\\\\":\\\\\"Configura\\\\u00E7\\\\u00F5es da conta\\\\\",\\\\\"Add a translation\\\\\":\\\\\"Adicionar uma tradu\\\\u00E7\\\\u00E3o\\\\\",\\\\\"Adding more content, and updating current content\\\\\":\\\\\"Adi\\\\u00E7\\\\u00E3o de mais conte\\\\u00FAdo e atualiza\\\\u00E7\\\\u00E3o do conte\\\\u00FAdo atual\\\\\",\\\\\"Adding offline access to MDN\\\\\":\\\\\"Adi\\\\u00E7\\\\u00E3o de acesso offline \\\\u00E0 MDN\\\\\",\\\\\"All payment information goes through payment processor <stripeLink />, and a record of your payment will be stored by Mozilla. Mozilla does not receive or store your credit card number.\\\\\":\\\\\"Todas as informa\\\\u00E7\\\\u00F5es de pagamento passam pelo processador de pagamentos <stripeLink /> e um registro do seu pagamento \\\\u00E9 armazenado pela Mozilla. A Mozilla n\\\\u00E3o recebe nem armazena seu n\\\\u00FAmero de cart\\\\u00E3o de cr\\\\u00E9dito.\\\\\",\\\\\"An error happened trying to load the Stripe integration\\\\\":\\\\\"Ocorreu um erro ao tentar carregar a integra\\\\u00E7\\\\u00E3o com o Stripe\\\\\",\\\\\"An error occurred trying to set up the subscription with Stripe\\'s server. We\\'ve recorded the error and will investigate it.\\\\\":\\\\\"Ocorreu um erro ao tentar configurar a assinatura no servidor do Stripe. Registramos o erro e iremos investigar.\\\\\",\\\\\"An unhandled error occurred in the application. We apologize for the inconvenience!\\\\\":\\\\\"Ocorreu um erro n\\\\u00E3o tratado no aplicativo. Pedimos desculpas pelo inconveniente!\\\\\",\\\\\"Application rendering error\\\\\":\\\\\"Erro de renderiza\\\\u00E7\\\\u00E3o do aplicativo\\\\\",\\\\\"Are you sure you want to cancel?\\\\\":\\\\\"Tem certeza de que deseja cancelar?\\\\\",\\\\\"Article Title Lookup / Link Text\\\\\":\\\\\"Busca do t\\\\u00EDtulo do artigo / Texto do link\\\\\",\\\\\"Aspect ratio\\\\\":\\\\\"Formato da tela\\\\\",\\\\\"Attachments\\\\\":\\\\\"Anexos\\\\\",\\\\\"Autosave enabled.\\\\\":\\\\\"Salvamento autom\\\\u00E1tico ativado.\\\\\",\\\\\"Because we aren\\\\u2019t looking for a lump sum. Our goal is to create a broad base of financial support from the people who benefit from the work of MDN.\\\\\":\\\\\"Porque n\\\\u00E3o estamos \\\\u00E0 procura de um montante fixo. Nosso objetivo \\\\u00E9 criar uma ampla base de apoio financeiro de pessoas que se beneficiam do trabalho da MDN.\\\\\",\\\\\"Become a monthly supporter\\\\\":\\\\\"Torne-se um apoiador mensal\\\\\",\\\\\"Briefly outline the issue you are highlighting.\\\\\":\\\\\"Descreva brevemente o problema que voc\\\\u00EA est\\\\u00E1 destacando.\\\\\",\\\\\"Browser Extensions\\\\\":\\\\\"Extens\\\\u00F5es do navegador\\\\\",\\\\\"Browser documentation and release notes are good supporting items to accompany your message. A demo hosted on services like Codepen or JSBin are perfect for providing real examples of your findings.\\\\\":\\\\\"A documenta\\\\u00E7\\\\u00E3o do navegador e as notas da vers\\\\u00E3o s\\\\u00E3o bons itens de suporte para acompanhar sua mensagem. Uma demonstra\\\\u00E7\\\\u00E3o hospedada em servi\\\\u00E7os como Codepen ou JSBin \\\\u00E9 perfeita para fornecer exemplos reais de suas descobertas.\\\\\",\\\\\"By clicking this button, I authorize Mozilla to charge this payment method each month, according to the <paymentTermsLink />, until I cancel my subscription.\\\\\":\\\\\"Ao clicar neste bot\\\\u00E3o, autorizo a Mozilla cobrar com este m\\\\u00E9todo de pagamento todo m\\\\u00EAs, conforme os <paymentTermsLink />, at\\\\u00E9 que eu cancele minha inscri\\\\u00E7\\\\u00E3o.\\\\\",\\\\\"CSS\\\\\":\\\\\"CSS\\\\\",\\\\\"Can I keep track of my report?\\\\\":\\\\\"Posso acompanhar o meu relat\\\\u00F3rio?\\\\\",\\\\\"Can you provide a brief explanation?\\\\\":\\\\\"Pode fornecer uma breve explica\\\\u00E7\\\\u00E3o?\\\\\",\\\\\"Cancel or manage your subscription\\\\\":\\\\\"Cancelar ou gerenciar assinatura\\\\\",\\\\\"Cancel subscription\\\\\":\\\\\"Cancelar assinatura\\\\\",\\\\\"Changes saved.\\\\\":\\\\\"Altera\\\\u00E7\\\\u00F5es salvas.\\\\\",\\\\\"Check back for invitations to attend special events and conferences.\\\\\":\\\\\"Volte sempre para ver se h\\\\u00E1 convites para participar de eventos ou confer\\\\u00EAncias especiais.\\\\\",\\\\\"Close\\\\\":\\\\\"Fechar\\\\\",\\\\\"Close Account\\\\\":\\\\\"Fechar conta\\\\\",\\\\\"Close account\\\\\":\\\\\"Fechar conta\\\\\",\\\\\"Close banner\\\\\":\\\\\"Fechar banner\\\\\",\\\\\"Close notification\\\\\":\\\\\"Fechar a notifica\\\\u00E7\\\\u00E3o\\\\\",\\\\\"Close search\\\\\":\\\\\"Fechar pesquisa\\\\\",\\\\\"Close submenu\\\\\":\\\\\"Fechar o submenu\\\\\",\\\\\"Compare this date to the latest revision date to ensure you\\'re not overwriting later changes.\\\\\":\\\\\"Compare essa data com a \\\\u00FAltima data de revis\\\\u00E3o para garantir que voc\\\\u00EA n\\\\u00E3o est\\\\u00E1 sobrescrevendo mudan\\\\u00E7as mais recentes.\\\\\",\\\\\"Connection error:\\\\\":\\\\\"Erro de conex\\\\u00E3o:\\\\\",\\\\\"Contact Us\\\\\":\\\\\"Fale conosco\\\\\",\\\\\"Content rendering error\\\\\":\\\\\"Erro ao reproduzir conte\\\\u00FAdo\\\\\",\\\\\"Continue\\\\\":\\\\\"Continuar\\\\\",\\\\\"Contributions\\\\\":\\\\\"Contribui\\\\u00E7\\\\u00F5es\\\\\",\\\\\"Cookies\\\\\":\\\\\"Cookies\\\\\",\\\\\"Create a Redirect\\\\\":\\\\\"Criar um redirecionamento\\\\\",\\\\\"Current language is %s. Choose your preferred language.\\\\\":\\\\\"O idioma atual \\\\u00E9 %s. Escolha seu idioma preferido.\\\\\",\\\\\"Currently, Mozilla pays for site operations and overhead (including staff writers and web developers). MDN user payments will fund accelerating current projects or launching new ones, including:\\\\\":\\\\\"Atualmente, a Mozilla paga pelas opera\\\\u00E7\\\\u00F5es do site e despesas gerais (incluindo a equipe de escritores e desenvolvedores web). A contribui\\\\u00E7\\\\u00E3o de usu\\\\u00E1rios \\\\u00E0 MDN financiar\\\\u00E1 a acelera\\\\u00E7\\\\u00E3o de projetos atuais e o lan\\\\u00E7amento de novos, incluindo:\\\\\",\\\\\"Default\\\\\":\\\\\"Padr\\\\u00E3o\\\\\",\\\\\"Delete your account and account data.\\\\\":\\\\\"Exclui sua conta e dados da conta.\\\\\",\\\\\"Details\\\\\":\\\\\"Detalhes\\\\\",\\\\\"Developer Guides\\\\\":\\\\\"Guias do desenvolvedor\\\\\",\\\\\"Discard draft.\\\\\":\\\\\"Descartar rascunho.\\\\\",\\\\\"Discounts on swag\\\\\":\\\\\"Descontos em artigos\\\\\",\\\\\"Dismiss\\\\\":\\\\\"Descartar\\\\\",\\\\\"Do you have any supporting material?\\\\\":\\\\\"Voc\\\\u00EA tem algum material de apoio?\\\\\",\\\\\"Document\\\\\":\\\\\"Documento\\\\\",\\\\\"Draft autosaved:\\\\\":\\\\\"Rascunho salvo automaticamente:\\\\\",\\\\\"Draft discarded.\\\\\":\\\\\"Rascunho descartado.\\\\\",\\\\\"Draft discarded:\\\\\":\\\\\"Rascunho descartado:\\\\\",\\\\\"Draft published:\\\\\":\\\\\"Rascunho publicado:\\\\\",\\\\\"Draft restored.\\\\\":\\\\\"Rascunho restaurado.\\\\\",\\\\\"E-mail\\\\\":\\\\\"E-mail\\\\\",\\\\\"Edit Page\\\\\":\\\\\"Editar p\\\\u00E1gina\\\\\",\\\\\"Edit in wiki\\\\\":\\\\\"Editar no wiki\\\\\",\\\\\"Edit profile\\\\\":\\\\\"Editar perfil\\\\\",\\\\\"Email\\\\\":\\\\\"E-mail\\\\\",\\\\\"Embed YouTube Video\\\\\":\\\\\"Integrar v\\\\u00EDdeo do YouTube\\\\\",\\\\\"English\\\\\":\\\\\"Ingl\\\\u00EAs\\\\\",\\\\\"Enjoy exclusive member perks\\\\\":\\\\\"Aproveite benef\\\\u00EDcios exclusivos para membros\\\\\",\\\\\"Enter optional feedback\\\\u2026\\\\\":\\\\\"Se quiser, digite um coment\\\\u00E1rio\\\\u2026\\\\\",\\\\\"Error loading content, please refresh the page\\\\\":\\\\\"Erro ao carregar o conte\\\\u00FAdo, atualize a p\\\\u00E1gina\\\\\",\\\\\"Error submitting as %(type)s\\\\\":\\\\\"Erro ao enviar como %(type)s\\\\\",\\\\\"Expires ${subscription.expires_at}\\\\\":\\\\\"Expira ${subscription.expires_at}\\\\\",\\\\\"FAQ\\\\\":\\\\\"Perguntas frequentes\\\\\",\\\\\"FAQs\\\\\":\\\\\"Perguntas frequentes\\\\\",\\\\\"Feedback\\\\\":\\\\\"Coment\\\\u00E1rios\\\\\",\\\\\"Finish\\\\\":\\\\\"Concluir\\\\\",\\\\\"Game development\\\\\":\\\\\"Desenvolvimento de jogos\\\\\",\\\\\"Get 20% off at the <merchStoreLink /> with the coupon code MDN20OFF.\\\\\":\\\\\"Ganhe 20% de desconto no <merchStoreLink /> com o c\\\\u00F3digo de cupon MDN20OFF.\\\\\",\\\\\"Get Firefox help\\\\\":\\\\\"Obtenha ajuda do Firefox\\\\\",\\\\\"Get discounts on sweet loot from the <merchStoreLink />.\\\\\":\\\\\"Obtenha descontos em produtos em <merchStoreLink />.\\\\\",\\\\\"Get exclusive content, offers and invitations to your inbox\\\\\":\\\\\"Receba e-mails com conte\\\\u00FAdo exclusivo, ofertas e convites\\\\\",\\\\\"Get invited to attend special events and conferences.\\\\\":\\\\\"Seja convidado a participar de eventos e confer\\\\u00EAncias especiais.\\\\\",\\\\\"Get the latest and greatest from MDN delivered straight to your inbox.\\\\\":\\\\\"Receba as \\\\u00FAltimas e mais importantes not\\\\u00EDcias da MDN diretamente na sua caixa de entrada.\\\\\",\\\\\"Get web development help\\\\\":\\\\\"Obtenha ajuda para desenvolvimento web\\\\\",\\\\\"Graphics\\\\\":\\\\\"Gr\\\\u00E1ficos\\\\\",\\\\\"HTML\\\\\":\\\\\"HTML\\\\\",\\\\\"HTTP\\\\\":\\\\\"HTTP\\\\\",\\\\\"Hang on! Updating filters\\\\u2026\\\\\":\\\\\"Espere! Atualizando filtros\\\\u2026\\\\\",\\\\\"Help us understand the top 10 needs of web developers.\\\\\":\\\\\"Ajude-nos a entender as 10 principais necessidades dos desenvolvedores web.\\\\\",\\\\\"Hide Newsletter Sign-up\\\\\":\\\\\"Ocultar inscri\\\\u00E7\\\\u00E3o no boletim informativo\\\\\",\\\\\"History\\\\\":\\\\\"Hist\\\\u00F3rico\\\\\",\\\\\"If you have questions, please read the <faqLink /> or you can also <supportEmail />\\\\\":\\\\\"Se tiver d\\\\u00FAvidas, consulte o <faqLink />. Tamb\\\\u00E9m pode <supportEmail />\\\\\",\\\\\"If you haven\\\\u2019t previously confirmed a subscription to a Mozilla - related newsletter you may have to do so. Please check your inbox or your spam filter for an email from us.\\\\\":\\\\\"Se voc\\\\u00EA n\\\\u00E3o confirmou anteriormente uma inscri\\\\u00E7\\\\u00E3o em um boletim informativo relacionado \\\\u00E0 Mozilla, pode precisar faz\\\\u00EA-lo. Verifique se recebeu um e-mail nosso em sua caixa de entrada ou filtro de spam.\\\\\",\\\\\"If you would like to cancel or manage your monthly subscription, go to <subscriptionLink />.\\\\\":\\\\\"Se quiser cancelar ou gerenciar sua assinatura mensal, v\\\\u00E1 em <subscriptionLink />.\\\\\",\\\\\"If you would like to manage your monthly subscription, such as changing your card account details, you will need to cancel your subscription and sign up again using the new card details. To cancel, go to the <subscriptionsLink />, or if you have any questions please contact <emailLink />.\\\\\":\\\\\"Se quiser gerenciar sua assinatura mensal, por exemplo alterar detalhes da conta do cart\\\\u00E3o, ser\\\\u00E1 necess\\\\u00E1rio cancelar a assinatura e assinar novamente usando as informa\\\\u00E7\\\\u00F5es atualizadas. Para cancelar, v\\\\u00E1 em <subscriptionsLink />. Se tiver alguma d\\\\u00FAvida, entre em contato com <emailLink />.\\\\\",\\\\\"Improving performance of the site\\\\\":\\\\\"Melhora no desempenho do site\\\\\",\\\\\"Insert Code Sample Template\\\\\":\\\\\"Inserir template de exemplo de c\\\\u00F3digo\\\\\",\\\\\"Insert Code Sample iFrame\\\\\":\\\\\"Inserir um exemplo de c\\\\u00F3digo iFrame\\\\\",\\\\\"Invitations to events\\\\\":\\\\\"Convites para eventos\\\\\",\\\\\"I\\\\u2019m okay with Mozilla handling my info as explained in this <privacyLink/>.\\\\\":\\\\\"Concordo com a Mozilla lidar com minhas informa\\\\u00E7\\\\u00F5es, conforme explicado nesta <privacyLink/>.\\\\\",\\\\\"JavaScript\\\\\":\\\\\"JavaScript\\\\\",\\\\\"Join the MDN community\\\\\":\\\\\"Junte-se \\\\u00E0 comunidade MDN\\\\\",\\\\\"Jump to section\\\\\":\\\\\"Ir para a se\\\\u00E7\\\\u00E3o\\\\\",\\\\\"Keep subscription\\\\\":\\\\\"Manter assinatura\\\\\",\\\\\"Language\\\\\":\\\\\"Idioma\\\\\",\\\\\"Last modified:\\\\\":\\\\\"\\\\u00DAltima modifica\\\\u00E7\\\\u00E3o:\\\\\",\\\\\"Launch\\\\\":\\\\\"Executar\\\\\",\\\\\"Learn Web Development\\\\\":\\\\\"Aprenda desenvolvimento web\\\\\",\\\\\"Learn more\\\\\":\\\\\"Saiba mais\\\\\",\\\\\"Learn the best of web development\\\\\":\\\\\"Aprenda o melhor em desenvolvimento web\\\\\",\\\\\"Learn web development\\\\\":\\\\\"Aprenda desenvolvimento web\\\\\",\\\\\"Link\\\\\":\\\\\"Link\\\\\",\\\\\"Loading\\\\u2026\\\\\":\\\\\"Carregando\\\\u2026\\\\\",\\\\\"Locate a YouTube Video\\\\\":\\\\\"Procurar um v\\\\u00EDdeo do YouTube\\\\\",\\\\\"MDN\\\\\":\\\\\"MDN\\\\\",\\\\\"MDN Merch store\\\\\":\\\\\"Loja de produtos da MDN\\\\\",\\\\\"MDN Redirect\\\\\":\\\\\"Redirecionamento MDN\\\\\",\\\\\"MDN Web DNA\\\\\":\\\\\"MDN Web DNA\\\\\",\\\\\"MDN Web Docs\\\\\":\\\\\"Documenta\\\\u00E7\\\\u00E3o web da MDN\\\\\",\\\\\"MDN is funded out of the Mozilla Corporation general budget (and has been since it was founded in 2005). Mozilla Corporation intends to continue to financially support MDN into the future, even as we broaden and diversify the sources of MDN funding. We just want to do more things with you and for you!\\\\\":\\\\\"A MDN \\\\u00E9 financiada a partir do or\\\\u00E7amento geral da Mozilla Corporation (tem sido assim desde sua funda\\\\u00E7\\\\u00E3o em 2005). A Mozilla Corporation pretende continuar apoiando financeiramente a MDN no futuro, mesmo estando n\\\\u00F3s ampliando e diversificando as fontes de financiamento da MDN. S\\\\u00F3 queremos fazer mais coisas com voc\\\\u00EAs e para voc\\\\u00EAs!\\\\\",\\\\\"MDN is seeking direct support from our users. We\\\\u2019d like to accelerate our growth and extend the maintenance of MDN\\\\u2019s content and platform, with assistance from those who use it.\\\\\":\\\\\"A MDN est\\\\u00E1 buscando apoio direto de nossos usu\\\\u00E1rios. Gostar\\\\u00EDamos de acelerar nosso crescimento e estender a manuten\\\\u00E7\\\\u00E3o do conte\\\\u00FAdo e da plataforma da MDN, com o aux\\\\u00EDlio de quem a usa.\\\\\",\\\\\"Manage email addresses\\\\\":\\\\\"Gerenciar endere\\\\u00E7os de e-mail\\\\\",\\\\\"Manage monthly subscription\\\\\":\\\\\"Gerenciar assinatura mensal\\\\\",\\\\\"MathML\\\\\":\\\\\"MathML\\\\\",\\\\\"Minimum %(min)s and maximum %(max)s characters.\\\\\":\\\\\"M\\\\u00EDnimo de %(min)s e m\\\\u00E1ximo de %(max)s caracteres.\\\\\",\\\\\"Modernizing the MDN platform\\\\\":\\\\\"Moderniza\\\\u00E7\\\\u00E3o da plataforma MDN\\\\\",\\\\\"Monthly payments\\\\\":\\\\\"Pagamentos mensais\\\\\",\\\\\"More tutorials and guides\\\\\":\\\\\"Mais tutoriais e guias\\\\\",\\\\\"Mozilla\\\\\":\\\\\"Mozilla\\\\\",\\\\\"Mozilla Corporation\\\\\":\\\\\"Mozilla Corporation\\\\\",\\\\\"Mozilla Foundation\\\\\":\\\\\"Funda\\\\u00E7\\\\u00E3o Mozilla\\\\\",\\\\\"Mozilla will collect and store your name and email, which will be used to send transactional emails (e.g. receipts and notifications). Mozilla will not have access to or store your credit card number.\\\\\":\\\\\"A Mozilla coleta e armazena seu nome e endere\\\\u00E7o de e-mail, usados para enviar e-mails sobre as transa\\\\u00E7\\\\u00F5es (por exemplo, recibos e notifica\\\\u00E7\\\\u00F5es). A Mozilla n\\\\u00E3o tem acesso nem armazena seu n\\\\u00FAmero de cart\\\\u00E3o de cr\\\\u00E9dito.\\\\\",\\\\\"Name\\\\\":\\\\\"Nome\\\\\",\\\\\"Never\\\\\":\\\\\"Nunca\\\\\",\\\\\"New tag...\\\\\":\\\\\"Nova etiqueta...\\\\\",\\\\\"Next\\\\\":\\\\\"Avan\\\\u00E7ar\\\\\",\\\\\"Next step (2 of 2)\\\\\":\\\\\"Pr\\\\u00F3xima etapa (2 de 2)\\\\\",\\\\\"No\\\\\":\\\\\"N\\\\u00E3o\\\\\",\\\\\"No Highlight\\\\\":\\\\\"Sem destaque\\\\\",\\\\\"No attachments available\\\\\":\\\\\"Sem anexos dispon\\\\u00EDveis\\\\\",\\\\\"No matching documents found.\\\\\":\\\\\"Nenhum documento correspondente foi encontrado.\\\\\",\\\\\"No selection\\\\\":\\\\\"Nada selecionado\\\\\",\\\\\"No. Payments to Mozilla Corporation in support of MDN are not tax deductible in the United States or other countries.\\\\\":\\\\\"N\\\\u00E3o. Os pagamentos \\\\u00E0 Mozilla Corporation em apoio \\\\u00E0 MDN n\\\\u00E3o s\\\\u00E3o dedut\\\\u00EDveis nos Estados Unidos ou em outros pa\\\\u00EDses.\\\\\",\\\\\"Nothing found if nothing searched.\\\\\":\\\\\"Nada \\\\u00E9 encontrado se nada for pesquisado.\\\\\",\\\\\"On this Page\\\\\":\\\\\"Nesta p\\\\u00E1gina\\\\\",\\\\\"Open\\\\\":\\\\\"Abrir\\\\\",\\\\\"Open implementation notes\\\\\":\\\\\"Abrir notas de implementa\\\\u00E7\\\\u00E3o\\\\\",\\\\\"Open in %(site)s\\\\\":\\\\\"Abrir em %(site)s\\\\\",\\\\\"Open in CodePen\\\\\":\\\\\"Abrir no CodePen\\\\\",\\\\\"Open in JSFiddle\\\\\":\\\\\"Abrir no JSFiddle\\\\\",\\\\\"Open search\\\\\":\\\\\"Abrir pesquisa\\\\\",\\\\\"Open the survey in a new tab\\\\\":\\\\\"Abrir a pesquisa de opini\\\\u00E3o em uma nova aba\\\\\",\\\\\"Optional\\\\\":\\\\\"Opcional\\\\\",\\\\\"Our goal is to provide accurate, real values for all our compatibility data tables. Notifying MDN of inaccurate data or supplying new data pushes us further towards our goal of providing 100% real values to the developer community.\\\\\":\\\\\"Nosso objetivo \\\\u00E9 fornecer valores reais e precisos em todas as nossas tabelas de dados de compatibilidade. Notificar a MDN  sobre dados imprecisos ou fornecer novos dados nos impulsiona em dire\\\\u00E7\\\\u00E3o \\\\u00E0 meta de fornecer valores 100% reais \\\\u00E0 comunidade de desenvolvedores.\\\\\",\\\\\"Our team will review your report. Once we verify the information you have supplied we will update this browser compatability table accordingly.\\\\\":\\\\\"Nossa equipe analisar\\\\u00E1 seu relat\\\\u00F3rio. Depois de verificar as informa\\\\u00E7\\\\u00F5es fornecidas, atualizaremos esta tabela de compatibilidade do navegador de acordo.\\\\\",\\\\\"Our user base has grown exponentially in the last few years and we have a large list of improvements we\\\\u2019d like to make. While MDN is currently wholly funded by Mozilla, and has been from the beginning, we\\\\u2019d like to create a closer, more collaborative relationship between our audience (that\\\\u2019s you!), our content (written for you and sometimes by you), and our supporters (also, you, again)-- to accelerate those improvements.\\\\\":\\\\\"Nossa base de usu\\\\u00E1rios cresceu exponencialmente nos \\\\u00FAltimos anos e temos uma grande lista de melhorias que gostar\\\\u00EDamos de fazer. Embora a MDN seja atualmente totalmente financiada pela Mozilla e tenha sido assim desde o in\\\\u00EDcio, gostar\\\\u00EDamos de criar um relacionamento mais pr\\\\u00F3ximo e colaborativo entre nosso p\\\\u00FAblico (que s\\\\u00E3o voc\\\\u00EAs!), nosso conte\\\\u00FAdo (escrito para voc\\\\u00EAs e \\\\u00E0s vezes por voc\\\\u00EAs) e nossos apoiadores (voc\\\\u00EAs tamb\\\\u00E9m, novamente) - para acelerar essas melhorias.\\\\\",\\\\\"Page has not yet been created.\\\\\":\\\\\"A p\\\\u00E1gina ainda n\\\\u00E3o foi criada.\\\\\",\\\\\"Paste YouTube Video URL\\\\\":\\\\\"Colar URL do v\\\\u00EDdeo do YouTube\\\\\",\\\\\"Payment Terms\\\\\":\\\\\"Termos de pagamento\\\\\",\\\\\"Payments are not tax deductible\\\\\":\\\\\"Os pagamentos n\\\\u00E3o s\\\\u00E3o dedut\\\\u00EDveis de impostos\\\\\",\\\\\"Please <signInLink /> to continue.\\\\\":\\\\\"Favor <signInLink /> para continuar.\\\\\",\\\\\"Please help translate this article from English\\\\\":\\\\\"Ajude a traduzir este artigo em ingl\\\\u00EAs\\\\\",\\\\\"Please read our <paymentLink /> for more information.\\\\\":\\\\\"Leia o nosso <paymentLink /> para mais informa\\\\u00E7\\\\u00F5es.\\\\\",\\\\\"Please read our <termsLink /> for more information.\\\\\":\\\\\"Leia mais informa\\\\u00E7\\\\u00F5es em nossos <termsLink />.\\\\\",\\\\\"Please select the browser or browsers which are affected.\\\\\":\\\\\"Selecione o navegador ou navegadores afetados.\\\\\",\\\\\"Postal/Zip Code: ${subscription.zip}\\\\\":\\\\\"C\\\\u00F3digo postal/CEP: ${subscription.zip}\\\\\",\\\\\"Previous\\\\\":\\\\\"Anterior\\\\\",\\\\\"Previous step\\\\\":\\\\\"Etapa anterior\\\\\",\\\\\"Privacy\\\\\":\\\\\"Privacidade\\\\\",\\\\\"Privacy Policy\\\\\":\\\\\"Pol\\\\u00EDtica de privacidade\\\\\",\\\\\"Published version\\\\\":\\\\\"Vers\\\\u00E3o publicada\\\\\",\\\\\"Publishing changes\\\\u2026\\\\\":\\\\\"Publicando mudan\\\\u00E7as\\\\u2026\\\\\",\\\\\"Publishing failed. Please copy and paste your changes into a safe place and try submitting the form using the \\\\\\\\\\\\\"Publish\\\\\\\\\\\\\" button.\\\\\":\\\\\"Erro ao publicar. Por favor copie e cole suas altera\\\\u00E7\\\\u00F5es em um lugar seguro e tente submeter o formul\\\\u00E1rio utilizando o bot\\\\u00E3o \\\\\\\\\\\\\"Publicar.\\\\\\\\\\\\\"\\\\\",\\\\\"Publishing failed. You are not currently signed in. Please use a new tab to sign in and try publishing again.\\\\\":\\\\\"Erro ao publicar. Voc\\\\u00EA n\\\\u00E3o est\\\\u00E1 logado. Por favor abra uma nova aba para fazer login e tente publicar novamente.\\\\\",\\\\\"References\\\\\":\\\\\"Refer\\\\u00EAncias\\\\\",\\\\\"References & Guides\\\\\":\\\\\"Refer\\\\u00EAncias e guias\\\\\",\\\\\"Related Topics\\\\\":\\\\\"T\\\\u00F3picos relacionados\\\\\",\\\\\"Related topics\\\\\":\\\\\"T\\\\u00F3picos relacionados\\\\\",\\\\\"Report a content problem\\\\\":\\\\\"Relate um problema de conte\\\\u00FAdo\\\\\",\\\\\"Report an issue\\\\\":\\\\\"Relatar um problema\\\\\",\\\\\"Report sent\\\\\":\\\\\"Relat\\\\u00F3rio enviado\\\\\",\\\\\"Restore draft.\\\\\":\\\\\"Restaurar rascunho.\\\\\",\\\\\"Result\\\\\":\\\\\"Resultado\\\\\",\\\\\"Return to compatibility table.\\\\\":\\\\\"Retornar \\\\u00E0 tabela de compatibilidade.\\\\\",\\\\\"Revert\\\\\":\\\\\"Reverter\\\\\",\\\\\"Revision history.\\\\\":\\\\\"Hist\\\\u00F3rico de revis\\\\u00F5es.\\\\\",\\\\\"Sample CSS Content\\\\\":\\\\\"Exemplo de conte\\\\u00FAdo CSS\\\\\",\\\\\"Sample Finder\\\\\":\\\\\"Buscador de amostras\\\\\",\\\\\"Sample HTML Content\\\\\":\\\\\"Exemplo de conte\\\\u00FAdo HTML\\\\\",\\\\\"Sample JavaScript Content\\\\\":\\\\\"Exemplo de conte\\\\u00FAdo JavaScript\\\\\",\\\\\"Save\\\\\":\\\\\"Salvar\\\\\",\\\\\"Search MDN\\\\\":\\\\\"Pesquisar na MDN\\\\\",\\\\\"Search Stack Overflow\\\\\":\\\\\"Pesquisar no Stack Overflow\\\\\",\\\\\"Section\\\\\":\\\\\"Se\\\\u00E7\\\\u00E3o\\\\\",\\\\\"Sections in Document\\\\\":\\\\\"Se\\\\u00E7\\\\u00F5es do documento\\\\\",\\\\\"See\\\\\":\\\\\"Ver\\\\\",\\\\\"Select a section\\\\\":\\\\\"Selecionar uma se\\\\u00E7\\\\u00E3o\\\\\",\\\\\"Select an attachment\\\\\":\\\\\"Selecionar um anexo\\\\\",\\\\\"Select language\\\\\":\\\\\"Selecionar idioma\\\\\",\\\\\"Selected: \\\\\":\\\\\"Selecionado:\\\\u00A0\\\\\",\\\\\"Send\\\\\":\\\\\"Enviar\\\\\",\\\\\"Send Feedback\\\\\":\\\\\"Enviar coment\\\\u00E1rio\\\\\",\\\\\"Send report\\\\\":\\\\\"Enviar relat\\\\u00F3rio\\\\\",\\\\\"Separately, the Mozilla Foundation is a not-for-profit, making its money primarily from donations and royalties from Mozilla Corporation. As a not-for-profit, the Mozilla Foundation reports these revenues publicly every trailing year, as in our most recent <annualReportLink />.\\\\\":\\\\\"Separadamente, a Funda\\\\u00E7\\\\u00E3o Mozilla \\\\u00E9 uma organiza\\\\u00E7\\\\u00E3o sem fins lucrativos, financiada principalmente por doa\\\\u00E7\\\\u00F5es e royalties da Mozilla Corporation. Sendo sem fins lucrativos, a Funda\\\\u00E7\\\\u00E3o Mozilla presta contas dessas receitas publicamente a cada ano consecutivo, como em nosso mais recente <annualReportLink />.\\\\\",\\\\\"Showing all \\\\\":\\\\\"Exibindo todos os resultados \\\\\",\\\\\"Showing results %(start)s to %(end)s.\\\\\":\\\\\"Exibindo resultados %(start)s a %(end)s.\\\\\",\\\\\"Sign in\\\\\":\\\\\"Entrar\\\\\",\\\\\"Sign in to support MDN. If you haven\\'t already created an account, you will be prompted to do so after signing in.\\\\\":\\\\\"Entre para dar apoio \\\\u00E0 MDN. Se voc\\\\u00EA ainda n\\\\u00E3o criou uma conta, ser\\\\u00E1 solicitado fazer isso ap\\\\u00F3s entrar.\\\\\",\\\\\"Sign out\\\\\":\\\\\"Sair\\\\\",\\\\\"Sign up now\\\\\":\\\\\"Inscreva-se agora\\\\\",\\\\\"Skip to main content\\\\\":\\\\\"Pular para o conte\\\\u00FAdo principal\\\\\",\\\\\"Skip to search\\\\\":\\\\\"Pular para a pesquisa\\\\\",\\\\\"Sorry!\\\\\":\\\\\"Desculpe!\\\\\",\\\\\"Sorry, we can\\\\u2019t seem to reach the server. We are working to fix the problem. Please try again later.\\\\\":\\\\\"Desculpe, parece que n\\\\u00E3o conseguimos acessar o servidor. Estamos trabalhando para corrigir o problema. Tente novamente mais tarde.\\\\\",\\\\\"Step %(current)s of %(total)s\\\\\":\\\\\"Etapa %(current)s de %(total)s\\\\\",\\\\\"Stripe\\\\\":\\\\\"Stripe\\\\\",\\\\\"Submitted as %(submissionType)s\\\\\":\\\\\"Enviado como %(submissionType)s\\\\\",\\\\\"Submitting...\\\\\":\\\\\"Enviando...\\\\\",\\\\\"Subscription\\\\\":\\\\\"Assinatura\\\\\",\\\\\"Subscription terms\\\\\":\\\\\"Termos de assinatura\\\\\",\\\\\"Support MDN with a %(amount)s monthly subscription\\\\\":\\\\\"Apoie a MDN com uma assinatura mensal de %(amount)s\\\\\",\\\\\"Support MDN with a %(amount)s monthly subscription and get back more of the knowledge and tools you rely on for when your work has to work.\\\\\":\\\\\"D\\\\u00EA apoio \\\\u00E0 MDN com uma assinatura mensal de %(amount)s e receba de volta mais do conhecimento e das ferramentas em que confia para quando seu trabalho tem mesmo que funcionar.\\\\\",\\\\\"Supporting integrations with popular developer tools\\\\\":\\\\\"Suporte \\\\u00E0 integra\\\\u00E7\\\\u00E3o com ferramentas de desenvolvimento populares\\\\\",\\\\\"Syntax Highlighter\\\\\":\\\\\"Destacar sintaxe\\\\\",\\\\\"Take the survey\\\\\":\\\\\"Participe da pesquisa\\\\\",\\\\\"Technologies\\\\\":\\\\\"Tecnologias\\\\\",\\\\\"Technologies Overview\\\\\":\\\\\"Vis\\\\u00E3o geral de tecnologias\\\\\",\\\\\"Tell us what\\\\u2019s wrong with this table\\\\\":\\\\\"Diga-nos o que h\\\\u00E1 de errado nesta tabela\\\\\",\\\\\"Terms\\\\\":\\\\\"Termos\\\\\",\\\\\"Thank you for becoming a monthly supporter!\\\\\":\\\\\"Obrigado por se tornar um membro que d\\\\u00E1 apoio mensal!\\\\\",\\\\\"Thank you for helping.\\\\\":\\\\\"Obrigado por ajudar.\\\\\",\\\\\"Thank you for submitting your feedback!\\\\\":\\\\\"Obrigado por enviar sua opini\\\\u00E3o!\\\\\",\\\\\"Thank you!\\\\\":\\\\\"Obrigado!\\\\\",\\\\\"Thanks! Please check your inbox to confirm your subscription.\\\\\":\\\\\"Obrigado! Verifique sua caixa de entrada para confirmar sua assinatura.\\\\\",\\\\\"The <mozillaLink /> and MDN are separate organizations and programs. Donations to the Mozilla Foundation are <taxLink /> to the fullest extent permitted by law, and go to support Mozilla public and charitable programs in one general fund. MDN is part of <mocoLink /> and payments to MDN are not used in Mozilla\\\\u2019s charitable programs but are reinvested into MDN\\\\u2019s content, tools, and platform.\\\\\":\\\\\"A <mozillaLink /> e a MDN s\\\\u00E3o organiza\\\\u00E7\\\\u00F5es e programas separados. As doa\\\\u00E7\\\\u00F5es para a Funda\\\\u00E7\\\\u00E3o Mozilla s\\\\u00E3o <taxLink /> na extens\\\\u00E3o m\\\\u00E1xima permitida por lei e s\\\\u00E3o usadas para apoiar programas p\\\\u00FAblicos e de caridade da Mozilla em um fundo \\\\u00FAnico geral. A MDN faz parte do <mocoLink /> e os pagamentos \\\\u00E0 MDN n\\\\u00E3o s\\\\u00E3o usados nos programas de caridade da Mozilla, mas s\\\\u00E3o reinvestidos no conte\\\\u00FAdo, nas ferramentas e na plataforma da MDN.\\\\\",\\\\\"The Mozilla Corporation, which funds MDN, makes money primarily from royalties from search providers on Firefox (such as Google, Amazon, DuckDuckGo, and others).\\\\\":\\\\\"A Mozilla Corporation, que financia a MDN, arrecada dinheiro principalmente com royalties de provedores de pesquisa no Firefox (como Google, Amazon, DuckDuckGo e outros).\\\\\",\\\\\"The URL you\\'ve entered doesn\\'t appear to be valid\\\\\":\\\\\"A URL informada n\\\\u00E3o parece ser v\\\\u00E1lida\\\\\",\\\\\"The money collected through MDN (minus processing fees, taxes, etc.) will be reinvested back into MDN. We will publish a monthly report on MDN Web Docs showing what work was completed.\\\\\":\\\\\"O dinheiro arrecadado atrav\\\\u00E9s da MDN (menos taxas de processamento, impostos, etc.) \\\\u00E9 reinvestido na MDN. Publicamos um relat\\\\u00F3rio mensal na MDN Web Docs mostrando que trabalhos foram conclu\\\\u00EDdos.\\\\\",\\\\\"The newsletter is offered in English only at the moment.\\\\\":\\\\\"O boletim informativo \\\\u00E9 oferecido somente em ingl\\\\u00EAs no momento.\\\\\",\\\\\"This translation is in progress.\\\\\":\\\\\"Esta tradu\\\\u00E7\\\\u00E3o est\\\\u00E1 em andamento.\\\\\",\\\\\"This translation is incomplete.\\\\\":\\\\\"Esta tradu\\\\u00E7\\\\u00E3o est\\\\u00E1 incompleta.\\\\\",\\\\\"To find out more about why MDN is raising money through monthly subscriptions, please visit our <faqLink />.\\\\\":\\\\\"Para saber mais sobre por que a MDN est\\\\u00E1 arrecadando dinheiro atrav\\\\u00E9s de assinaturas mensais, consulte nossas <faqLink />.\\\\\",\\\\\"To see your member perks, visit the <thankYouLink />\\\\\":\\\\\"Para ver as vantagens de ser membro, visite o <thankYouLink />\\\\\",\\\\\"Training and webinars\\\\\":\\\\\"Treinamento e webinars\\\\\",\\\\\"Try again\\\\\":\\\\\"Tentar novamente\\\\\",\\\\\"Tutorials\\\\\":\\\\\"Tutoriais\\\\\",\\\\\"URL\\\\\":\\\\\"URL\\\\\",\\\\\"Update your details and manage your preferences\\\\\":\\\\\"Atualize seus detalhes e gerencie suas prefer\\\\u00EAncias\\\\\",\\\\\"Updated filters.\\\\\":\\\\\"Filtros atualizados.\\\\\",\\\\\"Useful things\\\\\":\\\\\"Coisas \\\\u00FAteis\\\\\",\\\\\"Username\\\\\":\\\\\"Nome de usu\\\\u00E1rio\\\\\",\\\\\"View Page\\\\\":\\\\\"Ver p\\\\u00E1gina\\\\\",\\\\\"View draft.\\\\\":\\\\\"Exibir rascunho.\\\\\",\\\\\"View profile\\\\\":\\\\\"Visualizar perfil\\\\\",\\\\\"Viewing old draft. This draft cannot be published.\\\\\":\\\\\"Visualizando rascunho antigo. Esse rascunho n\\\\u00E3o pode ser publicado.\\\\\",\\\\\"We\\'re sorry, something went wrong. Please contact <emailLink />.\\\\\":\\\\\"Desculpe, algo deu errado. Entre em contato com <emailLink />.\\\\\",\\\\\"Web Technologies\\\\\":\\\\\"Tecnologias web\\\\\",\\\\\"What are we missing?\\\\\":\\\\\"O que est\\\\u00E1 faltando?\\\\\",\\\\\"What happens next?\\\\\":\\\\\"O que acontece depois?\\\\\",\\\\\"What should the sample title be?\\\\\":\\\\\"Qual ser\\\\u00E1 o t\\\\u00EDtulo do exemplo?\\\\\",\\\\\"When you request to delete your account we will also cancel your monthly subscription and not charge you for subsequent months.\\\\\":\\\\\"Se voc\\\\u00EA solicitar a exclus\\\\u00E3o de sua conta, tamb\\\\u00E9m cancelaremos sua assinatura mensal e n\\\\u00E3o lhe cobraremos pelos meses subsequentes.\\\\\",\\\\\"Which browsers are affected?\\\\\":\\\\\"Quais navegadores s\\\\u00E3o afetados?\\\\\",\\\\\"Which table row is affected?\\\\\":\\\\\"Qual linha da tabela \\\\u00E9 afetada?\\\\\",\\\\\"Why is MDN asking me for money?\\\\\":\\\\\"Por que a MDN est\\\\u00E1 pedindo dinheiro?\\\\\",\\\\\"Would you answer 4 questions for us?\\\\\":\\\\\"Voc\\\\u00EA responderia 4 perguntas?\\\\\",\\\\\"Would you answer 4 questions for us? <a %(url)s>Open the survey in a new tab</a> and fill it out when you are done on the site. Thanks!\\\\\":\\\\\"Voc\\\\u00EA responderia 4 perguntas para n\\\\u00F3s? <a %(url)s>Abra a pesquisa em uma nova aba</a> e preencha quando terminar de navegar no site. Obrigado!\\\\\",\\\\\"Yes\\\\\":\\\\\"Sim\\\\\",\\\\\"Yes, cancel subscription\\\\\":\\\\\"Sim, cancelar assinatura\\\\\",\\\\\"You are MDN member number %(num)s\\\\\":\\\\\"Voc\\\\u00EA \\\\u00E9 o membro da MDN de n\\\\u00FAmero %(num)s\\\\\",\\\\\"You are now viewing this site in %(localeName)s. Do you always want to view this site in %(localeName)s?\\\\\":\\\\\"Voc\\\\u00EA est\\\\u00E1 visualizando este site em %(localeName)s. Deseja ver este site em %(localeName)s sempre?\\\\\",\\\\\"You can cancel your monthly subscription at any time. Please go to the <subscriptionsLink /> to cancel your subscription. If you choose to cancel, we will not charge your payment card for subsequent months. For any other questions or inquiries please <emailLink />.\\\\\":\\\\\"Voc\\\\u00EA pode cancelar sua assinatura mensal quando quiser. V\\\\u00E1 em <subscriptionsLink /> para cancelar a assinatura. Se optar por cancelar, n\\\\u00E3o cobraremos seu cart\\\\u00E3o de pagamento nos meses subsequentes. Para qualquer outra d\\\\u00FAvida ou pergunta, <emailLink />.\\\\\",\\\\\"You can change your email address by adding a new one\\\\\":\\\\\"Voc\\\\u00EA pode alterar seu endere\\\\u00E7o de e-mail adicionando outro\\\\\",\\\\\"You can join the GitHub repository to see updates and commits for this table data:\\\\\":\\\\\"Voc\\\\u00EA pode ingressar no reposit\\\\u00F3rio GitHub para ver not\\\\u00EDcias e atualiza\\\\u00E7\\\\u00F5es nos dados dessa tabela:\\\\\",\\\\\"You have %(count)s Wiki revisions\\\\\":\\\\\"Voc\\\\u00EA tem %(count)s revis\\\\u00F5es no Wiki\\\\\",\\\\\"You have a draft from: %(time)s.\\\\\":\\\\\"Voc\\\\u00EA tem um rascunho de: %(time)s.\\\\\",\\\\\"You have no active subscription. Why not <signupLink />?\\\\\":\\\\\"Voc\\\\u00EA n\\\\u00E3o tem nenhuma assinatura ativa. Que tal <signupLink />?\\\\\",\\\\\"You must input a valid YouTube video URL.\\\\\":\\\\\"Voc\\\\u00EA deve fornecer uma URL v\\\\u00E1lida de um v\\\\u00EDdeo do YouTube.\\\\\",\\\\\"You need to be <signInLink /> to access account settings.\\\\\":\\\\\"Voc\\\\u00EA precisa estar <signInLink /> para acessar as configura\\\\u00E7\\\\u00F5es da conta.\\\\\",\\\\\"You will be MDN member number %(num)s\\\\\":\\\\\"Voc\\\\u00EA ser\\\\u00E1 o membro da MDN de n\\\\u00FAmero %(num)s\\\\\",\\\\\"Your browser does not support MathML. A CSS fallback has been used instead.\\\\\":\\\\\"Seu navegador n\\\\u00E3o suporta MathML. Ao inv\\\\u00E9s disso, foi utilizado um recurso CSS.\\\\\",\\\\\"Your monthly subscription has been successfully canceled.\\\\\":\\\\\"Sua assinatura mensal foi cancelada com sucesso.\\\\\",\\\\\"an unknown date\\\\\":\\\\\"uma data desconhecida\\\\\",\\\\\"and fill it out when you are done on the site. Thanks!\\\\\":\\\\\"e preencha quando terminar no site. Obrigado!\\\\\",\\\\\"by MDN contributors\\\\\":\\\\\"por colaboradores da MDN\\\\\",\\\\\"contact support\\\\\":\\\\\"entre em contato com o suporte\\\\\",\\\\\"contact support.\\\\\":\\\\\"entrar em contato com o suporte.\\\\\",\\\\\"https://github.com/mdn/browser-compat-data \\\\\":\\\\\"https://github.com/mdn/browser-compat-data \\\\\",\\\\\"manage monthly subscription page\\\\\":\\\\\"p\\\\u00E1gina de gerenciamento de assinatura mensal\\\\\",\\\\\"payment terms\\\\\":\\\\\"Termos de pagamento\\\\\",\\\\\"set one up\\\\\":\\\\\"fazer uma\\\\\",\\\\\"sign in\\\\\":\\\\\"entre\\\\\",\\\\\"signed in\\\\\":\\\\\"conectado\\\\\",\\\\\"subscription terms\\\\\":\\\\\"termos de assinatura\\\\\",\\\\\"tax-deductible in the U.S.\\\\\":\\\\\"dedut\\\\u00EDvel de impostos nos EUA\\\\\",\\\\\"thank you page.\\\\\":\\\\\"p\\\\u00E1gina de agradecimento.\\\\\",\\\\\"you@example.com\\\\\":\\\\\"voce@example.com\\\\\",\\\\\"%(count)s document found for \\\\\\\\\\\\\"%(query)s\\\\\\\\\\\\\" in %(locale)s.\\\\\":[\\\\\"%(count)s documento encontrado de \\\\\\\\\\\\\"%(query)s\\\\\\\\\\\\\" em %(locale)s.\\\\\",\\\\\"%(count)s documentos encontrados de \\\\\\\\\\\\\"%(query)s\\\\\\\\\\\\\" em %(locale)s.\\\\\"]},\\\\\"pluralExpression\\\\\":\\\\\"(n > 1)\\\\\",\\\\\"url\\\\\":\\\\\"/pt-BR/docs/Aprender/CSS\\\\\",\\\\\"documentData\\\\\":{\\\\\"locale\\\\\":\\\\\"pt-BR\\\\\",\\\\\"slug\\\\\":\\\\\"Aprender/CSS\\\\\",\\\\\"enSlug\\\\\":\\\\\"Learn/CSS\\\\\",\\\\\"id\\\\\":185318,\\\\\"title\\\\\":\\\\\"Aprenda a estilizar HTML utilizando CSS\\\\\",\\\\\"summary\\\\\":\\\\\"Cascading Stylesheets \\\\u2014 ou <a href=\\\\\\\\\\\\\"/pt-BR/docs/Glossario/CSS\\\\\\\\\\\\\">CSS</a> \\\\u2014 \\\\u00E9 a primeira tecnologia que voc\\\\u00EA deve aprender ap\\\\u00F3s o <a href=\\\\\\\\\\\\\"/pt-BR/docs/Glossario/HTML\\\\\\\\\\\\\">HTML</a>. Enquanto o\\\\u00A0HTML \\\\u00E9 utilizado para definir a estrutura e\\\\u00A0sem\\\\u00E2ntica do seu conte\\\\u00FAdo, o CSS \\\\u00E9 usado para estiliz\\\\u00E1-lo e desenh\\\\u00E1-lo. Por exemplo, voc\\\\u00EA pode usar o CSS para alterar a fonte, cor, tamanho e espa\\\\u00E7amento do seu conte\\\\u00FAdo, divid\\\\u00ED-lo em multiplas colunas, ou adicionar anima\\\\u00E7\\\\u00F5es e outros recursos decorativos.\\\\\",\\\\\"language\\\\\":\\\\\"Portugu\\\\u00EAs (do\\\\u00A0Brasil)\\\\\",\\\\\"hrefLang\\\\\":\\\\\"pt-BR\\\\\",\\\\\"absoluteURL\\\\\":\\\\\"/pt-BR/docs/Aprender/CSS\\\\\",\\\\\"wikiURL\\\\\":\\\\\"https://wiki.developer.mozilla.org/pt-BR/docs/Aprender/CSS\\\\\",\\\\\"editURL\\\\\":\\\\\"https://wiki.developer.mozilla.org/pt-BR/docs/Aprender/CSS$edit\\\\\",\\\\\"translateURL\\\\\":null,\\\\\"translationStatus\\\\\":null,\\\\\"bodyHTML\\\\\":\\\\\"<p class=\\\\\\\\\\\\\"summary\\\\\\\\\\\\\">Cascading Stylesheets \\\\u2014 ou <a href=\\\\\\\\\\\\\"/pt-BR/docs/Glossario/CSS\\\\\\\\\\\\\">CSS</a> \\\\u2014 \\\\u00E9 a primeira tecnologia que voc\\\\u00EA deve aprender ap\\\\u00F3s o <a href=\\\\\\\\\\\\\"/pt-BR/docs/Glossario/HTML\\\\\\\\\\\\\">HTML</a>. Enquanto o\\\\u00A0HTML \\\\u00E9 utilizado para definir a estrutura e\\\\u00A0sem\\\\u00E2ntica do seu conte\\\\u00FAdo, o CSS \\\\u00E9 usado para estiliz\\\\u00E1-lo e desenh\\\\u00E1-lo. Por exemplo, voc\\\\u00EA pode usar o CSS para alterar a fonte, cor, tamanho e espa\\\\u00E7amento do seu conte\\\\u00FAdo, divid\\\\u00ED-lo em multiplas colunas, ou adicionar anima\\\\u00E7\\\\u00F5es e outros recursos decorativos.</p>\\\\\\\\n\\\\\\\\n<h2 id=\\\\\\\\\\\\\"Percurso_de_aprendizagem\\\\\\\\\\\\\">Percurso de aprendizagem</h2>\\\\\\\\n\\\\\\\\n<p>Voc\\\\u00EA deveria aprender o b\\\\u00E1sico de HTML antes de tentar algo com CSS.\\\\u00A0N\\\\u00F3s recomendamos que voc\\\\u00EA comece atrav\\\\u00E9s da nossa\\\\u00A0<a href=\\\\\\\\\\\\\"/en-US/docs/Learn/HTML/Introduction_to_HTML\\\\\\\\\\\\\">Introdu\\\\u00E7\\\\u00E3o ao HTML</a>.Neste m\\\\u00F3dulo voc\\\\u00EA ir\\\\u00E1 aprender sobre:</p>\\\\\\\\n\\\\\\\\n<ul>\\\\\\\\n <li>CSS, come\\\\u00E7ando com a <a href=\\\\\\\\\\\\\"/pt-BR/docs/Aprender/CSS/Introduction_to_CSS\\\\\\\\\\\\\">introdu\\\\u00E7\\\\u00E3o ao\\\\u00A0CSS</a></li>\\\\\\\\n <li><a href=\\\\\\\\\\\\\"/en-US/Learn/HTML#Modules\\\\\\\\\\\\\">M\\\\u00F3dulos HTML </a>mais avan\\\\u00E7ados</li>\\\\\\\\n <li><a href=\\\\\\\\\\\\\"/en-US/docs/Learn/JavaScript\\\\\\\\\\\\\">JavaScript</a>, e como utiliza-lo para adicionar funcionalidade din\\\\u00E2mica as p\\\\u00E1ginas da web</li>\\\\\\\\n</ul>\\\\\\\\n\\\\\\\\n<p>Uma vez que voce entendeu\\\\u00A0os Fundamentos do HTML, N\\\\u00F3s recomendamos que voc\\\\u00EA aprenda HTML e CSS ao mesmo tempo, movendo-se para tr\\\\u00E1s e para frente entre os dois temas. Isso por que HTML \\\\u00E9 muito mais interessante com CSS e voc\\\\u00EA n\\\\u00E3o pode aprender realmente\\\\u00A0CSS sem conhecer HTML.</p>\\\\\\\\n\\\\\\\\n<p>Antes de iniciar este t\\\\u00F3pico, voc\\\\u00EA tamb\\\\u00E9m deve ter ao\\\\u00A0menos familiaridade\\\\u00A0com o uso de computadores, e utilizar a Web passivamente (isto \\\\u00E9, apenas navegando e consumindo conte\\\\u00FAdo.) Voc\\\\u00EA deve ter uma configura\\\\u00E7\\\\u00E3o b\\\\u00E1sica de ambiente de trabalho, conforme detalhado no\\\\u00A0<a href=\\\\\\\\\\\\\"/en-US/docs/Learn/Getting_started_with_the_web/Installing_basic_software\\\\\\\\\\\\\">Instalando o software b\\\\u00E1sico</a>, e entender como criar e gerenciar arquivos, conforme detalhado em\\\\u00A0<a href=\\\\\\\\\\\\\"/en-US/docs/Learn/Getting_started_with_the_web/Dealing_with_files\\\\\\\\\\\\\">Lidando com arquivos</a>\\\\u00A0\\\\u2014 ambos s\\\\u00E3o partes do nosso\\\\u00A0<a href=\\\\\\\\\\\\\"/en-US/docs/Learn/Getting_started_with_the_web\\\\\\\\\\\\\">Como come\\\\u00E7ar com a web</a> m\\\\u00F3dulo completo de iniciante.</p>\\\\\\\\n\\\\\\\\n<p>\\\\u00C9 recomend\\\\u00E1vel que voc\\\\u00EA trabalhe atrav\\\\u00E9s do\\\\u00A0<a href=\\\\\\\\\\\\\"/en-US/docs/Learn/Getting_started_with_the_web\\\\\\\\\\\\\">Como come\\\\u00E7ar com a web</a> antes de come\\\\u00E7ar este tema.\\\\u00A0Contudo, n\\\\u00E3o \\\\u00E9 absolutamente necess\\\\u00E1rio; ja que muito do que \\\\u00E9 abordado no artigo b\\\\u00E1sico de CSS tamb\\\\u00E9m \\\\u00E9 coberto em nossa <a href=\\\\\\\\\\\\\"/pt-BR/docs/Aprender/CSS/Introduction_to_CSS\\\\\\\\\\\\\">introdu\\\\u00E7\\\\u00E3o ao\\\\u00A0CSS</a>, embora com muito mais detalhes.</p>\\\\\\\\n\\\\\\\\n<h2 id=\\\\\\\\\\\\\"M\\\\u00F3dulos\\\\\\\\\\\\\">M\\\\u00F3dulos</h2>\\\\\\\\n\\\\\\\\n<p>Este t\\\\u00F3pico cont\\\\u00E9m os seguintes m\\\\u00F3dulos em uma ordem sugerida para trabalhar atrav\\\\u00E9s deles. Voc\\\\u00EA deve definitivamente come\\\\u00E7ar com o primeiro.</p>\\\\\\\\n\\\\\\\\n<dl>\\\\\\\\n <dt><a href=\\\\\\\\\\\\\"/pt-BR/docs/Aprender/CSS/Introduction_to_CSS\\\\\\\\\\\\\">Introdu\\\\u00E7\\\\u00E3o ao CSS</a></dt>\\\\\\\\n <dd>Este m\\\\u00F3dulo \\\\u00E9 uma introdu\\\\u00E7\\\\u00E3o com as no\\\\u00E7\\\\u00F5es b\\\\u00E1sicas de como CSS funciona, incluindo seletores e propriedades, escrever regras CSS, aplicando CSS para HTML, como especificar comprimento, cor e outras unidades em CSS, controlar cascatas e heran\\\\u00E7as, no\\\\u00E7\\\\u00F5es b\\\\u00E1sicas de box model\\\\u00A0e depura\\\\u00E7\\\\u00E3o CSS.</dd>\\\\\\\\n <dt><a href=\\\\\\\\\\\\\"/en-US/docs/Learn/CSS/Styling_text\\\\\\\\\\\\\">Estilo\\\\u00A0de texto</a></dt>\\\\\\\\n <dd>Aqui n\\\\u00F3s olhamos os fundamentos do estilos de texto, incluindo a configura\\\\u00E7\\\\u00E3o da fonte, negrito, it\\\\u00E1lico,\\\\u00A0linha e espa\\\\u00E7amento das letras, al\\\\u00E9m de sombras e outros componentes de texto. N\\\\u00F3s usamos este m\\\\u00F3dulo para\\\\u00A0personalizar fontes para sua p\\\\u00E1gina, e estilizar listas e links.</dd>\\\\\\\\n <dt><a href=\\\\\\\\\\\\\"/en-US/docs/Learn/CSS/Styling_boxes\\\\\\\\\\\\\">Caixas de estilo</a></dt>\\\\\\\\n <dd>Pr\\\\u00F3ximo, procuramos as caixas de estilo, um dos passos fundamentais para elaborar uma p\\\\u00E1gina web.\\\\u00A0Neste m\\\\u00F3dulo, n\\\\u00F3s recapitulamos box model para ent\\\\u00E3o controlarmos o layout\\\\u00A0por configura\\\\u00E7\\\\u00E3o de padding,\\\\u00A0borders e margins, configura\\\\u00E7\\\\u00F5es personalizada do\\\\u00A0background colors , imagens e outros componentes, componentes elegantes tais\\\\u00A0como sombras e filtros das caixas.</dd>\\\\\\\\n <dt><a href=\\\\\\\\\\\\\"/pt-BR/docs/Learn/CSS/CSS_layout\\\\\\\\\\\\\">CSS layout</a></dt>\\\\\\\\n <dd>Neste ponto, n\\\\u00F3s olharemos os fundamentos CSS, como estilizar o texto, e como estilizar e manipular as caixas com conteudos\\\\u00A0alocados. Agora \\\\u00E9 hora de olhar como p\\\\u00F4r suas caixas no lugar certo em rela\\\\u00E7\\\\u00E3o ao viewport, \\\\u00A0e outros. N\\\\u00F3s temos cobertos\\\\u00A0os pr\\\\u00E9-requisitos necess\\\\u00E1rios para ent\\\\u00E3o agora podemos aprofundar no layout CSS, olhar em diferentes configura\\\\u00E7\\\\u00F5es de telas,\\\\u00A0tradicionais m\\\\u00E9todos envolvendo float e posicionamento, al\\\\u00E9m de novos ferramentas de flanged layouts como flexbox, CSS Grid e posicionamento, alem de algumas tecnicas que voce ainda pode querer conhecer.</dd>\\\\\\\\n <dt>Design Responsivo (TBD)</dt>\\\\\\\\n <dd>Com tantos tipos diferentes de dispositivos capazes de navegar pela internet nos dias de hoje, <a href=\\\\\\\\\\\\\"https://developer.mozilla.org/en-US/docs/Web/Guide/Responsive_design\\\\\\\\\\\\\">design web responsivo</a> (RWD) se tornou uma habilidade primordial para o desenvolvimento web. Esse m\\\\u00F3dulo ir\\\\u00E1 cobrir os principios b\\\\u00E1sicos e ferramentas do RWD, explicar como aplicar diferentes arquivos CSS \\\\u00E0 um documento a depender de dos recursos do dispositivo como largura de tela, orienta\\\\u00E7\\\\u00E3o, e resolu\\\\u00E7\\\\u00E3o, e explorar tecnologias dispon\\\\u00EDveis para servir diferentes v\\\\u00EDdeos e imagens dependendo de tais recursos.</dd>\\\\\\\\n <dt>Anima\\\\u00E7\\\\u00F5es e transforma\\\\u00E7\\\\u00F5es (TBD)</dt>\\\\\\\\n <dd>Duas das \\\\u00E1reas mais interessantes do CSS s\\\\u00E3o a habilidade de manipular elementos (ex. mover, rotacionar e inclina\\\\u00E7\\\\u00E3o), e animar elementos suavemente (ex. de uma cor ou posi\\\\u00E7\\\\u00E3o para outra). Esse m\\\\u00F3dulo explora como implementar as transforma\\\\u00E7\\\\u00F5es e anima\\\\u00E7\\\\u00F5es.</dd>\\\\\\\\n</dl>\\\\\\\\n\\\\\\\\n<h2 id=\\\\\\\\\\\\\"Resolvendo_problemas_de_CSS_comuns\\\\\\\\\\\\\">Resolvendo problemas de CSS comuns</h2>\\\\\\\\n\\\\\\\\n<p><a href=\\\\\\\\\\\\\"/en-US/docs/Learn/CSS/Howto\\\\\\\\\\\\\">Use CSS para resolver problemas comuns</a> proporcione links para se\\\\u00E7\\\\u00F5es de conte\\\\u00FAdo explicando como usar CSS para resolver problemas muito comuns na cria\\\\u00E7\\\\u00E3o de p\\\\u00E1ginas web.</p>\\\\\\\\n\\\\\\\\n<p>Para come\\\\u00E7ar, primeirmamente voc\\\\u00EA aplicara cores aos elementos HTML e seus backgrounds;\\\\u00A0\\\\u00A0alterar\\\\u00E1 o tamanho, forma\\\\u00A0e posi\\\\u00E7\\\\u00E3o dos elementos; definira e adicionara bordas aos elementos. N\\\\u00E3o h\\\\u00E1 muito o que voc\\\\u00EA n\\\\u00E3o podera fazer depois que tiver uma compreens\\\\u00E3o solida at\\\\u00E9 mesmo sobre o basico do CSS. Uma das melhores coisas sobre aprender CSS \\\\u00E9 que uma vez que voce conhece os fundamentos, normalmente voce tera uma boa no\\\\u00E7\\\\u00E3o do que pode ou n\\\\u00E3o fazer, mesmo que n\\\\u00E3o saiba como fazer aquilo ainda.</p>\\\\\\\\n\\\\\\\\n<h2 id=\\\\\\\\\\\\\"Veja_tamb\\\\u00E9m\\\\\\\\\\\\\">Veja tamb\\\\u00E9m</h2>\\\\\\\\n\\\\\\\\n<dl>\\\\\\\\n <dt><a href=\\\\\\\\\\\\\"/en-US/docs/Web/CSS\\\\\\\\\\\\\">CSS no MDN</a></dt>\\\\\\\\n <dd>O principal ponto de entrada para documenta\\\\u00E7\\\\u00E3o CSS no MDN, onde voce encontra desde refer\\\\u00EAncias detalhadas a tutoriais avan\\\\u00E7ados. Quer saber todos os valores que uma propriedade pode ter? Este \\\\u00E9 o melhor lugar</dd>\\\\\\\\n <dt><a href=\\\\\\\\\\\\\"/en-US/docs/Web/CSS/Reference\\\\\\\\\\\\\">Refer\\\\u00EAncia CSS</a></dt>\\\\\\\\n <dd>Um guia de refer\\\\u00EAncia abrangente para todos os muitos recursos da linguagem CSS - se voc\\\\u00EA quiser saber quais valores uma propriedade pode tomar, por exemplo, este \\\\u00E9 um \\\\u00F3timo lugar para come\\\\u00E7ar.</dd>\\\\\\\\n</dl>\\\\\",\\\\\"quickLinksHTML\\\\\":\\\\\"\\\\\",\\\\\"tocHTML\\\\\":\\\\\"\\\\\",\\\\\"raw\\\\\":\\\\\"<p class=\\\\\\\\\\\\\"summary\\\\\\\\\\\\\">Cascading Stylesheets \\\\u2014 ou {{glossary(\\\\\\\\\\\\\"CSS\\\\\\\\\\\\\")}} \\\\u2014 \\\\u00E9 a primeira tecnologia que voc\\\\u00EA deve aprender ap\\\\u00F3s o {{glossary(\\\\\\\\\\\\\"HTML\\\\\\\\\\\\\")}}. Enquanto o\\\\u00A0HTML \\\\u00E9 utilizado para definir a estrutura e\\\\u00A0sem\\\\u00E2ntica do seu conte\\\\u00FAdo, o CSS \\\\u00E9 usado para estiliz\\\\u00E1-lo e desenh\\\\u00E1-lo. Por exemplo, voc\\\\u00EA pode usar o CSS para alterar a fonte, cor, tamanho e espa\\\\u00E7amento do seu conte\\\\u00FAdo, divid\\\\u00ED-lo em multiplas colunas, ou adicionar anima\\\\u00E7\\\\u00F5es e outros recursos decorativos.</p>\\\\\\\\n\\\\\\\\n<h2 id=\\\\\\\\\\\\\"Percurso_de_aprendizagem\\\\\\\\\\\\\">Percurso de aprendizagem</h2>\\\\\\\\n\\\\\\\\n<p>Voc\\\\u00EA deveria aprender o b\\\\u00E1sico de HTML antes de tentar algo com CSS.\\\\u00A0N\\\\u00F3s recomendamos que voc\\\\u00EA comece atrav\\\\u00E9s da nossa\\\\u00A0<a href=\\\\\\\\\\\\\"/en-US/docs/Learn/HTML/Introduction_to_HTML\\\\\\\\\\\\\">Introdu\\\\u00E7\\\\u00E3o ao HTML</a>.Neste m\\\\u00F3dulo voc\\\\u00EA ir\\\\u00E1 aprender sobre:</p>\\\\\\\\n\\\\\\\\n<ul>\\\\\\\\n <li>CSS, come\\\\u00E7ando com a <a href=\\\\\\\\\\\\\"/pt-BR/docs/Aprender/CSS/Introduction_to_CSS\\\\\\\\\\\\\">introdu\\\\u00E7\\\\u00E3o ao\\\\u00A0CSS</a></li>\\\\\\\\n <li><a href=\\\\\\\\\\\\\"/en-US/Learn/HTML#Modules\\\\\\\\\\\\\">M\\\\u00F3dulos HTML </a>mais avan\\\\u00E7ados</li>\\\\\\\\n <li><a href=\\\\\\\\\\\\\"/en-US/docs/Learn/JavaScript\\\\\\\\\\\\\">JavaScript</a>, e como utiliza-lo para adicionar funcionalidade din\\\\u00E2mica as p\\\\u00E1ginas da web</li>\\\\\\\\n</ul>\\\\\\\\n\\\\\\\\n<p>Uma vez que voce entendeu\\\\u00A0os Fundamentos do HTML, N\\\\u00F3s recomendamos que voc\\\\u00EA aprenda HTML e CSS ao mesmo tempo, movendo-se para tr\\\\u00E1s e para frente entre os dois temas. Isso por que HTML \\\\u00E9 muito mais interessante com CSS e voc\\\\u00EA n\\\\u00E3o pode aprender realmente\\\\u00A0CSS sem conhecer HTML.</p>\\\\\\\\n\\\\\\\\n<p>Antes de iniciar este t\\\\u00F3pico, voc\\\\u00EA tamb\\\\u00E9m deve ter ao\\\\u00A0menos familiaridade\\\\u00A0com o uso de computadores, e utilizar a Web passivamente (isto \\\\u00E9, apenas navegando e consumindo conte\\\\u00FAdo.) Voc\\\\u00EA deve ter uma configura\\\\u00E7\\\\u00E3o b\\\\u00E1sica de ambiente de trabalho, conforme detalhado no\\\\u00A0<a href=\\\\\\\\\\\\\"/en-US/docs/Learn/Getting_started_with_the_web/Installing_basic_software\\\\\\\\\\\\\">Instalando o software b\\\\u00E1sico</a>, e entender como criar e gerenciar arquivos, conforme detalhado em\\\\u00A0<a href=\\\\\\\\\\\\\"/en-US/docs/Learn/Getting_started_with_the_web/Dealing_with_files\\\\\\\\\\\\\">Lidando com arquivos</a>\\\\u00A0\\\\u2014 ambos s\\\\u00E3o partes do nosso\\\\u00A0<a href=\\\\\\\\\\\\\"/en-US/docs/Learn/Getting_started_with_the_web\\\\\\\\\\\\\">Como come\\\\u00E7ar com a web</a> m\\\\u00F3dulo completo de iniciante.</p>\\\\\\\\n\\\\\\\\n<p>\\\\u00C9 recomend\\\\u00E1vel que voc\\\\u00EA trabalhe atrav\\\\u00E9s do\\\\u00A0<a href=\\\\\\\\\\\\\"/en-US/docs/Learn/Getting_started_with_the_web\\\\\\\\\\\\\">Como come\\\\u00E7ar com a web</a> antes de come\\\\u00E7ar este tema.\\\\u00A0Contudo, n\\\\u00E3o \\\\u00E9 absolutamente necess\\\\u00E1rio; ja que muito do que \\\\u00E9 abordado no artigo b\\\\u00E1sico de CSS tamb\\\\u00E9m \\\\u00E9 coberto em nossa <a href=\\\\\\\\\\\\\"/pt-BR/docs/Aprender/CSS/Introduction_to_CSS\\\\\\\\\\\\\">introdu\\\\u00E7\\\\u00E3o ao\\\\u00A0CSS</a>, embora com muito mais detalhes.</p>\\\\\\\\n\\\\\\\\n<h2 id=\\\\\\\\\\\\\"M\\\\u00F3dulos\\\\\\\\\\\\\">M\\\\u00F3dulos</h2>\\\\\\\\n\\\\\\\\n<p>Este t\\\\u00F3pico cont\\\\u00E9m os seguintes m\\\\u00F3dulos em uma ordem sugerida para trabalhar atrav\\\\u00E9s deles. Voc\\\\u00EA deve definitivamente come\\\\u00E7ar com o primeiro.</p>\\\\\\\\n\\\\\\\\n<dl>\\\\\\\\n <dt><a href=\\\\\\\\\\\\\"/pt-BR/docs/Aprender/CSS/Introduction_to_CSS\\\\\\\\\\\\\">Introdu\\\\u00E7\\\\u00E3o ao CSS</a></dt>\\\\\\\\n <dd>Este m\\\\u00F3dulo \\\\u00E9 uma introdu\\\\u00E7\\\\u00E3o com as no\\\\u00E7\\\\u00F5es b\\\\u00E1sicas de como CSS funciona, incluindo seletores e propriedades, escrever regras CSS, aplicando CSS para HTML, como especificar comprimento, cor e outras unidades em CSS, controlar cascatas e heran\\\\u00E7as, no\\\\u00E7\\\\u00F5es b\\\\u00E1sicas de box model\\\\u00A0e depura\\\\u00E7\\\\u00E3o CSS.</dd>\\\\\\\\n <dt><a href=\\\\\\\\\\\\\"/en-US/docs/Learn/CSS/Styling_text\\\\\\\\\\\\\">Estilo\\\\u00A0de texto</a></dt>\\\\\\\\n <dd>Aqui n\\\\u00F3s olhamos os fundamentos do estilos de texto, incluindo a configura\\\\u00E7\\\\u00E3o da fonte, negrito, it\\\\u00E1lico,\\\\u00A0linha e espa\\\\u00E7amento das letras, al\\\\u00E9m de sombras e outros componentes de texto. N\\\\u00F3s usamos este m\\\\u00F3dulo para\\\\u00A0personalizar fontes para sua p\\\\u00E1gina, e estilizar listas e links.</dd>\\\\\\\\n <dt><a href=\\\\\\\\\\\\\"/en-US/docs/Learn/CSS/Styling_boxes\\\\\\\\\\\\\">Caixas de estilo</a></dt>\\\\\\\\n <dd>Pr\\\\u00F3ximo, procuramos as caixas de estilo, um dos passos fundamentais para elaborar uma p\\\\u00E1gina web.\\\\u00A0Neste m\\\\u00F3dulo, n\\\\u00F3s recapitulamos box model para ent\\\\u00E3o controlarmos o layout\\\\u00A0por configura\\\\u00E7\\\\u00E3o de padding,\\\\u00A0borders e margins, configura\\\\u00E7\\\\u00F5es personalizada do\\\\u00A0background colors , imagens e outros componentes, componentes elegantes tais\\\\u00A0como sombras e filtros das caixas.</dd>\\\\\\\\n <dt><a href=\\\\\\\\\\\\\"/pt-BR/docs/Learn/CSS/CSS_layout\\\\\\\\\\\\\">CSS layout</a></dt>\\\\\\\\n <dd>Neste ponto, n\\\\u00F3s olharemos os fundamentos CSS, como estilizar o texto, e como estilizar e manipular as caixas com conteudos\\\\u00A0alocados. Agora \\\\u00E9 hora de olhar como p\\\\u00F4r suas caixas no lugar certo em rela\\\\u00E7\\\\u00E3o ao viewport, \\\\u00A0e outros. N\\\\u00F3s temos cobertos\\\\u00A0os pr\\\\u00E9-requisitos necess\\\\u00E1rios para ent\\\\u00E3o agora podemos aprofundar no layout CSS, olhar em diferentes configura\\\\u00E7\\\\u00F5es de telas,\\\\u00A0tradicionais m\\\\u00E9todos envolvendo float e posicionamento, al\\\\u00E9m de novos ferramentas de flanged layouts como flexbox, CSS Grid e posicionamento, alem de algumas tecnicas que voce ainda pode querer conhecer.</dd>\\\\\\\\n <dt>Design Responsivo (TBD)</dt>\\\\\\\\n <dd>Com tantos tipos diferentes de dispositivos capazes de navegar pela internet nos dias de hoje, <a href=\\\\\\\\\\\\\"https://developer.mozilla.org/en-US/docs/Web/Guide/Responsive_design\\\\\\\\\\\\\">design web responsivo</a> (RWD) se tornou uma habilidade primordial para o desenvolvimento web. Esse m\\\\u00F3dulo ir\\\\u00E1 cobrir os principios b\\\\u00E1sicos e ferramentas do RWD, explicar como aplicar diferentes arquivos CSS \\\\u00E0 um documento a depender de dos recursos do dispositivo como largura de tela, orienta\\\\u00E7\\\\u00E3o, e resolu\\\\u00E7\\\\u00E3o, e explorar tecnologias dispon\\\\u00EDveis para servir diferentes v\\\\u00EDdeos e imagens dependendo de tais recursos.</dd>\\\\\\\\n <dt>Anima\\\\u00E7\\\\u00F5es e transforma\\\\u00E7\\\\u00F5es (TBD)</dt>\\\\\\\\n <dd>Duas das \\\\u00E1reas mais interessantes do CSS s\\\\u00E3o a habilidade de manipular elementos (ex. mover, rotacionar e inclina\\\\u00E7\\\\u00E3o), e animar elementos suavemente (ex. de uma cor ou posi\\\\u00E7\\\\u00E3o para outra). Esse m\\\\u00F3dulo explora como implementar as transforma\\\\u00E7\\\\u00F5es e anima\\\\u00E7\\\\u00F5es.</dd>\\\\\\\\n</dl>\\\\\\\\n\\\\\\\\n<h2 id=\\\\\\\\\\\\\"Resolvendo_problemas_de_CSS_comuns\\\\\\\\\\\\\">Resolvendo problemas de CSS comuns</h2>\\\\\\\\n\\\\\\\\n<p><a href=\\\\\\\\\\\\\"/en-US/docs/Learn/CSS/Howto\\\\\\\\\\\\\">Use CSS para resolver problemas comuns</a> proporcione links para se\\\\u00E7\\\\u00F5es de conte\\\\u00FAdo explicando como usar CSS para resolver problemas muito comuns na cria\\\\u00E7\\\\u00E3o de p\\\\u00E1ginas web.</p>\\\\\\\\n\\\\\\\\n<p>Para come\\\\u00E7ar, primeirmamente voc\\\\u00EA aplicara cores aos elementos HTML e seus backgrounds;\\\\u00A0\\\\u00A0alterar\\\\u00E1 o tamanho, forma\\\\u00A0e posi\\\\u00E7\\\\u00E3o dos elementos; definira e adicionara bordas aos elementos. N\\\\u00E3o h\\\\u00E1 muito o que voc\\\\u00EA n\\\\u00E3o podera fazer depois que tiver uma compreens\\\\u00E3o solida at\\\\u00E9 mesmo sobre o basico do CSS. Uma das melhores coisas sobre aprender CSS \\\\u00E9 que uma vez que voce conhece os fundamentos, normalmente voce tera uma boa no\\\\u00E7\\\\u00E3o do que pode ou n\\\\u00E3o fazer, mesmo que n\\\\u00E3o saiba como fazer aquilo ainda.</p>\\\\\\\\n\\\\\\\\n<h2 id=\\\\\\\\\\\\\"Veja_tamb\\\\u00E9m\\\\\\\\\\\\\">Veja tamb\\\\u00E9m</h2>\\\\\\\\n\\\\\\\\n<dl>\\\\\\\\n <dt><a href=\\\\\\\\\\\\\"/en-US/docs/Web/CSS\\\\\\\\\\\\\">CSS no MDN</a></dt>\\\\\\\\n <dd>O principal ponto de entrada para documenta\\\\u00E7\\\\u00E3o CSS no MDN, onde voce encontra desde refer\\\\u00EAncias detalhadas a tutoriais avan\\\\u00E7ados. Quer saber todos os valores que uma propriedade pode ter? Este \\\\u00E9 o melhor lugar</dd>\\\\\\\\n <dt><a href=\\\\\\\\\\\\\"/en-US/docs/Web/CSS/Reference\\\\\\\\\\\\\">Refer\\\\u00EAncia CSS</a></dt>\\\\\\\\n <dd>Um guia de refer\\\\u00EAncia abrangente para todos os muitos recursos da linguagem CSS - se voc\\\\u00EA quiser saber quais valores uma propriedade pode tomar, por exemplo, este \\\\u00E9 um \\\\u00F3timo lugar para come\\\\u00E7ar.</dd>\\\\\\\\n</dl>\\\\\",\\\\\"parents\\\\\":[{\\\\\"url\\\\\":\\\\\"/pt-BR/docs/Aprender\\\\\",\\\\\"title\\\\\":\\\\\"Aprendendo desenvolvimento web\\\\\"}],\\\\\"translations\\\\\":[{\\\\\"language\\\\\":\\\\\"English (US)\\\\\",\\\\\"hrefLang\\\\\":\\\\\"en\\\\\",\\\\\"localizedLanguage\\\\\":\\\\\"Ingl\\\\u00EAs (EUA)\\\\\",\\\\\"locale\\\\\":\\\\\"en-US\\\\\",\\\\\"url\\\\\":\\\\\"/en-US/docs/Learn/CSS\\\\\",\\\\\"title\\\\\":\\\\\"Learn to style HTML using CSS\\\\\"},{\\\\\"language\\\\\":\\\\\"\\\\u0639\\\\u0631\\\\u0628\\\\u064A\\\\\",\\\\\"hrefLang\\\\\":\\\\\"ar\\\\\",\\\\\"localizedLanguage\\\\\":\\\\\"\\\\u00C1rabe\\\\\",\\\\\"locale\\\\\":\\\\\"ar\\\\\",\\\\\"url\\\\\":\\\\\"/ar/docs/Learn/CSS\\\\\",\\\\\"title\\\\\":\\\\\"CSS\\\\\"},{\\\\\"language\\\\\":\\\\\"\\\\u09AC\\\\u09BE\\\\u0982\\\\u09B2\\\\u09BE\\\\\",\\\\\"hrefLang\\\\\":\\\\\"bn\\\\\",\\\\\"localizedLanguage\\\\\":\\\\\"Bengali\\\\\",\\\\\"locale\\\\\":\\\\\"bn\\\\\",\\\\\"url\\\\\":\\\\\"/bn/docs/Learn/CSS\\\\\",\\\\\"title\\\\\":\\\\\"Learn to style HTML using CSS\\\\\"},{\\\\\"language\\\\\":\\\\\"Catal\\\\u00E0\\\\\",\\\\\"hrefLang\\\\\":\\\\\"ca\\\\\",\\\\\"localizedLanguage\\\\\":\\\\\"Catal\\\\u00E3o\\\\\",\\\\\"locale\\\\\":\\\\\"ca\\\\\",\\\\\"url\\\\\":\\\\\"/ca/docs/Learn/CSS\\\\\",\\\\\"title\\\\\":\\\\\"CSS\\\\\"},{\\\\\"language\\\\\":\\\\\"Deutsch\\\\\",\\\\\"hrefLang\\\\\":\\\\\"de\\\\\",\\\\\"localizedLanguage\\\\\":\\\\\"Alem\\\\u00E3o\\\\\",\\\\\"locale\\\\\":\\\\\"de\\\\\",\\\\\"url\\\\\":\\\\\"/de/docs/Learn/CSS\\\\\",\\\\\"title\\\\\":\\\\\"CSS\\\\\"},{\\\\\"language\\\\\":\\\\\"Espa\\\\u00F1ol\\\\\",\\\\\"hrefLang\\\\\":\\\\\"es\\\\\",\\\\\"localizedLanguage\\\\\":\\\\\"Espanhol\\\\\",\\\\\"locale\\\\\":\\\\\"es\\\\\",\\\\\"url\\\\\":\\\\\"/es/docs/Learn/CSS\\\\\",\\\\\"title\\\\\":\\\\\"CSS\\\\\"},{\\\\\"language\\\\\":\\\\\"\\\\u0641\\\\u0627\\\\u0631\\\\u0633\\\\u06CC\\\\\",\\\\\"hrefLang\\\\\":\\\\\"fa\\\\\",\\\\\"localizedLanguage\\\\\":\\\\\"Persa\\\\\",\\\\\"locale\\\\\":\\\\\"fa\\\\\",\\\\\"url\\\\\":\\\\\"/fa/docs/Learn/CSS\\\\\",\\\\\"title\\\\\":\\\\\"\\\\u0622\\\\u0645\\\\u0648\\\\u0632\\\\u0634 \\\\u0627\\\\u0633\\\\u062A\\\\u0627\\\\u06CC\\\\u0644\\\\u200C\\\\u062F\\\\u0647\\\\u06CC \\\\u0628\\\\u0647 HTML \\\\u0628\\\\u0627 \\\\u0627\\\\u0633\\\\u062A\\\\u0641\\\\u0627\\\\u062F\\\\u0647 \\\\u0627\\\\u0632 CSS\\\\\"},{\\\\\"language\\\\\":\\\\\"Fran\\\\u00E7ais\\\\\",\\\\\"hrefLang\\\\\":\\\\\"fr\\\\\",\\\\\"localizedLanguage\\\\\":\\\\\"Franc\\\\u00EAs\\\\\",\\\\\"locale\\\\\":\\\\\"fr\\\\\",\\\\\"url\\\\\":\\\\\"/fr/docs/Apprendre/CSS\\\\\",\\\\\"title\\\\\":\\\\\"Composer le HTML avec les CSS\\\\\"},{\\\\\"language\\\\\":\\\\\"\\\\u05E2\\\\u05D1\\\\u05E8\\\\u05D9\\\\u05EA\\\\\",\\\\\"hrefLang\\\\\":\\\\\"he\\\\\",\\\\\"localizedLanguage\\\\\":\\\\\"Hebraico\\\\\",\\\\\"locale\\\\\":\\\\\"he\\\\\",\\\\\"url\\\\\":\\\\\"/he/docs/Learn/CSS\\\\\",\\\\\"title\\\\\":\\\\\"CSS\\\\\"},{\\\\\"language\\\\\":\\\\\"Bahasa Indonesia\\\\\",\\\\\"hrefLang\\\\\":\\\\\"id\\\\\",\\\\\"localizedLanguage\\\\\":\\\\\"Indon\\\\u00E9sio\\\\\",\\\\\"locale\\\\\":\\\\\"id\\\\\",\\\\\"url\\\\\":\\\\\"/id/docs/Learn/CSS\\\\\",\\\\\"title\\\\\":\\\\\"Learn to style HTML using CSS\\\\\"},{\\\\\"language\\\\\":\\\\\"Italiano\\\\\",\\\\\"hrefLang\\\\\":\\\\\"it\\\\\",\\\\\"localizedLanguage\\\\\":\\\\\"Italiano\\\\\",\\\\\"locale\\\\\":\\\\\"it\\\\\",\\\\\"url\\\\\":\\\\\"/it/docs/Learn/CSS\\\\\",\\\\\"title\\\\\":\\\\\"Impara a stilizzare HTML usando i CSS\\\\\"},{\\\\\"language\\\\\":\\\\\"\\\\u65E5\\\\u672C\\\\u8A9E\\\\\",\\\\\"hrefLang\\\\\":\\\\\"ja\\\\\",\\\\\"localizedLanguage\\\\\":\\\\\"Japon\\\\u00EAs\\\\\",\\\\\"locale\\\\\":\\\\\"ja\\\\\",\\\\\"url\\\\\":\\\\\"/ja/docs/Learn/CSS\\\\\",\\\\\"title\\\\\":\\\\\"CSS\\\\\"},{\\\\\"language\\\\\":\\\\\"\\\\uD55C\\\\uAD6D\\\\uC5B4\\\\\",\\\\\"hrefLang\\\\\":\\\\\"ko\\\\\",\\\\\"localizedLanguage\\\\\":\\\\\"Coreano\\\\\",\\\\\"locale\\\\\":\\\\\"ko\\\\\",\\\\\"url\\\\\":\\\\\"/ko/docs/Learn/CSS\\\\\",\\\\\"title\\\\\":\\\\\"CSS\\\\uB97C \\\\uC774\\\\uC6A9\\\\uD55C HTML \\\\uC2A4\\\\uD0C0\\\\uC77C\\\\uB9C1 \\\\uC775\\\\uD788\\\\uAE30\\\\\"},{\\\\\"language\\\\\":\\\\\"\\\\u1019\\\\u103C\\\\u1014\\\\u103A\\\\u1019\\\\u102C\\\\u1018\\\\u102C\\\\u101E\\\\u102C\\\\\",\\\\\"hrefLang\\\\\":\\\\\"my\\\\\",\\\\\"localizedLanguage\\\\\":\\\\\"Birman\\\\u00EAs\\\\\",\\\\\"locale\\\\\":\\\\\"my\\\\\",\\\\\"url\\\\\":\\\\\"/my/docs/Learn/CSS\\\\\",\\\\\"title\\\\\":\\\\\"CSS \\\\u1014\\\\u1004\\\\u103A\\\\u1037 HTML \\\\u1021\\\\u102C\\\\u1038 \\\\u1021\\\\u101E\\\\u103D\\\\u1004\\\\u103A\\\\u1015\\\\u1031\\\\u102C\\\\u1004\\\\u103A\\\\u1038\\\\u1001\\\\u1004\\\\u103A\\\\u1038\\\\\"},{\\\\\"language\\\\\":\\\\\"Nederlands\\\\\",\\\\\"hrefLang\\\\\":\\\\\"nl\\\\\",\\\\\"localizedLanguage\\\\\":\\\\\"Holand\\\\u00EAs\\\\\",\\\\\"locale\\\\\":\\\\\"nl\\\\\",\\\\\"url\\\\\":\\\\\"/nl/docs/Learn/CSS\\\\\",\\\\\"title\\\\\":\\\\\"CSS\\\\\"},{\\\\\"language\\\\\":\\\\\"Polski\\\\\",\\\\\"hrefLang\\\\\":\\\\\"pl\\\\\",\\\\\"localizedLanguage\\\\\":\\\\\"Polon\\\\u00EAs\\\\\",\\\\\"locale\\\\\":\\\\\"pl\\\\\",\\\\\"url\\\\\":\\\\\"/pl/docs/Learn/CSS\\\\\",\\\\\"title\\\\\":\\\\\"CSSs\\\\\"},{\\\\\"language\\\\\":\\\\\"Portugu\\\\u00EAs (Europeu)\\\\\",\\\\\"hrefLang\\\\\":\\\\\"pt\\\\\",\\\\\"localizedLanguage\\\\\":\\\\\"Portugu\\\\u00EAs (Europeu)\\\\\",\\\\\"locale\\\\\":\\\\\"pt-PT\\\\\",\\\\\"url\\\\\":\\\\\"/pt-PT/docs/Learn/CSS\\\\\",\\\\\"title\\\\\":\\\\\"Aprender a estilizar HTML, utilizando CSS\\\\\"},{\\\\\"language\\\\\":\\\\\"\\\\u0420\\\\u0443\\\\u0441\\\\u0441\\\\u043A\\\\u0438\\\\u0439\\\\\",\\\\\"hrefLang\\\\\":\\\\\"ru\\\\\",\\\\\"localizedLanguage\\\\\":\\\\\"Russo\\\\\",\\\\\"locale\\\\\":\\\\\"ru\\\\\",\\\\\"url\\\\\":\\\\\"/ru/docs/Learn/CSS\\\\\",\\\\\"title\\\\\":\\\\\"CSS\\\\\"},{\\\\\"language\\\\\":\\\\\"\\\\u0E44\\\\u0E17\\\\u0E22\\\\\",\\\\\"hrefLang\\\\\":\\\\\"th\\\\\",\\\\\"localizedLanguage\\\\\":\\\\\"Tailand\\\\u00EAs\\\\\",\\\\\"locale\\\\\":\\\\\"th\\\\\",\\\\\"url\\\\\":\\\\\"/th/docs/Learn/CSS\\\\\",\\\\\"title\\\\\":\\\\\"CSS\\\\\"},{\\\\\"language\\\\\":\\\\\"T\\\\u00FCrk\\\\u00E7e\\\\\",\\\\\"hrefLang\\\\\":\\\\\"tr\\\\\",\\\\\"localizedLanguage\\\\\":\\\\\"Turco\\\\\",\\\\\"locale\\\\\":\\\\\"tr\\\\\",\\\\\"url\\\\\":\\\\\"/tr/docs/%C3%96%C4%9Fren/CSS\\\\\",\\\\\"title\\\\\":\\\\\"CSS kullanarak HTML \\\\u015Fekillendirmeyi \\\\u00F6\\\\u011Frenin\\\\\"},{\\\\\"language\\\\\":\\\\\"\\\\u0423\\\\u043A\\\\u0440\\\\u0430\\\\u0457\\\\u043D\\\\u0441\\\\u044C\\\\u043A\\\\u0430\\\\\",\\\\\"hrefLang\\\\\":\\\\\"uk\\\\\",\\\\\"localizedLanguage\\\\\":\\\\\"Ucraniano\\\\\",\\\\\"locale\\\\\":\\\\\"uk\\\\\",\\\\\"url\\\\\":\\\\\"/uk/docs/Learn/CSS\\\\\",\\\\\"title\\\\\":\\\\\"Learn to style HTML using CSS\\\\\"},{\\\\\"language\\\\\":\\\\\"Ti\\\\u1EBFng Vi\\\\u1EC7t\\\\\",\\\\\"hrefLang\\\\\":\\\\\"vi\\\\\",\\\\\"localizedLanguage\\\\\":\\\\\"Vietnamita\\\\\",\\\\\"locale\\\\\":\\\\\"vi\\\\\",\\\\\"url\\\\\":\\\\\"/vi/docs/Learn/CSS\\\\\",\\\\\"title\\\\\":\\\\\"Learn to style HTML using CSS\\\\\"},{\\\\\"language\\\\\":\\\\\"\\\\u4E2D\\\\u6587 (\\\\u7B80\\\\u4F53)\\\\\",\\\\\"hrefLang\\\\\":\\\\\"zh\\\\\",\\\\\"localizedLanguage\\\\\":\\\\\"Chin\\\\u00EAs (Simplificado)\\\\\",\\\\\"locale\\\\\":\\\\\"zh-CN\\\\\",\\\\\"url\\\\\":\\\\\"/zh-CN/docs/Learn/CSS\\\\\",\\\\\"title\\\\\":\\\\\"CSS\\\\\"},{\\\\\"language\\\\\":\\\\\"\\\\u6B63\\\\u9AD4\\\\u4E2D\\\\u6587 (\\\\u7E41\\\\u9AD4)\\\\\",\\\\\"hrefLang\\\\\":\\\\\"zh-TW\\\\\",\\\\\"localizedLanguage\\\\\":\\\\\"Chin\\\\u00EAs (Tradicional)\\\\\",\\\\\"locale\\\\\":\\\\\"zh-TW\\\\\",\\\\\"url\\\\\":\\\\\"/zh-TW/docs/Learn/CSS\\\\\",\\\\\"title\\\\\":\\\\\"CSS\\\\uFF08\\\\u6A23\\\\u5F0F\\\\u8868\\\\uFF09\\\\\"}],\\\\\"lastModified\\\\\":\\\\\"2019-05-03T18:24:44.908043\\\\\"}}\");</script>\\n\\n\\n  \\n    <div id=\"auth-modal\" class=\"modal hidden\">\\n    <section class=\"auth-providers\" tabindex=\"-1\" role=\"dialog\" aria-modal=\"true\"\\n        aria-labelledby=\"modal-main-heading\">\\n        <header>\\n            <h2 id=\"modal-main-heading\">Entrar</h2>\\n        </header>\\n        \\n  <p>\\n    Entre para aproveitar os benefícios de uma conta MDN. Se você ainda não criou uma conta, será solicitado fazer isso após entrar.\\n</p>\\n<div class=\"auth-button-container\">\\n    <a href=\"/users/github/login/?next=%2Fpt-BR%2Fdocs%2FAprender%2FCSS\" class=\"github-auth\" data-first-focusable=\"true\">\\n        Entrar com GitHub\\n    </a>\\n    <a href=\"/users/google/login/?next=%2Fpt-BR%2Fdocs%2FAprender%2FCSS\" class=\"google-auth\">\\n        Entrar com Google\\n    </a>\\n</div>\\n\\n        <button id=\"close-modal\" class=\"close-modal\" data-last-focusable=\"true\">\\n            <span>Fechar modal</span>\\n        </button>\\n    </section>\\n</div>\\n  \\n\\n  <!-- site js -->\\n  <script defer type=\"text/javascript\" src=\"/static/build/js/react-main.01db16f317c6.js\" charset=\"utf-8\"></script>\\n  <script defer type=\"text/javascript\" src=\"/static/build/js/mathml.3cb4c04c0706.js\" charset=\"utf-8\"></script>\\n  <script defer type=\"text/javascript\" src=\"/static/build/js/auth-modal.119e5d70465f.js\" charset=\"utf-8\"></script>\\n  \\n    <script defer type=\"text/javascript\" src=\"/static/build/js/react-bcd-signal.cf0fc711cfa2.js\" charset=\"utf-8\"></script>\\n  \\n</body>\\n</html>'"
      ]
     },
     "execution_count": 9,
     "metadata": {},
     "output_type": "execute_result"
    }
   ],
   "source": [
    "getSource('https://developer.mozilla.org/pt-BR/docs/Aprender/CSS')"
   ]
  },
  {
   "cell_type": "markdown",
   "metadata": {},
   "source": [
    "#### Problema Prático 11.1\n",
    "\n",
    "Escreva o método news() que aceita um URL de um site Web de notícias e uma lista de tópicos de notícias (ou seja, strings) e calcula o número de ocorrências de cada tópico nas notícias."
   ]
  },
  {
   "cell_type": "code",
   "execution_count": 10,
   "metadata": {},
   "outputs": [],
   "source": [
    "def news(url, topics):\n",
    "    'Return occour of topics in url'\n",
    "    html = getSource(url).lower()\n",
    "    for topic in topics:\n",
    "        appears = html.count(topic)\n",
    "        if appears == 0:\n",
    "            print('''\"{}\" not found in \"{}\"'''.format(topic, url))\n",
    "        else:\n",
    "            print('''\"{0}\" appears {1} time{2}.'''.format(topic, appears, '' if appears == 1 else 's'))"
   ]
  },
  {
   "cell_type": "code",
   "execution_count": 11,
   "metadata": {},
   "outputs": [
    {
     "name": "stdout",
     "output_type": "stream",
     "text": [
      "\"economy\" appears 6 times.\n",
      "\"climate\" not found in \"https://www.bbc.com/news\"\n",
      "\"vaccine\" appears 7 times.\n",
      "\"Trump\" not found in \"https://www.bbc.com/news\"\n",
      "\"Coronavirus\" not found in \"https://www.bbc.com/news\"\n"
     ]
    }
   ],
   "source": [
    "news('https://www.bbc.com/news',['economy','climate','vaccine', 'Trump', 'Coronavirus'])"
   ]
  },
  {
   "cell_type": "code",
   "execution_count": 12,
   "metadata": {},
   "outputs": [
    {
     "name": "stdout",
     "output_type": "stream",
     "text": [
      "\"coronavirus\" appears 6 times.\n",
      "\"vacina\" appears 7 times.\n",
      "\"óbitos\" not found in \"https://noticias.uol.com.br/\"\n",
      "\"bolsonaro\" appears 45 times.\n",
      "\"eleições\" appears 12 times.\n",
      "\"incêndio\" appears 1 time.\n"
     ]
    }
   ],
   "source": [
    "news('https://noticias.uol.com.br/',['coronavirus', 'vacina', 'óbitos', 'bolsonaro', 'eleições', 'incêndio'])"
   ]
  },
  {
   "cell_type": "markdown",
   "metadata": {},
   "source": [
    "<hr>\n",
    "\n",
    "## Módulo html.parser\n",
    "\n",
    "O módulo ``urllib.request`` oferece ferramentas para solicitar e <mark>baixar recursos como páginas Web</mark>. Se o recurso baixado for um arquivo HTML, podemos lê-lo em uma <em>string</em> e processá-lo usando operadores e métodos de <em>string</em>. Isso pode ser suficiente para responder a algumas perguntas sobre o conteúdo da página Web, mas que tal, por exemplo, apanhar todos os URLs associados a tags de âncora na página Web?\n",
    "\n",
    "Se você parar por um instante e pensar a respeito disso, seria muito trabalhoso usar operadores e métodos de string para encontrar todos os URLs de tag de âncora em um arquivo HTML. Mas é fácil perceber o que precisa ser feito: percorrer o arquivo e apanhar o valor do atributo ``href`` em cada tag de início de âncora. Porém, para fazer isso, precisamos de um modo de reconhecer os diferentes elementos do arquivo HTML (o título, cabeçalhos, links, imagens, dados de texto etc.), em particular, as tags de início do elemento de âncora. O processo de analisar um documento em ordem para quebrá-lo em componentes e obter sua estrutura é denominado análise.\n",
    "\n",
    "O módulo ``html.parser`` da Biblioteca Padrão Python oferece uma classe, HTMLParser, que analisa arquivos HTML. Quando alimentada por um arquivo HTML, ela o processará do início ao fim, achará <u>todas as tags de início, tags de fim, dados de texto e outros componentes do arquivo-fonte</u>, e “processará” cada um deles.\n",
    "\n",
    "A classe ``HTMLParser`` tem suporte para o método ``feed()`` que aceita como entrada o conteúdo de um arquivo-fonte HTML, em formato de string. Portanto, para analisar o arquivo, primeiro precisamos lê-lo para uma string e depois alimentá-lo no analisador:"
   ]
  },
  {
   "cell_type": "code",
   "execution_count": 13,
   "metadata": {},
   "outputs": [
    {
     "name": "stdout",
     "output_type": "stream",
     "text": [
      "Arquivo \"css_background.html\" salvo com sucesso!\n"
     ]
    }
   ],
   "source": [
    "getSource('https://www.w3schools.com/css/css_background.asp', 'css_background.html')"
   ]
  },
  {
   "cell_type": "code",
   "execution_count": 14,
   "metadata": {},
   "outputs": [],
   "source": [
    "from html.parser import HTMLParser\n",
    "# Obtendo o conteúdo html do arquivo a ser feito o parser\n",
    "infile = open('css_background.html')\n",
    "content = infile.read()\n",
    "infile.close()\n",
    "\n",
    "parser = HTMLParser()\n",
    "parser.feed(content)"
   ]
  },
  {
   "cell_type": "markdown",
   "metadata": {},
   "source": [
    "Quando a última linha é executada (isto é, quando o conteúdo da string é alimentado no <var>parser</var>) o analisador <mark>divide o conteúdo de string em **tokens** que correspondem, em HTML, às tags de início, tags de fim, dados de texto e outros componentes HTML</mark>, e depois manipula os tokens na ordem em que eles aparecem no arquivo-fonte. Isso significa que, para cada token, um método manipulador é invocado. Os manipuladores são métodos da classe ``HTMLParser``. Alguns deles são listados na Tabela:\n",
    "\n",
    "<table>\n",
    "    <tr>\n",
    "        <th>Token</th>\n",
    "        <th>Manipulador</th>\n",
    "        <th>Explicação</th>\n",
    "    </tr>\n",
    "    <tr>\n",
    "        <td>&lt;tag atribs&gt;</td>\n",
    "        <td>handle_starttag(tag, attrs)</td>\n",
    "        <td>Manipulador da tag de início</td>\n",
    "    </tr>\n",
    "    <tr>\n",
    "        <td>&lt;/tag atribs&gt;</td>\n",
    "        <td>handle_endtag(tag)</td>\n",
    "        <td>Manipulador da tag de fim</td>\n",
    "    </tr>\n",
    "    <tr>\n",
    "        <td>data</td>\n",
    "        <td>handle_data(dados)</td>\n",
    "        <td>Manipulador de quaisquer dados de texto <mark>entre a tag início e fim</mark></td>\n",
    "    </tr>    \n",
    "</table>\n",
    "\n",
    "\n",
    "### Redefinindo os Manipuladores de HTMLParser \n",
    "Vamos desenvolver um analisador que exibe o valor do URL do atributo ``href`` contido em cada tag de início de âncora do arquivo **HTML** alimentado. Para conseguir esse comportamento, o manipulador ``HTMLParser`` que precisa ser redefinido é o método ``handle_starttag()``. Lembre-se de que esse método trata de cada token de tag de início. Em vez de não fazer nada, queremos agora que ele verifique se a tag de entrada é uma tag de âncora e, se for, ache o atributo ``href`` na lista de atributos e mostre seu valor. Veja a implementação da nossa classe LinkParser:"
   ]
  },
  {
   "cell_type": "code",
   "execution_count": 15,
   "metadata": {},
   "outputs": [],
   "source": [
    "class LinkParser(HTMLParser):\n",
    "    '''analisador de documento HTML que mostra valores dos atributos\n",
    "    href nas tags de início de âncora'''\n",
    "    def handle_starttag(self, tag, attrs):\n",
    "        'mostra o valor do atributo href, se houver'\n",
    "        if tag == 'a':\n",
    "            # procura atributo href e mostra seu valor\n",
    "            for attr in attrs:\n",
    "                if attr[0] == 'href':\n",
    "                    print(attr[1])"
   ]
  },
  {
   "cell_type": "code",
   "execution_count": 16,
   "metadata": {},
   "outputs": [
    {
     "name": "stdout",
     "output_type": "stream",
     "text": [
      "//www.w3schools.com\n",
      "javascript:void(0);\n",
      "javascript:void(0);\n",
      "/default.asp\n",
      "/html/default.asp\n",
      "/css/default.asp\n",
      "/js/default.asp\n",
      "/sql/default.asp\n",
      "/python/default.asp\n",
      "/php/default.asp\n",
      "/bootstrap/bootstrap_ver.asp\n",
      "/howto/default.asp\n",
      "/w3css/default.asp\n",
      "/jquery/default.asp\n",
      "/java/default.asp\n",
      "javascript:void(0);\n",
      "javascript:void(0);\n",
      "javascript:void(0);\n",
      "javascript:void(0);\n",
      "/forum/default.asp\n",
      "/cert/default.asp\n",
      "javascript:void(0);\n",
      "javascript:void(0);\n",
      "/html/default.asp\n",
      "/css/default.asp\n",
      "/bootstrap/bootstrap_ver.asp\n",
      "/w3css/default.asp\n",
      "/colors/default.asp\n",
      "/icons/default.asp\n",
      "/graphics/default.asp\n",
      "/graphics/svg_intro.asp\n",
      "/graphics/canvas_intro.asp\n",
      "/howto/default.asp\n",
      "/sass/default.php\n",
      "/xml/default.asp\n",
      "/xml/ajax_intro.asp\n",
      "/xml/dom_intro.asp\n",
      "/xml/xml_dtd_intro.asp\n",
      "/xml/schema_intro.asp\n",
      "/xml/xsl_intro.asp\n",
      "/xml/xpath_intro.asp\n",
      "/xml/xquery_intro.asp\n",
      "/js/default.asp\n",
      "/jquery/default.asp\n",
      "/react/default.asp\n",
      "/angular/default.asp\n",
      "/js/js_json_intro.asp\n",
      "/js/js_ajax_intro.asp\n",
      "/appml/default.asp\n",
      "/w3js/default.asp\n",
      "/python/default.asp\n",
      "/java/default.asp\n",
      "/cpp/default.asp\n",
      "/cs/default.asp\n",
      "/python/python_ml_getting_started.asp\n",
      "/sql/default.asp\n",
      "/php/default.asp\n",
      "/asp/default.asp\n",
      "/nodejs/default.asp\n",
      "/nodejs/nodejs_raspberrypi.asp\n",
      "/w3css/w3css_templates.asp\n",
      "/browsers/default.asp\n",
      "/cert/default.asp\n",
      "/tryit/default.asp\n",
      "/whatis/default.asp\n",
      "/typingspeed/default.asp\n",
      "/xml/default.asp\n",
      "/xml/ajax_intro.asp\n",
      "/xml/dom_intro.asp\n",
      "/xml/xml_dtd_intro.asp\n",
      "/xml/schema_intro.asp\n",
      "/xml/xsl_intro.asp\n",
      "/xml/xpath_intro.asp\n",
      "/xml/xquery_intro.asp\n",
      "/tags/default.asp\n",
      "/tags/ref_html_browsersupport.asp\n",
      "/tags/ref_eventattributes.asp\n",
      "/colors/default.asp\n",
      "/tags/ref_attributes.asp\n",
      "/tags/ref_canvas.asp\n",
      "/graphics/svg_reference.asp\n",
      "/charsets/default.asp\n",
      "/graphics/google_maps_reference.asp\n",
      "/cssref/default.asp\n",
      "/cssref/css3_browsersupport.asp\n",
      "/cssref/css_selectors.asp\n",
      "/bootstrap/bootstrap_ref_all_classes.asp\n",
      "/bootstrap4/bootstrap_ref_all_classes.asp\n",
      "/w3css/w3css_references.asp\n",
      "/icons/icons_reference.asp\n",
      "/sass/sass_functions_string.php\n",
      "/jsref/default.asp\n",
      "/jsref/default.asp\n",
      "/jquery/jquery_ref_overview.asp\n",
      "/angular/angular_ref_directives.asp\n",
      "/appml/appml_reference.asp\n",
      "/w3js/w3js_references.asp\n",
      "/python/python_reference.asp\n",
      "/java/java_ref_keywords.asp\n",
      "/sql/sql_ref_keywords.asp\n",
      "/php/php_ref_overview.asp\n",
      "/asp/asp_ref_response.asp\n",
      "/xml/dom_nodetype.asp\n",
      "/xml/dom_http.asp\n",
      "/xml/xsl_elementref.asp\n",
      "/xml/schema_elements_ref.asp\n",
      "/charsets/default.asp\n",
      "/charsets/ref_html_ascii.asp\n",
      "/charsets/ref_html_ansi.asp\n",
      "/charsets/ref_html_ansi.asp\n",
      "/charsets/ref_html_8859.asp\n",
      "/charsets/ref_html_symbols.asp\n",
      "/charsets/ref_html_utf8.asp\n",
      "/html/html_exercises.asp\n",
      "/css/css_exercises.asp\n",
      "/js/js_exercises.asp\n",
      "/sql/sql_exercises.asp\n",
      "/php/php_exercises.asp\n",
      "/python/python_exercises.asp\n",
      "/jquery/jquery_exercises.asp\n",
      "/bootstrap/bootstrap_exercises.asp\n",
      "/java/java_exercises.asp\n",
      "/cpp/cpp_exercises.asp\n",
      "/cs/cs_exercises.asp\n",
      "/html/html_quiz.asp\n",
      "/css/css_quiz.asp\n",
      "/js/js_quiz.asp\n",
      "/sql/sql_quiz.asp\n",
      "/php/php_quiz.asp\n",
      "/python/python_quiz.asp\n",
      "/jquery/jquery_quiz.asp\n",
      "/bootstrap/bootstrap_quiz.asp\n",
      "/java/java_quiz.asp\n",
      "/cpp/cpp_quiz.asp\n",
      "/cs/cs_quiz.asp\n",
      "/xml/xml_quiz.asp\n",
      "/cert/default.asp\n",
      "/cert/cert_html_new.asp\n",
      "/cert/cert_css.asp\n",
      "/cert/cert_javascript.asp\n",
      "/cert/cert_sql.asp\n",
      "/cert/cert_php.asp\n",
      "/cert/cert_python.asp\n",
      "/cert/cert_jquery.asp\n",
      "/cert/cert_bootstrap.asp\n",
      "/cert/cert_xml.asp\n",
      "https://mypage.w3schools.com/mypage/index.php\n",
      "https://mypage.w3schools.com/mypage/login.php?logintyp=1\n",
      "https://mypage.w3schools.com/mypage/forgot_password.php\n",
      "default.asp\n",
      "css_intro.asp\n",
      "css_syntax.asp\n",
      "css_selectors.asp\n",
      "css_howto.asp\n",
      "css_comments.asp\n",
      "css_colors.asp\n",
      "css_colors.asp\n",
      "css_colors_rgb.asp\n",
      "css_colors_hex.asp\n",
      "css_colors_hsl.asp\n",
      "css_background.asp\n",
      "css_background.asp\n",
      "css_background_image.asp\n",
      "css_background_repeat.asp\n",
      "css_background_attachment.asp\n",
      "css_background_shorthand.asp\n",
      "css_border.asp\n",
      "css_border.asp\n",
      "css_border_width.asp\n",
      "css_border_color.asp\n",
      "css_border_sides.asp\n",
      "css_border_shorthand.asp\n",
      "css_border_rounded.asp\n",
      "css_margin.asp\n",
      "css_margin.asp\n",
      "css_margin_collapse.asp\n",
      "css_padding.asp\n",
      "css_dimension.asp\n",
      "css_boxmodel.asp\n",
      "css_outline.asp\n",
      "css_outline.asp\n",
      "css_outline_width.asp\n",
      "css_outline_color.asp\n",
      "css_outline_shorthand.asp\n",
      "css_outline_offset.asp\n",
      "css_text.asp\n",
      "css_text.asp\n",
      "css_text_align.asp\n",
      "css_text_decoration.asp\n",
      "css_text_transformation.asp\n",
      "css_text_spacing.asp\n",
      "css_text_shadow.asp\n",
      "css_font.asp\n",
      "css_font.asp\n",
      "css_font_style.asp\n",
      "css_font_size.asp\n",
      "css_font_google.asp\n",
      "css_font_shorthand.asp\n",
      "css_icons.asp\n",
      "css_link.asp\n",
      "css_list.asp\n",
      "css_table.asp\n",
      "css_table.asp\n",
      "css_table_size.asp\n",
      "css_table_align.asp\n",
      "css_table_style.asp\n",
      "css_table_responsive.asp\n",
      "css_display_visibility.asp\n",
      "css_max-width.asp\n",
      "css_positioning.asp\n",
      "css_overflow.asp\n",
      "css_float.asp\n",
      "css_float.asp\n",
      "css_float_clear.asp\n",
      "css_float_examples.asp\n",
      "css_inline-block.asp\n",
      "css_align.asp\n",
      "css_combinators.asp\n",
      "css_pseudo_classes.asp\n",
      "css_pseudo_elements.asp\n",
      "css_image_transparency.asp\n",
      "css_navbar.asp\n",
      "css_navbar.asp\n",
      "css_navbar_vertical.asp\n",
      "css_navbar_horizontal.asp\n",
      "css_dropdowns.asp\n",
      "css_image_gallery.asp\n",
      "css_image_sprites.asp\n",
      "css_attribute_selectors.asp\n",
      "css_form.asp\n",
      "css_counters.asp\n",
      "css_website_layout.asp\n",
      "css_units.asp\n",
      "css_specificity.asp\n",
      "css3_borders.asp\n",
      "css3_border_images.asp\n",
      "css3_backgrounds.asp\n",
      "css3_colors.asp\n",
      "css3_gradients.asp\n",
      "css3_gradients.asp\n",
      "css3_gradients_radial.asp\n",
      "css3_shadows.asp\n",
      "css3_shadows.asp\n",
      "css3_shadows_box.asp\n",
      "css3_text_effects.asp\n",
      "css3_fonts.asp\n",
      "css3_2dtransforms.asp\n",
      "css3_3dtransforms.asp\n",
      "css3_transitions.asp\n",
      "css3_animations.asp\n",
      "css_tooltip.asp\n",
      "css3_images.asp\n",
      "css3_object-fit.asp\n",
      "css3_buttons.asp\n",
      "css3_pagination.asp\n",
      "css3_multiple_columns.asp\n",
      "css3_user_interface.asp\n",
      "css3_variables.asp\n",
      "css3_variables.asp\n",
      "css3_variables_overriding.asp\n",
      "css3_variables_javascript.asp\n",
      "css3_variables_mediaqueries.asp\n",
      "css3_box-sizing.asp\n",
      "css3_mediaqueries.asp\n",
      "css3_mediaqueries_ex.asp\n",
      "css3_flexbox.asp\n",
      "css3_flexbox.asp\n",
      "css3_flexbox_container.asp\n",
      "css3_flexbox_items.asp\n",
      "css3_flexbox_responsive.asp\n",
      "css_rwd_intro.asp\n",
      "css_rwd_viewport.asp\n",
      "css_rwd_grid.asp\n",
      "css_rwd_mediaqueries.asp\n",
      "css_rwd_images.asp\n",
      "css_rwd_videos.asp\n",
      "css_rwd_frameworks.asp\n",
      "css_rwd_templates.asp\n",
      "css_grid.asp\n",
      "css_grid_container.asp\n",
      "css_grid_item.asp\n",
      "css_templates.asp\n",
      "css_examples.asp\n",
      "css_quiz.asp\n",
      "css_exercises.asp\n",
      "css_exam.asp\n",
      "/cssref/default.asp\n",
      "/cssref/css_selectors.asp\n",
      "/cssref/css_functions.asp\n",
      "/cssref/css_ref_aural.asp\n",
      "/cssref/css_websafe_fonts.asp\n",
      "/cssref/css_animatable.asp\n",
      "/cssref/css_units.asp\n",
      "/cssref/css_pxtoemconversion.asp\n",
      "/cssref/css_colors.asp\n",
      "/cssref/css_colors_legal.asp\n",
      "/cssref/css_default_values.asp\n",
      "/cssref/css3_browsersupport.asp\n",
      "css_colors_hsl.asp\n",
      "css_background_image.asp\n",
      "tryit.asp?filename=trycss_background-color_body\n",
      "/cssref/css_colors_legal.asp\n",
      "tryit.asp?filename=trycss_background-color_elements\n",
      "tryit.asp?filename=trycss_background_opacity\n",
      "css_colors.asp\n",
      "css3_colors.asp\n",
      "tryit.asp?filename=trycss_background_opacity2\n",
      "css_colors_hsl.asp\n",
      "css_background_image.asp\n",
      "/colors/colors_picker.asp\n",
      "/colors/colors_picker.asp\n",
      "javascript:void(0);\n",
      "https://shop.w3schools.com/\n",
      "/howto/default.asp\n",
      "/howto/howto_js_tabs.asp\n",
      "/howto/howto_css_dropdown.asp\n",
      "/howto/howto_js_accordion.asp\n",
      "/howto/howto_js_sidenav.asp\n",
      "/howto/howto_js_topnav.asp\n",
      "/howto/howto_css_modals.asp\n",
      "/howto/howto_js_progressbar.asp\n",
      "/howto/howto_css_parallax.asp\n",
      "/howto/howto_css_login_form.asp\n",
      "/howto/howto_html_include.asp\n",
      "/howto/howto_google_maps.asp\n",
      "/howto/howto_js_rangeslider.asp\n",
      "/howto/howto_css_tooltip.asp\n",
      "/howto/howto_js_slideshow.asp\n",
      "/howto/howto_js_filter_lists.asp\n",
      "/howto/howto_js_sort_list.asp\n",
      "/cert/default.asp\n",
      "/cert/cert_html.asp\n",
      "/cert/cert_css.asp\n",
      "/cert/cert_javascript.asp\n",
      "/cert/cert_python.asp\n",
      "/cert/cert_sql.asp\n",
      "/cert/cert_php.asp\n",
      "/cert/default.asp\n",
      "javascript:void(0);\n",
      "/forum/default.asp\n",
      "/about/default.asp\n",
      "https://shop.w3schools.com/\n",
      "/html/default.asp\n",
      "/css/default.asp\n",
      "/js/default.asp\n",
      "/howto/default.asp\n",
      "/sql/default.asp\n",
      "/python/default.asp\n",
      "/w3css/default.asp\n",
      "/bootstrap/bootstrap_ver.asp\n",
      "/php/default.asp\n",
      "/java/default.asp\n",
      "/cpp/default.asp\n",
      "/jquery/default.asp\n",
      "/tags/default.asp\n",
      "/cssref/default.asp\n",
      "/jsref/default.asp\n",
      "/sql/sql_ref_keywords.asp\n",
      "/python/python_reference.asp\n",
      "/w3css/w3css_references.asp\n",
      "/bootstrap/bootstrap_ref_all_classes.asp\n",
      "/php/php_ref_overview.asp\n",
      "/colors/colors_names.asp\n",
      "/java/java_ref_keywords.asp\n",
      "/angular/angular_ref_directives.asp\n",
      "/jquery/jquery_ref_overview.asp\n",
      "/html/html_examples.asp\n",
      "/css/css_examples.asp\n",
      "/js/js_examples.asp\n",
      "/howto/default.asp\n",
      "/sql/sql_examples.asp\n",
      "/python/python_examples.asp\n",
      "/w3css/w3css_examples.asp\n",
      "/bootstrap/bootstrap_examples.asp\n",
      "/php/php_examples.asp\n",
      "/java/java_examples.asp\n",
      "/xml/xml_examples.asp\n",
      "/jquery/jquery_examples.asp\n",
      "/cert/default.asp\n",
      "/cert/default.asp\n",
      "/cert/default.asp\n",
      "/cert/default.asp\n",
      "/cert/default.asp\n",
      "/cert/default.asp\n",
      "/cert/default.asp\n",
      "/cert/default.asp\n",
      "/cert/default.asp\n",
      "//www.w3schools.com/cert/default.asp\n",
      "/about/about_copyright.asp\n",
      "/about/about_privacy.asp\n",
      "/about/about_copyright.asp\n",
      "//www.w3schools.com/w3css/default.asp\n",
      "//www.w3schools.com\n"
     ]
    }
   ],
   "source": [
    "# Obtendo o conteúdo html do arquivo a ser feito o parser\n",
    "infile = open('css_background.html')\n",
    "content = infile.read()\n",
    "infile.close()\n",
    "\n",
    "linkparser = LinkParser()\n",
    "linkparser.feed(content)"
   ]
  },
  {
   "cell_type": "markdown",
   "metadata": {},
   "source": [
    "#### Problema Prático 11.2 \n",
    "Desenvolva a classe ``MyHTMLParser`` como uma subclasse de ``HTMLParser`` que, quando alimentada com um arquivo HTML, mostra os nomes das tags de início e fim na ordem em que aparecem no documento, e com um recuo proporcional à profundidade do elemento na estrutura de árvore do documento. Ignore os elementos HTML que não exigem uma tag de fim, como p e br."
   ]
  },
  {
   "cell_type": "code",
   "execution_count": 17,
   "metadata": {},
   "outputs": [],
   "source": [
    "class MyHTMLParser(HTMLParser):\n",
    "    '''analisador de documento HTML que mostra valores dos atributos\n",
    "    href nas tags de início de âncora'''\n",
    "    tab = ''\n",
    "    def __init__(self, tagsToIgnore = None):\n",
    "        HTMLParser.__init__(self)\n",
    "        self.tags = [] if tagsToIgnore is None else tagsToIgnore\n",
    "    \n",
    "    def handle_starttag(self, tag, attrs):\n",
    "        if tag not in self.tags:\n",
    "            'imprime a tag com tabulação'        \n",
    "            print(MyHTMLParser.tab, tag, '⤵')\n",
    "            MyHTMLParser.tab += '\\t'\n",
    "        \n",
    "    def handle_endtag(self, tag):\n",
    "        if tag not in self.tags:\n",
    "            'imprime a tag retirando a tabulação'\n",
    "            MyHTMLParser.tab = MyHTMLParser.tab[:-2]        \n",
    "            print(MyHTMLParser.tab, tag, '⤴')"
   ]
  },
  {
   "cell_type": "code",
   "execution_count": 18,
   "metadata": {},
   "outputs": [
    {
     "name": "stdout",
     "output_type": "stream",
     "text": [
      "Arquivo \"mac2166.html\" salvo com sucesso!\n"
     ]
    }
   ],
   "source": [
    "getSource('http://www.vision.ime.usp.br/~pmiranda/mac2166_1s17/aulas/P3/aulas_P3.html', 'mac2166.html')"
   ]
  },
  {
   "cell_type": "code",
   "execution_count": 19,
   "metadata": {},
   "outputs": [
    {
     "name": "stdout",
     "output_type": "stream",
     "text": [
      " html ⤵\n",
      "\t head ⤵\n",
      "\t\t body ⤵\n",
      "\t\t\t h1 ⤵\n",
      "\t\t h1 ⤴\n",
      "\t\t h2 ⤵\n",
      "\t h2 ⤴\n",
      "\t b ⤵\n",
      " b ⤴\n",
      " h3 ⤵\n",
      " h3 ⤴\n",
      " b ⤵\n",
      " b ⤴\n",
      " pre ⤵\n",
      " pre ⤴\n",
      " b ⤵\n",
      " b ⤴\n",
      " img ⤵\n",
      "\t pre ⤵\n",
      " pre ⤴\n",
      " h3 ⤵\n",
      " h3 ⤴\n",
      " img ⤵\n",
      "\t pre ⤵\n",
      " pre ⤴\n",
      " img ⤵\n",
      "\t b ⤵\n",
      " b ⤴\n",
      " pre ⤵\n",
      " pre ⤴\n",
      " b ⤵\n",
      " b ⤴\n",
      " pre ⤵\n",
      " pre ⤴\n",
      " img ⤵\n",
      "\t b ⤵\n",
      " b ⤴\n",
      " img ⤵\n",
      "\t h3 ⤵\n",
      " h3 ⤴\n",
      " code ⤵\n",
      " code ⤴\n",
      " code ⤵\n",
      " code ⤴\n",
      " b ⤵\n",
      " b ⤴\n",
      " pre ⤵\n",
      " pre ⤴\n",
      " b ⤵\n",
      " b ⤴\n",
      " pre ⤵\n",
      " pre ⤴\n",
      " b ⤵\n",
      " b ⤴\n",
      " pre ⤵\n",
      " pre ⤴\n",
      " h3 ⤵\n",
      " h3 ⤴\n",
      " b ⤵\n",
      " b ⤴\n",
      " pre ⤵\n",
      " pre ⤴\n",
      " h3 ⤵\n",
      " h3 ⤴\n",
      " code ⤵\n",
      " code ⤴\n",
      " b ⤵\n",
      " b ⤴\n",
      " img ⤵\n",
      "\t img ⤵\n",
      "\t\t img ⤵\n",
      "\t\t\t img ⤵\n",
      "\t\t\t\t img ⤵\n",
      "\t\t\t\t\t img ⤵\n",
      "\t\t\t\t\t\t img ⤵\n",
      "\t\t\t\t\t\t\t img ⤵\n",
      "\t\t\t\t\t\t\t\t img ⤵\n",
      "\t\t\t\t\t\t\t\t\t b ⤵\n",
      "\t\t\t\t\t\t\t\t b ⤴\n",
      "\t\t\t\t\t\t\t\t pre ⤵\n",
      "\t\t\t\t\t\t\t pre ⤴\n",
      "\t\t\t\t\t\t\t sup ⤵\n",
      "\t\t\t\t\t\t sup ⤴\n",
      "\t\t\t\t\t\t hr ⤵\n",
      "\t\t\t\t\t\t\t h2 ⤵\n",
      "\t\t\t\t\t\t h2 ⤴\n",
      "\t\t\t\t\t\t h3 ⤵\n",
      "\t\t\t\t\t h3 ⤴\n",
      "\t\t\t\t\t code ⤵\n",
      "\t\t\t\t code ⤴\n",
      "\t\t\t\t b ⤵\n",
      "\t\t\t b ⤴\n",
      "\t\t\t code ⤵\n",
      "\t\t code ⤴\n",
      "\t\t code ⤵\n",
      "\t code ⤴\n",
      "\t code ⤵\n",
      " code ⤴\n",
      " pre ⤵\n",
      " pre ⤴\n",
      " code ⤵\n",
      " code ⤴\n",
      " code ⤵\n",
      " code ⤴\n",
      " pre ⤵\n",
      " pre ⤴\n",
      " code ⤵\n",
      " code ⤴\n",
      " code ⤵\n",
      " code ⤴\n",
      " code ⤵\n",
      " code ⤴\n",
      " code ⤵\n",
      " code ⤴\n",
      " pre ⤵\n",
      " pre ⤴\n",
      " code ⤵\n",
      " code ⤴\n",
      " code ⤵\n",
      " code ⤴\n",
      " code ⤵\n",
      " code ⤴\n",
      " code ⤵\n",
      " code ⤴\n",
      " code ⤵\n",
      " code ⤴\n",
      " code ⤵\n",
      " code ⤴\n",
      " code ⤵\n",
      " code ⤴\n",
      " code ⤵\n",
      " code ⤴\n",
      " code ⤵\n",
      " code ⤴\n",
      " b ⤵\n",
      " b ⤴\n",
      " b ⤵\n",
      " b ⤴\n",
      " code ⤵\n",
      " code ⤴\n",
      " code ⤵\n",
      " code ⤴\n",
      " code ⤵\n",
      " code ⤴\n",
      " code ⤵\n",
      " code ⤴\n",
      " pre ⤵\n",
      " pre ⤴\n",
      " b ⤵\n",
      " b ⤴\n",
      " pre ⤵\n",
      " pre ⤴\n",
      " b ⤵\n",
      " b ⤴\n",
      " pre ⤵\n",
      " pre ⤴\n",
      " hr ⤵\n",
      "\t h2 ⤵\n",
      " h2 ⤴\n",
      " h3 ⤵\n",
      " h3 ⤴\n",
      " code ⤵\n",
      " code ⤴\n",
      " code ⤵\n",
      " code ⤴\n",
      " code ⤵\n",
      " code ⤴\n",
      " code ⤵\n",
      " code ⤴\n",
      " b ⤵\n",
      " b ⤴\n",
      " pre ⤵\n",
      " pre ⤴\n",
      " b ⤵\n",
      " b ⤴\n",
      " code ⤵\n",
      " code ⤴\n",
      " pre ⤵\n",
      " pre ⤴\n",
      " b ⤵\n",
      " b ⤴\n",
      " pre ⤵\n",
      " pre ⤴\n",
      " b ⤵\n",
      " b ⤴\n",
      " pre ⤵\n",
      " pre ⤴\n",
      " h3 ⤵\n",
      " h3 ⤴\n",
      " code ⤵\n",
      " code ⤴\n",
      " code ⤵\n",
      " code ⤴\n",
      " code ⤵\n",
      " code ⤴\n",
      " b ⤵\n",
      " b ⤴\n",
      " b ⤵\n",
      " b ⤴\n",
      " pre ⤵\n",
      " pre ⤴\n",
      " pre ⤵\n",
      " pre ⤴\n",
      " hr ⤵\n",
      "\t h2 ⤵\n",
      " h2 ⤴\n",
      " h3 ⤵\n",
      " h3 ⤴\n",
      " pre ⤵\n",
      " pre ⤴\n",
      " code ⤵\n",
      " code ⤴\n",
      " code ⤵\n",
      " code ⤴\n",
      " img ⤵\n",
      "\t code ⤵\n",
      " code ⤴\n",
      " code ⤵\n",
      " code ⤴\n",
      " code ⤵\n",
      " code ⤴\n",
      " code ⤵\n",
      " code ⤴\n",
      " pre ⤵\n",
      " pre ⤴\n",
      " code ⤵\n",
      " code ⤴\n",
      " pre ⤵\n",
      " pre ⤴\n",
      " code ⤵\n",
      " code ⤴\n",
      " code ⤵\n",
      " code ⤴\n",
      " code ⤵\n",
      " code ⤴\n",
      " img ⤵\n",
      "\t img ⤵\n",
      "\t\t img ⤵\n",
      "\t\t\t h3 ⤵\n",
      "\t\t h3 ⤴\n",
      "\t\t code ⤵\n",
      "\t code ⤴\n",
      "\t code ⤵\n",
      " code ⤴\n",
      " code ⤵\n",
      " code ⤴\n",
      " pre ⤵\n",
      " pre ⤴\n",
      " pre ⤵\n",
      " pre ⤴\n",
      " pre ⤵\n",
      " pre ⤴\n",
      " b ⤵\n",
      " b ⤴\n",
      " pre ⤵\n",
      " pre ⤴\n",
      " h3 ⤵\n",
      " h3 ⤴\n",
      " a ⤵\n",
      " a ⤴\n",
      " pre ⤵\n",
      " pre ⤴\n",
      " b ⤵\n",
      " b ⤴\n",
      " a ⤵\n",
      " a ⤴\n",
      " b ⤵\n",
      " b ⤴\n",
      " img ⤵\n",
      "\t h3 ⤵\n",
      " h3 ⤴\n",
      " img ⤵\n",
      "\t hr ⤵\n",
      "\t\t h2 ⤵\n",
      "\t h2 ⤴\n",
      "\t code ⤵\n",
      " code ⤴\n",
      " code ⤵\n",
      " code ⤴\n",
      " code ⤵\n",
      " code ⤴\n",
      " pre ⤵\n",
      " pre ⤴\n",
      " a ⤵\n",
      " a ⤴\n",
      " pre ⤵\n",
      " pre ⤴\n",
      " h3 ⤵\n",
      " h3 ⤴\n",
      " code ⤵\n",
      " code ⤴\n",
      " code ⤵\n",
      " code ⤴\n",
      " b ⤵\n",
      " b ⤴\n",
      " code ⤵\n",
      " code ⤴\n",
      " b ⤵\n",
      "\t code ⤵\n",
      " code ⤴\n",
      " b ⤴\n",
      " code ⤵\n",
      " code ⤴\n",
      " code ⤵\n",
      " code ⤴\n",
      " pre ⤵\n",
      " pre ⤴\n",
      " pre ⤵\n",
      " pre ⤴\n",
      " img ⤵\n",
      "\t b ⤵\n",
      " b ⤴\n",
      " a ⤵\n",
      " a ⤴\n",
      " h3 ⤵\n",
      " h3 ⤴\n",
      " img ⤵\n",
      "\t b ⤵\n",
      " b ⤴\n",
      " code ⤵\n",
      " code ⤴\n",
      " code ⤵\n",
      " code ⤴\n",
      " code ⤵\n",
      " code ⤴\n",
      " code ⤵\n",
      " code ⤴\n",
      " code ⤵\n",
      " code ⤴\n",
      " code ⤵\n",
      " code ⤴\n",
      " img ⤵\n",
      "\t pre ⤵\n",
      " pre ⤴\n",
      " code ⤵\n",
      " code ⤴\n",
      " code ⤵\n",
      " code ⤴\n",
      " code ⤵\n",
      " code ⤴\n",
      " pre ⤵\n",
      " pre ⤴\n",
      " img ⤵\n",
      " body ⤴\n",
      " html ⤴\n"
     ]
    }
   ],
   "source": [
    "infile = open('mac2166.html')\n",
    "content = infile.read()\n",
    "infile.close()\n",
    "myparser = MyHTMLParser(['meta', 'script', 'link', 'p', 'style', 'symbol', 'path', 'br'])\n",
    "myparser.feed(content)"
   ]
  },
  {
   "cell_type": "markdown",
   "metadata": {},
   "source": [
    "<hr>\n",
    "\n",
    "### Módulo urllib.parse \n",
    "O analisador ``LinkParser`` que acabamos de desenvolver exibe o valor do URL de cada atributo href de âncora. Por exemplo, quando executamos o código a seguir na página Web da missão do W3C, obtemos uma saída que inclui URLs HTTP relativas, como <mark>/Consortium/contact.html</mark>"
   ]
  },
  {
   "cell_type": "code",
   "execution_count": 20,
   "metadata": {},
   "outputs": [
    {
     "name": "stdout",
     "output_type": "stream",
     "text": [
      "/\n",
      "/standards/\n",
      "/participate/\n",
      "/Consortium/membership\n",
      "/Consortium/\n",
      "/Consortium/\n",
      "/Consortium/facts.html\n",
      "/Consortium/presskit.html\n",
      "/Consortium/sponsor/\n",
      "/Consortium/Recruitment/\n",
      "/Consortium/contact.html\n",
      "/Help/\n",
      "#w3c_content_body\n",
      "/\n",
      "/Consortium/\n",
      "#openstand\n",
      "#principles\n",
      "#vision\n",
      "http://open-stand.org/principles/\n",
      "http://open-stand.org/\n",
      "/WAI/\n",
      "/International/\n",
      "/standards/webofdevices/\n",
      "/Mobile/\n",
      "/standards/agents/Overview.html\n",
      "/standards/webdesign/\n",
      "/standards/webarch/\n",
      "/standards/xml/\n",
      "/standards/semanticweb/\n",
      "/standards/webofservices/\n",
      "/standards/semanticweb/\n",
      "/standards/xml/security\n",
      "/standards/webofservices/security\n",
      "/standards/webdesign/privacy\n",
      "/\n",
      "/standards/\n",
      "/participate/\n",
      "/Consortium/membership\n",
      "/Consortium/\n",
      "/Consortium/contact\n",
      "/Help/\n",
      "/Consortium/sup\n",
      "/Consortium/siteindex\n",
      "http://lists.w3.org/Archives/Public/site-comments/\n",
      "http://twitter.com/W3C\n",
      "http://www.csail.mit.edu/\n",
      "http://www.ercim.org/\n",
      "http://www.keio.ac.jp/\n",
      "http://ev.buaa.edu.cn/\n",
      "/Consortium/Legal/ipr-notice\n"
     ]
    }
   ],
   "source": [
    "rsrce = urlopen('http://www.w3.org/Consortium/mission.html')\n",
    "content = rsrce.read().decode()\n",
    "linkparser = LinkParser()\n",
    "linkparser.feed(content)"
   ]
  },
  {
   "cell_type": "markdown",
   "metadata": {},
   "source": [
    "E se só estivermos interessados em coletar os URLs que correspondem a hyperlinks HTTP (ou seja, URLs cujo esquema seja o protocolo HTTP)? Observe que não podemos simplesmente dizer “colete os URLs que começam com a string http”, pois assim não conseguiríamos obter os URLs relativos, como <var>/Consortium/contact.html</var>. O que precisamos é de uma forma de construir um URL absoluto a partir de um URL relativo (como <var>/Consortium/contact.html</var>) e o URL da página Web que o contém (http://www.w3.org/Consortium/mission.html). O módulo urllib.parse da Biblioteca Padrão Python oferece alguns métodos que operam sobre URLs, incluindo um que faz exatamente o que queremos, o método ``urljoin()``. Veja um exemplo de uso:"
   ]
  },
  {
   "cell_type": "code",
   "execution_count": 21,
   "metadata": {},
   "outputs": [
    {
     "data": {
      "text/plain": [
       "'http://www.w3.org/Consortium/contact.html'"
      ]
     },
     "execution_count": 21,
     "metadata": {},
     "output_type": "execute_result"
    }
   ],
   "source": [
    "from urllib.parse import urljoin\n",
    "url = 'http://www.w3.org/Consortium/mission.html'\n",
    "relative = '/Consortium/contact.html'\n",
    "urljoin(url, relative)"
   ]
  },
  {
   "cell_type": "markdown",
   "metadata": {},
   "source": [
    "#### Analisador que Coleta Hyperlinks HTTP \n",
    "Agora, desenvolvemos outra versão da classe ``LinkParser``, que chamamos de ``Collector``. Ela coleta apenas URLs HTTP e, em vez de mostrá-los, os coloca em uma lista. Os URLs na lista estarão em seu formato absoluto, em vez de relativo. Por fim, a classe ``Collector`` também deverá ter suporte para o método ``getLinks()`` que retorna essa lista. Aqui está um exemplo de uso que esperamos de um analisador ``Collector``:"
   ]
  },
  {
   "cell_type": "code",
   "execution_count": 22,
   "metadata": {},
   "outputs": [],
   "source": [
    "from urllib.parse import urljoin\n",
    "from html.parser import HTMLParser\n",
    "class Collector(HTMLParser):\n",
    "    'Coleta as URLs de hyperlink e retorna uma lista'\n",
    "    def __init__(self, url):\n",
    "        HTMLParser.__init__(self)\n",
    "        self.url = url\n",
    "        self.links = []\n",
    "        \n",
    "    def handle_starttag(self, tag, attrs):\n",
    "        if tag == 'a':\n",
    "            for attr in attrs:\n",
    "                if attr[0] == 'href':\n",
    "                    # compõe o caminho absoluto\n",
    "                    absolute = urljoin(self.url, attr[1])\n",
    "                    if absolute[:4] == 'http':\n",
    "                        # coleta a URL\n",
    "                        self.links.append(absolute)\n",
    "                        \n",
    "    def getLinks(self):\n",
    "        'retorna a lista de hyperlinks'\n",
    "        return self.links"
   ]
  },
  {
   "cell_type": "code",
   "execution_count": 53,
   "metadata": {},
   "outputs": [
    {
     "name": "stdout",
     "output_type": "stream",
     "text": [
      "http://www.w3.org/\n",
      "http://www.w3.org/standards/\n",
      "http://www.w3.org/participate/\n",
      "http://www.w3.org/Consortium/membership\n",
      "http://www.w3.org/Consortium/\n",
      "http://www.w3.org/Consortium/\n",
      "http://www.w3.org/Consortium/facts.html\n",
      "http://www.w3.org/Consortium/presskit.html\n",
      "http://www.w3.org/Consortium/sponsor/\n",
      "http://www.w3.org/Consortium/Recruitment/\n",
      "http://www.w3.org/Consortium/contact.html\n",
      "http://www.w3.org/Help/\n",
      "http://www.w3.org/Consortium/mission.html#w3c_content_body\n",
      "http://www.w3.org/\n",
      "http://www.w3.org/Consortium/\n",
      "http://www.w3.org/Consortium/mission.html#openstand\n",
      "http://www.w3.org/Consortium/mission.html#principles\n",
      "http://www.w3.org/Consortium/mission.html#vision\n",
      "http://open-stand.org/principles/\n",
      "http://open-stand.org/\n",
      "http://www.w3.org/WAI/\n",
      "http://www.w3.org/International/\n",
      "http://www.w3.org/standards/webofdevices/\n",
      "http://www.w3.org/Mobile/\n",
      "http://www.w3.org/standards/agents/Overview.html\n",
      "http://www.w3.org/standards/webdesign/\n",
      "http://www.w3.org/standards/webarch/\n",
      "http://www.w3.org/standards/xml/\n",
      "http://www.w3.org/standards/semanticweb/\n",
      "http://www.w3.org/standards/webofservices/\n",
      "http://www.w3.org/standards/semanticweb/\n",
      "http://www.w3.org/standards/xml/security\n",
      "http://www.w3.org/standards/webofservices/security\n",
      "http://www.w3.org/standards/webdesign/privacy\n",
      "http://www.w3.org/\n",
      "http://www.w3.org/standards/\n",
      "http://www.w3.org/participate/\n",
      "http://www.w3.org/Consortium/membership\n",
      "http://www.w3.org/Consortium/\n",
      "http://www.w3.org/Consortium/contact\n",
      "http://www.w3.org/Help/\n",
      "http://www.w3.org/Consortium/sup\n",
      "http://www.w3.org/Consortium/siteindex\n",
      "http://lists.w3.org/Archives/Public/site-comments/\n",
      "http://twitter.com/W3C\n",
      "http://www.csail.mit.edu/\n",
      "http://www.ercim.org/\n",
      "http://www.keio.ac.jp/\n",
      "http://ev.buaa.edu.cn/\n",
      "http://www.w3.org/Consortium/Legal/ipr-notice\n"
     ]
    }
   ],
   "source": [
    "url = 'http://www.w3.org/Consortium/mission.html'\n",
    "resource = urlopen(url)\n",
    "content = resource.read().decode()\n",
    "collector = Collector(url)\n",
    "collector.feed(content)\n",
    "for link in collector.getLinks():\n",
    "    print(link)"
   ]
  },
  {
   "cell_type": "markdown",
   "metadata": {},
   "source": [
    "#### Problema Prático 11.3\n",
    "Aumente a classe ``Collector`` de modo que ela também colete todos os dados de texto em uma string que pode ser recuperada usando o método ``getData()``"
   ]
  },
  {
   "cell_type": "code",
   "execution_count": 23,
   "metadata": {},
   "outputs": [],
   "source": [
    "from urllib.parse import urljoin\n",
    "from html.parser import HTMLParser\n",
    "class Collector(HTMLParser):\n",
    "    'Coleta as URLs de hyperlink e dados textuais em listas'\n",
    "    def __init__(self, url):\n",
    "        HTMLParser.__init__(self)\n",
    "        self.url = url\n",
    "        self.links = []\n",
    "        self.data = []\n",
    "        \n",
    "    def handle_starttag(self, tag, attrs):\n",
    "        if tag == 'a':\n",
    "            for attr in attrs:\n",
    "                if attr[0] == 'href':\n",
    "                    # compõe o caminho absoluto\n",
    "                    absolute = urljoin(self.url, attr[1])\n",
    "                    if absolute[:4] == 'http':\n",
    "                        # coleta a URL\n",
    "                        self.links.append(absolute)\n",
    "                        \n",
    "    def handle_data(self, data):\n",
    "        'coleta o texto tratado (removendo quebra de linha e espaços exedentes)'\n",
    "        # remove quebra de linha e espaços antes e depois do texto\n",
    "        string = str(data).replace('\\n','').strip()\n",
    "        # remove espaços excedentes entre as palavras\n",
    "        string = \" \".join(string.split())\n",
    "        if len(string) > 10:\n",
    "            self.data.append(string)\n",
    "                            \n",
    "    def getLinks(self):\n",
    "        'retorna a lista de hyperlinks'\n",
    "        return self.links\n",
    "    \n",
    "    def getData(self):\n",
    "        'retorna os dados coletados'\n",
    "        return self.data"
   ]
  },
  {
   "cell_type": "code",
   "execution_count": 24,
   "metadata": {},
   "outputs": [],
   "source": [
    "url = 'http://www.w3.org/Consortium/mission.html'\n",
    "resource = urlopen(url)\n",
    "content = resource.read().decode()\n",
    "collector = Collector(url)\n",
    "collector.feed(content)\n",
    "texts = collector.getData()"
   ]
  },
  {
   "cell_type": "code",
   "execution_count": 25,
   "metadata": {},
   "outputs": [
    {
     "data": {
      "text/plain": [
       "52"
      ]
     },
     "execution_count": 25,
     "metadata": {},
     "output_type": "execute_result"
    }
   ],
   "source": [
    "len(texts)"
   ]
  },
  {
   "cell_type": "markdown",
   "metadata": {},
   "source": [
    "<hr>\n",
    "\n",
    "### Expressões Regulares\n",
    "\n",
    "Como podemos reconhecer <b>endereços de e-mail</b> em um documento de texto? Normalmente, não achamos isso difícil. Entendemos que um endereço de e-mail segue um padrão de string: Um endereço de e-mail consiste em uma ID de usuário — ou seja, uma sequência de caracteres “permitidos” — seguida por um símbolo de @ seguido por um nome de host — ou seja, uma sequência separada por pontos com caracteres permitidos. Embora essa descrição informal do padrão de string de um endereço de e-mail possa funcionar para nós, ela não é precisa o suficiente para ser usada em um programa. Os cientistas da computação desenvolveram um modo mais formal para descrever um padrão de string: uma expressão regular, ou seja, uma string que consiste em caracteres e operadores de expressão regular. Agora, vamos aprender alguns desses operadores e como eles nos permitem definir com precisão o padrão de string desejado. A expressão regular mais simples é uma que não usa quaisquer operadores de <b>expressão regular</b>.\n",
    "\n",
    "### Operadores de expressão regular:\n",
    "<table>\n",
    "    <tr>\n",
    "        <th>Operador</th>\n",
    "        <th>Descrição</th>\n",
    "    </tr>\n",
    "    <tr>\n",
    "        <td><big>.</big></td>\n",
    "        <td>(o ponto) tem o papel de um caractere curinga: ele combina com qualquer caractere (Unicode) \n",
    "            exceto o caractere de nova linha ('\\n').</td>\n",
    "    </tr>\n",
    "    <tr>\n",
    "        <td><big>*</big></td>\n",
    "        <td>(o asterisco) combina com 0 ou mais repetições do caractere anterior</td>\n",
    "    </tr>\n",
    "    <tr>\n",
    "        <td><big>+</big></td>\n",
    "        <td>(o operador soma) combina com 1 ou mais repetições do caractere anterior</td>\n",
    "    </tr>\n",
    "    <tr>\n",
    "        <td><big>?</big></td>\n",
    "        <td>(a interrogação) combina com 0 ou 1 repetição do caractere anterior</td>\n",
    "    </tr>\n",
    "    <tr>\n",
    "        <td><big>[]</big></td>\n",
    "        <td>combina com qualquer caractere no conjunto de caracteres listados dentro dos \n",
    "            colchetes; um intervalo de caracteres pode ser especificado usando o primeiro \n",
    "            e último caracteres no intervalo e colocando '-' entre eles.</td>\n",
    "    </tr>\n",
    "    <tr>\n",
    "        <td><big>^</big></td>\n",
    "        <td>(o circunféxo) se <b>S</b> é um conjunto ou intervalo de caracteres, \n",
    "            então <var>[^S]</var> combina com qualquer caractere não em S</td>\n",
    "    </tr>\n",
    "    <tr>\n",
    "        <td></big>|<big></td>\n",
    "        <td>(o <em>pipe</em>) Se A e B são expressões regulares, A|B corresponde a qualquer \n",
    "            string que combine com A ou B.</td>\n",
    "    </tr>\n",
    "    <tr>\n",
    "        <td><big>\\</big></td>\n",
    "        <td>(o <em>escape</em>) identificador de sequência de escape para especificar, por exemplo o asterisco \\*, \n",
    "        a contrabarra <mark>\\</mark> também pode sinalizar uma sequência especial de expressão regular:</td>\n",
    "    </tr>\n",
    "    <tr>\n",
    "        <td><big>\\d</big></td>\n",
    "        <td>Combina com qualquer dígito decimal; equivalente a [0-9]</td>\n",
    "    </tr>  \n",
    "    <tr>\n",
    "        <td><big>\\D</big></td>\n",
    "        <td>Combina com qualquer caractere não de dígito; equivalente a [^0-9]</td>\n",
    "    </tr>\n",
    "    <tr>\n",
    "        <td><big>\\s</big></td>\n",
    "        <td>Combina com qualquer caractere de espaço em branco, incluindo o próprio espaço em branco,\n",
    "            o caractere de tabulação \\t, o caractere de nova linha \\n e o carriage return, \\r</td>\n",
    "    </tr> \n",
    "    <tr>\n",
    "        <td><big>\\S</big></td>\n",
    "        <td>Combina com qualquer caractere não de espaço em branco</td>\n",
    "    </tr>\n",
    "    <tr>\n",
    "        <td><big>\\w</big></td>\n",
    "        <td>Combina com qualquer caractere alfanumérico; isso é equivalente a [a-zA-Z0-9_]</td>\n",
    "    </tr>\n",
    "    <tr>\n",
    "        <td><big>\\W</big></td>\n",
    "        <td>Combina com qualquer caractere não alfanumérico; isso é equivalente a [^a-zA-Z0-9_]</td>\n",
    "    </tr>    \n",
    "</table>\n",
    "\n",
    "### Módulo re da Biblioteca Padrão Python \n",
    "\n",
    "O módulo re na Biblioteca Padrão é a ferramenta do Python para o processamento de expressão regular. Um dos métodos definidos no módulo é o método ``findall()``, que aceita duas entradas, uma expressão regular e uma string, e retorna uma lista de todas as substrings da string de entrada à qual a expressão regular corresponde."
   ]
  },
  {
   "cell_type": "code",
   "execution_count": 26,
   "metadata": {},
   "outputs": [
    {
     "data": {
      "text/plain": [
       "['best']"
      ]
     },
     "execution_count": 26,
     "metadata": {},
     "output_type": "execute_result"
    }
   ],
   "source": [
    "from re import findall\n",
    "findall('best', 'beetbtbelt?bet, best')"
   ]
  },
  {
   "cell_type": "code",
   "execution_count": 27,
   "metadata": {},
   "outputs": [
    {
     "data": {
      "text/plain": [
       "['beet', 'belt', 'best']"
      ]
     },
     "execution_count": 27,
     "metadata": {},
     "output_type": "execute_result"
    }
   ],
   "source": [
    "findall('be.t', 'beetbtbelt?bet, best')"
   ]
  },
  {
   "cell_type": "code",
   "execution_count": 28,
   "metadata": {},
   "outputs": [
    {
     "data": {
      "text/plain": [
       "['bt', 'bet']"
      ]
     },
     "execution_count": 28,
     "metadata": {},
     "output_type": "execute_result"
    }
   ],
   "source": [
    "findall('be?t', 'beetbtbelt?bet, best')"
   ]
  },
  {
   "cell_type": "code",
   "execution_count": 29,
   "metadata": {},
   "outputs": [
    {
     "data": {
      "text/plain": [
       "['beet', 'bt', 'bet']"
      ]
     },
     "execution_count": 29,
     "metadata": {},
     "output_type": "execute_result"
    }
   ],
   "source": [
    "findall('be*t', 'beetbtbelt?bet, best')"
   ]
  },
  {
   "cell_type": "code",
   "execution_count": 30,
   "metadata": {},
   "outputs": [
    {
     "data": {
      "text/plain": [
       "['beet', 'bet']"
      ]
     },
     "execution_count": 30,
     "metadata": {},
     "output_type": "execute_result"
    }
   ],
   "source": [
    "findall('be+t', 'beetbtbelt?bet, best')"
   ]
  },
  {
   "cell_type": "code",
   "execution_count": 31,
   "metadata": {},
   "outputs": [
    {
     "data": {
      "text/plain": [
       "['eeee', 'e']"
      ]
     },
     "execution_count": 31,
     "metadata": {},
     "output_type": "execute_result"
    }
   ],
   "source": [
    "# Se a expressão regular combinar com duas substrings como aquela que está contida na outra,\n",
    "# a função findall() combinará com a única substring mais longa:\n",
    "findall('e+', 'beeeetbet bt')"
   ]
  },
  {
   "cell_type": "code",
   "execution_count": 32,
   "metadata": {},
   "outputs": [
    {
     "data": {
      "text/plain": [
       "['ee', 'el', '?', 'e', ', ', 'es']"
      ]
     },
     "execution_count": 32,
     "metadata": {},
     "output_type": "execute_result"
    }
   ],
   "source": [
    "# a lista retornada não contém substrings 'ee' e 'eee'. Se a expressão regular combina com duas \n",
    "# substrings sobrepostas, a função findall() retorna a da esquerda. A função findall() de fato \n",
    "# varre a string de entrada da esquerda para a direita e coleta as correspondências em uma lista na ordem encontrada\n",
    "findall('[^bt]+', 'beetbtbelt?bet, best')"
   ]
  },
  {
   "cell_type": "code",
   "execution_count": 33,
   "metadata": {},
   "outputs": [
    {
     "data": {
      "text/plain": [
       "['b', 'tbtb', 't', 'b', 't', 'b', 't']"
      ]
     },
     "execution_count": 33,
     "metadata": {},
     "output_type": "execute_result"
    }
   ],
   "source": [
    "findall('[bt]+', 'beetbtbelt?bet, best')"
   ]
  },
  {
   "cell_type": "code",
   "execution_count": 34,
   "metadata": {},
   "outputs": [
    {
     "data": {
      "text/plain": [
       "['b',\n",
       " '',\n",
       " '',\n",
       " 'tbtb',\n",
       " '',\n",
       " '',\n",
       " 't',\n",
       " '',\n",
       " 'b',\n",
       " '',\n",
       " 't',\n",
       " '',\n",
       " '',\n",
       " 'b',\n",
       " '',\n",
       " '',\n",
       " 't',\n",
       " '']"
      ]
     },
     "execution_count": 34,
     "metadata": {},
     "output_type": "execute_result"
    }
   ],
   "source": [
    "# Como a expressão regular [bt]* combina com a string vazia '', a função findall() procura as substrings \n",
    "# vazias na string de entrada 'beetbtbelt?bet, best', que não estão contidas em uma substring correspondente \n",
    "# maior. Ela encontra muitas strings vazias, uma antes de cada caractere que não seja b ou t. Isso inclui a \n",
    "# substring vazia entre o primeiro b e o primeiro e, a substring vazia entre o primeiro e segundo e, e assim por diante:\n",
    "findall('[bt]*', 'beetbtbelt?bet, best')"
   ]
  },
  {
   "cell_type": "markdown",
   "metadata": {},
   "source": [
    "#### Problema Prático 11.4\n",
    "Cada um dos casos listados oferece uma expressão regular e um conjunto de strings. Selecione as strings que combinam com a expressão regular. Expressão Regular Strings \n",
    "- (a) \\[Hh\\]ello       ello, Hello, hello \n",
    "- (b) re-?sign         re-sign, resign, re-?sign \n",
    "- (c) \\[a-z\\]*         aaa, Hello, F16, IBM, best \n",
    "- (d) \\[^a-z\\]*        aaa, Hello, F16, IBM, best \n",
    "- (e) \\<.*\\>             \\<\\h1\\>, 2 \\< 3, \\<\\<\\>\\>\\>\\>, \\>\\<"
   ]
  },
  {
   "cell_type": "code",
   "execution_count": 35,
   "metadata": {},
   "outputs": [
    {
     "data": {
      "text/plain": [
       "['Hello', 'hello']"
      ]
     },
     "execution_count": 35,
     "metadata": {},
     "output_type": "execute_result"
    }
   ],
   "source": [
    "findall('[Hh]ello', 'ello, Hello, hello')"
   ]
  },
  {
   "cell_type": "code",
   "execution_count": 36,
   "metadata": {},
   "outputs": [
    {
     "data": {
      "text/plain": [
       "['resign']"
      ]
     },
     "execution_count": 36,
     "metadata": {},
     "output_type": "execute_result"
    }
   ],
   "source": [
    "findall('re-?sign', 'e-sign, resign, re-?sign')"
   ]
  },
  {
   "cell_type": "code",
   "execution_count": 37,
   "metadata": {},
   "outputs": [
    {
     "data": {
      "text/plain": [
       "['aaa',\n",
       " '',\n",
       " '',\n",
       " '',\n",
       " 'ello',\n",
       " '',\n",
       " '',\n",
       " '',\n",
       " '',\n",
       " '',\n",
       " '',\n",
       " '',\n",
       " '',\n",
       " '',\n",
       " '',\n",
       " '',\n",
       " '',\n",
       " 'best',\n",
       " '']"
      ]
     },
     "execution_count": 37,
     "metadata": {},
     "output_type": "execute_result"
    }
   ],
   "source": [
    "findall('[a-z]*', 'aaa, Hello, F16, IBM, best')"
   ]
  },
  {
   "cell_type": "code",
   "execution_count": 38,
   "metadata": {},
   "outputs": [
    {
     "data": {
      "text/plain": [
       "['', '', '', ', H', '', '', '', '', ', F16, IBM, ', '', '', '', '', '']"
      ]
     },
     "execution_count": 38,
     "metadata": {},
     "output_type": "execute_result"
    }
   ],
   "source": [
    "findall('[^a-z]*', 'aaa, Hello, F16, IBM, best')"
   ]
  },
  {
   "cell_type": "code",
   "execution_count": 39,
   "metadata": {},
   "outputs": [
    {
     "data": {
      "text/plain": [
       "['<h1>, 2 < 3, <<>>>>, >']"
      ]
     },
     "execution_count": 39,
     "metadata": {},
     "output_type": "execute_result"
    }
   ],
   "source": [
    "findall('<.*>', '<h1>, 2 < 3, <<>>>>, ><')"
   ]
  },
  {
   "cell_type": "code",
   "execution_count": 40,
   "metadata": {},
   "outputs": [
    {
     "data": {
      "text/plain": [
       "['<h1>', '<h3>']"
      ]
     },
     "execution_count": 40,
     "metadata": {},
     "output_type": "execute_result"
    }
   ],
   "source": [
    "# Para obter apenas os títulos (h1 a h6)\n",
    "findall('<h[1-6]>', '<h1>, 2 < 3, <<>>>>, ><, <<h3>>,')"
   ]
  },
  {
   "cell_type": "markdown",
   "metadata": {},
   "source": [
    "#### Problema Prático 11.5\n",
    "Para cada uma das descrições de padrão informais listadas ou conjuntos de strings, defina uma expressão regular que se ajuste à descrição de padrão ou combine com todas as strings no conjunto e nenhuma outra.\n",
    "- (a) aac, abc, acc.\n",
    "- (b) abc, xyz.\n",
    "- (c) a, ab, abb, abbb, abbbb,…\n",
    "- (d) Strings não vazias consistindo em letras minúsculas no alfabeto (a, b, c,…, z).\n",
    "- (e) Strings contendo a substring oe.\n",
    "- (f) String representando uma tag HTML de início ou fim."
   ]
  },
  {
   "cell_type": "code",
   "execution_count": 41,
   "metadata": {},
   "outputs": [
    {
     "data": {
      "text/plain": [
       "['aac', 'abc', 'acc']"
      ]
     },
     "execution_count": 41,
     "metadata": {},
     "output_type": "execute_result"
    }
   ],
   "source": [
    "findall('a[abc]c','aac, abc, acc')"
   ]
  },
  {
   "cell_type": "code",
   "execution_count": 42,
   "metadata": {},
   "outputs": [
    {
     "data": {
      "text/plain": [
       "['abc', 'xyz']"
      ]
     },
     "execution_count": 42,
     "metadata": {},
     "output_type": "execute_result"
    }
   ],
   "source": [
    "findall('abc|xyz','abc, xyz, aac, acc')"
   ]
  },
  {
   "cell_type": "code",
   "execution_count": 43,
   "metadata": {},
   "outputs": [
    {
     "data": {
      "text/plain": [
       "['a', 'a', 'a', 'ab', 'abb', 'abbb', 'abbbb']"
      ]
     },
     "execution_count": 43,
     "metadata": {},
     "output_type": "execute_result"
    }
   ],
   "source": [
    "findall('ab*','xyz, acb, ac7a, ab, abb, abbb, abbbb')"
   ]
  },
  {
   "cell_type": "code",
   "execution_count": 44,
   "metadata": {},
   "outputs": [
    {
     "data": {
      "text/plain": [
       "['expressão',\n",
       " 'regular',\n",
       " 'para',\n",
       " 'encontrar',\n",
       " 'as',\n",
       " 'palavras',\n",
       " 'mais',\n",
       " 'limpa']"
      ]
     },
     "execution_count": 44,
     "metadata": {},
     "output_type": "execute_result"
    }
   ],
   "source": [
    "findall('[a-zã]+','expressão regular para encontrar as palavras (é mais limpa')"
   ]
  },
  {
   "cell_type": "code",
   "execution_count": 45,
   "metadata": {},
   "outputs": [
    {
     "data": {
      "text/plain": [
       "[]"
      ]
     },
     "execution_count": 45,
     "metadata": {},
     "output_type": "execute_result"
    }
   ],
   "source": [
    "findall('[a-zA-Z]*oe[a-zA-Z]','consideramos este problema e aqui usa uma expressão regular para combinar as palavras')"
   ]
  },
  {
   "cell_type": "code",
   "execution_count": 46,
   "metadata": {},
   "outputs": [
    {
     "data": {
      "text/plain": [
       "['<h1>', '<h3>', '<a name=\"8270146\">', '</a>']"
      ]
     },
     "execution_count": 46,
     "metadata": {},
     "output_type": "execute_result"
    }
   ],
   "source": [
    "findall('<[\\w]+[^<^>]*>|</[\\w]+>', '<h1>, 2 < 3, <<>>>>, ><, <<h3>> <a name=\"8270146\"></a>')"
   ]
  },
  {
   "cell_type": "code",
   "execution_count": 47,
   "metadata": {},
   "outputs": [
    {
     "data": {
      "text/plain": [
       "['<h1>', '<>', '<h3>', '<a name=\"8270146\">', '</a>']"
      ]
     },
     "execution_count": 47,
     "metadata": {},
     "output_type": "execute_result"
    }
   ],
   "source": [
    "findall('<[^>^<]*>', '<h1>, 2 < 3, <<>>>>, ><, <<h3>> <a name=\"8270146\"></a>')"
   ]
  },
  {
   "cell_type": "markdown",
   "metadata": {},
   "source": [
    "#### Problema Prático 11.6\n",
    "Desenvolva a função ``frequency()``, que toma uma string como entrada, calcula a frequência de cada palavra na string e retorna um dicionário que mapeia palavras na string à sua frequência. Você deverá usar uma expressão regular para obter a lista de todas as palavras na string."
   ]
  },
  {
   "cell_type": "code",
   "execution_count": 48,
   "metadata": {},
   "outputs": [],
   "source": [
    "def frequency(content):\n",
    "    pattern = '[a-zA-Z]+'\n",
    "    words = findall(pattern, content)\n",
    "    dictionary = {}\n",
    "    for w in words:\n",
    "        if w in dictionary:\n",
    "            dictionary[w] +=1\n",
    "        else:\n",
    "            dictionary[w] = 1\n",
    "    return dictionary"
   ]
  },
  {
   "cell_type": "code",
   "execution_count": 49,
   "metadata": {},
   "outputs": [
    {
     "data": {
      "text/plain": [
       "{'The': 1,\n",
       " 'pure': 2,\n",
       " 'and': 2,\n",
       " 'simple': 2,\n",
       " 'truth': 1,\n",
       " 'is': 1,\n",
       " 'rarely': 1,\n",
       " 'never': 1}"
      ]
     },
     "execution_count": 49,
     "metadata": {},
     "output_type": "execute_result"
    }
   ],
   "source": [
    "content = 'The pure and simple truth is rarely pure and never simple.'\n",
    "frequency(content)"
   ]
  },
  {
   "cell_type": "markdown",
   "metadata": {},
   "source": [
    "Outra função útil definida no módulo re é search(). Isso também exige uma expressão regular e uma string; retorna a primeira substring que combina pela expressão regular. Você pode pensar nisso como uma versão mais poderosa do método de string find()"
   ]
  },
  {
   "cell_type": "code",
   "execution_count": 50,
   "metadata": {},
   "outputs": [
    {
     "data": {
      "text/plain": [
       "'ee'"
      ]
     },
     "execution_count": 50,
     "metadata": {},
     "output_type": "execute_result"
    }
   ],
   "source": [
    "from re import search\n",
    "match = search('e+', 'beetbtbelt?bet')\n",
    "match.string[match.start():match.end()]"
   ]
  },
  {
   "cell_type": "markdown",
   "metadata": {},
   "source": [
    "<hr>\n",
    "\n",
    "### Estudo de Caso: Web Crawler\n",
    "\n",
    "Agora, vamos usar o que aprendemos neste capítulo para desenvolver um <em>web crawler</em> básico, ou seja, um programa que visita sistematicamente as páginas Web seguindo <em>hyperlinks</em>. (Os <em>Web crawlers</em> também são chamados de indexadores automáticos, robôs da Web ou simplesmente <em>bots</em>.) Toda vez que ele visitar uma página Web, nosso Web crawler analisará seu conteúdo e mostrará sua análise. O objetivo final, que veremos no próximo capítulo, é usar essa análise para criar um mecanismo de busca.\n",
    "\n",
    "Uma técnica básica para implementar um <em>Web crawler</em> é esta: depois de completar a análise da página Web atual, o <em>Web crawler</em> analisará recursivamente cada página Web pesquisável a partir da atual com um hyperlink. Essa técnica é muito semelhante a função de análise de vírus scan() da Seção 10.2. A função scan() tomou como entrada uma pasta, colocou o conteúdo da pasta em uma lista e depois chamou recursivamente a si mesma sobre cada item na lista. Nosso Web crawler deverá tomar como entrada um URL, colocar os URLs HTTP de hyperlink contidos na página Web associada em uma lista, e depois chamar a si mesma recursivamente sobre cada item na lista:"
   ]
  },
  {
   "cell_type": "code",
   "execution_count": 51,
   "metadata": {},
   "outputs": [],
   "source": [
    "def crawl1(url): \n",
    "    'crawler Web recursiva que chama analyze() em cada página Web' \n",
    "    # analyze() retorna uma lista de URLs de hyperlink no URL da  página Web \n",
    "    links = analyze(url) \n",
    "    # continua recursivamente a verificação de cada link em links \n",
    "    for link in links:\n",
    "        try:               # bloco try porque o link pode não ser um arquivo HTML válido\n",
    "            crawl1(link)\n",
    "        except:            # se uma exceção for lançada\n",
    "            pass           # ignora e prossegue.\n",
    "        \n",
    "        \n",
    "\n",
    "def analyze(url): \n",
    "    '''retorna a lista de links http, em formato absoluto, \n",
    "    na página Web com URL url''' \n",
    "    print('Visitando', url)           # para teste \n",
    "    # obtém links na página Web \n",
    "    content = urlopen(url).read().decode()\n",
    "    collector = Collector(url) \n",
    "    collector.feed(content) \n",
    "    urls = collector.getLinks()       # urls é a lista de links\n",
    "    # análise do conteúdo da página Web ainda a ser feita \n",
    "    return urls"
   ]
  },
  {
   "cell_type": "code",
   "execution_count": null,
   "metadata": {},
   "outputs": [],
   "source": [
    "# Esse trava o computador *** Não rodar!!\n",
    "crawl1('http://reed.cs.depaul.edu/lperkovic/one.html')"
   ]
  },
  {
   "cell_type": "markdown",
   "metadata": {},
   "source": [
    "### Crawler Recursivo, Versão 0.2 \n",
    "Em nossa segunda implementação do crawler, usamos um objeto de conjunto para armazenar os URLs das páginas Web visitadas. Como esse conjunto deverá ser acessível a partir do namespace de cada chamada recursiva, definimos o conjunto no namespace global:"
   ]
  },
  {
   "cell_type": "code",
   "execution_count": 52,
   "metadata": {},
   "outputs": [],
   "source": [
    "visited = set()\n",
    "# inicializa visited como um conjunto vazio\n",
    "def crawl2(url):\n",
    "    '''um Web crawler recursivo que chama analyze()\n",
    "    sobre cada página Web visitada''' \n",
    "    # inclui url para conjunto de páginas visitadas\n",
    "    global visited       # embora não necessário, avisa ao programador\n",
    "    visited.add(url)\n",
    "    # analyze() retorna uma lista de URLs de hyperlink no url da página Web \n",
    "    links = analyze(url)\n",
    "    # continua a rastejar recursivamente cada link em links\n",
    "    for link in links:\n",
    "        # segue o link somente se não foi visitado \n",
    "        if link not in visited:\n",
    "            try:\n",
    "                crawl2(link)\n",
    "            except:\n",
    "                pass"
   ]
  },
  {
   "cell_type": "code",
   "execution_count": 53,
   "metadata": {},
   "outputs": [
    {
     "name": "stdout",
     "output_type": "stream",
     "text": [
      "Visitando http://reed.cs.depaul.edu/lperkovic/one.html\n",
      "Visitando http://reed.cs.depaul.edu/lperkovic/two.html\n",
      "Visitando http://reed.cs.depaul.edu/lperkovic/four.html\n",
      "Visitando http://reed.cs.depaul.edu/lperkovic/five.html\n",
      "Visitando http://reed.cs.depaul.edu/lperkovic/three.html\n"
     ]
    }
   ],
   "source": [
    "crawl2('http://reed.cs.depaul.edu/lperkovic/one.html')"
   ]
  },
  {
   "cell_type": "markdown",
   "metadata": {},
   "source": [
    "A técnica que a versão 0.2 do crawler utiliza para visitar as páginas Web é denominada **travessia primeiro na profundidade**. Travessia é sinônimo de crawl para os nossos propósitos. A designação primeiro na profundidade se refere ao fato de que, nessa técnica, o crawler pode rapidamente se afastar do início do processo: o crawler visita as páginas distantes four.html e five.html antes de visitar a página vizinha three.html. O problema com a travessia primeiro na profundidade é que pode levar muito tempo para que uma página vizinha seja visitada. Por exemplo, se a página five.html tivesse um link para www.yahoo.com ou www.google.com, é pouco provável que o crawler sequer visitasse a página three.html. Por esse motivo, os crawlers usados pelo Google e outros provedores de busca utilizam uma travessia primeiro na largura, que garante que as páginas sejam visitadas na ordem de distância (o número de links) a partir da página Web inicial"
   ]
  },
  {
   "cell_type": "markdown",
   "metadata": {},
   "source": [
    "#### Análise de Conteúdo da Página Web\n",
    "\n",
    "A implementação atual da função ``analyze()`` analisa o conteúdo de uma página Web com o único propósito de encontrar URLs de hyperlink nela. Nosso objetivo original era fazer mais do que isso: a função ``analyze()`` deveria analisar o conteúdo de cada página Web e exibir essa análise. Agora, acrescentamos essa funcionalidade adicional à função ``analyze()``, para concluir sua implementação. Decidimos que a análise da página Web consiste em calcular (1) a frequência de cada palavra no conteúdo da página Web (ou seja, nos dados de texto) e (2) a lista de links contidos na página Web. Já calculamos a lista de links. Para calcular as frequências das palavras, podemos usar a função ``frequency()`` que desenvolvemos no Problema Prático 11.6. Aqui está, então, nossa implementação final"
   ]
  },
  {
   "cell_type": "code",
   "execution_count": 64,
   "metadata": {},
   "outputs": [],
   "source": [
    "def analyze(url):\n",
    "    '''exibe a frequência de cada palavra na página Web url\n",
    "    e exibe e retorna a lista de links http, em formato absoluto'''\n",
    "    \n",
    "    print('\\nVisitando', url)            # para teste\n",
    "    \n",
    "    # obtém links na página Web\n",
    "    content = urlopen(url).read().decode()\n",
    "    collector = Collector(url)\n",
    "    collector.feed(content)\n",
    "    urls = collector.getLinks()        # obtém lista de links\n",
    "    \n",
    "    # calcula frequências de palavras\n",
    "    content = collector.getData()      # obtém dados de texto como string\n",
    "    freq = frequency(str(content))     # mostra frequência de cada palavra na página visitada - frequency recebe string\n",
    "    print('\\n{:50} {:10} {:5}'.format('URL', 'palavra', 'quant '))\n",
    "    for word in freq:\n",
    "        print('{:50} {:10} {:5}'.format(url, word, freq[word]))\n",
    "        \n",
    "    # mostra links http encontrados na página Web\n",
    "    print('\\n{:50} {:10}'.format('URL', 'link'))\n",
    "    for link in urls:\n",
    "        print('{:50} {:10}'.format(url, link))\n",
    "    return urls"
   ]
  },
  {
   "cell_type": "code",
   "execution_count": 65,
   "metadata": {},
   "outputs": [
    {
     "name": "stdout",
     "output_type": "stream",
     "text": [
      "\n",
      "Visitando http://reed.cs.depaul.edu/lperkovic/one.html\n",
      "\n",
      "URL                                                palavra    quant \n",
      "http://reed.cs.depaul.edu/lperkovic/one.html       Beijing        3\n",
      "http://reed.cs.depaul.edu/lperkovic/one.html       Paris          5\n",
      "http://reed.cs.depaul.edu/lperkovic/one.html       Chicago        5\n",
      "\n",
      "URL                                                link      \n",
      "http://reed.cs.depaul.edu/lperkovic/one.html       http://reed.cs.depaul.edu/lperkovic/two.html\n",
      "http://reed.cs.depaul.edu/lperkovic/one.html       http://reed.cs.depaul.edu/lperkovic/three.html\n"
     ]
    }
   ],
   "source": [
    "crawl2('http://reed.cs.depaul.edu/lperkovic/one.html')"
   ]
  },
  {
   "cell_type": "markdown",
   "metadata": {},
   "source": [
    "#### Problema Prático 11.7\n",
    "Desenvolva novamente o segundo crawler como uma classe ``Crawler2``. O conjunto visitado deverá ser encapsulado como uma variável de instância do objeto ``Crawler2``, em vez de uma variável global.\n",
    "- <var>crawler2 = Crawler2()</var>\n",
    "- <var>crawler2.crawl('http://reed.cs.depaul.edu/lperkovic/one.html')</var>"
   ]
  },
  {
   "cell_type": "code",
   "execution_count": 66,
   "metadata": {},
   "outputs": [],
   "source": [
    "class Crawler2:\n",
    "    'um Web crawler '\n",
    "    def __init__(self):\n",
    "        'inicializa visited como um conjunto vazio'\n",
    "        self.visited = set()\n",
    "        \n",
    "    def crawl(self, url):\n",
    "        '''chama analyze() sobre página Web url e chama a si mesma        \n",
    "        sobre cada link para uma página Web não visitada''' \n",
    "        links = analyze(url)\n",
    "        self.visited.add(url)\n",
    "        for link in links:\n",
    "            if link not in self.visited:\n",
    "                try:\n",
    "                    self.crawl(link)\n",
    "                except:\n",
    "                    pass"
   ]
  },
  {
   "cell_type": "code",
   "execution_count": 67,
   "metadata": {},
   "outputs": [
    {
     "name": "stdout",
     "output_type": "stream",
     "text": [
      "\n",
      "Visitando http://reed.cs.depaul.edu/lperkovic/one.html\n",
      "\n",
      "URL                                                palavra    quant \n",
      "http://reed.cs.depaul.edu/lperkovic/one.html       Beijing        3\n",
      "http://reed.cs.depaul.edu/lperkovic/one.html       Paris          5\n",
      "http://reed.cs.depaul.edu/lperkovic/one.html       Chicago        5\n",
      "\n",
      "URL                                                link      \n",
      "http://reed.cs.depaul.edu/lperkovic/one.html       http://reed.cs.depaul.edu/lperkovic/two.html\n",
      "http://reed.cs.depaul.edu/lperkovic/one.html       http://reed.cs.depaul.edu/lperkovic/three.html\n",
      "\n",
      "Visitando http://reed.cs.depaul.edu/lperkovic/two.html\n",
      "\n",
      "URL                                                palavra    quant \n",
      "http://reed.cs.depaul.edu/lperkovic/two.html       Bogota         3\n",
      "http://reed.cs.depaul.edu/lperkovic/two.html       Paris          1\n",
      "http://reed.cs.depaul.edu/lperkovic/two.html       BeijingBeijing     1\n",
      "\n",
      "URL                                                link      \n",
      "http://reed.cs.depaul.edu/lperkovic/two.html       http://reed.cs.depaul.edu/lperkovic/four.html\n",
      "\n",
      "Visitando http://reed.cs.depaul.edu/lperkovic/four.html\n",
      "\n",
      "URL                                                palavra    quant \n",
      "http://reed.cs.depaul.edu/lperkovic/four.html      Paris          2\n",
      "http://reed.cs.depaul.edu/lperkovic/four.html      Chicago        3\n",
      "\n",
      "URL                                                link      \n",
      "http://reed.cs.depaul.edu/lperkovic/four.html      http://reed.cs.depaul.edu/lperkovic/five.html\n",
      "\n",
      "Visitando http://reed.cs.depaul.edu/lperkovic/five.html\n",
      "\n",
      "URL                                                palavra    quant \n",
      "http://reed.cs.depaul.edu/lperkovic/five.html      Nairobi        3\n",
      "http://reed.cs.depaul.edu/lperkovic/five.html      NairobiNairobi     2\n",
      "\n",
      "URL                                                link      \n",
      "http://reed.cs.depaul.edu/lperkovic/five.html      http://reed.cs.depaul.edu/lperkovic/four.html\n",
      "http://reed.cs.depaul.edu/lperkovic/five.html      http://reed.cs.depaul.edu/lperkovic/one.html\n",
      "http://reed.cs.depaul.edu/lperkovic/five.html      http://reed.cs.depaul.edu/lperkovic/two.html\n",
      "\n",
      "Visitando http://reed.cs.depaul.edu/lperkovic/three.html\n",
      "\n",
      "URL                                                palavra    quant \n",
      "http://reed.cs.depaul.edu/lperkovic/three.html     Beijing        4\n",
      "http://reed.cs.depaul.edu/lperkovic/three.html     BeijingBeijing     1\n",
      "http://reed.cs.depaul.edu/lperkovic/three.html     Chicago        3\n",
      "\n",
      "URL                                                link      \n",
      "http://reed.cs.depaul.edu/lperkovic/three.html     http://reed.cs.depaul.edu/lperkovic/four.html\n"
     ]
    }
   ],
   "source": [
    "crawler2 = Crawler2()\n",
    "crawler2.crawl('http://reed.cs.depaul.edu/lperkovic/one.html')"
   ]
  },
  {
   "cell_type": "markdown",
   "metadata": {},
   "source": [
    "### Resumo do Capítulo\n",
    "Neste capítulo, apresentamos o desenvolvimento de aplicações de computador que <mark>buscam e coletam dados de documentos próximos e distantes</mark>. Em particular, focalizamos o acesso, a busca e a coleta de dados hospedados na **World Wide Web**.\n",
    "\n",
    "Hoje, a Web certamente é uma das aplicações mais importantes em execução na Internet. Nos últimos 20 anos, a Web revolucionou o modo como trabalhamos, fazemos compras, conversamos e nos divertimos. Ela permite a comunicação e o compartilhamento de informações em uma escala sem precedentes, e tornou-se um enorme repositório de dados. Esses dados, por sua vez, oferecem uma oportunidade para o desenvolvimento de novas aplicações de computador, que coletam e processam os dados e produzem informações valiosas. Este capítulo apresenta as tecnologias Web, as APIs para Web na Biblioteca Padrão Python e os algoritmos que podem ser usados para desenvolver essas aplicações.\n",
    "\n",
    "Apresentamos as principais tecnologias Web: URLs, HTTP e HTML. Também apresentamos as APIs da Biblioteca Padrão Python para acessar recursos na Web (módulo urllib.request) e para processar páginas Web (módulo html.parser). Vimos como usar as duas APIs para baixar um arquivo-fonte HTML de página Web e analisá-lo para obter o conteúdo da página Web.\n",
    "\n",
    "Para processar o conteúdo de uma página Web ou de qualquer outro documento de texto, é útil termos ferramentas para reconhecer padrões de string nos textos. Este capítulo apresentou essas ferramentas: expressões regulares e o módulo re da Biblioteca Padrão.\n",
    "\n",
    "Aplicamos o material abordado no capítulo para desenvolver um **Web crawler** que visita páginas Web, uma por vez, seguindo os hyperlinks. O Web crawler usa um algoritmo recursivo fundamental para a busca, denominado ,<mark>busca primeiro na profundidade</mark>.\n",
    "\n",
    "<hr>\n",
    "\n",
    "## Atividade Avaliativa - Semana 6 (perguntas 8 e 9)"
   ]
  },
  {
   "cell_type": "code",
   "execution_count": 1,
   "metadata": {},
   "outputs": [
    {
     "name": "stdout",
     "output_type": "stream",
     "text": [
      "('Date', 'Mon, 16 Nov 2020 02:14:06 GMT')\n",
      "('Expires', '-1')\n",
      "('Cache-Control', 'private, max-age=0')\n",
      "('Content-Type', 'text/html; charset=ISO-8859-1')\n",
      "('P3P', 'CP=\"This is not a P3P policy! See g.co/p3phelp for more info.\"')\n",
      "('Server', 'gws')\n",
      "('X-XSS-Protection', '0')\n",
      "('X-Frame-Options', 'SAMEORIGIN')\n",
      "('Set-Cookie', '1P_JAR=2020-11-16-02; expires=Wed, 16-Dec-2020 02:14:06 GMT; path=/; domain=.google.com; Secure')\n",
      "('Set-Cookie', 'NID=204=I5EG9a6J6YadcRDwZkjYGs3j8F9nZkny67hh0uo2ed8UqMduHDkd0Tgoz3xiigAaEVS-lRUO_n9-3DAxT0MFgcyV1RqtL4ysqZ40kbUY3AutjB9KEH2KFQPEKUmwNfBPTh2F1UF7AglMF8xtff6hf7QFGYohq44JHf6CBcXphoo; expires=Tue, 18-May-2021 02:14:06 GMT; path=/; domain=.google.com; HttpOnly')\n",
      "('Accept-Ranges', 'none')\n",
      "('Vary', 'Accept-Encoding')\n",
      "('Connection', 'close')\n",
      "('Transfer-Encoding', 'chunked')\n"
     ]
    }
   ],
   "source": [
    "from urllib.request import urlopen \n",
    "resp = urlopen('http://www.google.com') \n",
    "for field in resp.getheaders(): \n",
    "    print(field) "
   ]
  },
  {
   "cell_type": "code",
   "execution_count": 2,
   "metadata": {},
   "outputs": [
    {
     "data": {
      "text/plain": [
       "http.client.HTTPResponse"
      ]
     },
     "execution_count": 2,
     "metadata": {},
     "output_type": "execute_result"
    }
   ],
   "source": [
    "type(resp)"
   ]
  },
  {
   "cell_type": "code",
   "execution_count": 3,
   "metadata": {},
   "outputs": [
    {
     "name": "stdout",
     "output_type": "stream",
     "text": [
      "<!doctype html><html itemscope=\"\" itemtype=\"http://schema.org/WebPage\" lang=\"pt-BR\"><head><meta content=\"text/html; charset=UTF-8\" http-equiv=\"Content-Type\"><meta content=\"/images/branding/googleg/1x/googleg_standard_color_128dp.png\" itemprop=\"image\"><title>Google</title><script nonce=\"0X2fvSDjdnzy8Ddgsjafeg==\">(function(){window.google={kEI:'8-CxX7DJDYfL5OUP78mn2AI',kEXPI:'0,202162,1100131,51454,5662,730,224,5104,207,3204,10,1226,364,1499,611,206,383,246,5,1354,648,3451,315,3,65,595,173,217,263,21,867,113,453,318,1405,1683,7,868,1116301,1197714,569,7,328977,13677,4855,32691,16115,28684,9188,8384,4858,1362,9290,3029,2815,1924,7,11026,1808,4020,978,7931,5297,2054,920,873,4192,6430,14527,236,4281,2778,920,2276,8,3685,704,1279,2212,241,289,149,1103,840,517,1522,157,4101,312,1137,2,2063,606,2023,2297,1947,2229,93,330,1282,16,2927,2246,1813,1787,3227,2845,7,4808,1,7545,4454,642,605,6934,337,2038,2999,3407,908,2,3555,2397,7468,3277,3,346,230,970,865,2,2500,2123,148,5992,2340,5643,4,1528,2304,1236,271,99,775,405,42,1818,1816,577,1510,281,52,976,1401,16,447,460,1555,4067,1035,1316,3,3280,1426,69,305,2310,1514,555,742,1753,2658,4243,518,912,565,463,225,430,31,1303,354,2197,138,3095,786,204,52,3030,256,3062,81,1375,638,1540,84,360,115,2,567,469,539,3077,8,319,992,755,614,55,744,3841,773,2,70,707,104,317,232,174,413,11,731,64,214,387,337,947,3,406,452,1254,137,1178,1086,157,1363,953,2,1,3,26,52,60,419,514,1568,335,58,777,341,22,20,16,3,238,196,22,885,1,497,222,97,6,73,256,88,130,1469,17,21,740,585,859,481,674,1,336,350,261,2,200,155,123,92,216,209,57,317,935,804,2020,9,470,904,108,1184,91,313,138,5734121,3707,8798209,549,333,444,1,2,80,1,900,896,1,9,2,2551,1,889,59,736,2,561,1,4265,1,1,2,1017,9,305,3299,248,595,1,774,72,500,129,194,2,2,122,5,88,36,26,2,21,3,8,46,4,1,1,23958225,2716137,17691,8469',kBL:'hwBg'};google.sn='webhp';google.kHL='pt-BR';})();(function(){google.lc=[];google.li=0;google.getEI=function(a){for(var c;a&&(!a.getAttribute||!(c=a.getAttribute(\"eid\")));)a=a.parentNode;return c||google.kEI};google.getLEI=function(a){for(var c=null;a&&(!a.getAttribute||!(c=a.getAttribute(\"leid\")));)a=a.parentNode;return c};google.ml=function(){return null};google.time=function(){return Date.now()};google.log=function(a,c,b,d,g){if(b=google.logUrl(a,c,b,d,g)){a=new Image;var e=google.lc,f=google.li;e[f]=a;a.onerror=a.onload=a.onabort=function(){delete e[f]};google.vel&&google.vel.lu&&google.vel.lu(b);a.src=b;google.li=f+1}};google.logUrl=function(a,c,b,d,g){var e=\"\",f=google.ls||\"\";b||-1!=c.search(\"&ei=\")||(e=\"&ei=\"+google.getEI(d),-1==c.search(\"&lei=\")&&(d=google.getLEI(d))&&(e+=\"&lei=\"+d));d=\"\";!b&&google.cshid&&-1==c.search(\"&cshid=\")&&\"slh\"!=a&&(d=\"&cshid=\"+google.cshid);b=b||\"/\"+(g||\"gen_204\")+\"?atyp=i&ct=\"+a+\"&cad=\"+c+e+f+\"&zx=\"+google.time()+d;/^http:/i.test(b)&&\"https:\"==window.location.protocol&&(google.ml(Error(\"a\"),!1,{src:b,glmm:1}),b=\"\");return b};}).call(this);(function(){google.y={};google.x=function(a,b){if(a)var c=a.id;else{do c=Math.random();while(google.y[c])}google.y[c]=[a,b];return!1};google.lm=[];google.plm=function(a){google.lm.push.apply(google.lm,a)};google.lq=[];google.load=function(a,b,c){google.lq.push([[a],b,c])};google.loadAll=function(a,b){google.lq.push([a,b])};}).call(this);google.f={};(function(){\n",
      "document.documentElement.addEventListener(\"submit\",function(b){var a;if(a=b.target){var c=a.getAttribute(\"data-submitfalse\");a=\"1\"==c||\"q\"==c&&!a.elements.q.value?!0:!1}else a=!1;a&&(b.preventDefault(),b.stopPropagation())},!0);document.documentElement.addEventListener(\"click\",function(b){var a;a:{for(a=b.target;a&&a!=document.documentElement;a=a.parentElement)if(\"A\"==a.tagName){a=\"1\"==a.getAttribute(\"data-nohref\");break a}a=!1}a&&b.preventDefault()},!0);}).call(this);\n",
      "var a=window.location,b=a.href.indexOf(\"#\");if(0<=b){var c=a.href.substring(b+1);/(^|&)q=/.test(c)&&-1==c.indexOf(\"#\")&&a.replace(\"/search?\"+c.replace(/(^|&)fp=[^&]*/g,\"\")+\"&cad=h\")};</script><style>#gbar,#guser{font-size:13px;padding-top:1px !important;}#gbar{height:22px}#guser{padding-bottom:7px !important;text-align:right}.gbh,.gbd{border-top:1px solid #c9d7f1;font-size:1px}.gbh{height:0;position:absolute;top:24px;width:100%}@media all{.gb1{height:22px;margin-right:.5em;vertical-align:top}#gbar{float:left}}a.gb1,a.gb4{text-decoration:underline !important}a.gb1,a.gb4{color:#00c !important}.gbi .gb4{color:#dd8e27 !important}.gbf .gb4{color:#900 !important}\n",
      "</style><style>body,td,a,p,.h{font-family:arial,sans-serif}body{margin:0;overflow-y:scroll}#gog{padding:3px 8px 0}td{line-height:.8em}.gac_m td{line-height:17px}form{margin-bottom:20px}.h{color:#1558d6}.q{color:#4b11a8}em{font-weight:bold;font-style:normal}.lst{height:25px;width:496px}.gsfi,.lst{font:18px arial,sans-serif}.gsfs{font:17px arial,sans-serif}.ds{display:inline-box;display:inline-block;margin:3px 0 4px;margin-left:4px}input{font-family:inherit}body{background:#fff;color:#000}a{color:#4b11a8;text-decoration:none}a:hover,a:active{text-decoration:underline}.fl a{color:#1558d6}a:visited{color:#4b11a8}.sblc{padding-top:5px}.sblc a{display:block;margin:2px 0;margin-left:13px;font-size:11px}.lsbb{background:#f8f9fa;border:solid 1px;border-color:#dadce0 #70757a #70757a #dadce0;height:30px}.lsbb{display:block}#WqQANb a{display:inline-block;margin:0 12px}.lsb{background:url(/images/nav_logo229.png) 0 -261px repeat-x;border:none;color:#000;cursor:pointer;height:30px;margin:0;outline:0;font:15px arial,sans-serif;vertical-align:top}.lsb:active{background:#dadce0}.lst:focus{outline:none}.tiah{width:458px}</style><script nonce=\"0X2fvSDjdnzy8Ddgsjafeg==\"></script></head><body bgcolor=\"#fff\"><script nonce=\"0X2fvSDjdnzy8Ddgsjafeg==\">(function(){var src='/images/nav_logo229.png';var iesg=false;document.body.onload = function(){window.n && window.n();if (document.images){new Image().src=src;}\n",
      "if (!iesg){document.f&&document.f.q.focus();document.gbqf&&document.gbqf.q.focus();}\n",
      "}\n",
      "})();</script><div id=\"mngb\"><div id=gbar><nobr><b class=gb1>Pesquisa</b> <a class=gb1 href=\"http://www.google.com.br/imghp?hl=pt-BR&tab=wi\">Imagens</a> <a class=gb1 href=\"http://maps.google.com.br/maps?hl=pt-BR&tab=wl\">Maps</a> <a class=gb1 href=\"https://play.google.com/?hl=pt-BR&tab=w8\">Play</a> <a class=gb1 href=\"http://www.youtube.com/?gl=BR&tab=w1\">YouTube</a> <a class=gb1 href=\"https://news.google.com/?tab=wn\">Notícias</a> <a class=gb1 href=\"https://mail.google.com/mail/?tab=wm\">Gmail</a> <a class=gb1 href=\"https://drive.google.com/?tab=wo\">Drive</a> <a class=gb1 style=\"text-decoration:none\" href=\"https://www.google.com.br/intl/pt-BR/about/products?tab=wh\"><u>Mais</u> &raquo;</a></nobr></div><div id=guser width=100%><nobr><span id=gbn class=gbi></span><span id=gbf class=gbf></span><span id=gbe></span><a href=\"http://www.google.com.br/history/optout?hl=pt-BR\" class=gb4>Histórico da Web</a> | <a  href=\"/preferences?hl=pt-BR\" class=gb4>Configurações</a> | <a target=_top id=gb_70 href=\"https://accounts.google.com/ServiceLogin?hl=pt-BR&passive=true&continue=http://www.google.com/&ec=GAZAAQ\" class=gb4>Fazer login</a></nobr></div><div class=gbh style=left:0></div><div class=gbh style=right:0></div></div><center><br clear=\"all\" id=\"lgpd\"><div id=\"lga\"><img alt=\"Google\" height=\"92\" src=\"/images/branding/googlelogo/1x/googlelogo_white_background_color_272x92dp.png\" style=\"padding:28px 0 14px\" width=\"272\" id=\"hplogo\"><br><br></div><form action=\"/search\" name=\"f\"><table cellpadding=\"0\" cellspacing=\"0\"><tr valign=\"top\"><td width=\"25%\">&nbsp;</td><td align=\"center\" nowrap=\"\"><input name=\"ie\" value=\"ISO-8859-1\" type=\"hidden\"><input value=\"pt-BR\" name=\"hl\" type=\"hidden\"><input name=\"source\" type=\"hidden\" value=\"hp\"><input name=\"biw\" type=\"hidden\"><input name=\"bih\" type=\"hidden\"><div class=\"ds\" style=\"height:32px;margin:4px 0\"><div style=\"position:relative;zoom:1\"><input class=\"lst tiah\" style=\"margin:0;padding:5px 8px 0 6px;vertical-align:top;color:#000;padding-right:38px\" autocomplete=\"off\" value=\"\" title=\"Pesquisa Google\" maxlength=\"2048\" name=\"q\" size=\"57\"><img src=\"/textinputassistant/tia.png\" style=\"position:absolute;cursor:pointer;right:5px;top:4px;z-index:300\" data-script-url=\"/textinputassistant/11/pt-BR_tia.js\" id=\"tsuid1\" alt=\"\" height=\"23\" width=\"27\"><script nonce=\"0X2fvSDjdnzy8Ddgsjafeg==\">(function(){var id='tsuid1';document.getElementById(id).onclick = function(){var s = document.createElement('script');s.src = this.getAttribute('data-script-url');(document.getElementById('xjsc')||document.body).appendChild(s);};})();</script></div></div><br style=\"line-height:0\"><span class=\"ds\"><span class=\"lsbb\"><input class=\"lsb\" value=\"Pesquisa Google\" name=\"btnG\" type=\"submit\"></span></span><span class=\"ds\"><span class=\"lsbb\"><input class=\"lsb\" id=\"tsuid2\" value=\"Estou com sorte\" name=\"btnI\" type=\"submit\"><script nonce=\"0X2fvSDjdnzy8Ddgsjafeg==\">(function(){var id='tsuid2';document.getElementById(id).onclick = function(){if (this.form.q.value){this.checked = 1;if (this.form.iflsig)this.form.iflsig.disabled = false;}\n",
      "else top.location='/doodles/';};})();</script><input value=\"AINFCbYAAAAAX7HvA4X1zyxWv8XwR0BTUR849bJ5W0yC\" name=\"iflsig\" type=\"hidden\"></span></span></td><td class=\"fl sblc\" align=\"left\" nowrap=\"\" width=\"25%\"><a href=\"/advanced_search?hl=pt-BR&amp;authuser=0\">Pesquisa avançada</a></td></tr></table><input id=\"gbv\" name=\"gbv\" type=\"hidden\" value=\"1\"><script nonce=\"0X2fvSDjdnzy8Ddgsjafeg==\">(function(){var a,b=\"1\";if(document&&document.getElementById)if(\"undefined\"!=typeof XMLHttpRequest)b=\"2\";else if(\"undefined\"!=typeof ActiveXObject){var c,d,e=[\"MSXML2.XMLHTTP.6.0\",\"MSXML2.XMLHTTP.3.0\",\"MSXML2.XMLHTTP\",\"Microsoft.XMLHTTP\"];for(c=0;d=e[c++];)try{new ActiveXObject(d),b=\"2\"}catch(h){}}a=b;if(\"2\"==a&&-1==location.search.indexOf(\"&gbv=2\")){var f=google.gbvu,g=document.getElementById(\"gbv\");g&&(g.value=a);f&&window.setTimeout(function(){location.href=f},0)};}).call(this);</script></form><div id=\"gac_scont\"></div><div style=\"font-size:83%;min-height:3.5em\"><br></div><span id=\"footer\"><div style=\"font-size:10pt\"><div style=\"margin:19px auto;text-align:center\" id=\"WqQANb\"><a href=\"/intl/pt-BR/ads/\">Soluções de publicidade</a><a href=\"/services/\">Soluções empresariais</a><a href=\"/intl/pt-BR/about.html\">Sobre o Google</a><a href=\"http://www.google.com/setprefdomain?prefdom=BR&amp;prev=http://www.google.com.br/&amp;sig=K_yjyGbgAmJqGEZUYaSHR8hGgW11U%3D\">Google.com.br</a></div></div><p style=\"font-size:8pt;color:#70757a\">&copy; 2020 - <a href=\"/intl/pt-BR/policies/privacy/\">Privacidade</a> - <a href=\"/intl/pt-BR/policies/terms/\">Termos</a></p></span></center><script nonce=\"0X2fvSDjdnzy8Ddgsjafeg==\">(function(){window.google.cdo={height:0,width:0};(function(){var a=window.innerWidth,b=window.innerHeight;if(!a||!b){var c=window.document,d=\"CSS1Compat\"==c.compatMode?c.documentElement:c.body;a=d.clientWidth;b=d.clientHeight}a&&b&&(a!=google.cdo.width||b!=google.cdo.height)&&google.log(\"\",\"\",\"/client_204?&atyp=i&biw=\"+a+\"&bih=\"+b+\"&ei=\"+google.kEI);}).call(this);})();(function(){var u='/xjs/_/js/k\\x3dxjs.hp.en.DbD04odEk4k.O/m\\x3dsb_he,d/am\\x3dADxBHA/d\\x3d1/rs\\x3dACT90oHxZ8uNZ4iR5eExEtLit8ipxGgDGw';\n",
      "var c=this||self,e=/^[\\w+/_-]+[=]{0,2}$/,f=null,g=function(a){return(a=a.querySelector&&a.querySelector(\"script[nonce]\"))&&(a=a.nonce||a.getAttribute(\"nonce\"))&&e.test(a)?a:\"\"},h=function(a){return a};var l;var n=function(a,b){this.a=b===m?a:\"\"},m={};setTimeout(function(){var a=document;var b=\"SCRIPT\";\"application/xhtml+xml\"===a.contentType&&(b=b.toLowerCase());b=a.createElement(b);a=u;if(void 0===l){var d=null;var k=c.trustedTypes;if(k&&k.createPolicy){try{d=k.createPolicy(\"goog#html\",{createHTML:h,createScript:h,createScriptURL:h})}catch(p){c.console&&c.console.error(p.message)}l=d}else l=d}a=(d=l)?d.createScriptURL(a):a;a=new n(a,m);b.src=a instanceof n&&a.constructor===n?a.a:\"type_error:TrustedResourceUrl\";(a=b.ownerDocument&&b.ownerDocument.defaultView)&&\n",
      "a!=c?a=g(a.document):(null===f&&(f=g(c.document)),a=f);a&&b.setAttribute(\"nonce\",a);google.timers&&google.timers.load&&google.tick&&google.tick(\"load\",\"xjsls\");document.body.appendChild(b)},0);})();(function(){window.google.xjsu='/xjs/_/js/k\\x3dxjs.hp.en.DbD04odEk4k.O/m\\x3dsb_he,d/am\\x3dADxBHA/d\\x3d1/rs\\x3dACT90oHxZ8uNZ4iR5eExEtLit8ipxGgDGw';})();function _DumpException(e){throw e;}\n",
      "function _F_installCss(c){}\n",
      "(function(){google.jl={dw:false,em:[],emw:false,lls:'default',pdt:0,snet:true,uwp:true};})();(function(){var pmc='{\\x22d\\x22:{},\\x22sb_he\\x22:{\\x22agen\\x22:true,\\x22cgen\\x22:true,\\x22client\\x22:\\x22heirloom-hp\\x22,\\x22dh\\x22:true,\\x22dhqt\\x22:true,\\x22ds\\x22:\\x22\\x22,\\x22ffql\\x22:\\x22pt-BR\\x22,\\x22fl\\x22:true,\\x22host\\x22:\\x22google.com\\x22,\\x22isbh\\x22:28,\\x22jsonp\\x22:true,\\x22msgs\\x22:{\\x22cibl\\x22:\\x22Limpar pesquisa\\x22,\\x22dym\\x22:\\x22Você quis dizer:\\x22,\\x22lcky\\x22:\\x22Estou com sorte\\x22,\\x22lml\\x22:\\x22Saiba mais\\x22,\\x22oskt\\x22:\\x22Ferramentas de inserção de texto\\x22,\\x22psrc\\x22:\\x22Esta pesquisa foi removida do seu\\\\u003Ca href\\x3d\\\\\\x22/history\\\\\\x22\\\\u003EHistórico da web\\\\u003C/a\\\\u003E\\x22,\\x22psrl\\x22:\\x22Remover\\x22,\\x22sbit\\x22:\\x22Pesquisa por imagem\\x22,\\x22srch\\x22:\\x22Pesquisa Google\\x22},\\x22nrft\\x22:false,\\x22ovr\\x22:{},\\x22pq\\x22:\\x22\\x22,\\x22refpd\\x22:true,\\x22rfs\\x22:[],\\x22sbas\\x22:\\x220 3px 8px 0 rgba(0,0,0,0.2),0 0 0 1px rgba(0,0,0,0.08)\\x22,\\x22sbpl\\x22:16,\\x22sbpr\\x22:16,\\x22scd\\x22:10,\\x22stok\\x22:\\x22YC107f6CW_FbttWeyxl6B3jF4_0\\x22,\\x22uhde\\x22:false}}';google.pmc=JSON.parse(pmc);})();</script>        </body></html>\n"
     ]
    }
   ],
   "source": [
    "from urllib.request import urlopen \n",
    " \n",
    "resp = urlopen('http://www.google.com') \n",
    "text = resp.read().decode('latin-1') \n",
    "print(text) "
   ]
  },
  {
   "cell_type": "code",
   "execution_count": null,
   "metadata": {},
   "outputs": [],
   "source": []
  }
 ],
 "metadata": {
  "kernelspec": {
   "display_name": "Python 3",
   "language": "python",
   "name": "python3"
  },
  "language_info": {
   "codemirror_mode": {
    "name": "ipython",
    "version": 3
   },
   "file_extension": ".py",
   "mimetype": "text/x-python",
   "name": "python",
   "nbconvert_exporter": "python",
   "pygments_lexer": "ipython3",
   "version": "3.7.4"
  }
 },
 "nbformat": 4,
 "nbformat_minor": 4
}
